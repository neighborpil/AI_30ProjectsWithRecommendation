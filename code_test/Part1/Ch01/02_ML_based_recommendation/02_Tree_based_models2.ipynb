{
 "cells": [
  {
   "cell_type": "markdown",
   "source": [
    "# Tree 기반 모델 예제"
   ],
   "metadata": {
    "collapsed": false
   },
   "id": "e0c529094ca8ddd1"
  },
  {
   "cell_type": "markdown",
   "source": [
    "## 데이터 전처리"
   ],
   "metadata": {
    "collapsed": false
   },
   "id": "3e1e724cbb3ffa0c"
  },
  {
   "cell_type": "code",
   "execution_count": 177,
   "id": "initial_id",
   "metadata": {
    "collapsed": true,
    "ExecuteTime": {
     "end_time": "2023-11-12T00:41:42.595385Z",
     "start_time": "2023-11-12T00:41:42.046207Z"
    }
   },
   "outputs": [],
   "source": [
    "import numpy as np\n",
    "import pandas as pd\n",
    "from sklearn.tree import DecisionTreeClassifier\n",
    "from sklearn.ensemble import RandomForestClassifier\n",
    "from sklearn.model_selection import train_test_split\n",
    "from sklearn.feature_extraction.text import TfidfVectorizer\n",
    "from sklearn.preprocessing import OneHotEncoder\n",
    "from lightgbm import LGBMClassifier\n",
    "from sklearn.metrics.pairwise import cosine_similarity\n",
    "from typing import List"
   ]
  },
  {
   "cell_type": "code",
   "execution_count": 178,
   "outputs": [],
   "source": [
    "data_path = '../../../data/anime/'\n",
    "\n",
    "# Read the dataset\n",
    "animes = pd.read_csv(data_path + 'anime.csv')\n",
    "ratings = pd.read_csv(data_path + 'rating.csv')"
   ],
   "metadata": {
    "collapsed": false,
    "ExecuteTime": {
     "end_time": "2023-11-12T00:41:42.989973Z",
     "start_time": "2023-11-12T00:41:42.050960Z"
    }
   },
   "id": "7269e57628a3c811"
  },
  {
   "cell_type": "code",
   "execution_count": 179,
   "outputs": [
    {
     "data": {
      "text/plain": "      anime_id                                               name  \\\n3790      1755                       Di Gi Charat Ohanami Special   \n1803     13333                                          Tari Tari   \n5375      8026                            Super Street Fighter IV   \n3044      3620                                    Blue Seed Omake   \n7607     30334                                             Sleepy   \n7524     32813                                               2010   \n8862      9882            High School Mystery: Gakuen Nanafushigi   \n9745     21491                                     Ninjaman Ippei   \n8077     17501  Abe George Kattobi Seishun Ki: Shibuya Honky Tonk   \n2899     19697   Toaru Kagaku no Railgun S: Motto Marutto Railgun   \n\n                                      genre     type episodes  rating  members  \n3790                                 Comedy  Special        4    6.88     1553  \n1803           Music, School, Slice of Life       TV       13    7.44    80960  \n5375             Action, Adventure, Shounen      OVA        1    6.48     4498  \n3044                         Comedy, Parody  Special       14    7.09     1952  \n7607                               Dementia    Movie        1    5.25      111  \n7524                                  Music    Music        1    5.34      217  \n8862                        Horror, Mystery       TV       41    7.14      344  \n9745  Action, Comedy, School, Slice of Life       TV       13    6.56       75  \n8077                           Drama, Ecchi      OVA        4    4.79      175  \n2899                                 Comedy  Special        2    7.14    14807  ",
      "text/html": "<div>\n<style scoped>\n    .dataframe tbody tr th:only-of-type {\n        vertical-align: middle;\n    }\n\n    .dataframe tbody tr th {\n        vertical-align: top;\n    }\n\n    .dataframe thead th {\n        text-align: right;\n    }\n</style>\n<table border=\"1\" class=\"dataframe\">\n  <thead>\n    <tr style=\"text-align: right;\">\n      <th></th>\n      <th>anime_id</th>\n      <th>name</th>\n      <th>genre</th>\n      <th>type</th>\n      <th>episodes</th>\n      <th>rating</th>\n      <th>members</th>\n    </tr>\n  </thead>\n  <tbody>\n    <tr>\n      <th>3790</th>\n      <td>1755</td>\n      <td>Di Gi Charat Ohanami Special</td>\n      <td>Comedy</td>\n      <td>Special</td>\n      <td>4</td>\n      <td>6.88</td>\n      <td>1553</td>\n    </tr>\n    <tr>\n      <th>1803</th>\n      <td>13333</td>\n      <td>Tari Tari</td>\n      <td>Music, School, Slice of Life</td>\n      <td>TV</td>\n      <td>13</td>\n      <td>7.44</td>\n      <td>80960</td>\n    </tr>\n    <tr>\n      <th>5375</th>\n      <td>8026</td>\n      <td>Super Street Fighter IV</td>\n      <td>Action, Adventure, Shounen</td>\n      <td>OVA</td>\n      <td>1</td>\n      <td>6.48</td>\n      <td>4498</td>\n    </tr>\n    <tr>\n      <th>3044</th>\n      <td>3620</td>\n      <td>Blue Seed Omake</td>\n      <td>Comedy, Parody</td>\n      <td>Special</td>\n      <td>14</td>\n      <td>7.09</td>\n      <td>1952</td>\n    </tr>\n    <tr>\n      <th>7607</th>\n      <td>30334</td>\n      <td>Sleepy</td>\n      <td>Dementia</td>\n      <td>Movie</td>\n      <td>1</td>\n      <td>5.25</td>\n      <td>111</td>\n    </tr>\n    <tr>\n      <th>7524</th>\n      <td>32813</td>\n      <td>2010</td>\n      <td>Music</td>\n      <td>Music</td>\n      <td>1</td>\n      <td>5.34</td>\n      <td>217</td>\n    </tr>\n    <tr>\n      <th>8862</th>\n      <td>9882</td>\n      <td>High School Mystery: Gakuen Nanafushigi</td>\n      <td>Horror, Mystery</td>\n      <td>TV</td>\n      <td>41</td>\n      <td>7.14</td>\n      <td>344</td>\n    </tr>\n    <tr>\n      <th>9745</th>\n      <td>21491</td>\n      <td>Ninjaman Ippei</td>\n      <td>Action, Comedy, School, Slice of Life</td>\n      <td>TV</td>\n      <td>13</td>\n      <td>6.56</td>\n      <td>75</td>\n    </tr>\n    <tr>\n      <th>8077</th>\n      <td>17501</td>\n      <td>Abe George Kattobi Seishun Ki: Shibuya Honky Tonk</td>\n      <td>Drama, Ecchi</td>\n      <td>OVA</td>\n      <td>4</td>\n      <td>4.79</td>\n      <td>175</td>\n    </tr>\n    <tr>\n      <th>2899</th>\n      <td>19697</td>\n      <td>Toaru Kagaku no Railgun S: Motto Marutto Railgun</td>\n      <td>Comedy</td>\n      <td>Special</td>\n      <td>2</td>\n      <td>7.14</td>\n      <td>14807</td>\n    </tr>\n  </tbody>\n</table>\n</div>"
     },
     "execution_count": 179,
     "metadata": {},
     "output_type": "execute_result"
    }
   ],
   "source": [
    "animes.sample(10)"
   ],
   "metadata": {
    "collapsed": false,
    "ExecuteTime": {
     "end_time": "2023-11-12T00:41:42.990718Z",
     "start_time": "2023-11-12T00:41:42.790217Z"
    }
   },
   "id": "47df0d907b5e3021"
  },
  {
   "cell_type": "code",
   "execution_count": 180,
   "outputs": [
    {
     "data": {
      "text/plain": "         user_id  anime_id  rating\n3037681    28180       807       5\n538101      5388      2943       7\n6077903    57017     30276       9\n2736115    25767       846       9\n578919      5688      1887       6\n4455221    42016     12753       7\n6788882    62830     31404       8\n6676936    61578      9074       9\n5773447    54067      9756      10\n1846222    17888     10713       9",
      "text/html": "<div>\n<style scoped>\n    .dataframe tbody tr th:only-of-type {\n        vertical-align: middle;\n    }\n\n    .dataframe tbody tr th {\n        vertical-align: top;\n    }\n\n    .dataframe thead th {\n        text-align: right;\n    }\n</style>\n<table border=\"1\" class=\"dataframe\">\n  <thead>\n    <tr style=\"text-align: right;\">\n      <th></th>\n      <th>user_id</th>\n      <th>anime_id</th>\n      <th>rating</th>\n    </tr>\n  </thead>\n  <tbody>\n    <tr>\n      <th>3037681</th>\n      <td>28180</td>\n      <td>807</td>\n      <td>5</td>\n    </tr>\n    <tr>\n      <th>538101</th>\n      <td>5388</td>\n      <td>2943</td>\n      <td>7</td>\n    </tr>\n    <tr>\n      <th>6077903</th>\n      <td>57017</td>\n      <td>30276</td>\n      <td>9</td>\n    </tr>\n    <tr>\n      <th>2736115</th>\n      <td>25767</td>\n      <td>846</td>\n      <td>9</td>\n    </tr>\n    <tr>\n      <th>578919</th>\n      <td>5688</td>\n      <td>1887</td>\n      <td>6</td>\n    </tr>\n    <tr>\n      <th>4455221</th>\n      <td>42016</td>\n      <td>12753</td>\n      <td>7</td>\n    </tr>\n    <tr>\n      <th>6788882</th>\n      <td>62830</td>\n      <td>31404</td>\n      <td>8</td>\n    </tr>\n    <tr>\n      <th>6676936</th>\n      <td>61578</td>\n      <td>9074</td>\n      <td>9</td>\n    </tr>\n    <tr>\n      <th>5773447</th>\n      <td>54067</td>\n      <td>9756</td>\n      <td>10</td>\n    </tr>\n    <tr>\n      <th>1846222</th>\n      <td>17888</td>\n      <td>10713</td>\n      <td>9</td>\n    </tr>\n  </tbody>\n</table>\n</div>"
     },
     "execution_count": 180,
     "metadata": {},
     "output_type": "execute_result"
    }
   ],
   "source": [
    "ratings.sample(10)"
   ],
   "metadata": {
    "collapsed": false,
    "ExecuteTime": {
     "end_time": "2023-11-12T00:41:42.992771Z",
     "start_time": "2023-11-12T00:41:42.793449Z"
    }
   },
   "id": "3367621ad98b7a9"
  },
  {
   "cell_type": "code",
   "execution_count": 181,
   "outputs": [],
   "source": [
    "# 사용하는 피처만 남김\n",
    "animes = animes[['anime_id', 'type', 'rating', 'members', 'name', 'genre']]"
   ],
   "metadata": {
    "collapsed": false,
    "ExecuteTime": {
     "end_time": "2023-11-12T00:41:42.992934Z",
     "start_time": "2023-11-12T00:41:42.965675Z"
    }
   },
   "id": "d6f619386fde5e03"
  },
  {
   "cell_type": "code",
   "execution_count": 182,
   "outputs": [
    {
     "data": {
      "text/plain": "       anime_id   type  rating  members  \\\n0         32281  Movie    9.37   200630   \n1          5114     TV    9.26   793665   \n2         28977     TV    9.25   114262   \n3          9253     TV    9.17   673572   \n4          9969     TV    9.16   151266   \n...         ...    ...     ...      ...   \n12289      9316    OVA    4.15      211   \n12290      5543    OVA    4.28      183   \n12291      5621    OVA    4.88      219   \n12292      6133    OVA    4.98      175   \n12293     26081  Movie    5.46      142   \n\n                                                    name  \\\n0                                         Kimi no Na wa.   \n1                       Fullmetal Alchemist: Brotherhood   \n2                                               Gintama°   \n3                                            Steins;Gate   \n4                                          Gintama&#039;   \n...                                                  ...   \n12289       Toushindai My Lover: Minami tai Mecha-Minami   \n12290                                        Under World   \n12291                     Violence Gekiga David no Hoshi   \n12292  Violence Gekiga Shin David no Hoshi: Inma Dens...   \n12293                   Yasuji no Pornorama: Yacchimae!!   \n\n                                                   genre  \n0                   Drama, Romance, School, Supernatural  \n1      Action, Adventure, Drama, Fantasy, Magic, Mili...  \n2      Action, Comedy, Historical, Parody, Samurai, S...  \n3                                       Sci-Fi, Thriller  \n4      Action, Comedy, Historical, Parody, Samurai, S...  \n...                                                  ...  \n12289                                             Hentai  \n12290                                             Hentai  \n12291                                             Hentai  \n12292                                             Hentai  \n12293                                             Hentai  \n\n[12294 rows x 6 columns]",
      "text/html": "<div>\n<style scoped>\n    .dataframe tbody tr th:only-of-type {\n        vertical-align: middle;\n    }\n\n    .dataframe tbody tr th {\n        vertical-align: top;\n    }\n\n    .dataframe thead th {\n        text-align: right;\n    }\n</style>\n<table border=\"1\" class=\"dataframe\">\n  <thead>\n    <tr style=\"text-align: right;\">\n      <th></th>\n      <th>anime_id</th>\n      <th>type</th>\n      <th>rating</th>\n      <th>members</th>\n      <th>name</th>\n      <th>genre</th>\n    </tr>\n  </thead>\n  <tbody>\n    <tr>\n      <th>0</th>\n      <td>32281</td>\n      <td>Movie</td>\n      <td>9.37</td>\n      <td>200630</td>\n      <td>Kimi no Na wa.</td>\n      <td>Drama, Romance, School, Supernatural</td>\n    </tr>\n    <tr>\n      <th>1</th>\n      <td>5114</td>\n      <td>TV</td>\n      <td>9.26</td>\n      <td>793665</td>\n      <td>Fullmetal Alchemist: Brotherhood</td>\n      <td>Action, Adventure, Drama, Fantasy, Magic, Mili...</td>\n    </tr>\n    <tr>\n      <th>2</th>\n      <td>28977</td>\n      <td>TV</td>\n      <td>9.25</td>\n      <td>114262</td>\n      <td>Gintama°</td>\n      <td>Action, Comedy, Historical, Parody, Samurai, S...</td>\n    </tr>\n    <tr>\n      <th>3</th>\n      <td>9253</td>\n      <td>TV</td>\n      <td>9.17</td>\n      <td>673572</td>\n      <td>Steins;Gate</td>\n      <td>Sci-Fi, Thriller</td>\n    </tr>\n    <tr>\n      <th>4</th>\n      <td>9969</td>\n      <td>TV</td>\n      <td>9.16</td>\n      <td>151266</td>\n      <td>Gintama&amp;#039;</td>\n      <td>Action, Comedy, Historical, Parody, Samurai, S...</td>\n    </tr>\n    <tr>\n      <th>...</th>\n      <td>...</td>\n      <td>...</td>\n      <td>...</td>\n      <td>...</td>\n      <td>...</td>\n      <td>...</td>\n    </tr>\n    <tr>\n      <th>12289</th>\n      <td>9316</td>\n      <td>OVA</td>\n      <td>4.15</td>\n      <td>211</td>\n      <td>Toushindai My Lover: Minami tai Mecha-Minami</td>\n      <td>Hentai</td>\n    </tr>\n    <tr>\n      <th>12290</th>\n      <td>5543</td>\n      <td>OVA</td>\n      <td>4.28</td>\n      <td>183</td>\n      <td>Under World</td>\n      <td>Hentai</td>\n    </tr>\n    <tr>\n      <th>12291</th>\n      <td>5621</td>\n      <td>OVA</td>\n      <td>4.88</td>\n      <td>219</td>\n      <td>Violence Gekiga David no Hoshi</td>\n      <td>Hentai</td>\n    </tr>\n    <tr>\n      <th>12292</th>\n      <td>6133</td>\n      <td>OVA</td>\n      <td>4.98</td>\n      <td>175</td>\n      <td>Violence Gekiga Shin David no Hoshi: Inma Dens...</td>\n      <td>Hentai</td>\n    </tr>\n    <tr>\n      <th>12293</th>\n      <td>26081</td>\n      <td>Movie</td>\n      <td>5.46</td>\n      <td>142</td>\n      <td>Yasuji no Pornorama: Yacchimae!!</td>\n      <td>Hentai</td>\n    </tr>\n  </tbody>\n</table>\n<p>12294 rows × 6 columns</p>\n</div>"
     },
     "execution_count": 182,
     "metadata": {},
     "output_type": "execute_result"
    }
   ],
   "source": [
    "animes"
   ],
   "metadata": {
    "collapsed": false,
    "ExecuteTime": {
     "end_time": "2023-11-12T00:41:42.993273Z",
     "start_time": "2023-11-12T00:41:42.969780Z"
    }
   },
   "id": "1f59c06d2ccaf605"
  },
  {
   "cell_type": "code",
   "execution_count": 183,
   "outputs": [],
   "source": [
    "# 컬럼명 변경\n",
    "animes.columns = ['anime_id', 'type', 'anime_total_rating', 'members', 'name', 'genre']"
   ],
   "metadata": {
    "collapsed": false,
    "ExecuteTime": {
     "end_time": "2023-11-12T00:41:42.993337Z",
     "start_time": "2023-11-12T00:41:42.974705Z"
    }
   },
   "id": "fd488b87e780436f"
  },
  {
   "cell_type": "code",
   "execution_count": 184,
   "outputs": [
    {
     "data": {
      "text/plain": "       anime_id   type  anime_total_rating  members  \\\n0         32281  Movie                9.37   200630   \n1          5114     TV                9.26   793665   \n2         28977     TV                9.25   114262   \n3          9253     TV                9.17   673572   \n4          9969     TV                9.16   151266   \n...         ...    ...                 ...      ...   \n12289      9316    OVA                4.15      211   \n12290      5543    OVA                4.28      183   \n12291      5621    OVA                4.88      219   \n12292      6133    OVA                4.98      175   \n12293     26081  Movie                5.46      142   \n\n                                                    name  \\\n0                                         Kimi no Na wa.   \n1                       Fullmetal Alchemist: Brotherhood   \n2                                               Gintama°   \n3                                            Steins;Gate   \n4                                          Gintama&#039;   \n...                                                  ...   \n12289       Toushindai My Lover: Minami tai Mecha-Minami   \n12290                                        Under World   \n12291                     Violence Gekiga David no Hoshi   \n12292  Violence Gekiga Shin David no Hoshi: Inma Dens...   \n12293                   Yasuji no Pornorama: Yacchimae!!   \n\n                                                   genre  \n0                   Drama, Romance, School, Supernatural  \n1      Action, Adventure, Drama, Fantasy, Magic, Mili...  \n2      Action, Comedy, Historical, Parody, Samurai, S...  \n3                                       Sci-Fi, Thriller  \n4      Action, Comedy, Historical, Parody, Samurai, S...  \n...                                                  ...  \n12289                                             Hentai  \n12290                                             Hentai  \n12291                                             Hentai  \n12292                                             Hentai  \n12293                                             Hentai  \n\n[12294 rows x 6 columns]",
      "text/html": "<div>\n<style scoped>\n    .dataframe tbody tr th:only-of-type {\n        vertical-align: middle;\n    }\n\n    .dataframe tbody tr th {\n        vertical-align: top;\n    }\n\n    .dataframe thead th {\n        text-align: right;\n    }\n</style>\n<table border=\"1\" class=\"dataframe\">\n  <thead>\n    <tr style=\"text-align: right;\">\n      <th></th>\n      <th>anime_id</th>\n      <th>type</th>\n      <th>anime_total_rating</th>\n      <th>members</th>\n      <th>name</th>\n      <th>genre</th>\n    </tr>\n  </thead>\n  <tbody>\n    <tr>\n      <th>0</th>\n      <td>32281</td>\n      <td>Movie</td>\n      <td>9.37</td>\n      <td>200630</td>\n      <td>Kimi no Na wa.</td>\n      <td>Drama, Romance, School, Supernatural</td>\n    </tr>\n    <tr>\n      <th>1</th>\n      <td>5114</td>\n      <td>TV</td>\n      <td>9.26</td>\n      <td>793665</td>\n      <td>Fullmetal Alchemist: Brotherhood</td>\n      <td>Action, Adventure, Drama, Fantasy, Magic, Mili...</td>\n    </tr>\n    <tr>\n      <th>2</th>\n      <td>28977</td>\n      <td>TV</td>\n      <td>9.25</td>\n      <td>114262</td>\n      <td>Gintama°</td>\n      <td>Action, Comedy, Historical, Parody, Samurai, S...</td>\n    </tr>\n    <tr>\n      <th>3</th>\n      <td>9253</td>\n      <td>TV</td>\n      <td>9.17</td>\n      <td>673572</td>\n      <td>Steins;Gate</td>\n      <td>Sci-Fi, Thriller</td>\n    </tr>\n    <tr>\n      <th>4</th>\n      <td>9969</td>\n      <td>TV</td>\n      <td>9.16</td>\n      <td>151266</td>\n      <td>Gintama&amp;#039;</td>\n      <td>Action, Comedy, Historical, Parody, Samurai, S...</td>\n    </tr>\n    <tr>\n      <th>...</th>\n      <td>...</td>\n      <td>...</td>\n      <td>...</td>\n      <td>...</td>\n      <td>...</td>\n      <td>...</td>\n    </tr>\n    <tr>\n      <th>12289</th>\n      <td>9316</td>\n      <td>OVA</td>\n      <td>4.15</td>\n      <td>211</td>\n      <td>Toushindai My Lover: Minami tai Mecha-Minami</td>\n      <td>Hentai</td>\n    </tr>\n    <tr>\n      <th>12290</th>\n      <td>5543</td>\n      <td>OVA</td>\n      <td>4.28</td>\n      <td>183</td>\n      <td>Under World</td>\n      <td>Hentai</td>\n    </tr>\n    <tr>\n      <th>12291</th>\n      <td>5621</td>\n      <td>OVA</td>\n      <td>4.88</td>\n      <td>219</td>\n      <td>Violence Gekiga David no Hoshi</td>\n      <td>Hentai</td>\n    </tr>\n    <tr>\n      <th>12292</th>\n      <td>6133</td>\n      <td>OVA</td>\n      <td>4.98</td>\n      <td>175</td>\n      <td>Violence Gekiga Shin David no Hoshi: Inma Dens...</td>\n      <td>Hentai</td>\n    </tr>\n    <tr>\n      <th>12293</th>\n      <td>26081</td>\n      <td>Movie</td>\n      <td>5.46</td>\n      <td>142</td>\n      <td>Yasuji no Pornorama: Yacchimae!!</td>\n      <td>Hentai</td>\n    </tr>\n  </tbody>\n</table>\n<p>12294 rows × 6 columns</p>\n</div>"
     },
     "execution_count": 184,
     "metadata": {},
     "output_type": "execute_result"
    }
   ],
   "source": [
    "animes"
   ],
   "metadata": {
    "collapsed": false,
    "ExecuteTime": {
     "end_time": "2023-11-12T00:41:42.993575Z",
     "start_time": "2023-11-12T00:41:42.980185Z"
    }
   },
   "id": "158597bfe33549a3"
  },
  {
   "cell_type": "code",
   "execution_count": 185,
   "outputs": [
    {
     "data": {
      "text/plain": "12294"
     },
     "execution_count": 185,
     "metadata": {},
     "output_type": "execute_result"
    }
   ],
   "source": [
    "len(animes)"
   ],
   "metadata": {
    "collapsed": false,
    "ExecuteTime": {
     "end_time": "2023-11-12T00:41:42.993724Z",
     "start_time": "2023-11-12T00:41:42.983562Z"
    }
   },
   "id": "1044532cf046074c"
  },
  {
   "cell_type": "code",
   "execution_count": 186,
   "outputs": [],
   "source": [
    "# 결측값이 포함된  애니는 dropna()\n",
    "animes = animes.dropna()"
   ],
   "metadata": {
    "collapsed": false,
    "ExecuteTime": {
     "end_time": "2023-11-12T00:41:43.028797Z",
     "start_time": "2023-11-12T00:41:42.986226Z"
    }
   },
   "id": "69f00b2dd33610f2"
  },
  {
   "cell_type": "code",
   "execution_count": 187,
   "outputs": [
    {
     "data": {
      "text/plain": "12017"
     },
     "execution_count": 187,
     "metadata": {},
     "output_type": "execute_result"
    }
   ],
   "source": [
    "len(animes)"
   ],
   "metadata": {
    "collapsed": false,
    "ExecuteTime": {
     "end_time": "2023-11-12T00:41:43.057356Z",
     "start_time": "2023-11-12T00:41:42.993752Z"
    }
   },
   "id": "1a9590fdfa065585"
  },
  {
   "cell_type": "code",
   "execution_count": 188,
   "outputs": [],
   "source": [
    "# 평점테이블도 동일하게 처리\n",
    "ratings = ratings[['user_id', 'anime_id', 'rating']]"
   ],
   "metadata": {
    "collapsed": false,
    "ExecuteTime": {
     "end_time": "2023-11-12T00:41:43.097806Z",
     "start_time": "2023-11-12T00:41:43.050250Z"
    }
   },
   "id": "1a44cc0a8901a97c"
  },
  {
   "cell_type": "code",
   "execution_count": 189,
   "outputs": [
    {
     "data": {
      "text/plain": "         user_id  anime_id  rating\n0              1        20      -1\n1              1        24      -1\n2              1        79      -1\n3              1       226      -1\n4              1       241      -1\n...          ...       ...     ...\n7813732    73515     16512       7\n7813733    73515     17187       9\n7813734    73515     22145      10\n7813735    73516       790       9\n7813736    73516      8074       9\n\n[7813737 rows x 3 columns]",
      "text/html": "<div>\n<style scoped>\n    .dataframe tbody tr th:only-of-type {\n        vertical-align: middle;\n    }\n\n    .dataframe tbody tr th {\n        vertical-align: top;\n    }\n\n    .dataframe thead th {\n        text-align: right;\n    }\n</style>\n<table border=\"1\" class=\"dataframe\">\n  <thead>\n    <tr style=\"text-align: right;\">\n      <th></th>\n      <th>user_id</th>\n      <th>anime_id</th>\n      <th>rating</th>\n    </tr>\n  </thead>\n  <tbody>\n    <tr>\n      <th>0</th>\n      <td>1</td>\n      <td>20</td>\n      <td>-1</td>\n    </tr>\n    <tr>\n      <th>1</th>\n      <td>1</td>\n      <td>24</td>\n      <td>-1</td>\n    </tr>\n    <tr>\n      <th>2</th>\n      <td>1</td>\n      <td>79</td>\n      <td>-1</td>\n    </tr>\n    <tr>\n      <th>3</th>\n      <td>1</td>\n      <td>226</td>\n      <td>-1</td>\n    </tr>\n    <tr>\n      <th>4</th>\n      <td>1</td>\n      <td>241</td>\n      <td>-1</td>\n    </tr>\n    <tr>\n      <th>...</th>\n      <td>...</td>\n      <td>...</td>\n      <td>...</td>\n    </tr>\n    <tr>\n      <th>7813732</th>\n      <td>73515</td>\n      <td>16512</td>\n      <td>7</td>\n    </tr>\n    <tr>\n      <th>7813733</th>\n      <td>73515</td>\n      <td>17187</td>\n      <td>9</td>\n    </tr>\n    <tr>\n      <th>7813734</th>\n      <td>73515</td>\n      <td>22145</td>\n      <td>10</td>\n    </tr>\n    <tr>\n      <th>7813735</th>\n      <td>73516</td>\n      <td>790</td>\n      <td>9</td>\n    </tr>\n    <tr>\n      <th>7813736</th>\n      <td>73516</td>\n      <td>8074</td>\n      <td>9</td>\n    </tr>\n  </tbody>\n</table>\n<p>7813737 rows × 3 columns</p>\n</div>"
     },
     "execution_count": 189,
     "metadata": {},
     "output_type": "execute_result"
    }
   ],
   "source": [
    "ratings"
   ],
   "metadata": {
    "collapsed": false,
    "ExecuteTime": {
     "end_time": "2023-11-12T00:41:43.098652Z",
     "start_time": "2023-11-12T00:41:43.053066Z"
    }
   },
   "id": "74c55baa8e416640"
  },
  {
   "cell_type": "code",
   "execution_count": 190,
   "outputs": [],
   "source": [
    "ratings = ratings[ratings['rating'] != -1]"
   ],
   "metadata": {
    "collapsed": false,
    "ExecuteTime": {
     "end_time": "2023-11-12T00:41:43.227576Z",
     "start_time": "2023-11-12T00:41:43.061214Z"
    }
   },
   "id": "f121835fd8718b33"
  },
  {
   "cell_type": "code",
   "execution_count": 191,
   "outputs": [
    {
     "data": {
      "text/plain": "6337241"
     },
     "execution_count": 191,
     "metadata": {},
     "output_type": "execute_result"
    }
   ],
   "source": [
    "len(ratings)"
   ],
   "metadata": {
    "collapsed": false,
    "ExecuteTime": {
     "end_time": "2023-11-12T00:41:43.228074Z",
     "start_time": "2023-11-12T00:41:43.150969Z"
    }
   },
   "id": "5f9d20816df1f2df"
  },
  {
   "cell_type": "code",
   "execution_count": 192,
   "outputs": [],
   "source": [
    "# dataframe join\n",
    "data = ratings.merge(animes, on='anime_id', how='inner')"
   ],
   "metadata": {
    "collapsed": false,
    "ExecuteTime": {
     "end_time": "2023-11-12T00:41:43.930288Z",
     "start_time": "2023-11-12T00:41:43.156293Z"
    }
   },
   "id": "d98534ccef0b55c"
  },
  {
   "cell_type": "code",
   "execution_count": 193,
   "outputs": [
    {
     "data": {
      "text/plain": "   user_id  anime_id  rating type  anime_total_rating  members  \\\n0        1      8074      10   TV                7.46   535892   \n1        3      8074       6   TV                7.46   535892   \n2        5      8074       2   TV                7.46   535892   \n3       12      8074       6   TV                7.46   535892   \n4       14      8074       6   TV                7.46   535892   \n\n                     name                                genre  \n0  Highschool of the Dead  Action, Ecchi, Horror, Supernatural  \n1  Highschool of the Dead  Action, Ecchi, Horror, Supernatural  \n2  Highschool of the Dead  Action, Ecchi, Horror, Supernatural  \n3  Highschool of the Dead  Action, Ecchi, Horror, Supernatural  \n4  Highschool of the Dead  Action, Ecchi, Horror, Supernatural  ",
      "text/html": "<div>\n<style scoped>\n    .dataframe tbody tr th:only-of-type {\n        vertical-align: middle;\n    }\n\n    .dataframe tbody tr th {\n        vertical-align: top;\n    }\n\n    .dataframe thead th {\n        text-align: right;\n    }\n</style>\n<table border=\"1\" class=\"dataframe\">\n  <thead>\n    <tr style=\"text-align: right;\">\n      <th></th>\n      <th>user_id</th>\n      <th>anime_id</th>\n      <th>rating</th>\n      <th>type</th>\n      <th>anime_total_rating</th>\n      <th>members</th>\n      <th>name</th>\n      <th>genre</th>\n    </tr>\n  </thead>\n  <tbody>\n    <tr>\n      <th>0</th>\n      <td>1</td>\n      <td>8074</td>\n      <td>10</td>\n      <td>TV</td>\n      <td>7.46</td>\n      <td>535892</td>\n      <td>Highschool of the Dead</td>\n      <td>Action, Ecchi, Horror, Supernatural</td>\n    </tr>\n    <tr>\n      <th>1</th>\n      <td>3</td>\n      <td>8074</td>\n      <td>6</td>\n      <td>TV</td>\n      <td>7.46</td>\n      <td>535892</td>\n      <td>Highschool of the Dead</td>\n      <td>Action, Ecchi, Horror, Supernatural</td>\n    </tr>\n    <tr>\n      <th>2</th>\n      <td>5</td>\n      <td>8074</td>\n      <td>2</td>\n      <td>TV</td>\n      <td>7.46</td>\n      <td>535892</td>\n      <td>Highschool of the Dead</td>\n      <td>Action, Ecchi, Horror, Supernatural</td>\n    </tr>\n    <tr>\n      <th>3</th>\n      <td>12</td>\n      <td>8074</td>\n      <td>6</td>\n      <td>TV</td>\n      <td>7.46</td>\n      <td>535892</td>\n      <td>Highschool of the Dead</td>\n      <td>Action, Ecchi, Horror, Supernatural</td>\n    </tr>\n    <tr>\n      <th>4</th>\n      <td>14</td>\n      <td>8074</td>\n      <td>6</td>\n      <td>TV</td>\n      <td>7.46</td>\n      <td>535892</td>\n      <td>Highschool of the Dead</td>\n      <td>Action, Ecchi, Horror, Supernatural</td>\n    </tr>\n  </tbody>\n</table>\n</div>"
     },
     "execution_count": 193,
     "metadata": {},
     "output_type": "execute_result"
    }
   ],
   "source": [
    "data.head(5)"
   ],
   "metadata": {
    "collapsed": false,
    "ExecuteTime": {
     "end_time": "2023-11-12T00:41:43.939738Z",
     "start_time": "2023-11-12T00:41:43.932979Z"
    }
   },
   "id": "85b7155762733a4"
  },
  {
   "cell_type": "code",
   "execution_count": 194,
   "outputs": [],
   "source": [
    "# 유저 정보가 없으므로, 유저의 평점 패턴에서 유저 피처 추출 (평균 평점 및 평점을 내린 수)\n",
    "user_avg_rating = data.groupby('user_id')['rating'].mean().rename('User-AvgRating')"
   ],
   "metadata": {
    "collapsed": false,
    "ExecuteTime": {
     "end_time": "2023-11-12T00:41:44.033434Z",
     "start_time": "2023-11-12T00:41:43.937862Z"
    }
   },
   "id": "1b6d1f9eacfcbf69"
  },
  {
   "cell_type": "code",
   "execution_count": 195,
   "outputs": [
    {
     "data": {
      "text/plain": "user_id\n1    10.000000\n2    10.000000\n3     7.565217\n5     4.355120\n7     7.387755\nName: User-AvgRating, dtype: float64"
     },
     "execution_count": 195,
     "metadata": {},
     "output_type": "execute_result"
    }
   ],
   "source": [
    "user_avg_rating.head(5)"
   ],
   "metadata": {
    "collapsed": false,
    "ExecuteTime": {
     "end_time": "2023-11-12T00:41:44.036069Z",
     "start_time": "2023-11-12T00:41:44.032494Z"
    }
   },
   "id": "5976163eb449b6fb"
  },
  {
   "cell_type": "code",
   "execution_count": 196,
   "outputs": [],
   "source": [
    "user_num_ratings = data.groupby('user_id')['rating'].count().rename('User-NumRatings')"
   ],
   "metadata": {
    "collapsed": false,
    "ExecuteTime": {
     "end_time": "2023-11-12T00:41:44.100774Z",
     "start_time": "2023-11-12T00:41:44.035623Z"
    }
   },
   "id": "3395b864e272b19e"
  },
  {
   "cell_type": "code",
   "execution_count": 197,
   "outputs": [
    {
     "data": {
      "text/plain": "user_id\n1      4\n2      1\n3     92\n5    459\n7    343\nName: User-NumRatings, dtype: int64"
     },
     "execution_count": 197,
     "metadata": {},
     "output_type": "execute_result"
    }
   ],
   "source": [
    "user_num_ratings.head(5)"
   ],
   "metadata": {
    "collapsed": false,
    "ExecuteTime": {
     "end_time": "2023-11-12T00:41:44.105735Z",
     "start_time": "2023-11-12T00:41:44.101440Z"
    }
   },
   "id": "f8408785f1ddf33d"
  },
  {
   "cell_type": "code",
   "execution_count": 198,
   "outputs": [],
   "source": [
    "# 추출한 유저 피처 결합\n",
    "user_features = pd.concat([user_avg_rating, user_num_ratings], axis=1)"
   ],
   "metadata": {
    "collapsed": false,
    "ExecuteTime": {
     "end_time": "2023-11-12T00:41:44.108505Z",
     "start_time": "2023-11-12T00:41:44.105012Z"
    }
   },
   "id": "6b0c61358261bf5d"
  },
  {
   "cell_type": "code",
   "execution_count": 199,
   "outputs": [
    {
     "data": {
      "text/plain": "         User-AvgRating  User-NumRatings\nuser_id                                 \n1             10.000000                4\n2             10.000000                1\n3              7.565217               92\n5              4.355120              459\n7              7.387755              343",
      "text/html": "<div>\n<style scoped>\n    .dataframe tbody tr th:only-of-type {\n        vertical-align: middle;\n    }\n\n    .dataframe tbody tr th {\n        vertical-align: top;\n    }\n\n    .dataframe thead th {\n        text-align: right;\n    }\n</style>\n<table border=\"1\" class=\"dataframe\">\n  <thead>\n    <tr style=\"text-align: right;\">\n      <th></th>\n      <th>User-AvgRating</th>\n      <th>User-NumRatings</th>\n    </tr>\n    <tr>\n      <th>user_id</th>\n      <th></th>\n      <th></th>\n    </tr>\n  </thead>\n  <tbody>\n    <tr>\n      <th>1</th>\n      <td>10.000000</td>\n      <td>4</td>\n    </tr>\n    <tr>\n      <th>2</th>\n      <td>10.000000</td>\n      <td>1</td>\n    </tr>\n    <tr>\n      <th>3</th>\n      <td>7.565217</td>\n      <td>92</td>\n    </tr>\n    <tr>\n      <th>5</th>\n      <td>4.355120</td>\n      <td>459</td>\n    </tr>\n    <tr>\n      <th>7</th>\n      <td>7.387755</td>\n      <td>343</td>\n    </tr>\n  </tbody>\n</table>\n</div>"
     },
     "execution_count": 199,
     "metadata": {},
     "output_type": "execute_result"
    }
   ],
   "source": [
    "user_features.head()"
   ],
   "metadata": {
    "collapsed": false,
    "ExecuteTime": {
     "end_time": "2023-11-12T00:41:44.117Z",
     "start_time": "2023-11-12T00:41:44.110078Z"
    }
   },
   "id": "5a2ac84027fbc82e"
  },
  {
   "cell_type": "code",
   "execution_count": 200,
   "outputs": [],
   "source": [
    "# 애니 메타 데이터에서 아이템 관련 피처 추가 생성\n",
    "item_num_ratings = data.groupby('anime_id')['rating'].count().rename('Item-NumRatings')"
   ],
   "metadata": {
    "collapsed": false,
    "ExecuteTime": {
     "end_time": "2023-11-12T00:41:44.190199Z",
     "start_time": "2023-11-12T00:41:44.113487Z"
    }
   },
   "id": "60428622ad44249a"
  },
  {
   "cell_type": "code",
   "execution_count": 201,
   "outputs": [
    {
     "data": {
      "text/plain": "anime_id\n1    13449\n5     5790\n6     9385\n7     2169\n8      308\nName: Item-NumRatings, dtype: int64"
     },
     "execution_count": 201,
     "metadata": {},
     "output_type": "execute_result"
    }
   ],
   "source": [
    "item_num_ratings.head(5)"
   ],
   "metadata": {
    "collapsed": false,
    "ExecuteTime": {
     "end_time": "2023-11-12T00:41:44.196614Z",
     "start_time": "2023-11-12T00:41:44.176724Z"
    }
   },
   "id": "49b3d4c76a4dd9f7"
  },
  {
   "cell_type": "code",
   "execution_count": 202,
   "outputs": [],
   "source": [
    "# 애니 이름 피처에서 TF-IDF 피처 생성, 총 10개의 이름 생성 (most frequent 10 words)\n",
    "tfidf_vectorizer = TfidfVectorizer(max_features=10)\n",
    "item_name_tfidf = tfidf_vectorizer.fit_transform(animes['name']).toarray()"
   ],
   "metadata": {
    "collapsed": false,
    "ExecuteTime": {
     "end_time": "2023-11-12T00:41:44.241557Z",
     "start_time": "2023-11-12T00:41:44.179793Z"
    }
   },
   "id": "efc6ddd45eac1e51"
  },
  {
   "cell_type": "code",
   "execution_count": 203,
   "outputs": [
    {
     "data": {
      "text/plain": "array([[0.        , 0.        , 0.        , ..., 0.        , 0.        ,\n        0.89261098],\n       [0.        , 0.        , 0.        , ..., 0.        , 0.        ,\n        0.        ],\n       [0.        , 0.        , 0.        , ..., 0.        , 0.        ,\n        0.        ],\n       ...,\n       [0.        , 0.        , 0.        , ..., 0.        , 0.        ,\n        0.        ],\n       [0.        , 0.        , 0.        , ..., 0.        , 0.        ,\n        0.        ],\n       [0.        , 0.        , 0.        , ..., 0.        , 0.        ,\n        0.        ]])"
     },
     "execution_count": 203,
     "metadata": {},
     "output_type": "execute_result"
    }
   ],
   "source": [
    "item_name_tfidf"
   ],
   "metadata": {
    "collapsed": false,
    "ExecuteTime": {
     "end_time": "2023-11-12T00:41:44.241900Z",
     "start_time": "2023-11-12T00:41:44.227357Z"
    }
   },
   "id": "3e3e5392f0ea3c93"
  },
  {
   "cell_type": "code",
   "execution_count": 204,
   "outputs": [],
   "source": [
    "tfidf_feature_names = tfidf_vectorizer.get_feature_names_out()"
   ],
   "metadata": {
    "collapsed": false,
    "ExecuteTime": {
     "end_time": "2023-11-12T00:41:44.241978Z",
     "start_time": "2023-11-12T00:41:44.230324Z"
    }
   },
   "id": "5948ac32320566ac"
  },
  {
   "cell_type": "code",
   "execution_count": 205,
   "outputs": [
    {
     "data": {
      "text/plain": "array(['chan', 'ga', 'movie', 'ni', 'no', 'special', 'specials', 'the',\n       'to', 'wa'], dtype=object)"
     },
     "execution_count": 205,
     "metadata": {},
     "output_type": "execute_result"
    }
   ],
   "source": [
    "tfidf_feature_names"
   ],
   "metadata": {
    "collapsed": false,
    "ExecuteTime": {
     "end_time": "2023-11-12T00:41:44.242107Z",
     "start_time": "2023-11-12T00:41:44.232874Z"
    }
   },
   "id": "a8d8c36306284aaf"
  },
  {
   "cell_type": "code",
   "execution_count": 206,
   "outputs": [],
   "source": [
    "# 'type' 컬럼을 원핫인코딩\n",
    "onehot_encoder = OneHotEncoder(sparse=False)\n",
    "item_type_onehot = onehot_encoder.fit_transform(animes[['type']])"
   ],
   "metadata": {
    "collapsed": false,
    "ExecuteTime": {
     "end_time": "2023-11-12T00:41:44.242164Z",
     "start_time": "2023-11-12T00:41:44.235271Z"
    }
   },
   "id": "3102dfab7e25119f"
  },
  {
   "cell_type": "code",
   "execution_count": 207,
   "outputs": [
    {
     "data": {
      "text/plain": "array([[1., 0., 0., 0., 0., 0.],\n       [0., 0., 0., 0., 0., 1.],\n       [0., 0., 0., 0., 0., 1.],\n       ...,\n       [0., 0., 0., 1., 0., 0.],\n       [0., 0., 0., 1., 0., 0.],\n       [1., 0., 0., 0., 0., 0.]])"
     },
     "execution_count": 207,
     "metadata": {},
     "output_type": "execute_result"
    }
   ],
   "source": [
    "item_type_onehot"
   ],
   "metadata": {
    "collapsed": false,
    "ExecuteTime": {
     "end_time": "2023-11-12T00:41:44.271746Z",
     "start_time": "2023-11-12T00:41:44.241140Z"
    }
   },
   "id": "3a786564fb931116"
  },
  {
   "cell_type": "code",
   "execution_count": 208,
   "outputs": [],
   "source": [
    "# TF-IDF 피처와 type 원핫 피처를 결합\n",
    "tf_idf_df = pd.DataFrame(item_name_tfidf, columns=tfidf_feature_names, index=animes.anime_id)"
   ],
   "metadata": {
    "collapsed": false,
    "ExecuteTime": {
     "end_time": "2023-11-12T00:41:44.273579Z",
     "start_time": "2023-11-12T00:41:44.244090Z"
    }
   },
   "id": "dbd67d563d02422d"
  },
  {
   "cell_type": "code",
   "execution_count": 209,
   "outputs": [
    {
     "data": {
      "text/plain": "          chan   ga  movie   ni        no  special  specials  the   to  \\\nanime_id                                                                 \n32281      0.0  0.0    0.0  0.0  0.450828      0.0       0.0  0.0  0.0   \n5114       0.0  0.0    0.0  0.0  0.000000      0.0       0.0  0.0  0.0   \n28977      0.0  0.0    0.0  0.0  0.000000      0.0       0.0  0.0  0.0   \n9253       0.0  0.0    0.0  0.0  0.000000      0.0       0.0  0.0  0.0   \n9969       0.0  0.0    0.0  0.0  0.000000      0.0       0.0  0.0  0.0   \n...        ...  ...    ...  ...       ...      ...       ...  ...  ...   \n9316       0.0  0.0    0.0  0.0  0.000000      0.0       0.0  0.0  0.0   \n5543       0.0  0.0    0.0  0.0  0.000000      0.0       0.0  0.0  0.0   \n5621       0.0  0.0    0.0  0.0  1.000000      0.0       0.0  0.0  0.0   \n6133       0.0  0.0    0.0  0.0  1.000000      0.0       0.0  0.0  0.0   \n26081      0.0  0.0    0.0  0.0  1.000000      0.0       0.0  0.0  0.0   \n\n                wa  \nanime_id            \n32281     0.892611  \n5114      0.000000  \n28977     0.000000  \n9253      0.000000  \n9969      0.000000  \n...            ...  \n9316      0.000000  \n5543      0.000000  \n5621      0.000000  \n6133      0.000000  \n26081     0.000000  \n\n[12017 rows x 10 columns]",
      "text/html": "<div>\n<style scoped>\n    .dataframe tbody tr th:only-of-type {\n        vertical-align: middle;\n    }\n\n    .dataframe tbody tr th {\n        vertical-align: top;\n    }\n\n    .dataframe thead th {\n        text-align: right;\n    }\n</style>\n<table border=\"1\" class=\"dataframe\">\n  <thead>\n    <tr style=\"text-align: right;\">\n      <th></th>\n      <th>chan</th>\n      <th>ga</th>\n      <th>movie</th>\n      <th>ni</th>\n      <th>no</th>\n      <th>special</th>\n      <th>specials</th>\n      <th>the</th>\n      <th>to</th>\n      <th>wa</th>\n    </tr>\n    <tr>\n      <th>anime_id</th>\n      <th></th>\n      <th></th>\n      <th></th>\n      <th></th>\n      <th></th>\n      <th></th>\n      <th></th>\n      <th></th>\n      <th></th>\n      <th></th>\n    </tr>\n  </thead>\n  <tbody>\n    <tr>\n      <th>32281</th>\n      <td>0.0</td>\n      <td>0.0</td>\n      <td>0.0</td>\n      <td>0.0</td>\n      <td>0.450828</td>\n      <td>0.0</td>\n      <td>0.0</td>\n      <td>0.0</td>\n      <td>0.0</td>\n      <td>0.892611</td>\n    </tr>\n    <tr>\n      <th>5114</th>\n      <td>0.0</td>\n      <td>0.0</td>\n      <td>0.0</td>\n      <td>0.0</td>\n      <td>0.000000</td>\n      <td>0.0</td>\n      <td>0.0</td>\n      <td>0.0</td>\n      <td>0.0</td>\n      <td>0.000000</td>\n    </tr>\n    <tr>\n      <th>28977</th>\n      <td>0.0</td>\n      <td>0.0</td>\n      <td>0.0</td>\n      <td>0.0</td>\n      <td>0.000000</td>\n      <td>0.0</td>\n      <td>0.0</td>\n      <td>0.0</td>\n      <td>0.0</td>\n      <td>0.000000</td>\n    </tr>\n    <tr>\n      <th>9253</th>\n      <td>0.0</td>\n      <td>0.0</td>\n      <td>0.0</td>\n      <td>0.0</td>\n      <td>0.000000</td>\n      <td>0.0</td>\n      <td>0.0</td>\n      <td>0.0</td>\n      <td>0.0</td>\n      <td>0.000000</td>\n    </tr>\n    <tr>\n      <th>9969</th>\n      <td>0.0</td>\n      <td>0.0</td>\n      <td>0.0</td>\n      <td>0.0</td>\n      <td>0.000000</td>\n      <td>0.0</td>\n      <td>0.0</td>\n      <td>0.0</td>\n      <td>0.0</td>\n      <td>0.000000</td>\n    </tr>\n    <tr>\n      <th>...</th>\n      <td>...</td>\n      <td>...</td>\n      <td>...</td>\n      <td>...</td>\n      <td>...</td>\n      <td>...</td>\n      <td>...</td>\n      <td>...</td>\n      <td>...</td>\n      <td>...</td>\n    </tr>\n    <tr>\n      <th>9316</th>\n      <td>0.0</td>\n      <td>0.0</td>\n      <td>0.0</td>\n      <td>0.0</td>\n      <td>0.000000</td>\n      <td>0.0</td>\n      <td>0.0</td>\n      <td>0.0</td>\n      <td>0.0</td>\n      <td>0.000000</td>\n    </tr>\n    <tr>\n      <th>5543</th>\n      <td>0.0</td>\n      <td>0.0</td>\n      <td>0.0</td>\n      <td>0.0</td>\n      <td>0.000000</td>\n      <td>0.0</td>\n      <td>0.0</td>\n      <td>0.0</td>\n      <td>0.0</td>\n      <td>0.000000</td>\n    </tr>\n    <tr>\n      <th>5621</th>\n      <td>0.0</td>\n      <td>0.0</td>\n      <td>0.0</td>\n      <td>0.0</td>\n      <td>1.000000</td>\n      <td>0.0</td>\n      <td>0.0</td>\n      <td>0.0</td>\n      <td>0.0</td>\n      <td>0.000000</td>\n    </tr>\n    <tr>\n      <th>6133</th>\n      <td>0.0</td>\n      <td>0.0</td>\n      <td>0.0</td>\n      <td>0.0</td>\n      <td>1.000000</td>\n      <td>0.0</td>\n      <td>0.0</td>\n      <td>0.0</td>\n      <td>0.0</td>\n      <td>0.000000</td>\n    </tr>\n    <tr>\n      <th>26081</th>\n      <td>0.0</td>\n      <td>0.0</td>\n      <td>0.0</td>\n      <td>0.0</td>\n      <td>1.000000</td>\n      <td>0.0</td>\n      <td>0.0</td>\n      <td>0.0</td>\n      <td>0.0</td>\n      <td>0.000000</td>\n    </tr>\n  </tbody>\n</table>\n<p>12017 rows × 10 columns</p>\n</div>"
     },
     "execution_count": 209,
     "metadata": {},
     "output_type": "execute_result"
    }
   ],
   "source": [
    "tf_idf_df"
   ],
   "metadata": {
    "collapsed": false,
    "ExecuteTime": {
     "end_time": "2023-11-12T00:41:44.274015Z",
     "start_time": "2023-11-12T00:41:44.246706Z"
    }
   },
   "id": "913a2d546dfe423c"
  },
  {
   "cell_type": "code",
   "execution_count": 210,
   "outputs": [],
   "source": [
    "type_df = pd.DataFrame(item_type_onehot, columns=[f'Type-{cat}' for cat in onehot_encoder.categories_[0]], index=animes.anime_id)"
   ],
   "metadata": {
    "collapsed": false,
    "ExecuteTime": {
     "end_time": "2023-11-12T00:41:44.274078Z",
     "start_time": "2023-11-12T00:41:44.256021Z"
    }
   },
   "id": "f90e10f7b6f78e2b"
  },
  {
   "cell_type": "code",
   "execution_count": 211,
   "outputs": [
    {
     "data": {
      "text/plain": "          Type-Movie  Type-Music  Type-ONA  Type-OVA  Type-Special  Type-TV\nanime_id                                                                   \n32281            1.0         0.0       0.0       0.0           0.0      0.0\n5114             0.0         0.0       0.0       0.0           0.0      1.0\n28977            0.0         0.0       0.0       0.0           0.0      1.0\n9253             0.0         0.0       0.0       0.0           0.0      1.0\n9969             0.0         0.0       0.0       0.0           0.0      1.0",
      "text/html": "<div>\n<style scoped>\n    .dataframe tbody tr th:only-of-type {\n        vertical-align: middle;\n    }\n\n    .dataframe tbody tr th {\n        vertical-align: top;\n    }\n\n    .dataframe thead th {\n        text-align: right;\n    }\n</style>\n<table border=\"1\" class=\"dataframe\">\n  <thead>\n    <tr style=\"text-align: right;\">\n      <th></th>\n      <th>Type-Movie</th>\n      <th>Type-Music</th>\n      <th>Type-ONA</th>\n      <th>Type-OVA</th>\n      <th>Type-Special</th>\n      <th>Type-TV</th>\n    </tr>\n    <tr>\n      <th>anime_id</th>\n      <th></th>\n      <th></th>\n      <th></th>\n      <th></th>\n      <th></th>\n      <th></th>\n    </tr>\n  </thead>\n  <tbody>\n    <tr>\n      <th>32281</th>\n      <td>1.0</td>\n      <td>0.0</td>\n      <td>0.0</td>\n      <td>0.0</td>\n      <td>0.0</td>\n      <td>0.0</td>\n    </tr>\n    <tr>\n      <th>5114</th>\n      <td>0.0</td>\n      <td>0.0</td>\n      <td>0.0</td>\n      <td>0.0</td>\n      <td>0.0</td>\n      <td>1.0</td>\n    </tr>\n    <tr>\n      <th>28977</th>\n      <td>0.0</td>\n      <td>0.0</td>\n      <td>0.0</td>\n      <td>0.0</td>\n      <td>0.0</td>\n      <td>1.0</td>\n    </tr>\n    <tr>\n      <th>9253</th>\n      <td>0.0</td>\n      <td>0.0</td>\n      <td>0.0</td>\n      <td>0.0</td>\n      <td>0.0</td>\n      <td>1.0</td>\n    </tr>\n    <tr>\n      <th>9969</th>\n      <td>0.0</td>\n      <td>0.0</td>\n      <td>0.0</td>\n      <td>0.0</td>\n      <td>0.0</td>\n      <td>1.0</td>\n    </tr>\n  </tbody>\n</table>\n</div>"
     },
     "execution_count": 211,
     "metadata": {},
     "output_type": "execute_result"
    }
   ],
   "source": [
    "type_df.head()"
   ],
   "metadata": {
    "collapsed": false,
    "ExecuteTime": {
     "end_time": "2023-11-12T00:41:44.298135Z",
     "start_time": "2023-11-12T00:41:44.260831Z"
    }
   },
   "id": "2aef5b89880825b"
  },
  {
   "cell_type": "code",
   "execution_count": 212,
   "outputs": [],
   "source": [
    "animes_features = animes[['anime_id', 'members', 'anime_total_rating']]"
   ],
   "metadata": {
    "collapsed": false,
    "ExecuteTime": {
     "end_time": "2023-11-12T00:41:44.298332Z",
     "start_time": "2023-11-12T00:41:44.263610Z"
    }
   },
   "id": "c422d5b7983fb776"
  },
  {
   "cell_type": "code",
   "execution_count": 213,
   "outputs": [
    {
     "data": {
      "text/plain": "       anime_id  members  anime_total_rating\n0         32281   200630                9.37\n1          5114   793665                9.26\n2         28977   114262                9.25\n3          9253   673572                9.17\n4          9969   151266                9.16\n...         ...      ...                 ...\n12289      9316      211                4.15\n12290      5543      183                4.28\n12291      5621      219                4.88\n12292      6133      175                4.98\n12293     26081      142                5.46\n\n[12017 rows x 3 columns]",
      "text/html": "<div>\n<style scoped>\n    .dataframe tbody tr th:only-of-type {\n        vertical-align: middle;\n    }\n\n    .dataframe tbody tr th {\n        vertical-align: top;\n    }\n\n    .dataframe thead th {\n        text-align: right;\n    }\n</style>\n<table border=\"1\" class=\"dataframe\">\n  <thead>\n    <tr style=\"text-align: right;\">\n      <th></th>\n      <th>anime_id</th>\n      <th>members</th>\n      <th>anime_total_rating</th>\n    </tr>\n  </thead>\n  <tbody>\n    <tr>\n      <th>0</th>\n      <td>32281</td>\n      <td>200630</td>\n      <td>9.37</td>\n    </tr>\n    <tr>\n      <th>1</th>\n      <td>5114</td>\n      <td>793665</td>\n      <td>9.26</td>\n    </tr>\n    <tr>\n      <th>2</th>\n      <td>28977</td>\n      <td>114262</td>\n      <td>9.25</td>\n    </tr>\n    <tr>\n      <th>3</th>\n      <td>9253</td>\n      <td>673572</td>\n      <td>9.17</td>\n    </tr>\n    <tr>\n      <th>4</th>\n      <td>9969</td>\n      <td>151266</td>\n      <td>9.16</td>\n    </tr>\n    <tr>\n      <th>...</th>\n      <td>...</td>\n      <td>...</td>\n      <td>...</td>\n    </tr>\n    <tr>\n      <th>12289</th>\n      <td>9316</td>\n      <td>211</td>\n      <td>4.15</td>\n    </tr>\n    <tr>\n      <th>12290</th>\n      <td>5543</td>\n      <td>183</td>\n      <td>4.28</td>\n    </tr>\n    <tr>\n      <th>12291</th>\n      <td>5621</td>\n      <td>219</td>\n      <td>4.88</td>\n    </tr>\n    <tr>\n      <th>12292</th>\n      <td>6133</td>\n      <td>175</td>\n      <td>4.98</td>\n    </tr>\n    <tr>\n      <th>12293</th>\n      <td>26081</td>\n      <td>142</td>\n      <td>5.46</td>\n    </tr>\n  </tbody>\n</table>\n<p>12017 rows × 3 columns</p>\n</div>"
     },
     "execution_count": 213,
     "metadata": {},
     "output_type": "execute_result"
    }
   ],
   "source": [
    "animes_features"
   ],
   "metadata": {
    "collapsed": false,
    "ExecuteTime": {
     "end_time": "2023-11-12T00:41:44.298575Z",
     "start_time": "2023-11-12T00:41:44.268480Z"
    }
   },
   "id": "f0bf41b46edd5bba"
  },
  {
   "cell_type": "code",
   "execution_count": 214,
   "outputs": [
    {
     "data": {
      "text/plain": "          members  anime_total_rating\nanime_id                             \n32281      200630                9.37\n5114       793665                9.26\n28977      114262                9.25\n9253       673572                9.17\n9969       151266                9.16\n...           ...                 ...\n9316          211                4.15\n5543          183                4.28\n5621          219                4.88\n6133          175                4.98\n26081         142                5.46\n\n[12017 rows x 2 columns]",
      "text/html": "<div>\n<style scoped>\n    .dataframe tbody tr th:only-of-type {\n        vertical-align: middle;\n    }\n\n    .dataframe tbody tr th {\n        vertical-align: top;\n    }\n\n    .dataframe thead th {\n        text-align: right;\n    }\n</style>\n<table border=\"1\" class=\"dataframe\">\n  <thead>\n    <tr style=\"text-align: right;\">\n      <th></th>\n      <th>members</th>\n      <th>anime_total_rating</th>\n    </tr>\n    <tr>\n      <th>anime_id</th>\n      <th></th>\n      <th></th>\n    </tr>\n  </thead>\n  <tbody>\n    <tr>\n      <th>32281</th>\n      <td>200630</td>\n      <td>9.37</td>\n    </tr>\n    <tr>\n      <th>5114</th>\n      <td>793665</td>\n      <td>9.26</td>\n    </tr>\n    <tr>\n      <th>28977</th>\n      <td>114262</td>\n      <td>9.25</td>\n    </tr>\n    <tr>\n      <th>9253</th>\n      <td>673572</td>\n      <td>9.17</td>\n    </tr>\n    <tr>\n      <th>9969</th>\n      <td>151266</td>\n      <td>9.16</td>\n    </tr>\n    <tr>\n      <th>...</th>\n      <td>...</td>\n      <td>...</td>\n    </tr>\n    <tr>\n      <th>9316</th>\n      <td>211</td>\n      <td>4.15</td>\n    </tr>\n    <tr>\n      <th>5543</th>\n      <td>183</td>\n      <td>4.28</td>\n    </tr>\n    <tr>\n      <th>5621</th>\n      <td>219</td>\n      <td>4.88</td>\n    </tr>\n    <tr>\n      <th>6133</th>\n      <td>175</td>\n      <td>4.98</td>\n    </tr>\n    <tr>\n      <th>26081</th>\n      <td>142</td>\n      <td>5.46</td>\n    </tr>\n  </tbody>\n</table>\n<p>12017 rows × 2 columns</p>\n</div>"
     },
     "execution_count": 214,
     "metadata": {},
     "output_type": "execute_result"
    }
   ],
   "source": [
    "animes_features.set_index('anime_id')"
   ],
   "metadata": {
    "collapsed": false,
    "ExecuteTime": {
     "end_time": "2023-11-12T00:41:44.331151Z",
     "start_time": "2023-11-12T00:41:44.270901Z"
    }
   },
   "id": "bd71d44a68c885ad"
  },
  {
   "cell_type": "code",
   "execution_count": 215,
   "outputs": [],
   "source": [
    "item_features = pd.DataFrame(item_num_ratings)\\\n",
    "    .merge(tf_idf_df, on='anime_id')\\\n",
    "    .merge(type_df, on='anime_id')\\\n",
    "    .merge(animes_features.set_index('anime_id'), on='anime_id')"
   ],
   "metadata": {
    "collapsed": false,
    "ExecuteTime": {
     "end_time": "2023-11-12T00:41:44.380931Z",
     "start_time": "2023-11-12T00:41:44.275643Z"
    }
   },
   "id": "4210a56cc21c7924"
  },
  {
   "cell_type": "code",
   "execution_count": 216,
   "outputs": [
    {
     "data": {
      "text/plain": "          Item-NumRatings  chan   ga  movie   ni   no  special  specials  the  \\\nanime_id                                                                        \n1                   13449   0.0  0.0    0.0  0.0  0.0      0.0       0.0  0.0   \n5                    5790   0.0  0.0    0.0  0.0  1.0      0.0       0.0  0.0   \n6                    9385   0.0  0.0    0.0  0.0  0.0      0.0       0.0  0.0   \n7                    2169   0.0  0.0    0.0  0.0  0.0      0.0       0.0  0.0   \n8                     308   0.0  0.0    0.0  0.0  0.0      0.0       0.0  1.0   \n...                   ...   ...  ...    ...  ...  ...      ...       ...  ...   \n34324                  11   0.0  0.0    0.0  0.0  0.0      0.0       0.0  0.0   \n34325                  15   0.0  0.0    0.0  0.0  0.0      0.0       1.0  0.0   \n34349                   3   0.0  0.0    0.0  0.0  1.0      0.0       0.0  0.0   \n34367                   4   0.0  0.0    0.0  0.0  0.0      0.0       0.0  0.0   \n34475                   3   0.0  0.0    0.0  0.0  0.0      0.0       0.0  0.0   \n\n           to   wa  Type-Movie  Type-Music  Type-ONA  Type-OVA  Type-Special  \\\nanime_id                                                                       \n1         0.0  0.0         0.0         0.0       0.0       0.0           0.0   \n5         0.0  0.0         1.0         0.0       0.0       0.0           0.0   \n6         0.0  0.0         0.0         0.0       0.0       0.0           0.0   \n7         0.0  0.0         0.0         0.0       0.0       0.0           0.0   \n8         0.0  0.0         0.0         0.0       0.0       0.0           0.0   \n...       ...  ...         ...         ...       ...       ...           ...   \n34324     0.0  0.0         0.0         0.0       1.0       0.0           0.0   \n34325     0.0  0.0         0.0         0.0       0.0       0.0           1.0   \n34349     0.0  0.0         0.0         0.0       0.0       1.0           0.0   \n34367     0.0  0.0         0.0         0.0       0.0       0.0           1.0   \n34475     0.0  0.0         0.0         0.0       1.0       0.0           0.0   \n\n          Type-TV  members  anime_total_rating  \nanime_id                                        \n1             1.0   486824                8.82  \n5             0.0   137636                8.40  \n6             1.0   283069                8.32  \n7             1.0    64905                7.36  \n8             1.0     9848                7.06  \n...           ...      ...                 ...  \n34324         0.0      817                5.40  \n34325         0.0     1454                7.05  \n34349         0.0     1885                7.25  \n34367         0.0      582                5.97  \n34475         0.0      313                6.58  \n\n[9892 rows x 19 columns]",
      "text/html": "<div>\n<style scoped>\n    .dataframe tbody tr th:only-of-type {\n        vertical-align: middle;\n    }\n\n    .dataframe tbody tr th {\n        vertical-align: top;\n    }\n\n    .dataframe thead th {\n        text-align: right;\n    }\n</style>\n<table border=\"1\" class=\"dataframe\">\n  <thead>\n    <tr style=\"text-align: right;\">\n      <th></th>\n      <th>Item-NumRatings</th>\n      <th>chan</th>\n      <th>ga</th>\n      <th>movie</th>\n      <th>ni</th>\n      <th>no</th>\n      <th>special</th>\n      <th>specials</th>\n      <th>the</th>\n      <th>to</th>\n      <th>wa</th>\n      <th>Type-Movie</th>\n      <th>Type-Music</th>\n      <th>Type-ONA</th>\n      <th>Type-OVA</th>\n      <th>Type-Special</th>\n      <th>Type-TV</th>\n      <th>members</th>\n      <th>anime_total_rating</th>\n    </tr>\n    <tr>\n      <th>anime_id</th>\n      <th></th>\n      <th></th>\n      <th></th>\n      <th></th>\n      <th></th>\n      <th></th>\n      <th></th>\n      <th></th>\n      <th></th>\n      <th></th>\n      <th></th>\n      <th></th>\n      <th></th>\n      <th></th>\n      <th></th>\n      <th></th>\n      <th></th>\n      <th></th>\n      <th></th>\n    </tr>\n  </thead>\n  <tbody>\n    <tr>\n      <th>1</th>\n      <td>13449</td>\n      <td>0.0</td>\n      <td>0.0</td>\n      <td>0.0</td>\n      <td>0.0</td>\n      <td>0.0</td>\n      <td>0.0</td>\n      <td>0.0</td>\n      <td>0.0</td>\n      <td>0.0</td>\n      <td>0.0</td>\n      <td>0.0</td>\n      <td>0.0</td>\n      <td>0.0</td>\n      <td>0.0</td>\n      <td>0.0</td>\n      <td>1.0</td>\n      <td>486824</td>\n      <td>8.82</td>\n    </tr>\n    <tr>\n      <th>5</th>\n      <td>5790</td>\n      <td>0.0</td>\n      <td>0.0</td>\n      <td>0.0</td>\n      <td>0.0</td>\n      <td>1.0</td>\n      <td>0.0</td>\n      <td>0.0</td>\n      <td>0.0</td>\n      <td>0.0</td>\n      <td>0.0</td>\n      <td>1.0</td>\n      <td>0.0</td>\n      <td>0.0</td>\n      <td>0.0</td>\n      <td>0.0</td>\n      <td>0.0</td>\n      <td>137636</td>\n      <td>8.40</td>\n    </tr>\n    <tr>\n      <th>6</th>\n      <td>9385</td>\n      <td>0.0</td>\n      <td>0.0</td>\n      <td>0.0</td>\n      <td>0.0</td>\n      <td>0.0</td>\n      <td>0.0</td>\n      <td>0.0</td>\n      <td>0.0</td>\n      <td>0.0</td>\n      <td>0.0</td>\n      <td>0.0</td>\n      <td>0.0</td>\n      <td>0.0</td>\n      <td>0.0</td>\n      <td>0.0</td>\n      <td>1.0</td>\n      <td>283069</td>\n      <td>8.32</td>\n    </tr>\n    <tr>\n      <th>7</th>\n      <td>2169</td>\n      <td>0.0</td>\n      <td>0.0</td>\n      <td>0.0</td>\n      <td>0.0</td>\n      <td>0.0</td>\n      <td>0.0</td>\n      <td>0.0</td>\n      <td>0.0</td>\n      <td>0.0</td>\n      <td>0.0</td>\n      <td>0.0</td>\n      <td>0.0</td>\n      <td>0.0</td>\n      <td>0.0</td>\n      <td>0.0</td>\n      <td>1.0</td>\n      <td>64905</td>\n      <td>7.36</td>\n    </tr>\n    <tr>\n      <th>8</th>\n      <td>308</td>\n      <td>0.0</td>\n      <td>0.0</td>\n      <td>0.0</td>\n      <td>0.0</td>\n      <td>0.0</td>\n      <td>0.0</td>\n      <td>0.0</td>\n      <td>1.0</td>\n      <td>0.0</td>\n      <td>0.0</td>\n      <td>0.0</td>\n      <td>0.0</td>\n      <td>0.0</td>\n      <td>0.0</td>\n      <td>0.0</td>\n      <td>1.0</td>\n      <td>9848</td>\n      <td>7.06</td>\n    </tr>\n    <tr>\n      <th>...</th>\n      <td>...</td>\n      <td>...</td>\n      <td>...</td>\n      <td>...</td>\n      <td>...</td>\n      <td>...</td>\n      <td>...</td>\n      <td>...</td>\n      <td>...</td>\n      <td>...</td>\n      <td>...</td>\n      <td>...</td>\n      <td>...</td>\n      <td>...</td>\n      <td>...</td>\n      <td>...</td>\n      <td>...</td>\n      <td>...</td>\n      <td>...</td>\n    </tr>\n    <tr>\n      <th>34324</th>\n      <td>11</td>\n      <td>0.0</td>\n      <td>0.0</td>\n      <td>0.0</td>\n      <td>0.0</td>\n      <td>0.0</td>\n      <td>0.0</td>\n      <td>0.0</td>\n      <td>0.0</td>\n      <td>0.0</td>\n      <td>0.0</td>\n      <td>0.0</td>\n      <td>0.0</td>\n      <td>1.0</td>\n      <td>0.0</td>\n      <td>0.0</td>\n      <td>0.0</td>\n      <td>817</td>\n      <td>5.40</td>\n    </tr>\n    <tr>\n      <th>34325</th>\n      <td>15</td>\n      <td>0.0</td>\n      <td>0.0</td>\n      <td>0.0</td>\n      <td>0.0</td>\n      <td>0.0</td>\n      <td>0.0</td>\n      <td>1.0</td>\n      <td>0.0</td>\n      <td>0.0</td>\n      <td>0.0</td>\n      <td>0.0</td>\n      <td>0.0</td>\n      <td>0.0</td>\n      <td>0.0</td>\n      <td>1.0</td>\n      <td>0.0</td>\n      <td>1454</td>\n      <td>7.05</td>\n    </tr>\n    <tr>\n      <th>34349</th>\n      <td>3</td>\n      <td>0.0</td>\n      <td>0.0</td>\n      <td>0.0</td>\n      <td>0.0</td>\n      <td>1.0</td>\n      <td>0.0</td>\n      <td>0.0</td>\n      <td>0.0</td>\n      <td>0.0</td>\n      <td>0.0</td>\n      <td>0.0</td>\n      <td>0.0</td>\n      <td>0.0</td>\n      <td>1.0</td>\n      <td>0.0</td>\n      <td>0.0</td>\n      <td>1885</td>\n      <td>7.25</td>\n    </tr>\n    <tr>\n      <th>34367</th>\n      <td>4</td>\n      <td>0.0</td>\n      <td>0.0</td>\n      <td>0.0</td>\n      <td>0.0</td>\n      <td>0.0</td>\n      <td>0.0</td>\n      <td>0.0</td>\n      <td>0.0</td>\n      <td>0.0</td>\n      <td>0.0</td>\n      <td>0.0</td>\n      <td>0.0</td>\n      <td>0.0</td>\n      <td>0.0</td>\n      <td>1.0</td>\n      <td>0.0</td>\n      <td>582</td>\n      <td>5.97</td>\n    </tr>\n    <tr>\n      <th>34475</th>\n      <td>3</td>\n      <td>0.0</td>\n      <td>0.0</td>\n      <td>0.0</td>\n      <td>0.0</td>\n      <td>0.0</td>\n      <td>0.0</td>\n      <td>0.0</td>\n      <td>0.0</td>\n      <td>0.0</td>\n      <td>0.0</td>\n      <td>0.0</td>\n      <td>0.0</td>\n      <td>1.0</td>\n      <td>0.0</td>\n      <td>0.0</td>\n      <td>0.0</td>\n      <td>313</td>\n      <td>6.58</td>\n    </tr>\n  </tbody>\n</table>\n<p>9892 rows × 19 columns</p>\n</div>"
     },
     "execution_count": 216,
     "metadata": {},
     "output_type": "execute_result"
    }
   ],
   "source": [
    "item_features"
   ],
   "metadata": {
    "collapsed": false,
    "ExecuteTime": {
     "end_time": "2023-11-12T00:41:44.394170Z",
     "start_time": "2023-11-12T00:41:44.291121Z"
    }
   },
   "id": "3fdaaec752f33d6e"
  },
  {
   "cell_type": "code",
   "execution_count": 217,
   "outputs": [
    {
     "data": {
      "text/plain": "   user_id  anime_id  rating type  anime_total_rating  members  \\\n0        1      8074      10   TV                7.46   535892   \n1        3      8074       6   TV                7.46   535892   \n2        5      8074       2   TV                7.46   535892   \n3       12      8074       6   TV                7.46   535892   \n4       14      8074       6   TV                7.46   535892   \n\n                     name                                genre  \n0  Highschool of the Dead  Action, Ecchi, Horror, Supernatural  \n1  Highschool of the Dead  Action, Ecchi, Horror, Supernatural  \n2  Highschool of the Dead  Action, Ecchi, Horror, Supernatural  \n3  Highschool of the Dead  Action, Ecchi, Horror, Supernatural  \n4  Highschool of the Dead  Action, Ecchi, Horror, Supernatural  ",
      "text/html": "<div>\n<style scoped>\n    .dataframe tbody tr th:only-of-type {\n        vertical-align: middle;\n    }\n\n    .dataframe tbody tr th {\n        vertical-align: top;\n    }\n\n    .dataframe thead th {\n        text-align: right;\n    }\n</style>\n<table border=\"1\" class=\"dataframe\">\n  <thead>\n    <tr style=\"text-align: right;\">\n      <th></th>\n      <th>user_id</th>\n      <th>anime_id</th>\n      <th>rating</th>\n      <th>type</th>\n      <th>anime_total_rating</th>\n      <th>members</th>\n      <th>name</th>\n      <th>genre</th>\n    </tr>\n  </thead>\n  <tbody>\n    <tr>\n      <th>0</th>\n      <td>1</td>\n      <td>8074</td>\n      <td>10</td>\n      <td>TV</td>\n      <td>7.46</td>\n      <td>535892</td>\n      <td>Highschool of the Dead</td>\n      <td>Action, Ecchi, Horror, Supernatural</td>\n    </tr>\n    <tr>\n      <th>1</th>\n      <td>3</td>\n      <td>8074</td>\n      <td>6</td>\n      <td>TV</td>\n      <td>7.46</td>\n      <td>535892</td>\n      <td>Highschool of the Dead</td>\n      <td>Action, Ecchi, Horror, Supernatural</td>\n    </tr>\n    <tr>\n      <th>2</th>\n      <td>5</td>\n      <td>8074</td>\n      <td>2</td>\n      <td>TV</td>\n      <td>7.46</td>\n      <td>535892</td>\n      <td>Highschool of the Dead</td>\n      <td>Action, Ecchi, Horror, Supernatural</td>\n    </tr>\n    <tr>\n      <th>3</th>\n      <td>12</td>\n      <td>8074</td>\n      <td>6</td>\n      <td>TV</td>\n      <td>7.46</td>\n      <td>535892</td>\n      <td>Highschool of the Dead</td>\n      <td>Action, Ecchi, Horror, Supernatural</td>\n    </tr>\n    <tr>\n      <th>4</th>\n      <td>14</td>\n      <td>8074</td>\n      <td>6</td>\n      <td>TV</td>\n      <td>7.46</td>\n      <td>535892</td>\n      <td>Highschool of the Dead</td>\n      <td>Action, Ecchi, Horror, Supernatural</td>\n    </tr>\n  </tbody>\n</table>\n</div>"
     },
     "metadata": {},
     "output_type": "display_data"
    }
   ],
   "source": [
    "# 인터렉션 데이터와 함께, user 및 item 피처 결합\n",
    "display(data.head(5))\n",
    "data = data.drop(['anime_total_rating', 'members'], axis=1)"
   ],
   "metadata": {
    "collapsed": false,
    "ExecuteTime": {
     "end_time": "2023-11-12T00:41:44.628970Z",
     "start_time": "2023-11-12T00:41:44.303967Z"
    }
   },
   "id": "c586c96b4a5a3a33"
  },
  {
   "cell_type": "code",
   "execution_count": 218,
   "outputs": [
    {
     "data": {
      "text/plain": "   user_id  anime_id  rating type                    name  \\\n0        1      8074      10   TV  Highschool of the Dead   \n1        3      8074       6   TV  Highschool of the Dead   \n2        5      8074       2   TV  Highschool of the Dead   \n3       12      8074       6   TV  Highschool of the Dead   \n4       14      8074       6   TV  Highschool of the Dead   \n\n                                 genre  \n0  Action, Ecchi, Horror, Supernatural  \n1  Action, Ecchi, Horror, Supernatural  \n2  Action, Ecchi, Horror, Supernatural  \n3  Action, Ecchi, Horror, Supernatural  \n4  Action, Ecchi, Horror, Supernatural  ",
      "text/html": "<div>\n<style scoped>\n    .dataframe tbody tr th:only-of-type {\n        vertical-align: middle;\n    }\n\n    .dataframe tbody tr th {\n        vertical-align: top;\n    }\n\n    .dataframe thead th {\n        text-align: right;\n    }\n</style>\n<table border=\"1\" class=\"dataframe\">\n  <thead>\n    <tr style=\"text-align: right;\">\n      <th></th>\n      <th>user_id</th>\n      <th>anime_id</th>\n      <th>rating</th>\n      <th>type</th>\n      <th>name</th>\n      <th>genre</th>\n    </tr>\n  </thead>\n  <tbody>\n    <tr>\n      <th>0</th>\n      <td>1</td>\n      <td>8074</td>\n      <td>10</td>\n      <td>TV</td>\n      <td>Highschool of the Dead</td>\n      <td>Action, Ecchi, Horror, Supernatural</td>\n    </tr>\n    <tr>\n      <th>1</th>\n      <td>3</td>\n      <td>8074</td>\n      <td>6</td>\n      <td>TV</td>\n      <td>Highschool of the Dead</td>\n      <td>Action, Ecchi, Horror, Supernatural</td>\n    </tr>\n    <tr>\n      <th>2</th>\n      <td>5</td>\n      <td>8074</td>\n      <td>2</td>\n      <td>TV</td>\n      <td>Highschool of the Dead</td>\n      <td>Action, Ecchi, Horror, Supernatural</td>\n    </tr>\n    <tr>\n      <th>3</th>\n      <td>12</td>\n      <td>8074</td>\n      <td>6</td>\n      <td>TV</td>\n      <td>Highschool of the Dead</td>\n      <td>Action, Ecchi, Horror, Supernatural</td>\n    </tr>\n    <tr>\n      <th>4</th>\n      <td>14</td>\n      <td>8074</td>\n      <td>6</td>\n      <td>TV</td>\n      <td>Highschool of the Dead</td>\n      <td>Action, Ecchi, Horror, Supernatural</td>\n    </tr>\n  </tbody>\n</table>\n</div>"
     },
     "execution_count": 218,
     "metadata": {},
     "output_type": "execute_result"
    }
   ],
   "source": [
    "data.head(5)"
   ],
   "metadata": {
    "collapsed": false,
    "ExecuteTime": {
     "end_time": "2023-11-12T00:41:44.629409Z",
     "start_time": "2023-11-12T00:41:44.459599Z"
    }
   },
   "id": "334e257c5fc10316"
  },
  {
   "cell_type": "code",
   "execution_count": 219,
   "outputs": [
    {
     "data": {
      "text/plain": "         user_id  anime_id  rating     type  \\\n0              1      8074      10       TV   \n1              3      8074       6       TV   \n2              5      8074       2       TV   \n3             12      8074       6       TV   \n4             14      8074       6       TV   \n...          ...       ...     ...      ...   \n6337141    69964     23585       7  Special   \n6337142    69964     33659       6  Special   \n6337143    72800     30738       4    Movie   \n6337144    73135      8723       5      OVA   \n6337145    73188      8749       6  Special   \n\n                                       name  \\\n0                    Highschool of the Dead   \n1                    Highschool of the Dead   \n2                    Highschool of the Dead   \n3                    Highschool of the Dead   \n4                    Highschool of the Dead   \n...                                     ...   \n6337141  Haha wo Tazunete Sanzenri Specials   \n6337142      Fushigi na Somera-chan Special   \n6337143        Gamba: Gamba to Nakama-tachi   \n6337144                    Anime Rakugo Kan   \n6337145                            Forestry   \n\n                                       genre  User-AvgRating  User-NumRatings  \n0        Action, Ecchi, Horror, Supernatural       10.000000                4  \n1        Action, Ecchi, Horror, Supernatural        7.565217               92  \n2        Action, Ecchi, Horror, Supernatural        4.355120              459  \n3        Action, Ecchi, Horror, Supernatural        8.818182               22  \n4        Action, Ecchi, Horror, Supernatural        7.195122              123  \n...                                      ...             ...              ...  \n6337141      Adventure, Drama, Slice of Life        7.891859              823  \n6337142         Comedy, Magic, Slice of Life        7.891859              823  \n6337143                      Adventure, Kids        5.930159              315  \n6337144                               Comedy        5.710953              986  \n6337145                               Comedy        7.001585              631  \n\n[6337146 rows x 8 columns]",
      "text/html": "<div>\n<style scoped>\n    .dataframe tbody tr th:only-of-type {\n        vertical-align: middle;\n    }\n\n    .dataframe tbody tr th {\n        vertical-align: top;\n    }\n\n    .dataframe thead th {\n        text-align: right;\n    }\n</style>\n<table border=\"1\" class=\"dataframe\">\n  <thead>\n    <tr style=\"text-align: right;\">\n      <th></th>\n      <th>user_id</th>\n      <th>anime_id</th>\n      <th>rating</th>\n      <th>type</th>\n      <th>name</th>\n      <th>genre</th>\n      <th>User-AvgRating</th>\n      <th>User-NumRatings</th>\n    </tr>\n  </thead>\n  <tbody>\n    <tr>\n      <th>0</th>\n      <td>1</td>\n      <td>8074</td>\n      <td>10</td>\n      <td>TV</td>\n      <td>Highschool of the Dead</td>\n      <td>Action, Ecchi, Horror, Supernatural</td>\n      <td>10.000000</td>\n      <td>4</td>\n    </tr>\n    <tr>\n      <th>1</th>\n      <td>3</td>\n      <td>8074</td>\n      <td>6</td>\n      <td>TV</td>\n      <td>Highschool of the Dead</td>\n      <td>Action, Ecchi, Horror, Supernatural</td>\n      <td>7.565217</td>\n      <td>92</td>\n    </tr>\n    <tr>\n      <th>2</th>\n      <td>5</td>\n      <td>8074</td>\n      <td>2</td>\n      <td>TV</td>\n      <td>Highschool of the Dead</td>\n      <td>Action, Ecchi, Horror, Supernatural</td>\n      <td>4.355120</td>\n      <td>459</td>\n    </tr>\n    <tr>\n      <th>3</th>\n      <td>12</td>\n      <td>8074</td>\n      <td>6</td>\n      <td>TV</td>\n      <td>Highschool of the Dead</td>\n      <td>Action, Ecchi, Horror, Supernatural</td>\n      <td>8.818182</td>\n      <td>22</td>\n    </tr>\n    <tr>\n      <th>4</th>\n      <td>14</td>\n      <td>8074</td>\n      <td>6</td>\n      <td>TV</td>\n      <td>Highschool of the Dead</td>\n      <td>Action, Ecchi, Horror, Supernatural</td>\n      <td>7.195122</td>\n      <td>123</td>\n    </tr>\n    <tr>\n      <th>...</th>\n      <td>...</td>\n      <td>...</td>\n      <td>...</td>\n      <td>...</td>\n      <td>...</td>\n      <td>...</td>\n      <td>...</td>\n      <td>...</td>\n    </tr>\n    <tr>\n      <th>6337141</th>\n      <td>69964</td>\n      <td>23585</td>\n      <td>7</td>\n      <td>Special</td>\n      <td>Haha wo Tazunete Sanzenri Specials</td>\n      <td>Adventure, Drama, Slice of Life</td>\n      <td>7.891859</td>\n      <td>823</td>\n    </tr>\n    <tr>\n      <th>6337142</th>\n      <td>69964</td>\n      <td>33659</td>\n      <td>6</td>\n      <td>Special</td>\n      <td>Fushigi na Somera-chan Special</td>\n      <td>Comedy, Magic, Slice of Life</td>\n      <td>7.891859</td>\n      <td>823</td>\n    </tr>\n    <tr>\n      <th>6337143</th>\n      <td>72800</td>\n      <td>30738</td>\n      <td>4</td>\n      <td>Movie</td>\n      <td>Gamba: Gamba to Nakama-tachi</td>\n      <td>Adventure, Kids</td>\n      <td>5.930159</td>\n      <td>315</td>\n    </tr>\n    <tr>\n      <th>6337144</th>\n      <td>73135</td>\n      <td>8723</td>\n      <td>5</td>\n      <td>OVA</td>\n      <td>Anime Rakugo Kan</td>\n      <td>Comedy</td>\n      <td>5.710953</td>\n      <td>986</td>\n    </tr>\n    <tr>\n      <th>6337145</th>\n      <td>73188</td>\n      <td>8749</td>\n      <td>6</td>\n      <td>Special</td>\n      <td>Forestry</td>\n      <td>Comedy</td>\n      <td>7.001585</td>\n      <td>631</td>\n    </tr>\n  </tbody>\n</table>\n<p>6337146 rows × 8 columns</p>\n</div>"
     },
     "execution_count": 219,
     "metadata": {},
     "output_type": "execute_result"
    }
   ],
   "source": [
    "data = data.join(user_features, on='user_id')\n",
    "data"
   ],
   "metadata": {
    "collapsed": false,
    "ExecuteTime": {
     "end_time": "2023-11-12T00:41:44.913131Z",
     "start_time": "2023-11-12T00:41:44.462469Z"
    }
   },
   "id": "d312033c6dbd11ac"
  },
  {
   "cell_type": "code",
   "execution_count": 220,
   "outputs": [
    {
     "data": {
      "text/plain": "   user_id  anime_id  rating type                    name  \\\n0        1      8074      10   TV  Highschool of the Dead   \n1        3      8074       6   TV  Highschool of the Dead   \n2        5      8074       2   TV  Highschool of the Dead   \n3       12      8074       6   TV  Highschool of the Dead   \n4       14      8074       6   TV  Highschool of the Dead   \n\n                                 genre  User-AvgRating  User-NumRatings  \\\n0  Action, Ecchi, Horror, Supernatural       10.000000                4   \n1  Action, Ecchi, Horror, Supernatural        7.565217               92   \n2  Action, Ecchi, Horror, Supernatural        4.355120              459   \n3  Action, Ecchi, Horror, Supernatural        8.818182               22   \n4  Action, Ecchi, Horror, Supernatural        7.195122              123   \n\n   Item-NumRatings  chan  ...   to   wa  Type-Movie  Type-Music  Type-ONA  \\\n0            19488   0.0  ...  0.0  0.0         0.0         0.0       0.0   \n1            19488   0.0  ...  0.0  0.0         0.0         0.0       0.0   \n2            19488   0.0  ...  0.0  0.0         0.0         0.0       0.0   \n3            19488   0.0  ...  0.0  0.0         0.0         0.0       0.0   \n4            19488   0.0  ...  0.0  0.0         0.0         0.0       0.0   \n\n   Type-OVA  Type-Special  Type-TV  members  anime_total_rating  \n0       0.0           0.0      1.0   535892                7.46  \n1       0.0           0.0      1.0   535892                7.46  \n2       0.0           0.0      1.0   535892                7.46  \n3       0.0           0.0      1.0   535892                7.46  \n4       0.0           0.0      1.0   535892                7.46  \n\n[5 rows x 27 columns]",
      "text/html": "<div>\n<style scoped>\n    .dataframe tbody tr th:only-of-type {\n        vertical-align: middle;\n    }\n\n    .dataframe tbody tr th {\n        vertical-align: top;\n    }\n\n    .dataframe thead th {\n        text-align: right;\n    }\n</style>\n<table border=\"1\" class=\"dataframe\">\n  <thead>\n    <tr style=\"text-align: right;\">\n      <th></th>\n      <th>user_id</th>\n      <th>anime_id</th>\n      <th>rating</th>\n      <th>type</th>\n      <th>name</th>\n      <th>genre</th>\n      <th>User-AvgRating</th>\n      <th>User-NumRatings</th>\n      <th>Item-NumRatings</th>\n      <th>chan</th>\n      <th>...</th>\n      <th>to</th>\n      <th>wa</th>\n      <th>Type-Movie</th>\n      <th>Type-Music</th>\n      <th>Type-ONA</th>\n      <th>Type-OVA</th>\n      <th>Type-Special</th>\n      <th>Type-TV</th>\n      <th>members</th>\n      <th>anime_total_rating</th>\n    </tr>\n  </thead>\n  <tbody>\n    <tr>\n      <th>0</th>\n      <td>1</td>\n      <td>8074</td>\n      <td>10</td>\n      <td>TV</td>\n      <td>Highschool of the Dead</td>\n      <td>Action, Ecchi, Horror, Supernatural</td>\n      <td>10.000000</td>\n      <td>4</td>\n      <td>19488</td>\n      <td>0.0</td>\n      <td>...</td>\n      <td>0.0</td>\n      <td>0.0</td>\n      <td>0.0</td>\n      <td>0.0</td>\n      <td>0.0</td>\n      <td>0.0</td>\n      <td>0.0</td>\n      <td>1.0</td>\n      <td>535892</td>\n      <td>7.46</td>\n    </tr>\n    <tr>\n      <th>1</th>\n      <td>3</td>\n      <td>8074</td>\n      <td>6</td>\n      <td>TV</td>\n      <td>Highschool of the Dead</td>\n      <td>Action, Ecchi, Horror, Supernatural</td>\n      <td>7.565217</td>\n      <td>92</td>\n      <td>19488</td>\n      <td>0.0</td>\n      <td>...</td>\n      <td>0.0</td>\n      <td>0.0</td>\n      <td>0.0</td>\n      <td>0.0</td>\n      <td>0.0</td>\n      <td>0.0</td>\n      <td>0.0</td>\n      <td>1.0</td>\n      <td>535892</td>\n      <td>7.46</td>\n    </tr>\n    <tr>\n      <th>2</th>\n      <td>5</td>\n      <td>8074</td>\n      <td>2</td>\n      <td>TV</td>\n      <td>Highschool of the Dead</td>\n      <td>Action, Ecchi, Horror, Supernatural</td>\n      <td>4.355120</td>\n      <td>459</td>\n      <td>19488</td>\n      <td>0.0</td>\n      <td>...</td>\n      <td>0.0</td>\n      <td>0.0</td>\n      <td>0.0</td>\n      <td>0.0</td>\n      <td>0.0</td>\n      <td>0.0</td>\n      <td>0.0</td>\n      <td>1.0</td>\n      <td>535892</td>\n      <td>7.46</td>\n    </tr>\n    <tr>\n      <th>3</th>\n      <td>12</td>\n      <td>8074</td>\n      <td>6</td>\n      <td>TV</td>\n      <td>Highschool of the Dead</td>\n      <td>Action, Ecchi, Horror, Supernatural</td>\n      <td>8.818182</td>\n      <td>22</td>\n      <td>19488</td>\n      <td>0.0</td>\n      <td>...</td>\n      <td>0.0</td>\n      <td>0.0</td>\n      <td>0.0</td>\n      <td>0.0</td>\n      <td>0.0</td>\n      <td>0.0</td>\n      <td>0.0</td>\n      <td>1.0</td>\n      <td>535892</td>\n      <td>7.46</td>\n    </tr>\n    <tr>\n      <th>4</th>\n      <td>14</td>\n      <td>8074</td>\n      <td>6</td>\n      <td>TV</td>\n      <td>Highschool of the Dead</td>\n      <td>Action, Ecchi, Horror, Supernatural</td>\n      <td>7.195122</td>\n      <td>123</td>\n      <td>19488</td>\n      <td>0.0</td>\n      <td>...</td>\n      <td>0.0</td>\n      <td>0.0</td>\n      <td>0.0</td>\n      <td>0.0</td>\n      <td>0.0</td>\n      <td>0.0</td>\n      <td>0.0</td>\n      <td>1.0</td>\n      <td>535892</td>\n      <td>7.46</td>\n    </tr>\n  </tbody>\n</table>\n<p>5 rows × 27 columns</p>\n</div>"
     },
     "execution_count": 220,
     "metadata": {},
     "output_type": "execute_result"
    }
   ],
   "source": [
    "data = data.merge(item_features, on ='anime_id')\n",
    "data.head(5)"
   ],
   "metadata": {
    "collapsed": false,
    "ExecuteTime": {
     "end_time": "2023-11-12T00:41:46.364413Z",
     "start_time": "2023-11-12T00:41:44.860937Z"
    }
   },
   "id": "9abcee6f353c1102"
  },
  {
   "cell_type": "code",
   "execution_count": 221,
   "outputs": [],
   "source": [
    "# implicit feedback 표현을 위해 이진화 (유저의 평균 평점보다 높은 경우 1)\n",
    "# 절대값으로 지정하는 방법도 있음\n",
    "data['rating'] = (data['rating'] > data['User-AvgRating']).astype(int)"
   ],
   "metadata": {
    "collapsed": false,
    "ExecuteTime": {
     "end_time": "2023-11-12T00:41:46.498094Z",
     "start_time": "2023-11-12T00:41:46.363625Z"
    }
   },
   "id": "7186e8bee193f85e"
  },
  {
   "cell_type": "code",
   "execution_count": 222,
   "outputs": [
    {
     "data": {
      "text/plain": "   user_id  anime_id  rating type                    name  \\\n0        1      8074       0   TV  Highschool of the Dead   \n1        3      8074       0   TV  Highschool of the Dead   \n2        5      8074       0   TV  Highschool of the Dead   \n3       12      8074       0   TV  Highschool of the Dead   \n4       14      8074       0   TV  Highschool of the Dead   \n\n                                 genre  User-AvgRating  User-NumRatings  \\\n0  Action, Ecchi, Horror, Supernatural       10.000000                4   \n1  Action, Ecchi, Horror, Supernatural        7.565217               92   \n2  Action, Ecchi, Horror, Supernatural        4.355120              459   \n3  Action, Ecchi, Horror, Supernatural        8.818182               22   \n4  Action, Ecchi, Horror, Supernatural        7.195122              123   \n\n   Item-NumRatings  chan  ...   to   wa  Type-Movie  Type-Music  Type-ONA  \\\n0            19488   0.0  ...  0.0  0.0         0.0         0.0       0.0   \n1            19488   0.0  ...  0.0  0.0         0.0         0.0       0.0   \n2            19488   0.0  ...  0.0  0.0         0.0         0.0       0.0   \n3            19488   0.0  ...  0.0  0.0         0.0         0.0       0.0   \n4            19488   0.0  ...  0.0  0.0         0.0         0.0       0.0   \n\n   Type-OVA  Type-Special  Type-TV  members  anime_total_rating  \n0       0.0           0.0      1.0   535892                7.46  \n1       0.0           0.0      1.0   535892                7.46  \n2       0.0           0.0      1.0   535892                7.46  \n3       0.0           0.0      1.0   535892                7.46  \n4       0.0           0.0      1.0   535892                7.46  \n\n[5 rows x 27 columns]",
      "text/html": "<div>\n<style scoped>\n    .dataframe tbody tr th:only-of-type {\n        vertical-align: middle;\n    }\n\n    .dataframe tbody tr th {\n        vertical-align: top;\n    }\n\n    .dataframe thead th {\n        text-align: right;\n    }\n</style>\n<table border=\"1\" class=\"dataframe\">\n  <thead>\n    <tr style=\"text-align: right;\">\n      <th></th>\n      <th>user_id</th>\n      <th>anime_id</th>\n      <th>rating</th>\n      <th>type</th>\n      <th>name</th>\n      <th>genre</th>\n      <th>User-AvgRating</th>\n      <th>User-NumRatings</th>\n      <th>Item-NumRatings</th>\n      <th>chan</th>\n      <th>...</th>\n      <th>to</th>\n      <th>wa</th>\n      <th>Type-Movie</th>\n      <th>Type-Music</th>\n      <th>Type-ONA</th>\n      <th>Type-OVA</th>\n      <th>Type-Special</th>\n      <th>Type-TV</th>\n      <th>members</th>\n      <th>anime_total_rating</th>\n    </tr>\n  </thead>\n  <tbody>\n    <tr>\n      <th>0</th>\n      <td>1</td>\n      <td>8074</td>\n      <td>0</td>\n      <td>TV</td>\n      <td>Highschool of the Dead</td>\n      <td>Action, Ecchi, Horror, Supernatural</td>\n      <td>10.000000</td>\n      <td>4</td>\n      <td>19488</td>\n      <td>0.0</td>\n      <td>...</td>\n      <td>0.0</td>\n      <td>0.0</td>\n      <td>0.0</td>\n      <td>0.0</td>\n      <td>0.0</td>\n      <td>0.0</td>\n      <td>0.0</td>\n      <td>1.0</td>\n      <td>535892</td>\n      <td>7.46</td>\n    </tr>\n    <tr>\n      <th>1</th>\n      <td>3</td>\n      <td>8074</td>\n      <td>0</td>\n      <td>TV</td>\n      <td>Highschool of the Dead</td>\n      <td>Action, Ecchi, Horror, Supernatural</td>\n      <td>7.565217</td>\n      <td>92</td>\n      <td>19488</td>\n      <td>0.0</td>\n      <td>...</td>\n      <td>0.0</td>\n      <td>0.0</td>\n      <td>0.0</td>\n      <td>0.0</td>\n      <td>0.0</td>\n      <td>0.0</td>\n      <td>0.0</td>\n      <td>1.0</td>\n      <td>535892</td>\n      <td>7.46</td>\n    </tr>\n    <tr>\n      <th>2</th>\n      <td>5</td>\n      <td>8074</td>\n      <td>0</td>\n      <td>TV</td>\n      <td>Highschool of the Dead</td>\n      <td>Action, Ecchi, Horror, Supernatural</td>\n      <td>4.355120</td>\n      <td>459</td>\n      <td>19488</td>\n      <td>0.0</td>\n      <td>...</td>\n      <td>0.0</td>\n      <td>0.0</td>\n      <td>0.0</td>\n      <td>0.0</td>\n      <td>0.0</td>\n      <td>0.0</td>\n      <td>0.0</td>\n      <td>1.0</td>\n      <td>535892</td>\n      <td>7.46</td>\n    </tr>\n    <tr>\n      <th>3</th>\n      <td>12</td>\n      <td>8074</td>\n      <td>0</td>\n      <td>TV</td>\n      <td>Highschool of the Dead</td>\n      <td>Action, Ecchi, Horror, Supernatural</td>\n      <td>8.818182</td>\n      <td>22</td>\n      <td>19488</td>\n      <td>0.0</td>\n      <td>...</td>\n      <td>0.0</td>\n      <td>0.0</td>\n      <td>0.0</td>\n      <td>0.0</td>\n      <td>0.0</td>\n      <td>0.0</td>\n      <td>0.0</td>\n      <td>1.0</td>\n      <td>535892</td>\n      <td>7.46</td>\n    </tr>\n    <tr>\n      <th>4</th>\n      <td>14</td>\n      <td>8074</td>\n      <td>0</td>\n      <td>TV</td>\n      <td>Highschool of the Dead</td>\n      <td>Action, Ecchi, Horror, Supernatural</td>\n      <td>7.195122</td>\n      <td>123</td>\n      <td>19488</td>\n      <td>0.0</td>\n      <td>...</td>\n      <td>0.0</td>\n      <td>0.0</td>\n      <td>0.0</td>\n      <td>0.0</td>\n      <td>0.0</td>\n      <td>0.0</td>\n      <td>0.0</td>\n      <td>1.0</td>\n      <td>535892</td>\n      <td>7.46</td>\n    </tr>\n  </tbody>\n</table>\n<p>5 rows × 27 columns</p>\n</div>"
     },
     "execution_count": 222,
     "metadata": {},
     "output_type": "execute_result"
    }
   ],
   "source": [
    "data.head(5)"
   ],
   "metadata": {
    "collapsed": false,
    "ExecuteTime": {
     "end_time": "2023-11-12T00:41:46.498845Z",
     "start_time": "2023-11-12T00:41:46.441604Z"
    }
   },
   "id": "394e23266a9d724"
  },
  {
   "cell_type": "code",
   "execution_count": 223,
   "outputs": [
    {
     "data": {
      "text/plain": "   User-AvgRating  User-NumRatings  Item-NumRatings  chan   ga  movie   ni  \\\n0       10.000000                4            19488   0.0  0.0    0.0  0.0   \n1        7.565217               92            19488   0.0  0.0    0.0  0.0   \n2        4.355120              459            19488   0.0  0.0    0.0  0.0   \n3        8.818182               22            19488   0.0  0.0    0.0  0.0   \n4        7.195122              123            19488   0.0  0.0    0.0  0.0   \n\n    no  special  specials  ...   to   wa  Type-Movie  Type-Music  Type-ONA  \\\n0  0.0      0.0       0.0  ...  0.0  0.0         0.0         0.0       0.0   \n1  0.0      0.0       0.0  ...  0.0  0.0         0.0         0.0       0.0   \n2  0.0      0.0       0.0  ...  0.0  0.0         0.0         0.0       0.0   \n3  0.0      0.0       0.0  ...  0.0  0.0         0.0         0.0       0.0   \n4  0.0      0.0       0.0  ...  0.0  0.0         0.0         0.0       0.0   \n\n   Type-OVA  Type-Special  Type-TV  members  anime_total_rating  \n0       0.0           0.0      1.0   535892                7.46  \n1       0.0           0.0      1.0   535892                7.46  \n2       0.0           0.0      1.0   535892                7.46  \n3       0.0           0.0      1.0   535892                7.46  \n4       0.0           0.0      1.0   535892                7.46  \n\n[5 rows x 21 columns]",
      "text/html": "<div>\n<style scoped>\n    .dataframe tbody tr th:only-of-type {\n        vertical-align: middle;\n    }\n\n    .dataframe tbody tr th {\n        vertical-align: top;\n    }\n\n    .dataframe thead th {\n        text-align: right;\n    }\n</style>\n<table border=\"1\" class=\"dataframe\">\n  <thead>\n    <tr style=\"text-align: right;\">\n      <th></th>\n      <th>User-AvgRating</th>\n      <th>User-NumRatings</th>\n      <th>Item-NumRatings</th>\n      <th>chan</th>\n      <th>ga</th>\n      <th>movie</th>\n      <th>ni</th>\n      <th>no</th>\n      <th>special</th>\n      <th>specials</th>\n      <th>...</th>\n      <th>to</th>\n      <th>wa</th>\n      <th>Type-Movie</th>\n      <th>Type-Music</th>\n      <th>Type-ONA</th>\n      <th>Type-OVA</th>\n      <th>Type-Special</th>\n      <th>Type-TV</th>\n      <th>members</th>\n      <th>anime_total_rating</th>\n    </tr>\n  </thead>\n  <tbody>\n    <tr>\n      <th>0</th>\n      <td>10.000000</td>\n      <td>4</td>\n      <td>19488</td>\n      <td>0.0</td>\n      <td>0.0</td>\n      <td>0.0</td>\n      <td>0.0</td>\n      <td>0.0</td>\n      <td>0.0</td>\n      <td>0.0</td>\n      <td>...</td>\n      <td>0.0</td>\n      <td>0.0</td>\n      <td>0.0</td>\n      <td>0.0</td>\n      <td>0.0</td>\n      <td>0.0</td>\n      <td>0.0</td>\n      <td>1.0</td>\n      <td>535892</td>\n      <td>7.46</td>\n    </tr>\n    <tr>\n      <th>1</th>\n      <td>7.565217</td>\n      <td>92</td>\n      <td>19488</td>\n      <td>0.0</td>\n      <td>0.0</td>\n      <td>0.0</td>\n      <td>0.0</td>\n      <td>0.0</td>\n      <td>0.0</td>\n      <td>0.0</td>\n      <td>...</td>\n      <td>0.0</td>\n      <td>0.0</td>\n      <td>0.0</td>\n      <td>0.0</td>\n      <td>0.0</td>\n      <td>0.0</td>\n      <td>0.0</td>\n      <td>1.0</td>\n      <td>535892</td>\n      <td>7.46</td>\n    </tr>\n    <tr>\n      <th>2</th>\n      <td>4.355120</td>\n      <td>459</td>\n      <td>19488</td>\n      <td>0.0</td>\n      <td>0.0</td>\n      <td>0.0</td>\n      <td>0.0</td>\n      <td>0.0</td>\n      <td>0.0</td>\n      <td>0.0</td>\n      <td>...</td>\n      <td>0.0</td>\n      <td>0.0</td>\n      <td>0.0</td>\n      <td>0.0</td>\n      <td>0.0</td>\n      <td>0.0</td>\n      <td>0.0</td>\n      <td>1.0</td>\n      <td>535892</td>\n      <td>7.46</td>\n    </tr>\n    <tr>\n      <th>3</th>\n      <td>8.818182</td>\n      <td>22</td>\n      <td>19488</td>\n      <td>0.0</td>\n      <td>0.0</td>\n      <td>0.0</td>\n      <td>0.0</td>\n      <td>0.0</td>\n      <td>0.0</td>\n      <td>0.0</td>\n      <td>...</td>\n      <td>0.0</td>\n      <td>0.0</td>\n      <td>0.0</td>\n      <td>0.0</td>\n      <td>0.0</td>\n      <td>0.0</td>\n      <td>0.0</td>\n      <td>1.0</td>\n      <td>535892</td>\n      <td>7.46</td>\n    </tr>\n    <tr>\n      <th>4</th>\n      <td>7.195122</td>\n      <td>123</td>\n      <td>19488</td>\n      <td>0.0</td>\n      <td>0.0</td>\n      <td>0.0</td>\n      <td>0.0</td>\n      <td>0.0</td>\n      <td>0.0</td>\n      <td>0.0</td>\n      <td>...</td>\n      <td>0.0</td>\n      <td>0.0</td>\n      <td>0.0</td>\n      <td>0.0</td>\n      <td>0.0</td>\n      <td>0.0</td>\n      <td>0.0</td>\n      <td>1.0</td>\n      <td>535892</td>\n      <td>7.46</td>\n    </tr>\n  </tbody>\n</table>\n<p>5 rows × 21 columns</p>\n</div>"
     },
     "metadata": {},
     "output_type": "display_data"
    },
    {
     "data": {
      "text/plain": "0    0\n1    0\n2    0\n3    0\n4    0\nName: rating, dtype: int64"
     },
     "metadata": {},
     "output_type": "display_data"
    }
   ],
   "source": [
    "# Train-test split\n",
    "X = data.drop(columns=['user_id', 'anime_id', 'rating', 'type', 'name', 'genre'])\n",
    "display(X.head(5))\n",
    "y = data['rating']\n",
    "display(y.head(5))"
   ],
   "metadata": {
    "collapsed": false,
    "ExecuteTime": {
     "end_time": "2023-11-12T00:41:46.963263Z",
     "start_time": "2023-11-12T00:41:46.956297Z"
    }
   },
   "id": "911244215c9beb6"
  },
  {
   "cell_type": "code",
   "execution_count": 224,
   "outputs": [
    {
     "data": {
      "text/plain": "Index(['User-AvgRating', 'User-NumRatings', 'Item-NumRatings', 'chan', 'ga',\n       'movie', 'ni', 'no', 'special', 'specials', 'the', 'to', 'wa',\n       'Type-Movie', 'Type-Music', 'Type-ONA', 'Type-OVA', 'Type-Special',\n       'Type-TV', 'members', 'anime_total_rating'],\n      dtype='object')"
     },
     "execution_count": 224,
     "metadata": {},
     "output_type": "execute_result"
    }
   ],
   "source": [
    "X.columns"
   ],
   "metadata": {
    "collapsed": false,
    "ExecuteTime": {
     "end_time": "2023-11-12T00:41:46.963632Z",
     "start_time": "2023-11-12T00:41:46.959719Z"
    }
   },
   "id": "3e81912fc852fd05"
  },
  {
   "cell_type": "code",
   "execution_count": 225,
   "outputs": [
    {
     "ename": "AttributeError",
     "evalue": "'Series' object has no attribute 'columns'",
     "output_type": "error",
     "traceback": [
      "\u001B[0;31m---------------------------------------------------------------------------\u001B[0m",
      "\u001B[0;31mAttributeError\u001B[0m                            Traceback (most recent call last)",
      "Cell \u001B[0;32mIn [225], line 1\u001B[0m\n\u001B[0;32m----> 1\u001B[0m \u001B[43my\u001B[49m\u001B[38;5;241;43m.\u001B[39;49m\u001B[43mcolumns\u001B[49m\n",
      "File \u001B[0;32m/opt/homebrew/Caskroom/miniforge/base/envs/recommender/lib/python3.10/site-packages/pandas/core/generic.py:5907\u001B[0m, in \u001B[0;36mNDFrame.__getattr__\u001B[0;34m(self, name)\u001B[0m\n\u001B[1;32m   5900\u001B[0m \u001B[38;5;28;01mif\u001B[39;00m (\n\u001B[1;32m   5901\u001B[0m     name \u001B[38;5;129;01mnot\u001B[39;00m \u001B[38;5;129;01min\u001B[39;00m \u001B[38;5;28mself\u001B[39m\u001B[38;5;241m.\u001B[39m_internal_names_set\n\u001B[1;32m   5902\u001B[0m     \u001B[38;5;129;01mand\u001B[39;00m name \u001B[38;5;129;01mnot\u001B[39;00m \u001B[38;5;129;01min\u001B[39;00m \u001B[38;5;28mself\u001B[39m\u001B[38;5;241m.\u001B[39m_metadata\n\u001B[1;32m   5903\u001B[0m     \u001B[38;5;129;01mand\u001B[39;00m name \u001B[38;5;129;01mnot\u001B[39;00m \u001B[38;5;129;01min\u001B[39;00m \u001B[38;5;28mself\u001B[39m\u001B[38;5;241m.\u001B[39m_accessors\n\u001B[1;32m   5904\u001B[0m     \u001B[38;5;129;01mand\u001B[39;00m \u001B[38;5;28mself\u001B[39m\u001B[38;5;241m.\u001B[39m_info_axis\u001B[38;5;241m.\u001B[39m_can_hold_identifiers_and_holds_name(name)\n\u001B[1;32m   5905\u001B[0m ):\n\u001B[1;32m   5906\u001B[0m     \u001B[38;5;28;01mreturn\u001B[39;00m \u001B[38;5;28mself\u001B[39m[name]\n\u001B[0;32m-> 5907\u001B[0m \u001B[38;5;28;01mreturn\u001B[39;00m \u001B[38;5;28;43mobject\u001B[39;49m\u001B[38;5;241;43m.\u001B[39;49m\u001B[38;5;21;43m__getattribute__\u001B[39;49m\u001B[43m(\u001B[49m\u001B[38;5;28;43mself\u001B[39;49m\u001B[43m,\u001B[49m\u001B[43m \u001B[49m\u001B[43mname\u001B[49m\u001B[43m)\u001B[49m\n",
      "\u001B[0;31mAttributeError\u001B[0m: 'Series' object has no attribute 'columns'"
     ]
    }
   ],
   "source": [
    "y.columns"
   ],
   "metadata": {
    "collapsed": false,
    "ExecuteTime": {
     "end_time": "2023-11-12T00:41:47.332760Z",
     "start_time": "2023-11-12T00:41:46.963807Z"
    }
   },
   "id": "9cd9b997a7ce0a54"
  },
  {
   "cell_type": "code",
   "execution_count": null,
   "outputs": [],
   "source": [
    "X_train, X_test, y_train, y_test = train_test_split(X, y, test_size=0.2, random_state=42)"
   ],
   "metadata": {
    "collapsed": false,
    "ExecuteTime": {
     "end_time": "2023-11-12T00:41:47.337558Z",
     "start_time": "2023-11-12T00:41:47.334143Z"
    }
   },
   "id": "3367173216e05dbe"
  },
  {
   "cell_type": "code",
   "execution_count": null,
   "outputs": [],
   "source": [
    "# 모델 정의\n",
    "models = {\n",
    "    'Decision Tree': DecisionTreeClassifier(random_state=42),\n",
    "    'Random Forest': RandomForestClassifier(random_state=42),\n",
    "    # 'LGBM': LGBMClassifier(random_state=42)\n",
    "}"
   ],
   "metadata": {
    "collapsed": false,
    "ExecuteTime": {
     "start_time": "2023-11-12T00:41:47.335394Z"
    }
   },
   "id": "b726e86d428fec3"
  },
  {
   "cell_type": "code",
   "execution_count": null,
   "outputs": [],
   "source": [
    "X_train.head()"
   ],
   "metadata": {
    "collapsed": false,
    "ExecuteTime": {
     "start_time": "2023-11-12T00:41:47.336645Z"
    }
   },
   "id": "917c1cf0a99229f5"
  },
  {
   "cell_type": "code",
   "execution_count": null,
   "outputs": [],
   "source": [
    "X_train.shape"
   ],
   "metadata": {
    "collapsed": false,
    "ExecuteTime": {
     "end_time": "2023-11-12T00:41:47.338301Z",
     "start_time": "2023-11-12T00:41:47.337835Z"
    }
   },
   "id": "429d71076a054a2c"
  },
  {
   "cell_type": "code",
   "execution_count": null,
   "outputs": [],
   "source": [
    "y_train.head()"
   ],
   "metadata": {
    "collapsed": false,
    "ExecuteTime": {
     "start_time": "2023-11-12T00:41:47.345776Z"
    }
   },
   "id": "41f3c3eba969241d"
  },
  {
   "cell_type": "code",
   "execution_count": null,
   "outputs": [],
   "source": [
    "X_test.head(5)"
   ],
   "metadata": {
    "collapsed": false,
    "ExecuteTime": {
     "start_time": "2023-11-12T00:41:47.348949Z"
    }
   },
   "id": "8092c926672ef10e"
  },
  {
   "cell_type": "markdown",
   "source": [
    "## 모델 학습"
   ],
   "metadata": {
    "collapsed": false
   },
   "id": "3fe3eb38c8d3d90f"
  },
  {
   "cell_type": "code",
   "execution_count": null,
   "outputs": [],
   "source": [
    "import matplotlib.pyplot as plt\n",
    "from sklearn.metrics import roc_curve, auc\n",
    "from sklearn.metrics import roc_auc_score\n",
    "from tqdm import tqdm"
   ],
   "metadata": {
    "collapsed": false,
    "ExecuteTime": {
     "start_time": "2023-11-12T00:41:47.355931Z"
    }
   },
   "id": "62d0dd7c18678ee3"
  },
  {
   "cell_type": "code",
   "execution_count": null,
   "outputs": [],
   "source": [
    "# 데이터셋 사이즈 지정\n",
    "dataset_sizes = [1_000, 10_000, 100_000]"
   ],
   "metadata": {
    "collapsed": false,
    "ExecuteTime": {
     "end_time": "2023-11-12T00:41:47.370257Z",
     "start_time": "2023-11-12T00:41:47.358118Z"
    }
   },
   "id": "a90dcb88ac9382f2"
  },
  {
   "cell_type": "code",
   "execution_count": null,
   "outputs": [],
   "source": [
    "# 각 모델 별 auc score를 저장하기 위해 딕셔너리 정의\n",
    "auc_scores = {model_name: [] for model_name in models.keys()}"
   ],
   "metadata": {
    "collapsed": false,
    "ExecuteTime": {
     "start_time": "2023-11-12T00:41:47.360359Z"
    }
   },
   "id": "d02405d59bf5f8d0"
  },
  {
   "cell_type": "code",
   "execution_count": null,
   "outputs": [],
   "source": [
    "auc_scores"
   ],
   "metadata": {
    "collapsed": false,
    "ExecuteTime": {
     "start_time": "2023-11-12T00:41:47.361680Z"
    }
   },
   "id": "68d237486872b467"
  },
  {
   "cell_type": "code",
   "execution_count": null,
   "outputs": [],
   "source": [
    "# 각 모델 별 roc curve 정보 저장을 위해 딕셔너리 정의\n",
    "roc_curves = {model_name: [] for model_name in models.keys()}"
   ],
   "metadata": {
    "collapsed": false,
    "ExecuteTime": {
     "start_time": "2023-11-12T00:41:47.363342Z"
    }
   },
   "id": "e219d488a524bc13"
  },
  {
   "cell_type": "code",
   "execution_count": null,
   "outputs": [],
   "source": [
    "roc_curves"
   ],
   "metadata": {
    "collapsed": false,
    "ExecuteTime": {
     "start_time": "2023-11-12T00:41:47.365239Z"
    }
   },
   "id": "59c2d26576706f86"
  },
  {
   "cell_type": "code",
   "execution_count": null,
   "outputs": [],
   "source": [
    "# ROC curve 그리기\n",
    "# Parameter fpr: False Positive Rate (Fall-Out)\n",
    "# Parameter tpr: True Positive Rate (Recall)\n",
    "def plot_roc_curve(fpr, tpr, label=None):\n",
    "    plt.plot(fpr, tpr, linewidth=2, label=label)\n",
    "    # 대각선 추가\n",
    "    plt.plot([0, 1], [0, 1], 'k--')\n",
    "    plt.axis([0, 1, 0, 1])\n",
    "    plt.xlabel('False Positive Rate (Fall-Out)', fontsize=16)\n",
    "    plt.ylabel('True Positive Rate (Recall)', fontsize=16)"
   ],
   "metadata": {
    "collapsed": false,
    "ExecuteTime": {
     "start_time": "2023-11-12T00:41:47.366827Z"
    }
   },
   "id": "6fe345a1a5f3f14c"
  },
  {
   "cell_type": "code",
   "execution_count": null,
   "outputs": [],
   "source": [
    "# 데이터 사이즈별로 iteration\n",
    "for size in dataset_sizes:\n",
    "    # 각 사이즈별로 데이터를 샘플링함\n",
    "    X_train_sample = X_train.sample(n=size, random_state=42)\n",
    "    y_train_sample = y_train.loc[X_train_sample.index]\n",
    "\n",
    "    # 모델 별로 반복\n",
    "    for model_name, model in tqdm(models.items()):\n",
    "        print(f'Training {model_name} with {size} samples...')\n",
    "        \n",
    "        # fitting\n",
    "        model.fit(X_train_sample, y_train_sample)\n",
    "        \n",
    "        # predict\n",
    "        y_pred = model.predict_proba(X_test)[:, 1]\n",
    "        print('----------------')\n",
    "        print(y_pred)\n",
    "        print('----------------')\n",
    "        \n",
    "        # AUC 점수 계산\n",
    "        auc_score = roc_auc_score(y_test, y_pred)\n",
    "        auc_scores[model_name].append(auc_score)\n",
    "        \n",
    "        # ROC 곡선\n",
    "        fpr, tpr, thresholds = roc_curve(y_test, y_pred)\n",
    "        roc_curves[model_name].append((fpr, tpr))\n",
    "        \n",
    "        print(f'{model_name} AUC: {auc_scores}')"
   ],
   "metadata": {
    "collapsed": false,
    "ExecuteTime": {
     "start_time": "2023-11-12T00:41:47.368224Z"
    }
   },
   "id": "821eba0b1c2f494b"
  },
  {
   "cell_type": "code",
   "execution_count": null,
   "outputs": [],
   "source": [
    "# AUC 스코어 시각화\n",
    "for model_name, model_auc_scores in auc_scores.items():\n",
    "    plt.plot(dataset_sizes, model_auc_scores, label=model_name)\n",
    "plt.xlabel('Training dataset size')\n",
    "plt.ylabel('AUC score')\n",
    "plt.legend()\n",
    "plt.show()\n"
   ],
   "metadata": {
    "collapsed": false,
    "ExecuteTime": {
     "start_time": "2023-11-12T00:41:47.369755Z"
    }
   },
   "id": "15d4a39697c743e6"
  },
  {
   "cell_type": "code",
   "execution_count": null,
   "outputs": [],
   "source": [
    "# 가장 큰 데이터셋에 대해서, ROC 커브 그리기\n",
    "for model_name, model_roc_curves in roc_curves.items():\n",
    "    fpr, tpr = model_roc_curves[-1] # Select the ROC curve ofr the largest dataset size\n",
    "    plot_roc_curve(fpr, tpr, label=f'{model_name} (AUC = {auc_scores[model_name][-1]:.2f}')\n",
    "plt.legend()\n",
    "plt.show()"
   ],
   "metadata": {
    "collapsed": false,
    "ExecuteTime": {
     "end_time": "2023-11-12T00:41:47.426919Z",
     "start_time": "2023-11-12T00:41:47.371021Z"
    }
   },
   "id": "3a7281f81641bd18"
  },
  {
   "cell_type": "markdown",
   "source": [
    "## 실제 예측값 확인"
   ],
   "metadata": {
    "collapsed": false
   },
   "id": "fa2c1fb7acab0428"
  },
  {
   "cell_type": "code",
   "execution_count": null,
   "outputs": [],
   "source": [
    "user_id = 20"
   ],
   "metadata": {
    "collapsed": false,
    "ExecuteTime": {
     "start_time": "2023-11-12T00:41:47.372259Z"
    }
   },
   "id": "21b9249ca1d6d7b9"
  },
  {
   "cell_type": "code",
   "execution_count": null,
   "outputs": [],
   "source": [
    "user_data = data[data['user_id'] == user_id]"
   ],
   "metadata": {
    "collapsed": false,
    "ExecuteTime": {
     "start_time": "2023-11-12T00:41:47.373608Z"
    }
   },
   "id": "4dad9779f6614d67"
  },
  {
   "cell_type": "code",
   "execution_count": null,
   "outputs": [],
   "source": [
    "user_data"
   ],
   "metadata": {
    "collapsed": false,
    "ExecuteTime": {
     "start_time": "2023-11-12T00:41:47.374903Z"
    }
   },
   "id": "547752e1954e69ea"
  },
  {
   "cell_type": "code",
   "execution_count": null,
   "outputs": [],
   "source": [
    "rated_animes = user_data['anime_id'].unique()"
   ],
   "metadata": {
    "collapsed": false,
    "ExecuteTime": {
     "start_time": "2023-11-12T00:41:47.375998Z"
    }
   },
   "id": "ae0d125e8f8c793a"
  },
  {
   "cell_type": "code",
   "execution_count": null,
   "outputs": [],
   "source": [
    "rated_animes"
   ],
   "metadata": {
    "collapsed": false,
    "ExecuteTime": {
     "start_time": "2023-11-12T00:41:47.377088Z"
    }
   },
   "id": "624defef31d36957"
  },
  {
   "cell_type": "code",
   "execution_count": null,
   "outputs": [],
   "source": [
    "# rated_animes에 속하지 않은 것(~)들\n",
    "unratted_animes = item_features[~item_features.index.isin(rated_animes)]"
   ],
   "metadata": {
    "collapsed": false,
    "ExecuteTime": {
     "start_time": "2023-11-12T00:41:47.378157Z"
    }
   },
   "id": "9d5a7b857b90177e"
  },
  {
   "cell_type": "code",
   "execution_count": null,
   "outputs": [],
   "source": [
    "unratted_animes"
   ],
   "metadata": {
    "collapsed": false,
    "ExecuteTime": {
     "start_time": "2023-11-12T00:41:47.378837Z"
    }
   },
   "id": "5dc18e56b64ee46f"
  },
  {
   "cell_type": "code",
   "execution_count": null,
   "outputs": [],
   "source": [
    "# 유저정보 붙여주지\n",
    "user_features_df = user_features.loc[user_id]"
   ],
   "metadata": {
    "collapsed": false,
    "ExecuteTime": {
     "start_time": "2023-11-12T00:41:47.379513Z"
    }
   },
   "id": "987cc495b6a795b2"
  },
  {
   "cell_type": "code",
   "execution_count": null,
   "outputs": [],
   "source": [
    "user_features_df"
   ],
   "metadata": {
    "collapsed": false,
    "ExecuteTime": {
     "start_time": "2023-11-12T00:41:47.380180Z"
    }
   },
   "id": "2cc962179c08fe9b"
  },
  {
   "cell_type": "code",
   "execution_count": null,
   "outputs": [],
   "source": [
    "# wrong. assign method doesn't mutate the original dataframe\n",
    "unrated_animes = unratted_animes.assign(**user_features_df)"
   ],
   "metadata": {
    "collapsed": false,
    "ExecuteTime": {
     "start_time": "2023-11-12T00:41:47.380899Z"
    }
   },
   "id": "4bb41c2a965c2c24"
  },
  {
   "cell_type": "code",
   "execution_count": null,
   "outputs": [],
   "source": [
    "unratted_animes.head(5)"
   ],
   "metadata": {
    "collapsed": false,
    "ExecuteTime": {
     "start_time": "2023-11-12T00:41:47.381566Z"
    }
   },
   "id": "549a87cc9d641a89"
  },
  {
   "cell_type": "code",
   "execution_count": null,
   "outputs": [],
   "source": [
    "unrated_animes.assign(**user_features_df).head(5)"
   ],
   "metadata": {
    "collapsed": false,
    "ExecuteTime": {
     "start_time": "2023-11-12T00:41:47.382314Z"
    }
   },
   "id": "fddf9d1b5547c659"
  },
  {
   "cell_type": "code",
   "execution_count": null,
   "outputs": [],
   "source": [
    "combined_unrated_animes = unratted_animes.assign(**user_features_df)"
   ],
   "metadata": {
    "collapsed": false,
    "ExecuteTime": {
     "start_time": "2023-11-12T00:41:47.383026Z"
    }
   },
   "id": "181a89a8b91eafe3"
  },
  {
   "cell_type": "code",
   "execution_count": null,
   "outputs": [],
   "source": [
    "combined_unrated_animes"
   ],
   "metadata": {
    "collapsed": false,
    "ExecuteTime": {
     "start_time": "2023-11-12T00:41:47.383626Z"
    }
   },
   "id": "ce5e64d3ac353cd2"
  },
  {
   "cell_type": "code",
   "execution_count": null,
   "outputs": [],
   "source": [
    "def recommend_top_n(user_id, model, n=5):\n",
    "    # 아직 유저가 평가하지 않은 애니 가져오기\n",
    "    user_data = data[data['user_id'] == user_id]\n",
    "    rated_animes = user_data['anime_id'].unique()\n",
    "    unrated_animes = item_features[~item_features.index.isin(rated_animes)]\n",
    "\n",
    "    # 유저 정보 붙여주기\n",
    "    user_features_df = user_features.loc[user_id]\n",
    "    combined_unrated_animes = unrated_animes.assign(**user_features_df)\n",
    "\n",
    "    # 해당 유저 대상으로 모델 예측\n",
    "    combined_unrated_animes['predicted_rating'] = model.predict_proba(combined_unrated_animes)[:, 1]\n",
    "    \n",
    "    # 상위 N개의 평점 예측\n",
    "    top_n_animes = combined_unrated_animes.sort_values('predicted_rating', ascending=False).head(n)\n",
    "    \n",
    "    return top_n_animes\n"
   ],
   "metadata": {
    "collapsed": false,
    "ExecuteTime": {
     "start_time": "2023-11-12T00:41:47.384527Z"
    }
   },
   "id": "d5eece790b3cfe2d"
  },
  {
   "cell_type": "code",
   "execution_count": null,
   "outputs": [],
   "source": [
    "# 특정 유저에 대한 상위 n개 예측 생성\n",
    "user_id = 26\n",
    "top_n = recommend_top_n(user_id, models['Random Forest'], n=5)[['predicted_rating']]"
   ],
   "metadata": {
    "collapsed": false,
    "ExecuteTime": {
     "start_time": "2023-11-12T00:41:47.385124Z"
    }
   },
   "id": "39c81e5a24292b88"
  },
  {
   "cell_type": "code",
   "execution_count": null,
   "outputs": [],
   "source": [
    "# top n개 예측의 상세 정보\n",
    "top_n_details = top_n.merge(animes, how='left', left_index=True, right_on='anime_id')"
   ],
   "metadata": {
    "collapsed": false,
    "ExecuteTime": {
     "start_time": "2023-11-12T00:41:47.385831Z"
    }
   },
   "id": "c313325d2610a15d"
  },
  {
   "cell_type": "code",
   "execution_count": null,
   "outputs": [],
   "source": [
    "print(f'Top 5 anime recommendations for user {user_id}:')\n",
    "display(top_n_details)"
   ],
   "metadata": {
    "collapsed": false,
    "ExecuteTime": {
     "start_time": "2023-11-12T00:41:47.386757Z"
    }
   },
   "id": "e63ea602a6823a3"
  },
  {
   "cell_type": "code",
   "execution_count": null,
   "outputs": [],
   "source": [
    "# 좋은 평점을 준 애니 검색\n",
    "user_ratings = ratings[ratings['user_id'] == user_id]\n",
    "well_rated_animes = user_ratings[user_ratings['rating'] >= user_ratings['rating'].mean()]\n"
   ],
   "metadata": {
    "collapsed": false,
    "ExecuteTime": {
     "start_time": "2023-11-12T00:41:47.387509Z"
    }
   },
   "id": "bb8a55863d0a5ef3"
  },
  {
   "cell_type": "code",
   "execution_count": null,
   "outputs": [],
   "source": [
    "# 상세 정보 조회\n",
    "well_rated_details = animes[animes['anime_id'].isin(well_rated_animes['anime_id'])]"
   ],
   "metadata": {
    "collapsed": false,
    "ExecuteTime": {
     "start_time": "2023-11-12T00:41:47.388302Z"
    }
   },
   "id": "171e3228ed7d0284"
  },
  {
   "cell_type": "code",
   "execution_count": null,
   "outputs": [],
   "source": [
    "well_rated_animes"
   ],
   "metadata": {
    "collapsed": false,
    "ExecuteTime": {
     "start_time": "2023-11-12T00:41:47.389068Z"
    }
   },
   "id": "1583f76b62c79c27"
  },
  {
   "cell_type": "code",
   "execution_count": null,
   "outputs": [],
   "source": [
    "well_rated_details = well_rated_details.merge(well_rated_animes[['anime_id', 'rating']], on='anime_id', how='inner')"
   ],
   "metadata": {
    "collapsed": false,
    "ExecuteTime": {
     "start_time": "2023-11-12T00:41:47.390029Z"
    }
   },
   "id": "4635ef6351417d2a"
  },
  {
   "cell_type": "code",
   "execution_count": null,
   "outputs": [],
   "source": [
    "well_rated_details"
   ],
   "metadata": {
    "collapsed": false,
    "ExecuteTime": {
     "start_time": "2023-11-12T00:41:47.390809Z"
    }
   },
   "id": "14197738e9e7d6cf"
  },
  {
   "cell_type": "code",
   "execution_count": null,
   "outputs": [],
   "source": [
    "print(f'\\nWell-rated animes by user {user_id}:')\n",
    "display(well_rated_details)\n"
   ],
   "metadata": {
    "collapsed": false,
    "ExecuteTime": {
     "start_time": "2023-11-12T00:41:47.391475Z"
    }
   },
   "id": "b48ebdd2201c4fa7"
  },
  {
   "cell_type": "code",
   "execution_count": null,
   "outputs": [],
   "source": [
    "import matplotlib.pyplot as plt\n",
    "import seaborn as sns\n",
    "\n",
    "# model = models['lgbm']\n",
    "model = models['Random Forest']\n",
    "\n",
    "feature_imp = pd.DataFrame(sorted(zip(model.feature_importances_,X_train.columns)), columns=['Value','Feature'])\n",
    "\n",
    "plt.figure(figsize=(20, 10))\n",
    "sns.barplot(x=\"Value\", y=\"Feature\", data=feature_imp.sort_values(by=\"Value\", ascending=False))\n",
    "plt.title('LightGBM Features (avg over folds)')\n",
    "plt.tight_layout()\n",
    "plt.show()"
   ],
   "metadata": {
    "collapsed": false,
    "ExecuteTime": {
     "start_time": "2023-11-12T00:41:47.392130Z"
    }
   },
   "id": "69065153fcff54c8"
  },
  {
   "cell_type": "code",
   "execution_count": null,
   "outputs": [],
   "source": [],
   "metadata": {
    "collapsed": false,
    "ExecuteTime": {
     "start_time": "2023-11-12T00:41:47.392748Z"
    }
   },
   "id": "a95cd292ff59d3af"
  }
 ],
 "metadata": {
  "kernelspec": {
   "display_name": "Python 3",
   "language": "python",
   "name": "python3"
  },
  "language_info": {
   "codemirror_mode": {
    "name": "ipython",
    "version": 2
   },
   "file_extension": ".py",
   "mimetype": "text/x-python",
   "name": "python",
   "nbconvert_exporter": "python",
   "pygments_lexer": "ipython2",
   "version": "2.7.6"
  }
 },
 "nbformat": 4,
 "nbformat_minor": 5
}

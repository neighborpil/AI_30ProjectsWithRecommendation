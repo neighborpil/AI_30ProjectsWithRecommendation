{
 "cells": [
  {
   "cell_type": "markdown",
   "id": "0671d72f",
   "metadata": {
    "id": "0671d72f"
   },
   "source": [
    "# Load Dataset"
   ]
  },
  {
   "cell_type": "code",
   "execution_count": 1,
   "id": "2d052e0e",
   "metadata": {
    "id": "2d052e0e",
    "executionInfo": {
     "status": "ok",
     "timestamp": 1684658843178,
     "user_tz": -540,
     "elapsed": 4072,
     "user": {
      "displayName": "Myeonghak Lee",
      "userId": "01376346143254624391"
     }
    },
    "ExecuteTime": {
     "end_time": "2023-09-10T09:01:01.522977Z",
     "start_time": "2023-09-10T09:01:01.151208Z"
    }
   },
   "outputs": [],
   "source": [
    "import numpy as np\n",
    "import pandas as pd\n",
    "from sklearn.tree import DecisionTreeClassifier\n",
    "from sklearn.ensemble import RandomForestClassifier\n",
    "from sklearn.model_selection import train_test_split\n",
    "from sklearn.feature_extraction.text import TfidfVectorizer\n",
    "from sklearn.preprocessing import OneHotEncoder\n",
    "from lightgbm import LGBMClassifier\n",
    "from sklearn.metrics.pairwise import cosine_similarity\n",
    "from typing import List"
   ]
  },
  {
   "cell_type": "code",
   "source": [
    "# from google.colab import drive\n",
    "# drive.mount('/content/drive')\n",
    "\n",
    "# import os\n",
    "# os.chdir('/content/drive/MyDrive/패캠강의/fastcampus_recsys_2301/Fastcampus_Codes/02_ML_based_algorithms/')"
   ],
   "metadata": {
    "id": "dhcQE623-DYM",
    "colab": {
     "base_uri": "https://localhost:8080/"
    },
    "executionInfo": {
     "status": "ok",
     "timestamp": 1684658845796,
     "user_tz": -540,
     "elapsed": 2620,
     "user": {
      "displayName": "Myeonghak Lee",
      "userId": "01376346143254624391"
     }
    },
    "outputId": "ba8d9dd0-747e-48a0-8b00-230c1c611479"
   },
   "id": "dhcQE623-DYM",
   "execution_count": 2,
   "outputs": [
    {
     "output_type": "stream",
     "name": "stdout",
     "text": [
      "Drive already mounted at /content/drive; to attempt to forcibly remount, call drive.mount(\"/content/drive\", force_remount=True).\n"
     ]
    }
   ]
  },
  {
   "cell_type": "code",
   "source": [
    "data_path = '../../../data/anime/'\n",
    "\n",
    "# Read the dataset\n",
    "animes = pd.read_csv(data_path+'anime.csv')\n",
    "ratings = pd.read_csv(data_path+'rating.csv')"
   ],
   "metadata": {
    "id": "STCPXjii-DLl",
    "executionInfo": {
     "status": "ok",
     "timestamp": 1684658848453,
     "user_tz": -540,
     "elapsed": 2661,
     "user": {
      "displayName": "Myeonghak Lee",
      "userId": "01376346143254624391"
     }
    },
    "ExecuteTime": {
     "end_time": "2023-09-10T09:01:06.636726Z",
     "start_time": "2023-09-10T09:01:05.903082Z"
    }
   },
   "id": "STCPXjii-DLl",
   "execution_count": 2,
   "outputs": []
  },
  {
   "cell_type": "code",
   "execution_count": 3,
   "id": "e9b1aef4-dd6a-45f0-bc2f-0c7bd81e0851",
   "metadata": {
    "id": "e9b1aef4-dd6a-45f0-bc2f-0c7bd81e0851",
    "outputId": "c669d8ec-5c21-44f7-f64d-23fb245d001f",
    "colab": {
     "base_uri": "https://localhost:8080/",
     "height": 363
    },
    "executionInfo": {
     "status": "ok",
     "timestamp": 1684658848474,
     "user_tz": -540,
     "elapsed": 42,
     "user": {
      "displayName": "Myeonghak Lee",
      "userId": "01376346143254624391"
     }
    },
    "ExecuteTime": {
     "end_time": "2023-09-10T09:01:10.939336Z",
     "start_time": "2023-09-10T09:01:10.906220Z"
    }
   },
   "outputs": [
    {
     "data": {
      "text/plain": "       anime_id                           name  \\\n3759       1800   Fatal Fury 2: The New Battle   \n11348      2441                        Koihime   \n714         875                      Mind Game   \n5054       5496                   Feng Yun Jue   \n7463      32344                Nana-iro Megane   \n7592       1287  Odin: Koushi Hansen Starlight   \n6670      15133       Aoi Sekai no Chuushin de   \n161       32867   Bungou Stray Dogs 2nd Season   \n4798       2617                       Ghiblies   \n9927      30403                     Paper Film   \n\n                                                   genre     type episodes  \\\n3759     Action, Adventure, Drama, Martial Arts, Shounen      OVA        1   \n11348        Fantasy, Harem, Hentai, Magic, Supernatural      OVA        2   \n714    Adventure, Comedy, Dementia, Psychological, Ro...    Movie        1   \n5054                     Action, Adventure, Martial Arts    Movie        1   \n7463                                               Music    Music        1   \n7592                    Action, Adventure, Drama, Sci-Fi    Movie        1   \n6670   Action, Adventure, Ecchi, Fantasy, Parody, Sho...  Special        3   \n161                        Mystery, Seinen, Supernatural       TV       12   \n4798                                              Comedy  Special        2   \n9927                                              Comedy    Movie        1   \n\n       rating  members  \n3759     6.89     5009  \n11348    6.78     3092  \n714      7.88    32756  \n5054     6.56     1455  \n7463     5.40       90  \n7592     5.26     1408  \n6670     6.00    25693  \n161      8.39    83641  \n4798     6.63     3230  \n9927     3.33      102  ",
      "text/html": "<div>\n<style scoped>\n    .dataframe tbody tr th:only-of-type {\n        vertical-align: middle;\n    }\n\n    .dataframe tbody tr th {\n        vertical-align: top;\n    }\n\n    .dataframe thead th {\n        text-align: right;\n    }\n</style>\n<table border=\"1\" class=\"dataframe\">\n  <thead>\n    <tr style=\"text-align: right;\">\n      <th></th>\n      <th>anime_id</th>\n      <th>name</th>\n      <th>genre</th>\n      <th>type</th>\n      <th>episodes</th>\n      <th>rating</th>\n      <th>members</th>\n    </tr>\n  </thead>\n  <tbody>\n    <tr>\n      <th>3759</th>\n      <td>1800</td>\n      <td>Fatal Fury 2: The New Battle</td>\n      <td>Action, Adventure, Drama, Martial Arts, Shounen</td>\n      <td>OVA</td>\n      <td>1</td>\n      <td>6.89</td>\n      <td>5009</td>\n    </tr>\n    <tr>\n      <th>11348</th>\n      <td>2441</td>\n      <td>Koihime</td>\n      <td>Fantasy, Harem, Hentai, Magic, Supernatural</td>\n      <td>OVA</td>\n      <td>2</td>\n      <td>6.78</td>\n      <td>3092</td>\n    </tr>\n    <tr>\n      <th>714</th>\n      <td>875</td>\n      <td>Mind Game</td>\n      <td>Adventure, Comedy, Dementia, Psychological, Ro...</td>\n      <td>Movie</td>\n      <td>1</td>\n      <td>7.88</td>\n      <td>32756</td>\n    </tr>\n    <tr>\n      <th>5054</th>\n      <td>5496</td>\n      <td>Feng Yun Jue</td>\n      <td>Action, Adventure, Martial Arts</td>\n      <td>Movie</td>\n      <td>1</td>\n      <td>6.56</td>\n      <td>1455</td>\n    </tr>\n    <tr>\n      <th>7463</th>\n      <td>32344</td>\n      <td>Nana-iro Megane</td>\n      <td>Music</td>\n      <td>Music</td>\n      <td>1</td>\n      <td>5.40</td>\n      <td>90</td>\n    </tr>\n    <tr>\n      <th>7592</th>\n      <td>1287</td>\n      <td>Odin: Koushi Hansen Starlight</td>\n      <td>Action, Adventure, Drama, Sci-Fi</td>\n      <td>Movie</td>\n      <td>1</td>\n      <td>5.26</td>\n      <td>1408</td>\n    </tr>\n    <tr>\n      <th>6670</th>\n      <td>15133</td>\n      <td>Aoi Sekai no Chuushin de</td>\n      <td>Action, Adventure, Ecchi, Fantasy, Parody, Sho...</td>\n      <td>Special</td>\n      <td>3</td>\n      <td>6.00</td>\n      <td>25693</td>\n    </tr>\n    <tr>\n      <th>161</th>\n      <td>32867</td>\n      <td>Bungou Stray Dogs 2nd Season</td>\n      <td>Mystery, Seinen, Supernatural</td>\n      <td>TV</td>\n      <td>12</td>\n      <td>8.39</td>\n      <td>83641</td>\n    </tr>\n    <tr>\n      <th>4798</th>\n      <td>2617</td>\n      <td>Ghiblies</td>\n      <td>Comedy</td>\n      <td>Special</td>\n      <td>2</td>\n      <td>6.63</td>\n      <td>3230</td>\n    </tr>\n    <tr>\n      <th>9927</th>\n      <td>30403</td>\n      <td>Paper Film</td>\n      <td>Comedy</td>\n      <td>Movie</td>\n      <td>1</td>\n      <td>3.33</td>\n      <td>102</td>\n    </tr>\n  </tbody>\n</table>\n</div>"
     },
     "metadata": {},
     "output_type": "display_data"
    }
   ],
   "source": [
    "display(animes.sample(10))"
   ]
  },
  {
   "cell_type": "code",
   "execution_count": 4,
   "id": "99fb97cc-8504-4f31-a249-35b199ead060",
   "metadata": {
    "id": "99fb97cc-8504-4f31-a249-35b199ead060",
    "outputId": "a4aae4a3-6b9e-4c7d-e2d2-09f0d690f84a",
    "colab": {
     "base_uri": "https://localhost:8080/",
     "height": 363
    },
    "executionInfo": {
     "status": "ok",
     "timestamp": 1684658848874,
     "user_tz": -540,
     "elapsed": 435,
     "user": {
      "displayName": "Myeonghak Lee",
      "userId": "01376346143254624391"
     }
    },
    "ExecuteTime": {
     "end_time": "2023-09-10T08:41:10.401564Z",
     "start_time": "2023-09-10T08:41:10.223277Z"
    }
   },
   "outputs": [
    {
     "data": {
      "text/plain": "         user_id  anime_id  rating\n5337117    50569       417       7\n5892566    55050       170       9\n6876590    63942     16668      -1\n7404779    69054     21659       6\n5601130    52587     12549       6\n5875807    54877     20583       7\n2043480    19782      5671       6\n5669465    53194      4155      -1\n7351659    68522     10372      10\n4194135    39758      3840       7",
      "text/html": "<div>\n<style scoped>\n    .dataframe tbody tr th:only-of-type {\n        vertical-align: middle;\n    }\n\n    .dataframe tbody tr th {\n        vertical-align: top;\n    }\n\n    .dataframe thead th {\n        text-align: right;\n    }\n</style>\n<table border=\"1\" class=\"dataframe\">\n  <thead>\n    <tr style=\"text-align: right;\">\n      <th></th>\n      <th>user_id</th>\n      <th>anime_id</th>\n      <th>rating</th>\n    </tr>\n  </thead>\n  <tbody>\n    <tr>\n      <th>5337117</th>\n      <td>50569</td>\n      <td>417</td>\n      <td>7</td>\n    </tr>\n    <tr>\n      <th>5892566</th>\n      <td>55050</td>\n      <td>170</td>\n      <td>9</td>\n    </tr>\n    <tr>\n      <th>6876590</th>\n      <td>63942</td>\n      <td>16668</td>\n      <td>-1</td>\n    </tr>\n    <tr>\n      <th>7404779</th>\n      <td>69054</td>\n      <td>21659</td>\n      <td>6</td>\n    </tr>\n    <tr>\n      <th>5601130</th>\n      <td>52587</td>\n      <td>12549</td>\n      <td>6</td>\n    </tr>\n    <tr>\n      <th>5875807</th>\n      <td>54877</td>\n      <td>20583</td>\n      <td>7</td>\n    </tr>\n    <tr>\n      <th>2043480</th>\n      <td>19782</td>\n      <td>5671</td>\n      <td>6</td>\n    </tr>\n    <tr>\n      <th>5669465</th>\n      <td>53194</td>\n      <td>4155</td>\n      <td>-1</td>\n    </tr>\n    <tr>\n      <th>7351659</th>\n      <td>68522</td>\n      <td>10372</td>\n      <td>10</td>\n    </tr>\n    <tr>\n      <th>4194135</th>\n      <td>39758</td>\n      <td>3840</td>\n      <td>7</td>\n    </tr>\n  </tbody>\n</table>\n</div>"
     },
     "metadata": {},
     "output_type": "display_data"
    }
   ],
   "source": [
    "display(ratings.sample(10))"
   ]
  },
  {
   "cell_type": "markdown",
   "id": "04e20890",
   "metadata": {
    "id": "04e20890"
   },
   "source": [
    "# Preprocessing & Feature Engineering"
   ]
  },
  {
   "cell_type": "code",
   "execution_count": 4,
   "id": "6077d09f-a1b0-4a94-824b-b9abc77b2808",
   "metadata": {
    "id": "6077d09f-a1b0-4a94-824b-b9abc77b2808",
    "executionInfo": {
     "status": "ok",
     "timestamp": 1684658848874,
     "user_tz": -540,
     "elapsed": 7,
     "user": {
      "displayName": "Myeonghak Lee",
      "userId": "01376346143254624391"
     }
    },
    "ExecuteTime": {
     "end_time": "2023-09-10T09:01:15.980580Z",
     "start_time": "2023-09-10T09:01:15.971376Z"
    }
   },
   "outputs": [],
   "source": [
    "# 사용하는 피처만 남김\n",
    "animes = animes[['anime_id', 'type', 'rating', 'members', 'name', 'genre']]\n",
    "# 칼럼명 변경\n",
    "animes.columns = ['anime_id', 'type', 'anime_total_rating', 'members', 'name', 'genre']\n",
    "# 결측값이 포함된 애니는 drop\n",
    "animes = animes.dropna()"
   ]
  },
  {
   "cell_type": "code",
   "execution_count": 5,
   "id": "b702d0f3-340e-4dc4-804e-5ec757ff4d34",
   "metadata": {
    "id": "b702d0f3-340e-4dc4-804e-5ec757ff4d34",
    "executionInfo": {
     "status": "ok",
     "timestamp": 1684658849235,
     "user_tz": -540,
     "elapsed": 367,
     "user": {
      "displayName": "Myeonghak Lee",
      "userId": "01376346143254624391"
     }
    },
    "ExecuteTime": {
     "end_time": "2023-09-10T09:01:18.063131Z",
     "start_time": "2023-09-10T09:01:17.924680Z"
    }
   },
   "outputs": [],
   "source": [
    "# 평점 테이블도 동일하게 처리, 무효한 값은 제거 (rating이 -1인 값)\n",
    "ratings = ratings[['user_id', 'anime_id', 'rating']]\n",
    "ratings = ratings[ratings['rating'] != -1]"
   ]
  },
  {
   "cell_type": "code",
   "execution_count": 10,
   "id": "842639df-0c93-4c53-aaa7-c89113f275e8",
   "metadata": {
    "id": "842639df-0c93-4c53-aaa7-c89113f275e8",
    "colab": {
     "base_uri": "https://localhost:8080/"
    },
    "executionInfo": {
     "status": "ok",
     "timestamp": 1684658853574,
     "user_tz": -540,
     "elapsed": 2406,
     "user": {
      "displayName": "Myeonghak Lee",
      "userId": "01376346143254624391"
     }
    },
    "outputId": "1b4beaae-ccda-4113-8d0b-a1d70d89a701",
    "ExecuteTime": {
     "end_time": "2023-09-10T09:02:33.174937Z",
     "start_time": "2023-09-10T09:02:32.375595Z"
    }
   },
   "outputs": [],
   "source": [
    "# 데이터 프레임 join\n",
    "data = ratings.merge(animes, on='anime_id', how='inner')\n",
    "\n",
    "# 유저 정보가 없으므로, 유저의 평점 패턴에서 유저 피처 추출 (평균 평점 및 평점을 내린 수)\n",
    "user_avg_rating = data.groupby('user_id')['rating'].mean().rename('User-AvgRating')\n",
    "user_num_ratings = data.groupby('user_id')['rating'].count().rename('User-NumRatings')\n",
    "\n",
    "# 추출한 유저 피처 결합\n",
    "user_features = pd.concat([user_avg_rating, user_num_ratings], axis=1)\n",
    "\n",
    "# 애니 메타 데이터에서 아이템 관련 피처 수가 생성\n",
    "item_num_ratings = data.groupby('anime_id')['rating'].count().rename('Item-NumRatings')\n",
    "\n",
    "# 애니 이름 피처에서 TF-IDF 피처 생성, 총 10개의 이름 생성 (most frequent 10 words)\n",
    "tfidf_vectorizer = TfidfVectorizer(max_features=10)\n",
    "item_name_tfidf = tfidf_vectorizer.fit_transform(animes['name']).toarray()\n",
    "\n",
    "tfidf_feature_names = tfidf_vectorizer.get_feature_names_out()\n",
    "\n",
    "# 'type' 칼럼을 원핫 인코딩\n",
    "onehot_encoder = OneHotEncoder(sparse=False)\n",
    "item_type_onehot = onehot_encoder.fit_transform(animes[['type']])\n",
    "\n",
    "# TF-IDF 피처와 type 원핫 피처를 결합\n",
    "tf_idf_df = pd.DataFrame(item_name_tfidf, columns=tfidf_feature_names, index=animes.anime_id)\n",
    "type_df = pd.DataFrame(item_type_onehot, columns=[f'Type-{cat}' for cat in onehot_encoder.categories_[0]], index=animes.anime_id)\n",
    "\n",
    "animes_features = animes[['anime_id', 'members', 'anime_total_rating']]"
   ]
  },
  {
   "cell_type": "code",
   "source": [
    "item_features = pd.DataFrame(item_num_ratings)\\\n",
    "            .merge(tf_idf_df, on=\"anime_id\")\\\n",
    "            .merge(type_df, on=\"anime_id\")\\\n",
    "            .merge(animes_features.set_index('anime_id'), on=\"anime_id\")"
   ],
   "metadata": {
    "id": "KLb_utW8drbO",
    "executionInfo": {
     "status": "ok",
     "timestamp": 1684658853574,
     "user_tz": -540,
     "elapsed": 3,
     "user": {
      "displayName": "Myeonghak Lee",
      "userId": "01376346143254624391"
     }
    },
    "ExecuteTime": {
     "end_time": "2023-09-10T09:02:40.434469Z",
     "start_time": "2023-09-10T09:02:40.421329Z"
    }
   },
   "id": "KLb_utW8drbO",
   "execution_count": 11,
   "outputs": []
  },
  {
   "cell_type": "code",
   "execution_count": 12,
   "id": "eba1670c-c2ea-4cb4-92e7-4a706b9df2c9",
   "metadata": {
    "id": "eba1670c-c2ea-4cb4-92e7-4a706b9df2c9",
    "executionInfo": {
     "status": "ok",
     "timestamp": 1684658862210,
     "user_tz": -540,
     "elapsed": 8638,
     "user": {
      "displayName": "Myeonghak Lee",
      "userId": "01376346143254624391"
     }
    },
    "ExecuteTime": {
     "end_time": "2023-09-10T09:03:54.572883Z",
     "start_time": "2023-09-10T09:03:50.945965Z"
    }
   },
   "outputs": [],
   "source": [
    "# 인터렉션 데이터와 함께, user 및 item 피처 결합\n",
    "data = data.drop(['anime_total_rating', 'members'], axis=1)\n",
    "\n",
    "data = data.join(user_features, on='user_id')\n",
    "data = data.merge(item_features, on='anime_id')\n",
    "\n",
    "# implicit feedback 표현을 위해 이진화 (유저의 평균 평점보다 높은 경우 1)\n",
    "# 절대값으로 지정하는 방법도 있음\n",
    "data['rating'] = (data['rating'] > data['User-AvgRating']).astype(int)\n",
    "\n",
    "# Train-test split\n",
    "X = data.drop(columns=['user_id','anime_id', 'rating', 'type', 'name', 'genre'])\n",
    "y = data['rating']\n",
    "\n",
    "X_train, X_test, y_train, y_test = train_test_split(X, y, test_size=0.2, random_state=42)"
   ]
  },
  {
   "cell_type": "code",
   "execution_count": 13,
   "id": "b6ba6149",
   "metadata": {
    "id": "b6ba6149",
    "executionInfo": {
     "status": "ok",
     "timestamp": 1684658876761,
     "user_tz": -540,
     "elapsed": 432,
     "user": {
      "displayName": "Myeonghak Lee",
      "userId": "01376346143254624391"
     }
    },
    "ExecuteTime": {
     "end_time": "2023-09-10T09:03:59.299909Z",
     "start_time": "2023-09-10T09:03:59.296706Z"
    }
   },
   "outputs": [],
   "source": [
    "# 모델 정의\n",
    "models = {\n",
    "    'Decision Tree': DecisionTreeClassifier(random_state=42),\n",
    "    'Random Forest': RandomForestClassifier(random_state=42),\n",
    "    'LGBM': LGBMClassifier(random_state=42)\n",
    "}"
   ]
  },
  {
   "cell_type": "code",
   "execution_count": 14,
   "id": "9864b9b3-850a-4f78-b1f1-77182a95674b",
   "metadata": {
    "id": "9864b9b3-850a-4f78-b1f1-77182a95674b",
    "colab": {
     "base_uri": "https://localhost:8080/",
     "height": 236
    },
    "executionInfo": {
     "status": "ok",
     "timestamp": 1684659826835,
     "user_tz": -540,
     "elapsed": 289,
     "user": {
      "displayName": "Myeonghak Lee",
      "userId": "01376346143254624391"
     }
    },
    "outputId": "b167302b-1931-4b3e-e767-39b5ddb4e3ef",
    "ExecuteTime": {
     "end_time": "2023-09-10T09:04:01.945447Z",
     "start_time": "2023-09-10T09:04:01.904038Z"
    }
   },
   "outputs": [
    {
     "data": {
      "text/plain": "         User-AvgRating  User-NumRatings  Item-NumRatings  chan   ga  movie  \\\n1509263        8.080645               62             5259   0.0  0.0    0.0   \n6271372        8.814085              355               36   0.0  0.0    0.0   \n1083815        8.647059               51            11399   0.0  0.0    0.0   \n2087798        7.522523              333             5697   0.0  0.0    0.0   \n2273893        8.625000               16             5318   1.0  0.0    0.0   \n\n          ni   no  special  specials  ...   to   wa  Type-Movie  Type-Music  \\\n1509263  0.0  0.0      0.0       0.0  ...  0.0  0.0         0.0         0.0   \n6271372  0.0  0.0      0.0       0.0  ...  0.0  0.0         0.0         0.0   \n1083815  0.0  0.0      0.0       0.0  ...  1.0  0.0         0.0         0.0   \n2087798  0.0  0.0      0.0       0.0  ...  0.0  0.0         0.0         0.0   \n2273893  0.0  0.0      0.0       0.0  ...  0.0  0.0         0.0         0.0   \n\n         Type-ONA  Type-OVA  Type-Special  Type-TV  members  \\\n1509263       0.0       0.0           0.0      1.0   151561   \n6271372       0.0       0.0           1.0      0.0     2718   \n1083815       0.0       0.0           0.0      1.0   299278   \n2087798       0.0       0.0           0.0      1.0   225927   \n2273893       0.0       1.0           0.0      0.0   117080   \n\n         anime_total_rating  \n1509263                8.53  \n6271372                7.65  \n1083815                7.14  \n2087798                8.50  \n2273893                6.85  \n\n[5 rows x 21 columns]",
      "text/html": "<div>\n<style scoped>\n    .dataframe tbody tr th:only-of-type {\n        vertical-align: middle;\n    }\n\n    .dataframe tbody tr th {\n        vertical-align: top;\n    }\n\n    .dataframe thead th {\n        text-align: right;\n    }\n</style>\n<table border=\"1\" class=\"dataframe\">\n  <thead>\n    <tr style=\"text-align: right;\">\n      <th></th>\n      <th>User-AvgRating</th>\n      <th>User-NumRatings</th>\n      <th>Item-NumRatings</th>\n      <th>chan</th>\n      <th>ga</th>\n      <th>movie</th>\n      <th>ni</th>\n      <th>no</th>\n      <th>special</th>\n      <th>specials</th>\n      <th>...</th>\n      <th>to</th>\n      <th>wa</th>\n      <th>Type-Movie</th>\n      <th>Type-Music</th>\n      <th>Type-ONA</th>\n      <th>Type-OVA</th>\n      <th>Type-Special</th>\n      <th>Type-TV</th>\n      <th>members</th>\n      <th>anime_total_rating</th>\n    </tr>\n  </thead>\n  <tbody>\n    <tr>\n      <th>1509263</th>\n      <td>8.080645</td>\n      <td>62</td>\n      <td>5259</td>\n      <td>0.0</td>\n      <td>0.0</td>\n      <td>0.0</td>\n      <td>0.0</td>\n      <td>0.0</td>\n      <td>0.0</td>\n      <td>0.0</td>\n      <td>...</td>\n      <td>0.0</td>\n      <td>0.0</td>\n      <td>0.0</td>\n      <td>0.0</td>\n      <td>0.0</td>\n      <td>0.0</td>\n      <td>0.0</td>\n      <td>1.0</td>\n      <td>151561</td>\n      <td>8.53</td>\n    </tr>\n    <tr>\n      <th>6271372</th>\n      <td>8.814085</td>\n      <td>355</td>\n      <td>36</td>\n      <td>0.0</td>\n      <td>0.0</td>\n      <td>0.0</td>\n      <td>0.0</td>\n      <td>0.0</td>\n      <td>0.0</td>\n      <td>0.0</td>\n      <td>...</td>\n      <td>0.0</td>\n      <td>0.0</td>\n      <td>0.0</td>\n      <td>0.0</td>\n      <td>0.0</td>\n      <td>0.0</td>\n      <td>1.0</td>\n      <td>0.0</td>\n      <td>2718</td>\n      <td>7.65</td>\n    </tr>\n    <tr>\n      <th>1083815</th>\n      <td>8.647059</td>\n      <td>51</td>\n      <td>11399</td>\n      <td>0.0</td>\n      <td>0.0</td>\n      <td>0.0</td>\n      <td>0.0</td>\n      <td>0.0</td>\n      <td>0.0</td>\n      <td>0.0</td>\n      <td>...</td>\n      <td>1.0</td>\n      <td>0.0</td>\n      <td>0.0</td>\n      <td>0.0</td>\n      <td>0.0</td>\n      <td>0.0</td>\n      <td>0.0</td>\n      <td>1.0</td>\n      <td>299278</td>\n      <td>7.14</td>\n    </tr>\n    <tr>\n      <th>2087798</th>\n      <td>7.522523</td>\n      <td>333</td>\n      <td>5697</td>\n      <td>0.0</td>\n      <td>0.0</td>\n      <td>0.0</td>\n      <td>0.0</td>\n      <td>0.0</td>\n      <td>0.0</td>\n      <td>0.0</td>\n      <td>...</td>\n      <td>0.0</td>\n      <td>0.0</td>\n      <td>0.0</td>\n      <td>0.0</td>\n      <td>0.0</td>\n      <td>0.0</td>\n      <td>0.0</td>\n      <td>1.0</td>\n      <td>225927</td>\n      <td>8.50</td>\n    </tr>\n    <tr>\n      <th>2273893</th>\n      <td>8.625000</td>\n      <td>16</td>\n      <td>5318</td>\n      <td>1.0</td>\n      <td>0.0</td>\n      <td>0.0</td>\n      <td>0.0</td>\n      <td>0.0</td>\n      <td>0.0</td>\n      <td>0.0</td>\n      <td>...</td>\n      <td>0.0</td>\n      <td>0.0</td>\n      <td>0.0</td>\n      <td>0.0</td>\n      <td>0.0</td>\n      <td>1.0</td>\n      <td>0.0</td>\n      <td>0.0</td>\n      <td>117080</td>\n      <td>6.85</td>\n    </tr>\n  </tbody>\n</table>\n<p>5 rows × 21 columns</p>\n</div>"
     },
     "execution_count": 14,
     "metadata": {},
     "output_type": "execute_result"
    }
   ],
   "source": [
    "X_train.head()"
   ]
  },
  {
   "cell_type": "code",
   "source": [
    "y_train.head()"
   ],
   "metadata": {
    "colab": {
     "base_uri": "https://localhost:8080/"
    },
    "id": "3ov_pMwDjR7V",
    "executionInfo": {
     "status": "ok",
     "timestamp": 1684659844204,
     "user_tz": -540,
     "elapsed": 260,
     "user": {
      "displayName": "Myeonghak Lee",
      "userId": "01376346143254624391"
     }
    },
    "outputId": "8b67ac43-fb90-4c4b-9b5d-22405deead9d",
    "ExecuteTime": {
     "end_time": "2023-09-10T09:04:05.363366Z",
     "start_time": "2023-09-10T09:04:05.358122Z"
    }
   },
   "id": "3ov_pMwDjR7V",
   "execution_count": 15,
   "outputs": [
    {
     "data": {
      "text/plain": "1509263    1\n6271372    1\n1083815    0\n2087798    1\n2273893    1\nName: rating, dtype: int64"
     },
     "execution_count": 15,
     "metadata": {},
     "output_type": "execute_result"
    }
   ]
  },
  {
   "cell_type": "markdown",
   "id": "37a9ae5e-9b93-4f9a-8d20-2d7784554234",
   "metadata": {
    "id": "37a9ae5e-9b93-4f9a-8d20-2d7784554234"
   },
   "source": [
    "# 모델 학습"
   ]
  },
  {
   "cell_type": "code",
   "execution_count": 13,
   "outputs": [
    {
     "data": {
      "text/plain": "(5069716, 21)"
     },
     "execution_count": 13,
     "metadata": {},
     "output_type": "execute_result"
    }
   ],
   "source": [
    "X_train.shape"
   ],
   "metadata": {
    "collapsed": false,
    "ExecuteTime": {
     "end_time": "2023-09-10T08:48:56.515524Z",
     "start_time": "2023-09-10T08:48:56.490181Z"
    }
   },
   "id": "a4bbed8f15662698"
  },
  {
   "cell_type": "code",
   "execution_count": 16,
   "id": "ae1a7950-5190-4eb3-a29d-16fbfc15dfed",
   "metadata": {
    "id": "ae1a7950-5190-4eb3-a29d-16fbfc15dfed",
    "executionInfo": {
     "status": "ok",
     "timestamp": 1684658954079,
     "user_tz": -540,
     "elapsed": 350,
     "user": {
      "displayName": "Myeonghak Lee",
      "userId": "01376346143254624391"
     }
    },
    "ExecuteTime": {
     "end_time": "2023-09-10T09:04:08.574251Z",
     "start_time": "2023-09-10T09:04:08.564600Z"
    }
   },
   "outputs": [],
   "source": [
    "import matplotlib.pyplot as plt\n",
    "from sklearn.metrics import roc_curve, auc\n",
    "from sklearn.metrics import roc_auc_score\n",
    "from tqdm import tqdm\n",
    "\n",
    "# 데이터셋 사이즈 지정\n",
    "dataset_sizes = [1_000, 10_000, 100_000]\n",
    "\n",
    "# 각 모델 별 auc score를 저장하기 위해 딕셔너리 정의\n",
    "auc_scores = {model_name: [] for model_name in models.keys()}\n",
    "\n",
    "# 각 모델 별 roc curve 정보 저장을 위해 딕셔너리 정의\n",
    "roc_curves = {model_name: [] for model_name in models.keys()}"
   ]
  },
  {
   "cell_type": "code",
   "execution_count": 17,
   "id": "86be3dee-6c3f-454e-b7f1-12cb38a984dc",
   "metadata": {
    "id": "86be3dee-6c3f-454e-b7f1-12cb38a984dc",
    "executionInfo": {
     "status": "ok",
     "timestamp": 1684658954489,
     "user_tz": -540,
     "elapsed": 2,
     "user": {
      "displayName": "Myeonghak Lee",
      "userId": "01376346143254624391"
     }
    },
    "ExecuteTime": {
     "end_time": "2023-09-10T09:04:12.867704Z",
     "start_time": "2023-09-10T09:04:12.865114Z"
    }
   },
   "outputs": [],
   "source": [
    "# ROC curve 그리기\n",
    "def plot_roc_curve(fpr, tpr, label=None):\n",
    "    plt.plot(fpr, tpr, linewidth=2, label=label)\n",
    "    # 대각선 추가\n",
    "    plt.plot([0, 1], [0, 1], 'k--') \n",
    "    plt.axis([0, 1, 0, 1])\n",
    "    plt.xlabel('False Positive Rate (Fall-Out)', fontsize=16)\n",
    "    plt.ylabel('True Positive Rate (Recall)', fontsize=16)"
   ]
  },
  {
   "cell_type": "code",
   "execution_count": null,
   "id": "e1f3bc35-9e70-498f-ab9e-9b54647c07d5",
   "metadata": {
    "id": "e1f3bc35-9e70-498f-ab9e-9b54647c07d5",
    "outputId": "b22d84c1-86c1-410e-e513-668e67ab15ba",
    "colab": {
     "base_uri": "https://localhost:8080/"
    },
    "executionInfo": {
     "status": "ok",
     "timestamp": 1684659105162,
     "user_tz": -540,
     "elapsed": 150675,
     "user": {
      "displayName": "Myeonghak Lee",
      "userId": "01376346143254624391"
     }
    },
    "is_executing": true,
    "ExecuteTime": {
     "start_time": "2023-09-10T09:04:15.550289Z"
    }
   },
   "outputs": [
    {
     "name": "stderr",
     "output_type": "stream",
     "text": [
      "  0%|          | 0/3 [00:00<?, ?it/s]"
     ]
    },
    {
     "name": "stdout",
     "output_type": "stream",
     "text": [
      "Training Decision Tree with 1000 samples...\n"
     ]
    },
    {
     "name": "stderr",
     "output_type": "stream",
     "text": [
      " 33%|███▎      | 1/3 [00:00<00:00,  2.03it/s]"
     ]
    },
    {
     "name": "stdout",
     "output_type": "stream",
     "text": [
      "Decision Tree AUC: 0.5790152055467094\n",
      "Training Random Forest with 1000 samples...\n"
     ]
    },
    {
     "name": "stderr",
     "output_type": "stream",
     "text": [
      " 67%|██████▋   | 2/3 [00:10<00:06,  6.12s/it]"
     ]
    },
    {
     "name": "stdout",
     "output_type": "stream",
     "text": [
      "Random Forest AUC: 0.6697099344821714\n",
      "Training LGBM with 1000 samples...\n"
     ]
    }
   ],
   "source": [
    "# 데이터 사이즈별로 iteration\n",
    "for size in dataset_sizes:\n",
    "    # 각 사이즈별로 데이터를 샘플링함\n",
    "    X_train_sample = X_train.sample(n=size, random_state=42)\n",
    "    y_train_sample = y_train.loc[X_train_sample.index]\n",
    "\n",
    "    # 모델 별로 반복\n",
    "    for model_name, model in tqdm(models.items()):  # tqdm: shows process bar\n",
    "        print(f\"Training {model_name} with {size} samples...\")\n",
    "        \n",
    "        # 모델 적합\n",
    "        model.fit(X_train_sample, y_train_sample)\n",
    "\n",
    "        # 예측 결과 생성\n",
    "        y_pred = model.predict_proba(X_test)[:, 1]\n",
    "\n",
    "        # AUC 점수 계산 \n",
    "        auc_score = roc_auc_score(y_test, y_pred)\n",
    "        auc_scores[model_name].append(auc_score)\n",
    "        \n",
    "        # ROC 곡선\n",
    "        fpr, tpr, thresholds = roc_curve(y_test, y_pred)\n",
    "        roc_curves[model_name].append((fpr, tpr))\n",
    "\n",
    "        print(f\"{model_name} AUC: {auc_score}\")"
   ]
  },
  {
   "cell_type": "code",
   "execution_count": null,
   "id": "34ad9052-716e-41a4-b3c9-026b5e1533c8",
   "metadata": {
    "id": "34ad9052-716e-41a4-b3c9-026b5e1533c8",
    "outputId": "930c2cd0-3a60-4f6a-d39c-e4b5c6c25231",
    "colab": {
     "base_uri": "https://localhost:8080/",
     "height": 449
    },
    "executionInfo": {
     "status": "ok",
     "timestamp": 1684659105695,
     "user_tz": -540,
     "elapsed": 552,
     "user": {
      "displayName": "Myeonghak Lee",
      "userId": "01376346143254624391"
     }
    },
    "is_executing": true
   },
   "outputs": [],
   "source": [
    "# AUC 스코어 시각화\n",
    "for model_name, model_auc_scores in auc_scores.items():\n",
    "    plt.plot(dataset_sizes, model_auc_scores, label=model_name)\n",
    "plt.xlabel('Training dataset size')\n",
    "plt.ylabel('AUC score')\n",
    "plt.legend()\n",
    "plt.show()"
   ]
  },
  {
   "cell_type": "code",
   "execution_count": null,
   "id": "398002d2-85ce-4784-8f11-ae744c691890",
   "metadata": {
    "id": "398002d2-85ce-4784-8f11-ae744c691890",
    "outputId": "fea5c147-4f57-484e-e87c-f724683429af",
    "colab": {
     "base_uri": "https://localhost:8080/",
     "height": 461
    },
    "executionInfo": {
     "status": "ok",
     "timestamp": 1684659106724,
     "user_tz": -540,
     "elapsed": 1038,
     "user": {
      "displayName": "Myeonghak Lee",
      "userId": "01376346143254624391"
     }
    },
    "is_executing": true
   },
   "outputs": [],
   "source": [
    "# 가장 큰 데이터셋에 대해서, ROC 커브 그리기\n",
    "for model_name, model_roc_curves in roc_curves.items():\n",
    "    fpr, tpr = model_roc_curves[-1]  # Select the ROC curve for the largest dataset size\n",
    "    plot_roc_curve(fpr, tpr, label=f\"{model_name} (AUC = {auc_scores[model_name][-1]:.2f})\")\n",
    "plt.legend()\n",
    "plt.show()"
   ]
  },
  {
   "cell_type": "code",
   "execution_count": 34,
   "id": "1208675a",
   "metadata": {
    "id": "1208675a",
    "executionInfo": {
     "status": "ok",
     "timestamp": 1684659106725,
     "user_tz": -540,
     "elapsed": 34,
     "user": {
      "displayName": "Myeonghak Lee",
      "userId": "01376346143254624391"
     }
    }
   },
   "outputs": [],
   "source": []
  },
  {
   "cell_type": "markdown",
   "id": "77cdbbf7-d661-4c35-a5b6-8f55b92e4b50",
   "metadata": {
    "id": "77cdbbf7-d661-4c35-a5b6-8f55b92e4b50"
   },
   "source": [
    "# 실제 예측 값 확인"
   ]
  },
  {
   "cell_type": "code",
   "execution_count": 35,
   "id": "c3431559-1c03-405a-b7a3-ab8b99dfaea2",
   "metadata": {
    "id": "c3431559-1c03-405a-b7a3-ab8b99dfaea2",
    "executionInfo": {
     "status": "ok",
     "timestamp": 1684659106725,
     "user_tz": -540,
     "elapsed": 33,
     "user": {
      "displayName": "Myeonghak Lee",
      "userId": "01376346143254624391"
     }
    }
   },
   "outputs": [],
   "source": [
    "user_id = 20"
   ]
  },
  {
   "cell_type": "code",
   "execution_count": 36,
   "id": "4d277ce6-9358-4090-90eb-72ab227f9953",
   "metadata": {
    "id": "4d277ce6-9358-4090-90eb-72ab227f9953",
    "executionInfo": {
     "status": "ok",
     "timestamp": 1684659106725,
     "user_tz": -540,
     "elapsed": 33,
     "user": {
      "displayName": "Myeonghak Lee",
      "userId": "01376346143254624391"
     }
    }
   },
   "outputs": [],
   "source": [
    "user_data = data[data['user_id'] == user_id]\n",
    "rated_animes = user_data['anime_id'].unique()\n",
    "unrated_animes = item_features[~item_features.index.isin(rated_animes)]"
   ]
  },
  {
   "cell_type": "code",
   "execution_count": 37,
   "id": "f12e579f-9b1a-4a6c-b322-da98876f27a5",
   "metadata": {
    "id": "f12e579f-9b1a-4a6c-b322-da98876f27a5",
    "executionInfo": {
     "status": "ok",
     "timestamp": 1684659106726,
     "user_tz": -540,
     "elapsed": 34,
     "user": {
      "displayName": "Myeonghak Lee",
      "userId": "01376346143254624391"
     }
    }
   },
   "outputs": [],
   "source": [
    "# 유저 정보 붙여주기\n",
    "user_features_df = user_features.loc[user_id]\n",
    "unrated_animes = unrated_animes.assign(**user_features_df)"
   ]
  },
  {
   "cell_type": "code",
   "source": [
    "user_features_df.head()"
   ],
   "metadata": {
    "id": "4Td8s40ijrS-",
    "executionInfo": {
     "status": "ok",
     "timestamp": 1684659946181,
     "user_tz": -540,
     "elapsed": 428,
     "user": {
      "displayName": "Myeonghak Lee",
      "userId": "01376346143254624391"
     }
    },
    "outputId": "f6d3953e-0116-4e3f-c678-13054cfd8aee",
    "colab": {
     "base_uri": "https://localhost:8080/"
    }
   },
   "id": "4Td8s40ijrS-",
   "execution_count": 46,
   "outputs": [
    {
     "output_type": "execute_result",
     "data": {
      "text/plain": [
       "User-AvgRating      9.578947\n",
       "User-NumRatings    19.000000\n",
       "Name: 20, dtype: float64"
      ]
     },
     "metadata": {},
     "execution_count": 46
    }
   ]
  },
  {
   "cell_type": "code",
   "execution_count": 38,
   "id": "c350c38b-fd82-4f70-95e1-61c458fe210f",
   "metadata": {
    "id": "c350c38b-fd82-4f70-95e1-61c458fe210f",
    "outputId": "0326e056-9180-46ed-c31a-ce7a3128424d",
    "colab": {
     "base_uri": "https://localhost:8080/",
     "height": 455
    },
    "executionInfo": {
     "status": "ok",
     "timestamp": 1684659106726,
     "user_tz": -540,
     "elapsed": 34,
     "user": {
      "displayName": "Myeonghak Lee",
      "userId": "01376346143254624391"
     }
    }
   },
   "outputs": [
    {
     "output_type": "execute_result",
     "data": {
      "text/plain": [
       "          Item-NumRatings  chan   ga  movie   ni   no  special  specials  the  \\\n",
       "anime_id                                                                        \n",
       "1                   13449   0.0  0.0    0.0  0.0  0.0      0.0       0.0  0.0   \n",
       "5                    5790   0.0  0.0    0.0  0.0  1.0      0.0       0.0  0.0   \n",
       "6                    9385   0.0  0.0    0.0  0.0  0.0      0.0       0.0  0.0   \n",
       "7                    2169   0.0  0.0    0.0  0.0  0.0      0.0       0.0  0.0   \n",
       "8                     308   0.0  0.0    0.0  0.0  0.0      0.0       0.0  1.0   \n",
       "...                   ...   ...  ...    ...  ...  ...      ...       ...  ...   \n",
       "34324                  11   0.0  0.0    0.0  0.0  0.0      0.0       0.0  0.0   \n",
       "34325                  15   0.0  0.0    0.0  0.0  0.0      0.0       1.0  0.0   \n",
       "34349                   3   0.0  0.0    0.0  0.0  1.0      0.0       0.0  0.0   \n",
       "34367                   4   0.0  0.0    0.0  0.0  0.0      0.0       0.0  0.0   \n",
       "34475                   3   0.0  0.0    0.0  0.0  0.0      0.0       0.0  0.0   \n",
       "\n",
       "           to  ...  Type-Movie  Type-Music  Type-ONA  Type-OVA  Type-Special  \\\n",
       "anime_id       ...                                                             \n",
       "1         0.0  ...         0.0         0.0       0.0       0.0           0.0   \n",
       "5         0.0  ...         1.0         0.0       0.0       0.0           0.0   \n",
       "6         0.0  ...         0.0         0.0       0.0       0.0           0.0   \n",
       "7         0.0  ...         0.0         0.0       0.0       0.0           0.0   \n",
       "8         0.0  ...         0.0         0.0       0.0       0.0           0.0   \n",
       "...       ...  ...         ...         ...       ...       ...           ...   \n",
       "34324     0.0  ...         0.0         0.0       1.0       0.0           0.0   \n",
       "34325     0.0  ...         0.0         0.0       0.0       0.0           1.0   \n",
       "34349     0.0  ...         0.0         0.0       0.0       1.0           0.0   \n",
       "34367     0.0  ...         0.0         0.0       0.0       0.0           1.0   \n",
       "34475     0.0  ...         0.0         0.0       1.0       0.0           0.0   \n",
       "\n",
       "          Type-TV  members  anime_total_rating  User-AvgRating  \\\n",
       "anime_id                                                         \n",
       "1             1.0   486824                8.82        9.578947   \n",
       "5             0.0   137636                8.40        9.578947   \n",
       "6             1.0   283069                8.32        9.578947   \n",
       "7             1.0    64905                7.36        9.578947   \n",
       "8             1.0     9848                7.06        9.578947   \n",
       "...           ...      ...                 ...             ...   \n",
       "34324         0.0      817                5.40        9.578947   \n",
       "34325         0.0     1454                7.05        9.578947   \n",
       "34349         0.0     1885                7.25        9.578947   \n",
       "34367         0.0      582                5.97        9.578947   \n",
       "34475         0.0      313                6.58        9.578947   \n",
       "\n",
       "          User-NumRatings  \n",
       "anime_id                   \n",
       "1                    19.0  \n",
       "5                    19.0  \n",
       "6                    19.0  \n",
       "7                    19.0  \n",
       "8                    19.0  \n",
       "...                   ...  \n",
       "34324                19.0  \n",
       "34325                19.0  \n",
       "34349                19.0  \n",
       "34367                19.0  \n",
       "34475                19.0  \n",
       "\n",
       "[9873 rows x 21 columns]"
      ],
      "text/html": [
       "\n",
       "  <div id=\"df-f31210b0-d578-4dda-87bd-ca51dbcc75bb\">\n",
       "    <div class=\"colab-df-container\">\n",
       "      <div>\n",
       "<style scoped>\n",
       "    .dataframe tbody tr th:only-of-type {\n",
       "        vertical-align: middle;\n",
       "    }\n",
       "\n",
       "    .dataframe tbody tr th {\n",
       "        vertical-align: top;\n",
       "    }\n",
       "\n",
       "    .dataframe thead th {\n",
       "        text-align: right;\n",
       "    }\n",
       "</style>\n",
       "<table border=\"1\" class=\"dataframe\">\n",
       "  <thead>\n",
       "    <tr style=\"text-align: right;\">\n",
       "      <th></th>\n",
       "      <th>Item-NumRatings</th>\n",
       "      <th>chan</th>\n",
       "      <th>ga</th>\n",
       "      <th>movie</th>\n",
       "      <th>ni</th>\n",
       "      <th>no</th>\n",
       "      <th>special</th>\n",
       "      <th>specials</th>\n",
       "      <th>the</th>\n",
       "      <th>to</th>\n",
       "      <th>...</th>\n",
       "      <th>Type-Movie</th>\n",
       "      <th>Type-Music</th>\n",
       "      <th>Type-ONA</th>\n",
       "      <th>Type-OVA</th>\n",
       "      <th>Type-Special</th>\n",
       "      <th>Type-TV</th>\n",
       "      <th>members</th>\n",
       "      <th>anime_total_rating</th>\n",
       "      <th>User-AvgRating</th>\n",
       "      <th>User-NumRatings</th>\n",
       "    </tr>\n",
       "    <tr>\n",
       "      <th>anime_id</th>\n",
       "      <th></th>\n",
       "      <th></th>\n",
       "      <th></th>\n",
       "      <th></th>\n",
       "      <th></th>\n",
       "      <th></th>\n",
       "      <th></th>\n",
       "      <th></th>\n",
       "      <th></th>\n",
       "      <th></th>\n",
       "      <th></th>\n",
       "      <th></th>\n",
       "      <th></th>\n",
       "      <th></th>\n",
       "      <th></th>\n",
       "      <th></th>\n",
       "      <th></th>\n",
       "      <th></th>\n",
       "      <th></th>\n",
       "      <th></th>\n",
       "      <th></th>\n",
       "    </tr>\n",
       "  </thead>\n",
       "  <tbody>\n",
       "    <tr>\n",
       "      <th>1</th>\n",
       "      <td>13449</td>\n",
       "      <td>0.0</td>\n",
       "      <td>0.0</td>\n",
       "      <td>0.0</td>\n",
       "      <td>0.0</td>\n",
       "      <td>0.0</td>\n",
       "      <td>0.0</td>\n",
       "      <td>0.0</td>\n",
       "      <td>0.0</td>\n",
       "      <td>0.0</td>\n",
       "      <td>...</td>\n",
       "      <td>0.0</td>\n",
       "      <td>0.0</td>\n",
       "      <td>0.0</td>\n",
       "      <td>0.0</td>\n",
       "      <td>0.0</td>\n",
       "      <td>1.0</td>\n",
       "      <td>486824</td>\n",
       "      <td>8.82</td>\n",
       "      <td>9.578947</td>\n",
       "      <td>19.0</td>\n",
       "    </tr>\n",
       "    <tr>\n",
       "      <th>5</th>\n",
       "      <td>5790</td>\n",
       "      <td>0.0</td>\n",
       "      <td>0.0</td>\n",
       "      <td>0.0</td>\n",
       "      <td>0.0</td>\n",
       "      <td>1.0</td>\n",
       "      <td>0.0</td>\n",
       "      <td>0.0</td>\n",
       "      <td>0.0</td>\n",
       "      <td>0.0</td>\n",
       "      <td>...</td>\n",
       "      <td>1.0</td>\n",
       "      <td>0.0</td>\n",
       "      <td>0.0</td>\n",
       "      <td>0.0</td>\n",
       "      <td>0.0</td>\n",
       "      <td>0.0</td>\n",
       "      <td>137636</td>\n",
       "      <td>8.40</td>\n",
       "      <td>9.578947</td>\n",
       "      <td>19.0</td>\n",
       "    </tr>\n",
       "    <tr>\n",
       "      <th>6</th>\n",
       "      <td>9385</td>\n",
       "      <td>0.0</td>\n",
       "      <td>0.0</td>\n",
       "      <td>0.0</td>\n",
       "      <td>0.0</td>\n",
       "      <td>0.0</td>\n",
       "      <td>0.0</td>\n",
       "      <td>0.0</td>\n",
       "      <td>0.0</td>\n",
       "      <td>0.0</td>\n",
       "      <td>...</td>\n",
       "      <td>0.0</td>\n",
       "      <td>0.0</td>\n",
       "      <td>0.0</td>\n",
       "      <td>0.0</td>\n",
       "      <td>0.0</td>\n",
       "      <td>1.0</td>\n",
       "      <td>283069</td>\n",
       "      <td>8.32</td>\n",
       "      <td>9.578947</td>\n",
       "      <td>19.0</td>\n",
       "    </tr>\n",
       "    <tr>\n",
       "      <th>7</th>\n",
       "      <td>2169</td>\n",
       "      <td>0.0</td>\n",
       "      <td>0.0</td>\n",
       "      <td>0.0</td>\n",
       "      <td>0.0</td>\n",
       "      <td>0.0</td>\n",
       "      <td>0.0</td>\n",
       "      <td>0.0</td>\n",
       "      <td>0.0</td>\n",
       "      <td>0.0</td>\n",
       "      <td>...</td>\n",
       "      <td>0.0</td>\n",
       "      <td>0.0</td>\n",
       "      <td>0.0</td>\n",
       "      <td>0.0</td>\n",
       "      <td>0.0</td>\n",
       "      <td>1.0</td>\n",
       "      <td>64905</td>\n",
       "      <td>7.36</td>\n",
       "      <td>9.578947</td>\n",
       "      <td>19.0</td>\n",
       "    </tr>\n",
       "    <tr>\n",
       "      <th>8</th>\n",
       "      <td>308</td>\n",
       "      <td>0.0</td>\n",
       "      <td>0.0</td>\n",
       "      <td>0.0</td>\n",
       "      <td>0.0</td>\n",
       "      <td>0.0</td>\n",
       "      <td>0.0</td>\n",
       "      <td>0.0</td>\n",
       "      <td>1.0</td>\n",
       "      <td>0.0</td>\n",
       "      <td>...</td>\n",
       "      <td>0.0</td>\n",
       "      <td>0.0</td>\n",
       "      <td>0.0</td>\n",
       "      <td>0.0</td>\n",
       "      <td>0.0</td>\n",
       "      <td>1.0</td>\n",
       "      <td>9848</td>\n",
       "      <td>7.06</td>\n",
       "      <td>9.578947</td>\n",
       "      <td>19.0</td>\n",
       "    </tr>\n",
       "    <tr>\n",
       "      <th>...</th>\n",
       "      <td>...</td>\n",
       "      <td>...</td>\n",
       "      <td>...</td>\n",
       "      <td>...</td>\n",
       "      <td>...</td>\n",
       "      <td>...</td>\n",
       "      <td>...</td>\n",
       "      <td>...</td>\n",
       "      <td>...</td>\n",
       "      <td>...</td>\n",
       "      <td>...</td>\n",
       "      <td>...</td>\n",
       "      <td>...</td>\n",
       "      <td>...</td>\n",
       "      <td>...</td>\n",
       "      <td>...</td>\n",
       "      <td>...</td>\n",
       "      <td>...</td>\n",
       "      <td>...</td>\n",
       "      <td>...</td>\n",
       "      <td>...</td>\n",
       "    </tr>\n",
       "    <tr>\n",
       "      <th>34324</th>\n",
       "      <td>11</td>\n",
       "      <td>0.0</td>\n",
       "      <td>0.0</td>\n",
       "      <td>0.0</td>\n",
       "      <td>0.0</td>\n",
       "      <td>0.0</td>\n",
       "      <td>0.0</td>\n",
       "      <td>0.0</td>\n",
       "      <td>0.0</td>\n",
       "      <td>0.0</td>\n",
       "      <td>...</td>\n",
       "      <td>0.0</td>\n",
       "      <td>0.0</td>\n",
       "      <td>1.0</td>\n",
       "      <td>0.0</td>\n",
       "      <td>0.0</td>\n",
       "      <td>0.0</td>\n",
       "      <td>817</td>\n",
       "      <td>5.40</td>\n",
       "      <td>9.578947</td>\n",
       "      <td>19.0</td>\n",
       "    </tr>\n",
       "    <tr>\n",
       "      <th>34325</th>\n",
       "      <td>15</td>\n",
       "      <td>0.0</td>\n",
       "      <td>0.0</td>\n",
       "      <td>0.0</td>\n",
       "      <td>0.0</td>\n",
       "      <td>0.0</td>\n",
       "      <td>0.0</td>\n",
       "      <td>1.0</td>\n",
       "      <td>0.0</td>\n",
       "      <td>0.0</td>\n",
       "      <td>...</td>\n",
       "      <td>0.0</td>\n",
       "      <td>0.0</td>\n",
       "      <td>0.0</td>\n",
       "      <td>0.0</td>\n",
       "      <td>1.0</td>\n",
       "      <td>0.0</td>\n",
       "      <td>1454</td>\n",
       "      <td>7.05</td>\n",
       "      <td>9.578947</td>\n",
       "      <td>19.0</td>\n",
       "    </tr>\n",
       "    <tr>\n",
       "      <th>34349</th>\n",
       "      <td>3</td>\n",
       "      <td>0.0</td>\n",
       "      <td>0.0</td>\n",
       "      <td>0.0</td>\n",
       "      <td>0.0</td>\n",
       "      <td>1.0</td>\n",
       "      <td>0.0</td>\n",
       "      <td>0.0</td>\n",
       "      <td>0.0</td>\n",
       "      <td>0.0</td>\n",
       "      <td>...</td>\n",
       "      <td>0.0</td>\n",
       "      <td>0.0</td>\n",
       "      <td>0.0</td>\n",
       "      <td>1.0</td>\n",
       "      <td>0.0</td>\n",
       "      <td>0.0</td>\n",
       "      <td>1885</td>\n",
       "      <td>7.25</td>\n",
       "      <td>9.578947</td>\n",
       "      <td>19.0</td>\n",
       "    </tr>\n",
       "    <tr>\n",
       "      <th>34367</th>\n",
       "      <td>4</td>\n",
       "      <td>0.0</td>\n",
       "      <td>0.0</td>\n",
       "      <td>0.0</td>\n",
       "      <td>0.0</td>\n",
       "      <td>0.0</td>\n",
       "      <td>0.0</td>\n",
       "      <td>0.0</td>\n",
       "      <td>0.0</td>\n",
       "      <td>0.0</td>\n",
       "      <td>...</td>\n",
       "      <td>0.0</td>\n",
       "      <td>0.0</td>\n",
       "      <td>0.0</td>\n",
       "      <td>0.0</td>\n",
       "      <td>1.0</td>\n",
       "      <td>0.0</td>\n",
       "      <td>582</td>\n",
       "      <td>5.97</td>\n",
       "      <td>9.578947</td>\n",
       "      <td>19.0</td>\n",
       "    </tr>\n",
       "    <tr>\n",
       "      <th>34475</th>\n",
       "      <td>3</td>\n",
       "      <td>0.0</td>\n",
       "      <td>0.0</td>\n",
       "      <td>0.0</td>\n",
       "      <td>0.0</td>\n",
       "      <td>0.0</td>\n",
       "      <td>0.0</td>\n",
       "      <td>0.0</td>\n",
       "      <td>0.0</td>\n",
       "      <td>0.0</td>\n",
       "      <td>...</td>\n",
       "      <td>0.0</td>\n",
       "      <td>0.0</td>\n",
       "      <td>1.0</td>\n",
       "      <td>0.0</td>\n",
       "      <td>0.0</td>\n",
       "      <td>0.0</td>\n",
       "      <td>313</td>\n",
       "      <td>6.58</td>\n",
       "      <td>9.578947</td>\n",
       "      <td>19.0</td>\n",
       "    </tr>\n",
       "  </tbody>\n",
       "</table>\n",
       "<p>9873 rows × 21 columns</p>\n",
       "</div>\n",
       "      <button class=\"colab-df-convert\" onclick=\"convertToInteractive('df-f31210b0-d578-4dda-87bd-ca51dbcc75bb')\"\n",
       "              title=\"Convert this dataframe to an interactive table.\"\n",
       "              style=\"display:none;\">\n",
       "        \n",
       "  <svg xmlns=\"http://www.w3.org/2000/svg\" height=\"24px\"viewBox=\"0 0 24 24\"\n",
       "       width=\"24px\">\n",
       "    <path d=\"M0 0h24v24H0V0z\" fill=\"none\"/>\n",
       "    <path d=\"M18.56 5.44l.94 2.06.94-2.06 2.06-.94-2.06-.94-.94-2.06-.94 2.06-2.06.94zm-11 1L8.5 8.5l.94-2.06 2.06-.94-2.06-.94L8.5 2.5l-.94 2.06-2.06.94zm10 10l.94 2.06.94-2.06 2.06-.94-2.06-.94-.94-2.06-.94 2.06-2.06.94z\"/><path d=\"M17.41 7.96l-1.37-1.37c-.4-.4-.92-.59-1.43-.59-.52 0-1.04.2-1.43.59L10.3 9.45l-7.72 7.72c-.78.78-.78 2.05 0 2.83L4 21.41c.39.39.9.59 1.41.59.51 0 1.02-.2 1.41-.59l7.78-7.78 2.81-2.81c.8-.78.8-2.07 0-2.86zM5.41 20L4 18.59l7.72-7.72 1.47 1.35L5.41 20z\"/>\n",
       "  </svg>\n",
       "      </button>\n",
       "      \n",
       "  <style>\n",
       "    .colab-df-container {\n",
       "      display:flex;\n",
       "      flex-wrap:wrap;\n",
       "      gap: 12px;\n",
       "    }\n",
       "\n",
       "    .colab-df-convert {\n",
       "      background-color: #E8F0FE;\n",
       "      border: none;\n",
       "      border-radius: 50%;\n",
       "      cursor: pointer;\n",
       "      display: none;\n",
       "      fill: #1967D2;\n",
       "      height: 32px;\n",
       "      padding: 0 0 0 0;\n",
       "      width: 32px;\n",
       "    }\n",
       "\n",
       "    .colab-df-convert:hover {\n",
       "      background-color: #E2EBFA;\n",
       "      box-shadow: 0px 1px 2px rgba(60, 64, 67, 0.3), 0px 1px 3px 1px rgba(60, 64, 67, 0.15);\n",
       "      fill: #174EA6;\n",
       "    }\n",
       "\n",
       "    [theme=dark] .colab-df-convert {\n",
       "      background-color: #3B4455;\n",
       "      fill: #D2E3FC;\n",
       "    }\n",
       "\n",
       "    [theme=dark] .colab-df-convert:hover {\n",
       "      background-color: #434B5C;\n",
       "      box-shadow: 0px 1px 3px 1px rgba(0, 0, 0, 0.15);\n",
       "      filter: drop-shadow(0px 1px 2px rgba(0, 0, 0, 0.3));\n",
       "      fill: #FFFFFF;\n",
       "    }\n",
       "  </style>\n",
       "\n",
       "      <script>\n",
       "        const buttonEl =\n",
       "          document.querySelector('#df-f31210b0-d578-4dda-87bd-ca51dbcc75bb button.colab-df-convert');\n",
       "        buttonEl.style.display =\n",
       "          google.colab.kernel.accessAllowed ? 'block' : 'none';\n",
       "\n",
       "        async function convertToInteractive(key) {\n",
       "          const element = document.querySelector('#df-f31210b0-d578-4dda-87bd-ca51dbcc75bb');\n",
       "          const dataTable =\n",
       "            await google.colab.kernel.invokeFunction('convertToInteractive',\n",
       "                                                     [key], {});\n",
       "          if (!dataTable) return;\n",
       "\n",
       "          const docLinkHtml = 'Like what you see? Visit the ' +\n",
       "            '<a target=\"_blank\" href=https://colab.research.google.com/notebooks/data_table.ipynb>data table notebook</a>'\n",
       "            + ' to learn more about interactive tables.';\n",
       "          element.innerHTML = '';\n",
       "          dataTable['output_type'] = 'display_data';\n",
       "          await google.colab.output.renderOutput(dataTable, element);\n",
       "          const docLink = document.createElement('div');\n",
       "          docLink.innerHTML = docLinkHtml;\n",
       "          element.appendChild(docLink);\n",
       "        }\n",
       "      </script>\n",
       "    </div>\n",
       "  </div>\n",
       "  "
      ]
     },
     "metadata": {},
     "execution_count": 38
    }
   ],
   "source": [
    "unrated_animes.assign(**user_features_df)"
   ]
  },
  {
   "cell_type": "code",
   "execution_count": 38,
   "id": "c53ae235-ce0f-4bd4-8039-2b31a4ac5623",
   "metadata": {
    "id": "c53ae235-ce0f-4bd4-8039-2b31a4ac5623",
    "executionInfo": {
     "status": "ok",
     "timestamp": 1684659106726,
     "user_tz": -540,
     "elapsed": 32,
     "user": {
      "displayName": "Myeonghak Lee",
      "userId": "01376346143254624391"
     }
    }
   },
   "outputs": [],
   "source": []
  },
  {
   "cell_type": "code",
   "execution_count": 39,
   "id": "ad4f3452-a28c-45d5-a26b-cd3cd8c1645a",
   "metadata": {
    "id": "ad4f3452-a28c-45d5-a26b-cd3cd8c1645a",
    "executionInfo": {
     "status": "ok",
     "timestamp": 1684659106726,
     "user_tz": -540,
     "elapsed": 32,
     "user": {
      "displayName": "Myeonghak Lee",
      "userId": "01376346143254624391"
     }
    }
   },
   "outputs": [],
   "source": [
    "def recommend_top_n(user_id, model, n=5):\n",
    "    # 아직 유저가 평가하지 않은 애니 가져오기\n",
    "    user_data = data[data['user_id'] == user_id]\n",
    "    rated_animes = user_data['anime_id'].unique()\n",
    "    unrated_animes = item_features[~item_features.index.isin(rated_animes)]\n",
    "    \n",
    "    # 유저 정보 붙여주기\n",
    "    user_features_df = user_features.loc[user_id]\n",
    "    unrated_animes = unrated_animes.assign(**user_features_df)\n",
    "\n",
    "    # 해당 유저 대상으로 모델 예측\n",
    "    unrated_animes['predicted_rating'] = model.predict_proba(unrated_animes)[:, 1]\n",
    "\n",
    "    # 상위 N개의 평점 예측\n",
    "    top_n_animes = unrated_animes.sort_values('predicted_rating', ascending=False).head(n)\n",
    "\n",
    "    return top_n_animes"
   ]
  },
  {
   "cell_type": "code",
   "execution_count": 40,
   "id": "56997ced-49f9-445d-bfc0-1bdd7407e7e9",
   "metadata": {
    "id": "56997ced-49f9-445d-bfc0-1bdd7407e7e9",
    "outputId": "fb9c7183-44a1-4463-ce7a-5370f1e2d638",
    "colab": {
     "base_uri": "https://localhost:8080/",
     "height": 224
    },
    "executionInfo": {
     "status": "ok",
     "timestamp": 1684659106726,
     "user_tz": -540,
     "elapsed": 32,
     "user": {
      "displayName": "Myeonghak Lee",
      "userId": "01376346143254624391"
     }
    }
   },
   "outputs": [
    {
     "output_type": "stream",
     "name": "stdout",
     "text": [
      "Top 5 anime recommendations for user 26:\n"
     ]
    },
    {
     "output_type": "display_data",
     "data": {
      "text/plain": [
       "      predicted_rating  anime_id     type  anime_total_rating  members  \\\n",
       "5279          0.376144     31530  Special                6.50     2738   \n",
       "6276          0.376144     22031  Special                6.19      370   \n",
       "5533          0.302538     31750      OVA                6.43      485   \n",
       "3313          0.295702     33491      OVA                7.03     2480   \n",
       "7030          0.295702      5647      OVA                5.78      526   \n",
       "\n",
       "                                                   name  \\\n",
       "5279                           Classroom☆Crisis Special   \n",
       "6276                                Samurai Gun Special   \n",
       "5533  TV-ban Pokemon Special Masara Town-hen Soushuuhen   \n",
       "3313                               Shounen Maid Special   \n",
       "7030           Doukyuusei 2 (OVA) Special: Sotsugyousei   \n",
       "\n",
       "                                         genre  \n",
       "5279                            School, Sci-Fi  \n",
       "6276                Action, Historical, Seinen  \n",
       "5533  Action, Adventure, Comedy, Fantasy, Kids  \n",
       "3313             Comedy, Shoujo, Slice of Life  \n",
       "7030                      Ecchi, Harem, School  "
      ],
      "text/html": [
       "\n",
       "  <div id=\"df-a478b862-c8df-45dc-ae7c-ada852e1943f\">\n",
       "    <div class=\"colab-df-container\">\n",
       "      <div>\n",
       "<style scoped>\n",
       "    .dataframe tbody tr th:only-of-type {\n",
       "        vertical-align: middle;\n",
       "    }\n",
       "\n",
       "    .dataframe tbody tr th {\n",
       "        vertical-align: top;\n",
       "    }\n",
       "\n",
       "    .dataframe thead th {\n",
       "        text-align: right;\n",
       "    }\n",
       "</style>\n",
       "<table border=\"1\" class=\"dataframe\">\n",
       "  <thead>\n",
       "    <tr style=\"text-align: right;\">\n",
       "      <th></th>\n",
       "      <th>predicted_rating</th>\n",
       "      <th>anime_id</th>\n",
       "      <th>type</th>\n",
       "      <th>anime_total_rating</th>\n",
       "      <th>members</th>\n",
       "      <th>name</th>\n",
       "      <th>genre</th>\n",
       "    </tr>\n",
       "  </thead>\n",
       "  <tbody>\n",
       "    <tr>\n",
       "      <th>5279</th>\n",
       "      <td>0.376144</td>\n",
       "      <td>31530</td>\n",
       "      <td>Special</td>\n",
       "      <td>6.50</td>\n",
       "      <td>2738</td>\n",
       "      <td>Classroom☆Crisis Special</td>\n",
       "      <td>School, Sci-Fi</td>\n",
       "    </tr>\n",
       "    <tr>\n",
       "      <th>6276</th>\n",
       "      <td>0.376144</td>\n",
       "      <td>22031</td>\n",
       "      <td>Special</td>\n",
       "      <td>6.19</td>\n",
       "      <td>370</td>\n",
       "      <td>Samurai Gun Special</td>\n",
       "      <td>Action, Historical, Seinen</td>\n",
       "    </tr>\n",
       "    <tr>\n",
       "      <th>5533</th>\n",
       "      <td>0.302538</td>\n",
       "      <td>31750</td>\n",
       "      <td>OVA</td>\n",
       "      <td>6.43</td>\n",
       "      <td>485</td>\n",
       "      <td>TV-ban Pokemon Special Masara Town-hen Soushuuhen</td>\n",
       "      <td>Action, Adventure, Comedy, Fantasy, Kids</td>\n",
       "    </tr>\n",
       "    <tr>\n",
       "      <th>3313</th>\n",
       "      <td>0.295702</td>\n",
       "      <td>33491</td>\n",
       "      <td>OVA</td>\n",
       "      <td>7.03</td>\n",
       "      <td>2480</td>\n",
       "      <td>Shounen Maid Special</td>\n",
       "      <td>Comedy, Shoujo, Slice of Life</td>\n",
       "    </tr>\n",
       "    <tr>\n",
       "      <th>7030</th>\n",
       "      <td>0.295702</td>\n",
       "      <td>5647</td>\n",
       "      <td>OVA</td>\n",
       "      <td>5.78</td>\n",
       "      <td>526</td>\n",
       "      <td>Doukyuusei 2 (OVA) Special: Sotsugyousei</td>\n",
       "      <td>Ecchi, Harem, School</td>\n",
       "    </tr>\n",
       "  </tbody>\n",
       "</table>\n",
       "</div>\n",
       "      <button class=\"colab-df-convert\" onclick=\"convertToInteractive('df-a478b862-c8df-45dc-ae7c-ada852e1943f')\"\n",
       "              title=\"Convert this dataframe to an interactive table.\"\n",
       "              style=\"display:none;\">\n",
       "        \n",
       "  <svg xmlns=\"http://www.w3.org/2000/svg\" height=\"24px\"viewBox=\"0 0 24 24\"\n",
       "       width=\"24px\">\n",
       "    <path d=\"M0 0h24v24H0V0z\" fill=\"none\"/>\n",
       "    <path d=\"M18.56 5.44l.94 2.06.94-2.06 2.06-.94-2.06-.94-.94-2.06-.94 2.06-2.06.94zm-11 1L8.5 8.5l.94-2.06 2.06-.94-2.06-.94L8.5 2.5l-.94 2.06-2.06.94zm10 10l.94 2.06.94-2.06 2.06-.94-2.06-.94-.94-2.06-.94 2.06-2.06.94z\"/><path d=\"M17.41 7.96l-1.37-1.37c-.4-.4-.92-.59-1.43-.59-.52 0-1.04.2-1.43.59L10.3 9.45l-7.72 7.72c-.78.78-.78 2.05 0 2.83L4 21.41c.39.39.9.59 1.41.59.51 0 1.02-.2 1.41-.59l7.78-7.78 2.81-2.81c.8-.78.8-2.07 0-2.86zM5.41 20L4 18.59l7.72-7.72 1.47 1.35L5.41 20z\"/>\n",
       "  </svg>\n",
       "      </button>\n",
       "      \n",
       "  <style>\n",
       "    .colab-df-container {\n",
       "      display:flex;\n",
       "      flex-wrap:wrap;\n",
       "      gap: 12px;\n",
       "    }\n",
       "\n",
       "    .colab-df-convert {\n",
       "      background-color: #E8F0FE;\n",
       "      border: none;\n",
       "      border-radius: 50%;\n",
       "      cursor: pointer;\n",
       "      display: none;\n",
       "      fill: #1967D2;\n",
       "      height: 32px;\n",
       "      padding: 0 0 0 0;\n",
       "      width: 32px;\n",
       "    }\n",
       "\n",
       "    .colab-df-convert:hover {\n",
       "      background-color: #E2EBFA;\n",
       "      box-shadow: 0px 1px 2px rgba(60, 64, 67, 0.3), 0px 1px 3px 1px rgba(60, 64, 67, 0.15);\n",
       "      fill: #174EA6;\n",
       "    }\n",
       "\n",
       "    [theme=dark] .colab-df-convert {\n",
       "      background-color: #3B4455;\n",
       "      fill: #D2E3FC;\n",
       "    }\n",
       "\n",
       "    [theme=dark] .colab-df-convert:hover {\n",
       "      background-color: #434B5C;\n",
       "      box-shadow: 0px 1px 3px 1px rgba(0, 0, 0, 0.15);\n",
       "      filter: drop-shadow(0px 1px 2px rgba(0, 0, 0, 0.3));\n",
       "      fill: #FFFFFF;\n",
       "    }\n",
       "  </style>\n",
       "\n",
       "      <script>\n",
       "        const buttonEl =\n",
       "          document.querySelector('#df-a478b862-c8df-45dc-ae7c-ada852e1943f button.colab-df-convert');\n",
       "        buttonEl.style.display =\n",
       "          google.colab.kernel.accessAllowed ? 'block' : 'none';\n",
       "\n",
       "        async function convertToInteractive(key) {\n",
       "          const element = document.querySelector('#df-a478b862-c8df-45dc-ae7c-ada852e1943f');\n",
       "          const dataTable =\n",
       "            await google.colab.kernel.invokeFunction('convertToInteractive',\n",
       "                                                     [key], {});\n",
       "          if (!dataTable) return;\n",
       "\n",
       "          const docLinkHtml = 'Like what you see? Visit the ' +\n",
       "            '<a target=\"_blank\" href=https://colab.research.google.com/notebooks/data_table.ipynb>data table notebook</a>'\n",
       "            + ' to learn more about interactive tables.';\n",
       "          element.innerHTML = '';\n",
       "          dataTable['output_type'] = 'display_data';\n",
       "          await google.colab.output.renderOutput(dataTable, element);\n",
       "          const docLink = document.createElement('div');\n",
       "          docLink.innerHTML = docLinkHtml;\n",
       "          element.appendChild(docLink);\n",
       "        }\n",
       "      </script>\n",
       "    </div>\n",
       "  </div>\n",
       "  "
      ]
     },
     "metadata": {}
    }
   ],
   "source": [
    "# 특정 유저에 대한 상위 n개 예측 생성\n",
    "user_id = 26\n",
    "top_n = recommend_top_n(user_id, models['LGBM'], n=5)[['predicted_rating']]\n",
    "\n",
    "# top n개 예측의 상세 정보\n",
    "top_n_details = top_n.merge(animes, how='left', left_index=True, right_on='anime_id')\n",
    "\n",
    "print(f'Top 5 anime recommendations for user {user_id}:')\n",
    "display(top_n_details)"
   ]
  },
  {
   "cell_type": "code",
   "execution_count": 40,
   "id": "c8c3e363-5c81-45c2-ad5b-6b82a5591a25",
   "metadata": {
    "id": "c8c3e363-5c81-45c2-ad5b-6b82a5591a25",
    "executionInfo": {
     "status": "ok",
     "timestamp": 1684659106726,
     "user_tz": -540,
     "elapsed": 29,
     "user": {
      "displayName": "Myeonghak Lee",
      "userId": "01376346143254624391"
     }
    }
   },
   "outputs": [],
   "source": []
  },
  {
   "cell_type": "code",
   "execution_count": 41,
   "id": "301225f0-1125-4662-a3dd-f30bb27807a1",
   "metadata": {
    "id": "301225f0-1125-4662-a3dd-f30bb27807a1",
    "executionInfo": {
     "status": "ok",
     "timestamp": 1684659106726,
     "user_tz": -540,
     "elapsed": 29,
     "user": {
      "displayName": "Myeonghak Lee",
      "userId": "01376346143254624391"
     }
    }
   },
   "outputs": [],
   "source": [
    "# 좋은 평점을 준 애니 검색\n",
    "user_ratings = ratings[ratings['user_id'] == user_id]\n",
    "well_rated_animes = user_ratings[user_ratings['rating'] >= user_ratings['rating'].mean()]\n",
    "\n",
    "# 상세 정보 조회\n",
    "well_rated_details = animes[animes['anime_id'].isin(well_rated_animes['anime_id'])]\n",
    "\n",
    "# 평점 정보를 포함한 좋은 평점 정보 출력\n",
    "well_rated_details = well_rated_details.merge(well_rated_animes[['anime_id', 'rating']], on='anime_id', how='inner')\n"
   ]
  },
  {
   "cell_type": "code",
   "execution_count": 42,
   "id": "5c00992d-27b5-4ed8-b1b4-14f1d90b735a",
   "metadata": {
    "ExecuteTime": {
     "end_time": "2023-05-14T09:47:06.745863Z",
     "start_time": "2023-05-14T09:47:06.689851Z"
    },
    "id": "5c00992d-27b5-4ed8-b1b4-14f1d90b735a",
    "outputId": "6dba5f5d-02bf-4a31-fb1d-54461e92c40e",
    "colab": {
     "base_uri": "https://localhost:8080/",
     "height": 147
    },
    "executionInfo": {
     "status": "ok",
     "timestamp": 1684659106727,
     "user_tz": -540,
     "elapsed": 29,
     "user": {
      "displayName": "Myeonghak Lee",
      "userId": "01376346143254624391"
     }
    }
   },
   "outputs": [
    {
     "output_type": "stream",
     "name": "stdout",
     "text": [
      "\n",
      "Well-rated animes by user 26:\n"
     ]
    },
    {
     "output_type": "display_data",
     "data": {
      "text/plain": [
       "   anime_id type  anime_total_rating  members                      name  \\\n",
       "0      8525   TV                7.95   284846  Kami nomi zo Shiru Sekai   \n",
       "1     10793   TV                7.81   460959              Guilty Crown   \n",
       "\n",
       "                                           genre  rating  \n",
       "0  Comedy, Harem, Romance, Shounen, Supernatural      10  \n",
       "1             Action, Drama, Sci-Fi, Super Power      10  "
      ],
      "text/html": [
       "\n",
       "  <div id=\"df-b49ead53-a807-4250-9d46-c92a1da32471\">\n",
       "    <div class=\"colab-df-container\">\n",
       "      <div>\n",
       "<style scoped>\n",
       "    .dataframe tbody tr th:only-of-type {\n",
       "        vertical-align: middle;\n",
       "    }\n",
       "\n",
       "    .dataframe tbody tr th {\n",
       "        vertical-align: top;\n",
       "    }\n",
       "\n",
       "    .dataframe thead th {\n",
       "        text-align: right;\n",
       "    }\n",
       "</style>\n",
       "<table border=\"1\" class=\"dataframe\">\n",
       "  <thead>\n",
       "    <tr style=\"text-align: right;\">\n",
       "      <th></th>\n",
       "      <th>anime_id</th>\n",
       "      <th>type</th>\n",
       "      <th>anime_total_rating</th>\n",
       "      <th>members</th>\n",
       "      <th>name</th>\n",
       "      <th>genre</th>\n",
       "      <th>rating</th>\n",
       "    </tr>\n",
       "  </thead>\n",
       "  <tbody>\n",
       "    <tr>\n",
       "      <th>0</th>\n",
       "      <td>8525</td>\n",
       "      <td>TV</td>\n",
       "      <td>7.95</td>\n",
       "      <td>284846</td>\n",
       "      <td>Kami nomi zo Shiru Sekai</td>\n",
       "      <td>Comedy, Harem, Romance, Shounen, Supernatural</td>\n",
       "      <td>10</td>\n",
       "    </tr>\n",
       "    <tr>\n",
       "      <th>1</th>\n",
       "      <td>10793</td>\n",
       "      <td>TV</td>\n",
       "      <td>7.81</td>\n",
       "      <td>460959</td>\n",
       "      <td>Guilty Crown</td>\n",
       "      <td>Action, Drama, Sci-Fi, Super Power</td>\n",
       "      <td>10</td>\n",
       "    </tr>\n",
       "  </tbody>\n",
       "</table>\n",
       "</div>\n",
       "      <button class=\"colab-df-convert\" onclick=\"convertToInteractive('df-b49ead53-a807-4250-9d46-c92a1da32471')\"\n",
       "              title=\"Convert this dataframe to an interactive table.\"\n",
       "              style=\"display:none;\">\n",
       "        \n",
       "  <svg xmlns=\"http://www.w3.org/2000/svg\" height=\"24px\"viewBox=\"0 0 24 24\"\n",
       "       width=\"24px\">\n",
       "    <path d=\"M0 0h24v24H0V0z\" fill=\"none\"/>\n",
       "    <path d=\"M18.56 5.44l.94 2.06.94-2.06 2.06-.94-2.06-.94-.94-2.06-.94 2.06-2.06.94zm-11 1L8.5 8.5l.94-2.06 2.06-.94-2.06-.94L8.5 2.5l-.94 2.06-2.06.94zm10 10l.94 2.06.94-2.06 2.06-.94-2.06-.94-.94-2.06-.94 2.06-2.06.94z\"/><path d=\"M17.41 7.96l-1.37-1.37c-.4-.4-.92-.59-1.43-.59-.52 0-1.04.2-1.43.59L10.3 9.45l-7.72 7.72c-.78.78-.78 2.05 0 2.83L4 21.41c.39.39.9.59 1.41.59.51 0 1.02-.2 1.41-.59l7.78-7.78 2.81-2.81c.8-.78.8-2.07 0-2.86zM5.41 20L4 18.59l7.72-7.72 1.47 1.35L5.41 20z\"/>\n",
       "  </svg>\n",
       "      </button>\n",
       "      \n",
       "  <style>\n",
       "    .colab-df-container {\n",
       "      display:flex;\n",
       "      flex-wrap:wrap;\n",
       "      gap: 12px;\n",
       "    }\n",
       "\n",
       "    .colab-df-convert {\n",
       "      background-color: #E8F0FE;\n",
       "      border: none;\n",
       "      border-radius: 50%;\n",
       "      cursor: pointer;\n",
       "      display: none;\n",
       "      fill: #1967D2;\n",
       "      height: 32px;\n",
       "      padding: 0 0 0 0;\n",
       "      width: 32px;\n",
       "    }\n",
       "\n",
       "    .colab-df-convert:hover {\n",
       "      background-color: #E2EBFA;\n",
       "      box-shadow: 0px 1px 2px rgba(60, 64, 67, 0.3), 0px 1px 3px 1px rgba(60, 64, 67, 0.15);\n",
       "      fill: #174EA6;\n",
       "    }\n",
       "\n",
       "    [theme=dark] .colab-df-convert {\n",
       "      background-color: #3B4455;\n",
       "      fill: #D2E3FC;\n",
       "    }\n",
       "\n",
       "    [theme=dark] .colab-df-convert:hover {\n",
       "      background-color: #434B5C;\n",
       "      box-shadow: 0px 1px 3px 1px rgba(0, 0, 0, 0.15);\n",
       "      filter: drop-shadow(0px 1px 2px rgba(0, 0, 0, 0.3));\n",
       "      fill: #FFFFFF;\n",
       "    }\n",
       "  </style>\n",
       "\n",
       "      <script>\n",
       "        const buttonEl =\n",
       "          document.querySelector('#df-b49ead53-a807-4250-9d46-c92a1da32471 button.colab-df-convert');\n",
       "        buttonEl.style.display =\n",
       "          google.colab.kernel.accessAllowed ? 'block' : 'none';\n",
       "\n",
       "        async function convertToInteractive(key) {\n",
       "          const element = document.querySelector('#df-b49ead53-a807-4250-9d46-c92a1da32471');\n",
       "          const dataTable =\n",
       "            await google.colab.kernel.invokeFunction('convertToInteractive',\n",
       "                                                     [key], {});\n",
       "          if (!dataTable) return;\n",
       "\n",
       "          const docLinkHtml = 'Like what you see? Visit the ' +\n",
       "            '<a target=\"_blank\" href=https://colab.research.google.com/notebooks/data_table.ipynb>data table notebook</a>'\n",
       "            + ' to learn more about interactive tables.';\n",
       "          element.innerHTML = '';\n",
       "          dataTable['output_type'] = 'display_data';\n",
       "          await google.colab.output.renderOutput(dataTable, element);\n",
       "          const docLink = document.createElement('div');\n",
       "          docLink.innerHTML = docLinkHtml;\n",
       "          element.appendChild(docLink);\n",
       "        }\n",
       "      </script>\n",
       "    </div>\n",
       "  </div>\n",
       "  "
      ]
     },
     "metadata": {}
    }
   ],
   "source": [
    "print(f'\\nWell-rated animes by user {user_id}:')\n",
    "display(well_rated_details)"
   ]
  },
  {
   "cell_type": "markdown",
   "source": [
    "# Feature Importance 플롯"
   ],
   "metadata": {
    "id": "b0b7f035"
   },
   "id": "b0b7f035"
  },
  {
   "cell_type": "code",
   "source": [
    "import matplotlib.pyplot as plt\n",
    "import seaborn as sns\n",
    "\n",
    "# model = models['lgbm']\n",
    "\n",
    "feature_imp = pd.DataFrame(sorted(zip(model.feature_importances_,X_train.columns)), columns=['Value','Feature'])\n",
    "\n",
    "plt.figure(figsize=(20, 10))\n",
    "sns.barplot(x=\"Value\", y=\"Feature\", data=feature_imp.sort_values(by=\"Value\", ascending=False))\n",
    "plt.title('LightGBM Features (avg over folds)')\n",
    "plt.tight_layout()\n",
    "plt.show()"
   ],
   "metadata": {
    "colab": {
     "base_uri": "https://localhost:8080/",
     "height": 911
    },
    "id": "QUjjI3zsY9qW",
    "executionInfo": {
     "status": "ok",
     "timestamp": 1684658937281,
     "user_tz": -540,
     "elapsed": 1393,
     "user": {
      "displayName": "Myeonghak Lee",
      "userId": "01376346143254624391"
     }
    },
    "outputId": "e029f823-ad70-4599-a3c3-2e7b6bfdad3e"
   },
   "id": "QUjjI3zsY9qW",
   "execution_count": 29,
   "outputs": [
    {
     "output_type": "display_data",
     "data": {
      "text/plain": [
       "<Figure size 2000x1000 with 1 Axes>"
      ],
      "image/png": "[encoded data removed]"
     },
     "metadata": {}
    }
   ]
  },
  {
   "cell_type": "code",
   "source": [],
   "metadata": {
    "id": "khkpvhcKZZxJ"
   },
   "id": "khkpvhcKZZxJ",
   "execution_count": null,
   "outputs": []
  }
 ],
 "metadata": {
  "kernelspec": {
   "display_name": "Python 3",
   "language": "python",
   "name": "python3"
  },
  "language_info": {
   "codemirror_mode": {
    "name": "ipython",
    "version": 3
   },
   "file_extension": ".py",
   "mimetype": "text/x-python",
   "name": "python",
   "nbconvert_exporter": "python",
   "pygments_lexer": "ipython3",
   "version": "3.8.10"
  },
  "toc": {
   "base_numbering": 1,
   "nav_menu": {},
   "number_sections": true,
   "sideBar": true,
   "skip_h1_title": false,
   "title_cell": "Table of Contents",
   "title_sidebar": "Contents",
   "toc_cell": false,
   "toc_position": {},
   "toc_section_display": true,
   "toc_window_display": false
  },
  "colab": {
   "provenance": []
  }
 },
 "nbformat": 4,
 "nbformat_minor": 5
}

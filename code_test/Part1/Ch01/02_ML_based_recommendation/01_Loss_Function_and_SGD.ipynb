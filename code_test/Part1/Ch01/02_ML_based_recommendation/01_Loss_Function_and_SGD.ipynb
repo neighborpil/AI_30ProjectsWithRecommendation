{
 "cells": [
  {
   "cell_type": "code",
   "execution_count": 1,
   "id": "1046af36-1b15-41c1-b6c3-d2349ac54ff7",
   "metadata": {
    "id": "1046af36-1b15-41c1-b6c3-d2349ac54ff7",
    "executionInfo": {
     "status": "ok",
     "timestamp": 1684656062626,
     "user_tz": -540,
     "elapsed": 7,
     "user": {
      "displayName": "Myeonghak Lee",
      "userId": "01376346143254624391"
     }
    },
    "ExecuteTime": {
     "end_time": "2023-09-10T08:21:13.862263Z",
     "start_time": "2023-09-10T08:21:13.438410Z"
    }
   },
   "outputs": [],
   "source": [
    "import time\n",
    "import numpy as np\n",
    "\n",
    "# 랜덤 데이터 생성\n",
    "np.random.seed(42)\n",
    "x = np.random.randn(100)\n",
    "\n",
    "# 실제값: a = 2, b = 0\n",
    "y = 2*x + 0.1*np.random.randn(100) \n",
    "\n",
    "# RMSE 로스 펑션 정의\n",
    "def rmse(y_true, y_pred):\n",
    "    return np.sqrt(np.mean((y_true - y_pred)**2))"
   ]
  },
  {
   "cell_type": "code",
   "source": [
    "x[:10]"
   ],
   "metadata": {
    "colab": {
     "base_uri": "https://localhost:8080/"
    },
    "id": "TF3c4DKiU2sF",
    "executionInfo": {
     "status": "ok",
     "timestamp": 1684656123435,
     "user_tz": -540,
     "elapsed": 3,
     "user": {
      "displayName": "Myeonghak Lee",
      "userId": "01376346143254624391"
     }
    },
    "outputId": "1a8e85db-8143-40ba-e7b4-d04919750d22",
    "ExecuteTime": {
     "end_time": "2023-09-10T08:21:15.752719Z",
     "start_time": "2023-09-10T08:21:15.746212Z"
    }
   },
   "id": "TF3c4DKiU2sF",
   "execution_count": 2,
   "outputs": [
    {
     "data": {
      "text/plain": "array([ 0.49671415, -0.1382643 ,  0.64768854,  1.52302986, -0.23415337,\n       -0.23413696,  1.57921282,  0.76743473, -0.46947439,  0.54256004])"
     },
     "execution_count": 2,
     "metadata": {},
     "output_type": "execute_result"
    }
   ]
  },
  {
   "cell_type": "code",
   "source": [
    "y[:10]"
   ],
   "metadata": {
    "colab": {
     "base_uri": "https://localhost:8080/"
    },
    "id": "ufsrVo7oVCUa",
    "executionInfo": {
     "status": "ok",
     "timestamp": 1684656126563,
     "user_tz": -540,
     "elapsed": 6,
     "user": {
      "displayName": "Myeonghak Lee",
      "userId": "01376346143254624391"
     }
    },
    "outputId": "ca70c74b-19ba-4d3f-f136-2196aa4bfdbf",
    "ExecuteTime": {
     "end_time": "2023-09-10T08:21:16.746446Z",
     "start_time": "2023-09-10T08:21:16.711975Z"
    }
   },
   "id": "ufsrVo7oVCUa",
   "execution_count": 3,
   "outputs": [
    {
     "data": {
      "text/plain": "array([ 0.85189123, -0.31859313,  1.26110562,  2.96583199, -0.48443532,\n       -0.42786883,  3.34704422,  1.55232724, -0.91319373,  1.0776755 ])"
     },
     "execution_count": 3,
     "metadata": {},
     "output_type": "execute_result"
    }
   ]
  },
  {
   "cell_type": "markdown",
   "id": "cf3847c7-1785-4409-ae2a-88f136febc19",
   "metadata": {
    "id": "cf3847c7-1785-4409-ae2a-88f136febc19"
   },
   "source": [
    "# Brute-force 방법 (무작위 대입법)"
   ]
  },
  {
   "cell_type": "code",
   "execution_count": 4,
   "id": "79794d63-a680-46c8-af2d-0a52bfd7b91b",
   "metadata": {
    "id": "79794d63-a680-46c8-af2d-0a52bfd7b91b",
    "outputId": "3c76590c-0219-4566-e0e7-7b8ca205c3ae",
    "ExecuteTime": {
     "end_time": "2023-09-10T08:25:07.935651Z",
     "start_time": "2023-09-10T08:25:03.208604Z"
    }
   },
   "outputs": [
    {
     "name": "stdout",
     "output_type": "stream",
     "text": [
      "Brute-force method: a = 1.9919919919919913, b = 0.010010010010010006, RMSE = 0.09456779060230674, Time = 4.779340028762817 seconds\n"
     ]
    }
   ],
   "source": [
    "start_time = time.time()\n",
    " \n",
    "# -10~10 사이의 값을 1000개의 interval로 쪼갬\n",
    "a_values = np.linspace(-10, 10, 1000)\n",
    "b_values = np.linspace(-10, 10, 1000)\n",
    "\n",
    "min_loss = float('inf')\n",
    "best_a, best_b = None, None\n",
    "\n",
    "# a와 b 값들을 iteration\n",
    "for a in a_values:\n",
    "    for b in b_values:\n",
    "        \n",
    "        # broadcasting이 일어남 -> a는 scalar 값이지만, x는 (100,) 값을 갖고 있음\n",
    "        y_pred = a*x + b\n",
    "        loss = rmse(y, y_pred)\n",
    "        \n",
    "        # 최소 로스를 기록해서, 그 보다 낮은 값이 등장할 경우 로스와 최적의 파라미터를 update\n",
    "        if loss < min_loss:\n",
    "            min_loss = loss\n",
    "            best_a, best_b = a, b\n",
    "\n",
    "            \n",
    "# 소요 시간 확인\n",
    "brute_force_time = time.time() - start_time\n",
    "print(f'Brute-force method: a = {best_a}, b = {best_b}, RMSE = {min_loss}, Time = {brute_force_time} seconds')"
   ]
  },
  {
   "cell_type": "markdown",
   "source": [],
   "metadata": {
    "id": "T-D_R3TfWmYo"
   },
   "id": "T-D_R3TfWmYo"
  },
  {
   "cell_type": "markdown",
   "id": "9f91100d-8517-4b09-8c4f-b7adfa64c2db",
   "metadata": {
    "id": "9f91100d-8517-4b09-8c4f-b7adfa64c2db"
   },
   "source": [
    "# SGD"
   ]
  },
  {
   "cell_type": "code",
   "execution_count": 5,
   "id": "69580ccf-3942-425c-8358-74ef31f98c7e",
   "metadata": {
    "id": "69580ccf-3942-425c-8358-74ef31f98c7e",
    "outputId": "9aaedca6-b2d5-45b7-f281-ca2d5f6151f9",
    "ExecuteTime": {
     "end_time": "2023-09-10T08:29:56.354598Z",
     "start_time": "2023-09-10T08:29:56.326058Z"
    }
   },
   "outputs": [
    {
     "name": "stdout",
     "output_type": "stream",
     "text": [
      "Epoch 0, a = 0.3596477643863195, b = 0.4229484842070944, RMSE = 1.5865199401612435\n",
      "Epoch 100, a = 1.9419895343642082, b = 0.0655332076753822, RMSE = 0.12329138130155666\n",
      "Epoch 200, a = 2.01514870339355, b = 0.012580090713466448, RMSE = 0.0980953529378534\n",
      "Epoch 300, a = 1.9456542858405708, b = -0.019332105434106503, RMSE = 0.10196803408445895\n",
      "Epoch 400, a = 2.0164010405874455, b = -0.01571578726957652, RMSE = 0.0999666504919011\n",
      "Epoch 500, a = 2.0401515775828365, b = 0.008233485799572428, RMSE = 0.10612700340871035\n",
      "Epoch 600, a = 1.9708466358825485, b = 0.016315602777042137, RMSE = 0.09648153419077189\n",
      "Epoch 700, a = 2.0131361553083407, b = 0.01386809836764842, RMSE = 0.09776325139686762\n",
      "Epoch 800, a = 2.0305876697976712, b = 0.01985877283671398, RMSE = 0.10340348415216669\n",
      "Epoch 900, a = 2.0071413894228693, b = 0.020092355664442216, RMSE = 0.0974972431814113\n",
      "SGD method: a = 1.9950152479865568, b = 0.10762451212940533, RMSE = 0.0974972431814113, Time = 0.011559009552001953 seconds\n"
     ]
    }
   ],
   "source": [
    "start_time = time.time()\n",
    "\n",
    "# 무작위의 a,b를 생성\n",
    "a, b = np.random.randn(), np.random.randn()\n",
    "\n",
    "# 임의의 학습률\n",
    "learning_rate = 0.1\n",
    "\n",
    "# 1000번의 epoch에 걸쳐 업데이트 진행\n",
    "for epoch in range(1000):\n",
    "    # 랜덤 샘플 1개를 사용\n",
    "    random_idx = np.random.choice(len(x))  # SGD uses one random sample per step\n",
    "    xi, yi = x[random_idx], y[random_idx]\n",
    "    \n",
    "    # 예측값 생성\n",
    "    y_pred = a*xi + b\n",
    "    \n",
    "    # MSE의 도함수 (RMSE와 최적값이 동일)\n",
    "    gradient_a = -2*xi*(yi - y_pred)\n",
    "    gradient_b = -2*(yi - y_pred)\n",
    "    \n",
    "    a = a - learning_rate * gradient_a\n",
    "    b = b - learning_rate * gradient_b\n",
    "    \n",
    "    # 각 100번째 스텝마다 parameter와 loss 값 계산\n",
    "    if epoch % 100 == 0:  \n",
    "        y_pred = a*x + b\n",
    "        loss = rmse(y, y_pred)\n",
    "        print(f'Epoch {epoch}, a = {a}, b = {b}, RMSE = {loss}')\n",
    "\n",
    "# 소요 시간 확인\n",
    "sgd_time = time.time() - start_time\n",
    "print(f'SGD method: a = {a}, b = {b}, RMSE = {loss}, Time = {sgd_time} seconds')"
   ]
  },
  {
   "cell_type": "code",
   "execution_count": 6,
   "id": "49095e88-7b48-4c16-8d30-b0946c7cb938",
   "metadata": {
    "id": "49095e88-7b48-4c16-8d30-b0946c7cb938",
    "outputId": "b55e1e03-9bcd-42a8-910f-79806f273963",
    "ExecuteTime": {
     "end_time": "2023-09-10T08:30:29.512186Z",
     "start_time": "2023-09-10T08:30:29.503565Z"
    }
   },
   "outputs": [
    {
     "name": "stdout",
     "output_type": "stream",
     "text": [
      "SGD가, brute-force 방법에 비해 413.47배 빠름\n"
     ]
    }
   ],
   "source": [
    "# 시간 비교\n",
    "print(f'SGD가, brute-force 방법에 비해 {brute_force_time / sgd_time:.2f}배 빠름')"
   ]
  },
  {
   "cell_type": "code",
   "execution_count": null,
   "id": "f610720b-f183-4ae9-947f-42178e378fae",
   "metadata": {
    "id": "f610720b-f183-4ae9-947f-42178e378fae"
   },
   "outputs": [],
   "source": []
  }
 ],
 "metadata": {
  "kernelspec": {
   "display_name": "Python 3",
   "language": "python",
   "name": "python3"
  },
  "language_info": {
   "codemirror_mode": {
    "name": "ipython",
    "version": 3
   },
   "file_extension": ".py",
   "mimetype": "text/x-python",
   "name": "python",
   "nbconvert_exporter": "python",
   "pygments_lexer": "ipython3",
   "version": "3.8.10"
  },
  "colab": {
   "provenance": []
  }
 },
 "nbformat": 4,
 "nbformat_minor": 5
}

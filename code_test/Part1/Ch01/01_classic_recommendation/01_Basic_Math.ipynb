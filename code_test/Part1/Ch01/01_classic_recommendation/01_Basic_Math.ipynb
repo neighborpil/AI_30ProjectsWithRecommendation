{
 "cells": [
  {
   "cell_type": "code",
   "execution_count": 1,
   "outputs": [],
   "source": [
    "import numpy as np"
   ],
   "metadata": {
    "collapsed": false,
    "ExecuteTime": {
     "end_time": "2023-09-06T21:34:24.240190Z",
     "start_time": "2023-09-06T21:34:24.195351Z"
    }
   },
   "id": "a2a8344525aa5dd8"
  },
  {
   "cell_type": "markdown",
   "id": "b37f573e-5030-40d2-9f96-64337e128d07",
   "metadata": {
    "id": "b37f573e-5030-40d2-9f96-64337e128d07"
   },
   "source": [
    "# 행렬"
   ]
  },
  {
   "cell_type": "markdown",
   "id": "6724f7bc-1572-4335-b1ac-fcbcfc5e5da8",
   "metadata": {
    "id": "6724f7bc-1572-4335-b1ac-fcbcfc5e5da8"
   },
   "source": [
    "## 행렬 연산 예시"
   ]
  },
  {
   "cell_type": "markdown",
   "id": "63909eca-389a-4494-ba70-905ebe7956b2",
   "metadata": {
    "id": "63909eca-389a-4494-ba70-905ebe7956b2"
   },
   "source": [
    "## 내적과 element-wise 연산"
   ]
  },
  {
   "cell_type": "markdown",
   "id": "dce3d6bf-e8bc-42e7-8bd9-621065e82f7e",
   "metadata": {
    "id": "dce3d6bf-e8bc-42e7-8bd9-621065e82f7e"
   },
   "source": [
    "내적(dot product)의 원소별(element-wise) 연산:\n",
    "내적은 두 벡터의 각 원소의 곱을 모두 더해서 구함\n",
    "element-wise 내적은 두 행렬 또는 벡터의 각 원소끼리 이루어짐"
   ]
  },
  {
   "cell_type": "code",
   "execution_count": 2,
   "id": "0d0930df-9d2c-4cc9-a46d-4e5835fc7d7b",
   "metadata": {
    "id": "0d0930df-9d2c-4cc9-a46d-4e5835fc7d7b",
    "outputId": "8b7a84a3-11fc-416a-c1d3-a264355642cb",
    "ExecuteTime": {
     "end_time": "2023-09-06T21:34:27.403603Z",
     "start_time": "2023-09-06T21:34:27.399299Z"
    }
   },
   "outputs": [
    {
     "name": "stdout",
     "output_type": "stream",
     "text": [
      "Vector a: [1 2 3]\n",
      "\n",
      "Vector b: [4 5 6]\n",
      "\n",
      " 4 + 10 + 18\n",
      "Dot product of a and b: 32\n",
      "\n",
      "Element-wise product of a and b: [ 4 10 18]\n"
     ]
    }
   ],
   "source": [
    "a = np.array([1, 2, 3])\n",
    "b = np.array([4, 5, 6])\n",
    "\n",
    "dot_product = np.dot(a, b)\n",
    "elementwise_product = a * b\n",
    "\n",
    "print(\"Vector a:\", a)\n",
    "print(\"\\nVector b:\", b)\n",
    "\n",
    "print(\"\\n\", a[0]*b[0], \"+\", a[1]*b[1], \"+\", a[2]*b[2])\n",
    "print(\"Dot product of a and b:\", dot_product)\n",
    "\n",
    "print(\"\\nElement-wise product of a and b:\", elementwise_product)\n"
   ]
  },
  {
   "cell_type": "code",
   "execution_count": 2,
   "id": "fbba3d2b",
   "metadata": {
    "id": "fbba3d2b",
    "ExecuteTime": {
     "end_time": "2023-09-06T21:34:38.606872Z",
     "start_time": "2023-09-06T21:34:38.598410Z"
    }
   },
   "outputs": [],
   "source": []
  },
  {
   "cell_type": "markdown",
   "id": "1d7e43e7-5a40-45b7-a4ed-919d1f4d574b",
   "metadata": {
    "id": "1d7e43e7-5a40-45b7-a4ed-919d1f4d574b"
   },
   "source": [
    "행렬 곱셈(matrix multiplication):\n",
    "행렬 곱셈은 많은 추천 시스템 알고리즘에서 필수적인 연산임.\n",
    "첫 번째 행렬의 행 원소에 두 번째 행렬의 열 원소를 곱하고 그 결과를 합산하는,\n",
    "element-wise 내적의 반복임."
   ]
  },
  {
   "cell_type": "code",
   "execution_count": 3,
   "id": "0745ac06-1059-4454-9630-f102bcc9588c",
   "metadata": {
    "id": "0745ac06-1059-4454-9630-f102bcc9588c",
    "outputId": "8353049d-9b7e-4d91-cd40-49bb182df040",
    "ExecuteTime": {
     "end_time": "2023-09-06T21:34:46.768476Z",
     "start_time": "2023-09-06T21:34:46.761185Z"
    }
   },
   "outputs": [
    {
     "name": "stdout",
     "output_type": "stream",
     "text": [
      "Matrix A:\n",
      "[[1 2]\n",
      " [3 4]]\n",
      "\n",
      "Matrix B:\n",
      "[[5 6]\n",
      " [7 8]]\n",
      "\n",
      "C[0, 0] = A[0, 0] * B[0, 0] + A[0, 1] * B[1, 0] = (1 * 5) + (2 * 7) = 19\n",
      "C[0, 1] = A[0, 0] * B[0, 1] + A[0, 1] * B[1, 1] = (1 * 6) + (2 * 8) = 22\n",
      "C[1, 0] = A[1, 0] * B[0, 0] + A[1, 1] * B[1, 0] = (3 * 5) + (4 * 7) = 43\n",
      "C[1, 1] = A[1, 0] * B[0, 1] + A[1, 1] * B[1, 1] = (3 * 6) + (4 * 8) = 50\n",
      "\n",
      "Result Matrix C:\n",
      "[[19 22]\n",
      " [43 50]]\n"
     ]
    }
   ],
   "source": [
    "# Define two 2x2 matrices\n",
    "A = np.array([[1, 2],\n",
    "              [3, 4]])\n",
    "B = np.array([[5, 6],\n",
    "              [7, 8]])\n",
    "\n",
    "# Calculate the result matrix by matrix multiplication\n",
    "C = np.matmul(A, B)\n",
    "\n",
    "# Show the calculation of each element in the result matrix\n",
    "print(\"Matrix A:\")\n",
    "print(A)\n",
    "\n",
    "print(\"\\nMatrix B:\")\n",
    "print(B)\n",
    "\n",
    "print(\"\\nC[0, 0] = A[0, 0] * B[0, 0] + A[0, 1] * B[1, 0] = (1 * 5) + (2 * 7) =\", 1*5 + 2*7)\n",
    "print(\"C[0, 1] = A[0, 0] * B[0, 1] + A[0, 1] * B[1, 1] = (1 * 6) + (2 * 8) =\", 1*6 + 2*8)\n",
    "print(\"C[1, 0] = A[1, 0] * B[0, 0] + A[1, 1] * B[1, 0] = (3 * 5) + (4 * 7) =\", 3*5 + 4*7)\n",
    "print(\"C[1, 1] = A[1, 0] * B[0, 1] + A[1, 1] * B[1, 1] = (3 * 6) + (4 * 8) =\", 3*6 + 4*8)\n",
    "\n",
    "print(\"\\nResult Matrix C:\")\n",
    "print(C)"
   ]
  },
  {
   "cell_type": "code",
   "execution_count": 3,
   "id": "40c5b370-6b91-45d1-96e0-9945b595c319",
   "metadata": {
    "id": "40c5b370-6b91-45d1-96e0-9945b595c319",
    "ExecuteTime": {
     "end_time": "2023-09-06T21:34:47.786669Z",
     "start_time": "2023-09-06T21:34:47.777022Z"
    }
   },
   "outputs": [],
   "source": []
  },
  {
   "cell_type": "markdown",
   "id": "b2f511b4-07d0-4cd9-aa62-e4bacc853d5e",
   "metadata": {
    "id": "b2f511b4-07d0-4cd9-aa62-e4bacc853d5e"
   },
   "source": [
    "## 전치 행렬"
   ]
  },
  {
   "cell_type": "markdown",
   "id": "42cc17d5-fc8b-4a95-a93a-1b5c9087da52",
   "metadata": {
    "id": "42cc17d5-fc8b-4a95-a93a-1b5c9087da52"
   },
   "source": [
    "행렬의 전치:\n",
    "행렬 전치는 단순히 행과 열을 바꾸어 주면 됨.\n",
    "이 연산은 매우 단순하지만 자주 사용되는 작업으로,\n",
    "추천 알고리즘에서는 대표적으로 MF, ALS 등에서 사용됨."
   ]
  },
  {
   "cell_type": "code",
   "execution_count": 4,
   "id": "59133c6b-ae90-4c4b-bdc8-f158f738daf7",
   "metadata": {
    "colab": {
     "base_uri": "https://localhost:8080/"
    },
    "id": "59133c6b-ae90-4c4b-bdc8-f158f738daf7",
    "executionInfo": {
     "status": "ok",
     "timestamp": 1683426881389,
     "user_tz": -540,
     "elapsed": 262,
     "user": {
      "displayName": "Myeonghak Lee",
      "userId": "01376346143254624391"
     }
    },
    "outputId": "06441081-213f-4092-df8f-490613fbce80",
    "ExecuteTime": {
     "end_time": "2023-09-06T21:34:59.280009Z",
     "start_time": "2023-09-06T21:34:59.271634Z"
    }
   },
   "outputs": [
    {
     "name": "stdout",
     "output_type": "stream",
     "text": [
      "Matrix A:\n",
      " [[1 2]\n",
      " [3 4]\n",
      " [5 6]]\n",
      "\n",
      "Transpose of A:\n",
      " [[1 3 5]\n",
      " [2 4 6]]\n"
     ]
    }
   ],
   "source": [
    "A = np.array([[1, 2],\n",
    "              [3, 4],\n",
    "              [5, 6]])\n",
    "\n",
    "A_transpose = np.transpose(A)\n",
    "print(\"Matrix A:\\n\", A)\n",
    "print(\"\\nTranspose of A:\\n\", A_transpose)\n"
   ]
  },
  {
   "cell_type": "code",
   "source": [
    "A.T"
   ],
   "metadata": {
    "colab": {
     "base_uri": "https://localhost:8080/"
    },
    "id": "ChU92qW4D7I3",
    "executionInfo": {
     "status": "ok",
     "timestamp": 1683426887324,
     "user_tz": -540,
     "elapsed": 270,
     "user": {
      "displayName": "Myeonghak Lee",
      "userId": "01376346143254624391"
     }
    },
    "outputId": "07484471-2767-4b8d-f458-75e06fd5f0b4",
    "ExecuteTime": {
     "end_time": "2023-09-06T21:35:01.487990Z",
     "start_time": "2023-09-06T21:35:01.480133Z"
    }
   },
   "id": "ChU92qW4D7I3",
   "execution_count": 5,
   "outputs": [
    {
     "data": {
      "text/plain": "array([[1, 3, 5],\n       [2, 4, 6]])"
     },
     "execution_count": 5,
     "metadata": {},
     "output_type": "execute_result"
    }
   ]
  },
  {
   "cell_type": "markdown",
   "id": "4f64d658-fabe-4b45-8865-f3d617940e63",
   "metadata": {
    "id": "4f64d658-fabe-4b45-8865-f3d617940e63"
   },
   "source": [
    "## 역행렬"
   ]
  },
  {
   "cell_type": "markdown",
   "id": "b1418907-cb11-40b8-870a-acde4ab05dbe",
   "metadata": {
    "id": "b1418907-cb11-40b8-870a-acde4ab05dbe"
   },
   "source": [
    "행렬의 역행렬:\n",
    "정사각형 행렬의 역행렬은 원 행렬에 곱하면 행렬의 단위 행렬이 나오는 행렬임.\n",
    "선형 시스템(연립 방정식)의 해를 구하는 데 사용되거나,\n",
    "추천에서는 SVD를 계산하는 데 사용됨"
   ]
  },
  {
   "cell_type": "code",
   "execution_count": 6,
   "id": "211f28ba-c3d5-4137-a54d-a307bbd66e81",
   "metadata": {
    "colab": {
     "base_uri": "https://localhost:8080/"
    },
    "id": "211f28ba-c3d5-4137-a54d-a307bbd66e81",
    "executionInfo": {
     "status": "ok",
     "timestamp": 1683426965031,
     "user_tz": -540,
     "elapsed": 6,
     "user": {
      "displayName": "Myeonghak Lee",
      "userId": "01376346143254624391"
     }
    },
    "outputId": "11a431b4-bca4-4dcd-9ce2-06701a2d15b8",
    "ExecuteTime": {
     "end_time": "2023-09-06T21:35:11.086784Z",
     "start_time": "2023-09-06T21:35:11.079782Z"
    }
   },
   "outputs": [
    {
     "name": "stdout",
     "output_type": "stream",
     "text": [
      "Matrix A:\n",
      " [[1 2]\n",
      " [3 4]]\n",
      "\n",
      "Inverse of A:\n",
      " [[-2.   1. ]\n",
      " [ 1.5 -0.5]]\n",
      "\n",
      "A * A_inverse (Identity matrix):\n",
      " [[1.0000000e+00 0.0000000e+00]\n",
      " [8.8817842e-16 1.0000000e+00]]\n"
     ]
    }
   ],
   "source": [
    "A = np.array([[1, 2],\n",
    "              [3, 4]])\n",
    "\n",
    "A_inverse = np.linalg.inv(A)\n",
    "print(\"Matrix A:\\n\", A)\n",
    "print(\"\\nInverse of A:\\n\", A_inverse)\n",
    "print(\"\\nA * A_inverse (Identity matrix):\\n\", np.matmul(A, A_inverse))"
   ]
  },
  {
   "cell_type": "code",
   "execution_count": 6,
   "id": "b0550bb6-1e48-45fb-93c2-6058a568f575",
   "metadata": {
    "id": "b0550bb6-1e48-45fb-93c2-6058a568f575",
    "ExecuteTime": {
     "end_time": "2023-09-06T21:35:28.685590Z",
     "start_time": "2023-09-06T21:35:28.669803Z"
    }
   },
   "outputs": [],
   "source": []
  },
  {
   "cell_type": "markdown",
   "id": "6c8b4194-8876-4f21-b3b8-896f176bed53",
   "metadata": {
    "id": "6c8b4194-8876-4f21-b3b8-896f176bed53"
   },
   "source": [
    "## 대각행렬"
   ]
  },
  {
   "cell_type": "markdown",
   "id": "46dc1177-eac2-41dc-83e2-2c5356d6b689",
   "metadata": {
    "id": "46dc1177-eac2-41dc-83e2-2c5356d6b689"
   },
   "source": [
    "대각 행렬(diagonal matrix):\n",
    "대각 행렬은 주 대각선 바깥의 모든 요소가 0인 정사각 행렬을 말함.\n",
    "주 대각선은 행과 열 인덱스가 같은 원소로 구성됨.\n",
    "대각선 행렬은 다양한 알고리즘에 사용되며 그 구조로 인해 계산을 단순화하는 데 사용됨."
   ]
  },
  {
   "cell_type": "code",
   "execution_count": 7,
   "id": "d22ee3a5-f535-44b3-89b6-8d0120da3fbf",
   "metadata": {
    "id": "d22ee3a5-f535-44b3-89b6-8d0120da3fbf",
    "outputId": "38e71b8d-e153-4eed-f221-de13f4766f02",
    "ExecuteTime": {
     "end_time": "2023-09-06T21:35:38.368847Z",
     "start_time": "2023-09-06T21:35:38.362448Z"
    }
   },
   "outputs": [
    {
     "name": "stdout",
     "output_type": "stream",
     "text": [
      "Diagonal matrix D:\n",
      " [[1 0 0]\n",
      " [0 2 0]\n",
      " [0 0 3]]\n"
     ]
    }
   ],
   "source": [
    "import numpy as np\n",
    "\n",
    "D = np.diag([1, 2, 3])\n",
    "print(\"Diagonal matrix D:\\n\", D)\n"
   ]
  },
  {
   "cell_type": "code",
   "execution_count": 7,
   "id": "ba0a17e7-abd9-4420-8432-ad045aa9988a",
   "metadata": {
    "id": "ba0a17e7-abd9-4420-8432-ad045aa9988a",
    "ExecuteTime": {
     "end_time": "2023-09-06T21:35:39.299625Z",
     "start_time": "2023-09-06T21:35:39.289602Z"
    }
   },
   "outputs": [],
   "source": []
  },
  {
   "cell_type": "markdown",
   "id": "d15f84d8",
   "metadata": {
    "id": "d15f84d8"
   },
   "source": [
    "## 고유값과 고유 벡터"
   ]
  },
  {
   "cell_type": "markdown",
   "id": "45ceb34f",
   "metadata": {
    "id": "45ceb34f"
   },
   "source": [
    "고유값과 고유 벡터:\n",
    "정사각형 행렬 A의 고유 벡터는 0이 아닌 벡터로,\n",
    "A를 곱하면 그 자체의 스칼라 배수가 되는 성질을 띰.\n",
    "이 스칼라 배수 값을 고유값이라고 함."
   ]
  },
  {
   "cell_type": "code",
   "execution_count": 8,
   "id": "85e9b1b6",
   "metadata": {
    "id": "85e9b1b6",
    "outputId": "107aac60-c60c-4128-fc2e-2f86fddf9de7",
    "ExecuteTime": {
     "end_time": "2023-09-06T21:36:11.316436Z",
     "start_time": "2023-09-06T21:36:11.299480Z"
    }
   },
   "outputs": [
    {
     "name": "stdout",
     "output_type": "stream",
     "text": [
      "Matrix A:\n",
      " [[1 2]\n",
      " [3 4]]\n",
      "\n",
      "Eigenvalues of A:\n",
      " [-0.37228132  5.37228132]\n",
      "\n",
      "Eigenvectors of A:\n",
      " [[-0.82456484 -0.41597356]\n",
      " [ 0.56576746 -0.90937671]]\n"
     ]
    }
   ],
   "source": [
    "A = np.array([[1, 2],\n",
    "              [3, 4]])\n",
    "\n",
    "eigenvalues, eigenvectors = np.linalg.eig(A)\n",
    "\n",
    "print(\"Matrix A:\\n\", A)\n",
    "print(\"\\nEigenvalues of A:\\n\", eigenvalues)\n",
    "print(\"\\nEigenvectors of A:\\n\", eigenvectors)\n"
   ]
  },
  {
   "cell_type": "code",
   "execution_count": 8,
   "id": "f206f8fb",
   "metadata": {
    "id": "f206f8fb",
    "ExecuteTime": {
     "end_time": "2023-09-06T21:36:12.074065Z",
     "start_time": "2023-09-06T21:36:12.053147Z"
    }
   },
   "outputs": [],
   "source": []
  },
  {
   "cell_type": "markdown",
   "id": "13455719",
   "metadata": {
    "id": "13455719"
   },
   "source": [
    "## 랭크 (rank)"
   ]
  },
  {
   "cell_type": "markdown",
   "id": "24b75f0a",
   "metadata": {
    "ExecuteTime": {
     "end_time": "2023-05-04T16:35:18.420989Z",
     "start_time": "2023-05-04T16:35:18.405986Z"
    },
    "id": "24b75f0a"
   },
   "source": [
    "행렬 랭크:\n",
    "행렬의 행렬계수는 행렬에서 선형적으로 독립적인 열 벡터(또는 행 벡터)의 최대 개수.\n",
    "기하적으로는, 단위벡터에 한 선형변환이 가해졌을 때 도착하는 공간의 차원 수."
   ]
  },
  {
   "cell_type": "code",
   "execution_count": 9,
   "id": "7ee00d15",
   "metadata": {
    "colab": {
     "base_uri": "https://localhost:8080/"
    },
    "id": "7ee00d15",
    "executionInfo": {
     "status": "ok",
     "timestamp": 1683427189173,
     "user_tz": -540,
     "elapsed": 297,
     "user": {
      "displayName": "Myeonghak Lee",
      "userId": "01376346143254624391"
     }
    },
    "outputId": "b9696fe7-9076-4271-b521-bad436bf035d",
    "ExecuteTime": {
     "end_time": "2023-09-06T21:36:14.280335Z",
     "start_time": "2023-09-06T21:36:14.268683Z"
    }
   },
   "outputs": [
    {
     "name": "stdout",
     "output_type": "stream",
     "text": [
      "Matrix A:\n",
      " [[1 2 3]\n",
      " [4 5 6]\n",
      " [7 8 9]]\n",
      "\n",
      "Rank of A: 2\n"
     ]
    }
   ],
   "source": [
    "A = np.array([[1, 2, 3],\n",
    "              [4, 5, 6],\n",
    "              [7, 8, 9]])\n",
    "\n",
    "rank_A = np.linalg.matrix_rank(A)\n",
    "print(\"Matrix A:\\n\", A)\n",
    "print(\"\\nRank of A:\", rank_A)"
   ]
  },
  {
   "cell_type": "code",
   "execution_count": 9,
   "id": "a9013220",
   "metadata": {
    "id": "a9013220",
    "ExecuteTime": {
     "end_time": "2023-09-06T21:36:38.317972Z",
     "start_time": "2023-09-06T21:36:38.307559Z"
    }
   },
   "outputs": [],
   "source": []
  },
  {
   "cell_type": "markdown",
   "id": "e8a08af3-95b9-4f71-aa12-9b2a1d931661",
   "metadata": {
    "tags": [],
    "id": "e8a08af3-95b9-4f71-aa12-9b2a1d931661"
   },
   "source": [
    "## SVD"
   ]
  },
  {
   "cell_type": "markdown",
   "id": "de829114-702d-42d7-8cda-c987f496a611",
   "metadata": {
    "id": "de829114-702d-42d7-8cda-c987f496a611"
   },
   "source": [
    "특이값 분해(SVD):\n",
    "SVD는 행렬을 U, Σ(시그마), V^T(V의 전치)의 세 행렬로 분해하는 데 사용되는 기법으로,\n",
    "여기서 U와 V는 직교 행렬이고 Σ는 특이값이 포함된 대각선 행렬임.\n",
    "SVD는 데이터의 차원을 줄이고, 노이즈를 제거하는 데도 사용되며,\n",
    "추천 시스템의 맥락에서는 Latent Factor를 발견하는 데 사용할 수 있음"
   ]
  },
  {
   "cell_type": "code",
   "execution_count": 10,
   "id": "a3090938-b029-4e73-9a26-86bba234c474",
   "metadata": {
    "scrolled": true,
    "id": "a3090938-b029-4e73-9a26-86bba234c474",
    "outputId": "9a69f3e9-6392-4ab5-ba2f-00d7f70521d2",
    "ExecuteTime": {
     "end_time": "2023-09-06T21:36:40.462253Z",
     "start_time": "2023-09-06T21:36:40.459321Z"
    }
   },
   "outputs": [
    {
     "name": "stdout",
     "output_type": "stream",
     "text": [
      "Matrix A:\n",
      " [[1 2 3]\n",
      " [4 5 6]\n",
      " [7 8 9]]\n",
      "\n",
      "U:\n",
      " [[-0.21483724  0.88723069  0.40824829]\n",
      " [-0.52058739  0.24964395 -0.81649658]\n",
      " [-0.82633754 -0.38794278  0.40824829]]\n",
      "\n",
      "Singular values (Sigma):\n",
      " [1.68481034e+01 1.06836951e+00 3.33475287e-16]\n",
      "\n",
      "V transpose (Vt):\n",
      " [[-0.47967118 -0.57236779 -0.66506441]\n",
      " [-0.77669099 -0.07568647  0.62531805]\n",
      " [-0.40824829  0.81649658 -0.40824829]]\n"
     ]
    }
   ],
   "source": [
    "import numpy as np\n",
    "\n",
    "A = np.array([[1, 2, 3],\n",
    "              [4, 5, 6],\n",
    "              [7, 8, 9]])\n",
    "\n",
    "U, sigma, Vt = np.linalg.svd(A)\n",
    "\n",
    "print(\"Matrix A:\\n\", A)\n",
    "print(\"\\nU:\\n\", U)\n",
    "print(\"\\nSingular values (Sigma):\\n\", sigma)\n",
    "print(\"\\nV transpose (Vt):\\n\", Vt)\n"
   ]
  },
  {
   "cell_type": "code",
   "execution_count": 11,
   "id": "43244a09-3449-4474-bfb9-2b605ddec1aa",
   "metadata": {
    "id": "43244a09-3449-4474-bfb9-2b605ddec1aa",
    "outputId": "7a0767fc-e2a7-4562-fbeb-b0447a91c344",
    "ExecuteTime": {
     "end_time": "2023-09-06T21:37:41.529708Z",
     "start_time": "2023-09-06T21:37:41.526583Z"
    }
   },
   "outputs": [
    {
     "name": "stdout",
     "output_type": "stream",
     "text": [
      "Diagonal matrix (Sigma):\n",
      " [[1.68481034e+01 0.00000000e+00 0.00000000e+00]\n",
      " [0.00000000e+00 1.06836951e+00 0.00000000e+00]\n",
      " [0.00000000e+00 0.00000000e+00 3.33475287e-16]]\n"
     ]
    }
   ],
   "source": [
    "Sigma = np.diag(sigma)\n",
    "print(\"Diagonal matrix (Sigma):\\n\", Sigma)"
   ]
  },
  {
   "cell_type": "code",
   "execution_count": null,
   "id": "33d373db-8b33-4a30-b077-63793d033227",
   "metadata": {
    "id": "33d373db-8b33-4a30-b077-63793d033227"
   },
   "outputs": [],
   "source": []
  },
  {
   "cell_type": "markdown",
   "id": "f84e93bc-2986-4ebc-b0d5-29af750581b6",
   "metadata": {
    "id": "f84e93bc-2986-4ebc-b0d5-29af750581b6"
   },
   "source": [
    "SVD 구성 요소(U, Σ, V^T)를 각각 곱하면, 원래 행렬 A를 재구성할 수 있음."
   ]
  },
  {
   "cell_type": "code",
   "execution_count": 12,
   "id": "843db493-09d4-4f9b-995e-5a98bf65e77c",
   "metadata": {
    "id": "843db493-09d4-4f9b-995e-5a98bf65e77c",
    "outputId": "0037faa8-d2cc-40a9-e859-0524dcd645cf",
    "ExecuteTime": {
     "end_time": "2023-09-06T21:38:00.893656Z",
     "start_time": "2023-09-06T21:38:00.883234Z"
    }
   },
   "outputs": [
    {
     "name": "stdout",
     "output_type": "stream",
     "text": [
      "Reconstructed Matrix A from SVD components:\n",
      " [[1. 2. 3.]\n",
      " [4. 5. 6.]\n",
      " [7. 8. 9.]]\n"
     ]
    }
   ],
   "source": [
    "reconstructed_A = np.matmul(np.matmul(U, Sigma), Vt)\n",
    "print(\"Reconstructed Matrix A from SVD components:\\n\", reconstructed_A)\n"
   ]
  },
  {
   "cell_type": "code",
   "execution_count": null,
   "id": "50d5f146-33ce-4f3c-8b1c-46b5a60e69bf",
   "metadata": {
    "id": "50d5f146-33ce-4f3c-8b1c-46b5a60e69bf"
   },
   "outputs": [],
   "source": []
  },
  {
   "cell_type": "code",
   "execution_count": null,
   "id": "c69951d0-9d65-4816-b2c1-dc76107c9325",
   "metadata": {
    "id": "c69951d0-9d65-4816-b2c1-dc76107c9325"
   },
   "outputs": [],
   "source": []
  },
  {
   "cell_type": "markdown",
   "id": "d988f203-2195-4cbd-8438-c4654329b251",
   "metadata": {
    "id": "d988f203-2195-4cbd-8438-c4654329b251"
   },
   "source": [
    "# 유사도 메트릭"
   ]
  },
  {
   "cell_type": "markdown",
   "id": "e1e2851e-7e40-4415-8a3c-ef974678428e",
   "metadata": {
    "id": "e1e2851e-7e40-4415-8a3c-ef974678428e"
   },
   "source": [
    "## 코사인 유사도와 유클리드 거리의 비교"
   ]
  },
  {
   "cell_type": "code",
   "source": [
    "# Compute Euclidean distance\n",
    "def euclidean_distance(vec1, vec2):\n",
    "    return np.sqrt(np.sum((vec1 - vec2) ** 2))\n",
    "\n",
    "# Compute Cosine distance\n",
    "def cosine_distance(vec1, vec2):\n",
    "    dot_product = np.dot(vec1, vec2)\n",
    "    norm_a = np.linalg.norm(vec1)\n",
    "    norm_b = np.linalg.norm(vec2)\n",
    "    return 1 - (dot_product / (norm_a * norm_b))"
   ],
   "metadata": {
    "id": "xUk4s21hGNyR",
    "ExecuteTime": {
     "end_time": "2023-09-06T21:49:49.876739Z",
     "start_time": "2023-09-06T21:49:49.866908Z"
    }
   },
   "id": "xUk4s21hGNyR",
   "execution_count": 13,
   "outputs": []
  },
  {
   "cell_type": "markdown",
   "source": [
    "<img src='https://drive.google.com/uc?id=1uqdH-zznfHpf5Ae6hfNQwfkhmFV_lR-D' width=\"700\" height =\"200\" /><br>"
   ],
   "metadata": {
    "id": "LUAITwvE9-eR"
   },
   "id": "LUAITwvE9-eR"
  },
  {
   "cell_type": "markdown",
   "source": [
    "<img src='https://drive.google.com/uc?id=1PxgGhOp92df48brwEOsLSeQCigFjf4l9' width=\"700\" height =\"200\" /><br>\n",
    "\n"
   ],
   "metadata": {
    "id": "fq3SJAoV_U4z"
   },
   "id": "fq3SJAoV_U4z"
  },
  {
   "cell_type": "markdown",
   "id": "5039bfa9",
   "metadata": {
    "ExecuteTime": {
     "end_time": "2023-05-05T03:00:14.992131Z",
     "start_time": "2023-05-05T03:00:14.977136Z"
    },
    "id": "5039bfa9"
   },
   "source": [
    "아래 데이터프레임은 아래 3개의 문장을 단어별로 카운트해서 벡터로 만든 결과임.\n",
    "\n",
    "\"I like apples.\"\n",
    "\"I like oranges.\"\n",
    "\"I like apples. I really like apples.\""
   ]
  },
  {
   "cell_type": "code",
   "execution_count": 14,
   "id": "0190427e",
   "metadata": {
    "colab": {
     "base_uri": "https://localhost:8080/",
     "height": 143
    },
    "id": "0190427e",
    "executionInfo": {
     "status": "ok",
     "timestamp": 1683425908217,
     "user_tz": -540,
     "elapsed": 270,
     "user": {
      "displayName": "Myeonghak Lee",
      "userId": "01376346143254624391"
     }
    },
    "outputId": "4a7af688-54a2-4af4-cba7-a7ef8f397d71",
    "ExecuteTime": {
     "end_time": "2023-09-06T21:50:13.908704Z",
     "start_time": "2023-09-06T21:50:13.902878Z"
    }
   },
   "outputs": [
    {
     "data": {
      "text/plain": "   I  like  apples  oranges  really\n1  1     1       1        0       0\n2  1     1       0        1       0\n3  2     2       2        0       1",
      "text/html": "<div>\n<style scoped>\n    .dataframe tbody tr th:only-of-type {\n        vertical-align: middle;\n    }\n\n    .dataframe tbody tr th {\n        vertical-align: top;\n    }\n\n    .dataframe thead th {\n        text-align: right;\n    }\n</style>\n<table border=\"1\" class=\"dataframe\">\n  <thead>\n    <tr style=\"text-align: right;\">\n      <th></th>\n      <th>I</th>\n      <th>like</th>\n      <th>apples</th>\n      <th>oranges</th>\n      <th>really</th>\n    </tr>\n  </thead>\n  <tbody>\n    <tr>\n      <th>1</th>\n      <td>1</td>\n      <td>1</td>\n      <td>1</td>\n      <td>0</td>\n      <td>0</td>\n    </tr>\n    <tr>\n      <th>2</th>\n      <td>1</td>\n      <td>1</td>\n      <td>0</td>\n      <td>1</td>\n      <td>0</td>\n    </tr>\n    <tr>\n      <th>3</th>\n      <td>2</td>\n      <td>2</td>\n      <td>2</td>\n      <td>0</td>\n      <td>1</td>\n    </tr>\n  </tbody>\n</table>\n</div>"
     },
     "metadata": {},
     "output_type": "display_data"
    }
   ],
   "source": [
    "import pandas as pd\n",
    "import numpy as np\n",
    "\n",
    "# Create a pandas DataFrame with the word vectors\n",
    "data = {'I': [1, 1, 2], 'like': [1, 1, 2], 'apples': [1, 0, 2], 'oranges': [0, 1, 0], 'really': [0, 0, 1]}\n",
    "df = pd.DataFrame(data)\n",
    "df.index = [1,2,3]\n",
    "\n",
    "display(df)"
   ]
  },
  {
   "cell_type": "code",
   "source": [],
   "metadata": {
    "id": "hihBDl4WAK3k"
   },
   "id": "hihBDl4WAK3k",
   "execution_count": null,
   "outputs": []
  },
  {
   "cell_type": "markdown",
   "id": "2831bff9",
   "metadata": {
    "ExecuteTime": {
     "end_time": "2023-05-05T03:04:22.798552Z",
     "start_time": "2023-05-05T03:04:22.785549Z"
    },
    "id": "2831bff9"
   },
   "source": [
    "문장 1과 문장 2는 동일한 구성을 갖는 대신 단어가 한 개 다름 (apples -> oranges).\n",
    "\n",
    "문장 1과 문장 2 사이의 코사인 거리는 0.33으로, 벡터 방향에 약간의 차이가 있음을 시사함.\n",
    "문장 1과 문장 2 사이의 유클리드 거리는 1.414로 단어 한 개가 다른 영향을 보여줌.\n"
   ]
  },
  {
   "cell_type": "markdown",
   "id": "7c47a162",
   "metadata": {
    "ExecuteTime": {
     "end_time": "2023-05-05T03:04:22.798552Z",
     "start_time": "2023-05-05T03:04:22.785549Z"
    },
    "id": "7c47a162"
   },
   "source": [
    "한편, 이 예시에서 문장 1과 문장 3은 동일한 단어를 공유하지만 반복으로 인해 벡터의 크기가 다름\n",
    "\n",
    "문장 1과 문장 3 사이의 코사인 거리는 거의 0으로, 문장 3의 크기가 더 크지만 단어 분포 측면에서 유사하다는 것을 나타냄.\n",
    "이는 코사인 유사성이 벡터의 크기에 민감하지 않다는 것을 보여줌\n",
    "\n",
    "반면에 문장 1과 문장 3 사이의 유클리드 거리는 0보다 크며, 이는 두 문장 간의 크기 차이가 있음을 나타냄.\n",
    "이는 유클리드 거리는 방향 뿐만 아니라 벡터의 크기에도 영향을 받음을 보여 줌."
   ]
  },
  {
   "cell_type": "code",
   "execution_count": 15,
   "id": "9cc22779",
   "metadata": {
    "id": "9cc22779",
    "ExecuteTime": {
     "end_time": "2023-09-06T21:50:43.032917Z",
     "start_time": "2023-09-06T21:50:43.023021Z"
    }
   },
   "outputs": [],
   "source": [
    "# Compute Euclidean distance\n",
    "def euclidean_distance(vec1, vec2):\n",
    "    return np.sqrt(np.sum((vec1 - vec2) ** 2))\n",
    "\n",
    "# Compute Cosine distance\n",
    "def cosine_distance(vec1, vec2):\n",
    "    dot_product = np.dot(vec1, vec2)\n",
    "    norm_a = np.linalg.norm(vec1)\n",
    "    norm_b = np.linalg.norm(vec2)\n",
    "    return 1 - (dot_product / (norm_a * norm_b))"
   ]
  },
  {
   "cell_type": "code",
   "execution_count": 16,
   "id": "d97391f9-4820-4edb-880b-882dff2c8a7a",
   "metadata": {
    "id": "d97391f9-4820-4edb-880b-882dff2c8a7a",
    "outputId": "5ecae9e0-7de2-400b-b426-45838c8876a5",
    "ExecuteTime": {
     "end_time": "2023-09-06T21:52:21.064395Z",
     "start_time": "2023-09-06T21:52:21.055068Z"
    }
   },
   "outputs": [
    {
     "name": "stdout",
     "output_type": "stream",
     "text": [
      "Euclidean distance between Sentence 1 and Sentence 2: 1.4142135623730951\n",
      "Cosine distance between Sentence 1 and Sentence 2: 0.33333333333333326\n",
      "Euclidean distance between Sentence 1 and Sentence 3: 2.0\n",
      "Cosine distance between Sentence 1 and Sentence 3: 0.03923107716947705\n"
     ]
    }
   ],
   "source": [
    "sentence1_vector = df.iloc[0].values\n",
    "sentence2_vector = df.iloc[1].values\n",
    "sentence3_vector = df.iloc[2].values\n",
    "\n",
    "euclidean_dist_12 = euclidean_distance(sentence1_vector, sentence2_vector)\n",
    "cosine_dist_12 = cosine_distance(sentence1_vector, sentence2_vector)\n",
    "\n",
    "euclidean_dist_13 = euclidean_distance(sentence1_vector, sentence3_vector)\n",
    "cosine_dist_13 = cosine_distance(sentence1_vector, sentence3_vector)\n",
    "\n",
    "print(f\"Euclidean distance between Sentence 1 and Sentence 2: {euclidean_dist_12}\")\n",
    "print(f\"Cosine distance between Sentence 1 and Sentence 2: {cosine_dist_12}\")\n",
    "\n",
    "print(f\"Euclidean distance between Sentence 1 and Sentence 3: {euclidean_dist_13}\")\n",
    "print(f\"Cosine distance between Sentence 1 and Sentence 3: {cosine_dist_13}\")"
   ]
  },
  {
   "cell_type": "code",
   "execution_count": null,
   "id": "fc3962a1-76a6-48d7-81b2-45ca3cd61254",
   "metadata": {
    "id": "fc3962a1-76a6-48d7-81b2-45ca3cd61254"
   },
   "outputs": [],
   "source": []
  },
  {
   "cell_type": "code",
   "execution_count": null,
   "id": "95055d5d-6a12-4a38-802d-fac95f0792d7",
   "metadata": {
    "id": "95055d5d-6a12-4a38-802d-fac95f0792d7"
   },
   "outputs": [],
   "source": []
  }
 ],
 "metadata": {
  "kernelspec": {
   "display_name": "Python 3",
   "language": "python",
   "name": "python3"
  },
  "language_info": {
   "codemirror_mode": {
    "name": "ipython",
    "version": 3
   },
   "file_extension": ".py",
   "mimetype": "text/x-python",
   "name": "python",
   "nbconvert_exporter": "python",
   "pygments_lexer": "ipython3",
   "version": "3.8.10"
  },
  "toc": {
   "base_numbering": 1,
   "nav_menu": {},
   "number_sections": true,
   "sideBar": true,
   "skip_h1_title": false,
   "title_cell": "Table of Contents",
   "title_sidebar": "Contents",
   "toc_cell": false,
   "toc_position": {
    "height": "calc(100% - 180px)",
    "left": "10px",
    "top": "150px",
    "width": "499.594px"
   },
   "toc_section_display": true,
   "toc_window_display": true
  },
  "colab": {
   "provenance": []
  }
 },
 "nbformat": 4,
 "nbformat_minor": 5
}

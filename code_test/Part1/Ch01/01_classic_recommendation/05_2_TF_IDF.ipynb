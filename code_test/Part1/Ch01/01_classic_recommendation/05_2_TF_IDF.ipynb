{
 "cells": [
  {
   "cell_type": "markdown",
   "source": [
    "# TF-IDF"
   ],
   "metadata": {
    "collapsed": false
   },
   "id": "68201022ce78f405"
  },
  {
   "cell_type": "code",
   "execution_count": 4,
   "id": "initial_id",
   "metadata": {
    "collapsed": true,
    "ExecuteTime": {
     "end_time": "2023-11-01T02:48:23.834064Z",
     "start_time": "2023-11-01T02:48:23.823687Z"
    }
   },
   "outputs": [
    {
     "name": "stdout",
     "output_type": "stream",
     "text": [
      "[['i', 'love', 'watching', 'movies'], ['i', 'enjoy', 'reading', 'books'], ['i', 'love', 'reading', 'and', 'watching', 'movies']]\n"
     ]
    }
   ],
   "source": [
    "import pandas as pd\n",
    "from collections import Counter\n",
    "import math\n",
    "\n",
    "documents = [\n",
    "    \"I love watching movies\",\n",
    "    \"I enjoy reading books\",\n",
    "    \"I love reading and watching movies\"\n",
    "]\n",
    "\n",
    "# Preprocess sentences: lower case and tokenize\n",
    "tokenized_documents = [doc.lower().split() for doc in documents]\n",
    "print(tokenized_documents)"
   ]
  },
  {
   "cell_type": "code",
   "execution_count": 5,
   "outputs": [],
   "source": [
    "# Calculate the term frequency\n",
    "def term_frequency(doc):\n",
    "    term_count = Counter(doc)\n",
    "    # Counter({'i': 1, 'love': 1, 'watching': 1, 'movies': 1})\n",
    "    \n",
    "    total_terms = len(doc)\n",
    "    return {term: count / total_terms for term, count in term_count.items()}"
   ],
   "metadata": {
    "collapsed": false,
    "ExecuteTime": {
     "end_time": "2023-11-01T02:48:26.952557Z",
     "start_time": "2023-11-01T02:48:26.946433Z"
    }
   },
   "id": "aca73be0c33d25ba"
  },
  {
   "cell_type": "code",
   "execution_count": 14,
   "outputs": [],
   "source": [
    "tf_values = [term_frequency(doc) for doc in tokenized_documents]"
   ],
   "metadata": {
    "collapsed": false,
    "ExecuteTime": {
     "end_time": "2023-11-01T02:58:17.493988Z",
     "start_time": "2023-11-01T02:58:17.486314Z"
    }
   },
   "id": "67270a409ffa335e"
  },
  {
   "cell_type": "code",
   "execution_count": 15,
   "outputs": [
    {
     "data": {
      "text/plain": "[{'i': 0.25, 'love': 0.25, 'watching': 0.25, 'movies': 0.25},\n {'i': 0.25, 'enjoy': 0.25, 'reading': 0.25, 'books': 0.25},\n {'i': 0.16666666666666666,\n  'love': 0.16666666666666666,\n  'reading': 0.16666666666666666,\n  'and': 0.16666666666666666,\n  'watching': 0.16666666666666666,\n  'movies': 0.16666666666666666}]"
     },
     "execution_count": 15,
     "metadata": {},
     "output_type": "execute_result"
    }
   ],
   "source": [
    "tf_values"
   ],
   "metadata": {
    "collapsed": false,
    "ExecuteTime": {
     "end_time": "2023-11-01T02:58:23.966276Z",
     "start_time": "2023-11-01T02:58:23.956471Z"
    }
   },
   "id": "aa506ddc48166ef0"
  },
  {
   "cell_type": "code",
   "execution_count": 16,
   "outputs": [],
   "source": [
    "tf_df = pd.DataFrame(tf_values, index=['Doc1', 'Doc2', 'Doc3']).fillna(0)"
   ],
   "metadata": {
    "collapsed": false,
    "ExecuteTime": {
     "end_time": "2023-11-01T02:59:05.343623Z",
     "start_time": "2023-11-01T02:59:05.327411Z"
    }
   },
   "id": "563011673bff94f5"
  },
  {
   "cell_type": "code",
   "execution_count": 17,
   "outputs": [
    {
     "data": {
      "text/plain": "             i      love  watching    movies  enjoy   reading  books       and\nDoc1  0.250000  0.250000  0.250000  0.250000   0.00  0.000000   0.00  0.000000\nDoc2  0.250000  0.000000  0.000000  0.000000   0.25  0.250000   0.25  0.000000\nDoc3  0.166667  0.166667  0.166667  0.166667   0.00  0.166667   0.00  0.166667",
      "text/html": "<div>\n<style scoped>\n    .dataframe tbody tr th:only-of-type {\n        vertical-align: middle;\n    }\n\n    .dataframe tbody tr th {\n        vertical-align: top;\n    }\n\n    .dataframe thead th {\n        text-align: right;\n    }\n</style>\n<table border=\"1\" class=\"dataframe\">\n  <thead>\n    <tr style=\"text-align: right;\">\n      <th></th>\n      <th>i</th>\n      <th>love</th>\n      <th>watching</th>\n      <th>movies</th>\n      <th>enjoy</th>\n      <th>reading</th>\n      <th>books</th>\n      <th>and</th>\n    </tr>\n  </thead>\n  <tbody>\n    <tr>\n      <th>Doc1</th>\n      <td>0.250000</td>\n      <td>0.250000</td>\n      <td>0.250000</td>\n      <td>0.250000</td>\n      <td>0.00</td>\n      <td>0.000000</td>\n      <td>0.00</td>\n      <td>0.000000</td>\n    </tr>\n    <tr>\n      <th>Doc2</th>\n      <td>0.250000</td>\n      <td>0.000000</td>\n      <td>0.000000</td>\n      <td>0.000000</td>\n      <td>0.25</td>\n      <td>0.250000</td>\n      <td>0.25</td>\n      <td>0.000000</td>\n    </tr>\n    <tr>\n      <th>Doc3</th>\n      <td>0.166667</td>\n      <td>0.166667</td>\n      <td>0.166667</td>\n      <td>0.166667</td>\n      <td>0.00</td>\n      <td>0.166667</td>\n      <td>0.00</td>\n      <td>0.166667</td>\n    </tr>\n  </tbody>\n</table>\n</div>"
     },
     "execution_count": 17,
     "metadata": {},
     "output_type": "execute_result"
    }
   ],
   "source": [
    "tf_df"
   ],
   "metadata": {
    "collapsed": false,
    "ExecuteTime": {
     "end_time": "2023-11-01T02:59:07.804230Z",
     "start_time": "2023-11-01T02:59:07.797818Z"
    }
   },
   "id": "161270b60c4b0212"
  },
  {
   "cell_type": "code",
   "execution_count": 6,
   "outputs": [],
   "source": [
    "# Calculate the inverse document frequency\n",
    "# 전체 말뭉치를 대상으로 한번만 실행\n",
    "def inverse_document_frequency(docs):\n",
    "    total_docs = len(docs)\n",
    "    \n",
    "    # {'movies', 'enjoy', 'reading', 'books', 'watching', 'love', 'and', 'i'}\n",
    "    # docs내에 doc이 있고, doc내에 term들의 집합\n",
    "    unique_terms = set(term for doc in docs for term in doc)\n",
    "    \n",
    "    # {'movies': 2, 'enjoy': 1, 'reading': 2, 'books': 1, 'watching': 2, 'love': 2, 'and': 1, 'i': 2}\n",
    "    # unique_terms안의 term에 대해서 docs 내에 doc내에 term이 있을때마다 1씩 더함\n",
    "    term_doc_counts = {term: sum(1 for doc in docs if term in doc) for term in unique_terms}\n",
    "    \n",
    "    return {term: math.log(total_docs / count) for term, count in term_doc_counts.items()}"
   ],
   "metadata": {
    "collapsed": false,
    "ExecuteTime": {
     "end_time": "2023-11-01T02:48:43.898986Z",
     "start_time": "2023-11-01T02:48:43.892827Z"
    }
   },
   "id": "fbdd6f7e16ea2771"
  },
  {
   "cell_type": "code",
   "execution_count": 7,
   "outputs": [],
   "source": [
    "idf_values = inverse_document_frequency(tokenized_documents)"
   ],
   "metadata": {
    "collapsed": false,
    "ExecuteTime": {
     "end_time": "2023-11-01T02:49:57.554751Z",
     "start_time": "2023-11-01T02:49:57.536171Z"
    }
   },
   "id": "295b1abfed7679df"
  },
  {
   "cell_type": "code",
   "execution_count": 8,
   "outputs": [
    {
     "data": {
      "text/plain": "{'watching': 0.4054651081081644,\n 'enjoy': 1.0986122886681098,\n 'i': 0.0,\n 'love': 0.4054651081081644,\n 'books': 1.0986122886681098,\n 'reading': 0.4054651081081644,\n 'movies': 0.4054651081081644,\n 'and': 1.0986122886681098}"
     },
     "execution_count": 8,
     "metadata": {},
     "output_type": "execute_result"
    }
   ],
   "source": [
    "idf_values"
   ],
   "metadata": {
    "collapsed": false,
    "ExecuteTime": {
     "end_time": "2023-11-01T02:50:00.504400Z",
     "start_time": "2023-11-01T02:50:00.493951Z"
    }
   },
   "id": "602bd9fb12987878"
  },
  {
   "cell_type": "code",
   "execution_count": 9,
   "outputs": [],
   "source": [
    "idf_df = pd.DataFrame([idf_values], index=['IDF']).fillna(0)"
   ],
   "metadata": {
    "collapsed": false,
    "ExecuteTime": {
     "end_time": "2023-11-01T02:50:44.653507Z",
     "start_time": "2023-11-01T02:50:44.644160Z"
    }
   },
   "id": "971c8ae589b585bc"
  },
  {
   "cell_type": "code",
   "execution_count": 10,
   "outputs": [
    {
     "data": {
      "text/plain": "     watching     enjoy    i      love     books   reading    movies       and\nIDF  0.405465  1.098612  0.0  0.405465  1.098612  0.405465  0.405465  1.098612",
      "text/html": "<div>\n<style scoped>\n    .dataframe tbody tr th:only-of-type {\n        vertical-align: middle;\n    }\n\n    .dataframe tbody tr th {\n        vertical-align: top;\n    }\n\n    .dataframe thead th {\n        text-align: right;\n    }\n</style>\n<table border=\"1\" class=\"dataframe\">\n  <thead>\n    <tr style=\"text-align: right;\">\n      <th></th>\n      <th>watching</th>\n      <th>enjoy</th>\n      <th>i</th>\n      <th>love</th>\n      <th>books</th>\n      <th>reading</th>\n      <th>movies</th>\n      <th>and</th>\n    </tr>\n  </thead>\n  <tbody>\n    <tr>\n      <th>IDF</th>\n      <td>0.405465</td>\n      <td>1.098612</td>\n      <td>0.0</td>\n      <td>0.405465</td>\n      <td>1.098612</td>\n      <td>0.405465</td>\n      <td>0.405465</td>\n      <td>1.098612</td>\n    </tr>\n  </tbody>\n</table>\n</div>"
     },
     "execution_count": 10,
     "metadata": {},
     "output_type": "execute_result"
    }
   ],
   "source": [
    "idf_df"
   ],
   "metadata": {
    "collapsed": false,
    "ExecuteTime": {
     "end_time": "2023-11-01T02:50:47.132482Z",
     "start_time": "2023-11-01T02:50:47.127299Z"
    }
   },
   "id": "c10f187d0966aaef"
  },
  {
   "cell_type": "code",
   "execution_count": 18,
   "outputs": [],
   "source": [
    "# Calculate the TF-IDF values\n",
    "def tf_idf(tf, idf):\n",
    "    return {term: tf_val * idf[term] for term,tf_val in tf.items()}"
   ],
   "metadata": {
    "collapsed": false,
    "ExecuteTime": {
     "end_time": "2023-11-01T02:59:31.662855Z",
     "start_time": "2023-11-01T02:59:31.660315Z"
    }
   },
   "id": "488dd58d4400f51f"
  },
  {
   "cell_type": "code",
   "execution_count": 19,
   "outputs": [],
   "source": [
    "tf_idf_values = [tf_idf(tf, idf_values) for tf in tf_values]"
   ],
   "metadata": {
    "collapsed": false,
    "ExecuteTime": {
     "end_time": "2023-11-01T02:59:32.596224Z",
     "start_time": "2023-11-01T02:59:32.593163Z"
    }
   },
   "id": "a1678e6af0f3fdf4"
  },
  {
   "cell_type": "code",
   "execution_count": 20,
   "outputs": [],
   "source": [
    "tf_idf_df = pd.DataFrame(tf_idf_values, index=['Doc1', 'Doc2', 'Doc3']).fillna(0)"
   ],
   "metadata": {
    "collapsed": false,
    "ExecuteTime": {
     "end_time": "2023-11-01T02:59:33.852147Z",
     "start_time": "2023-11-01T02:59:33.843101Z"
    }
   },
   "id": "6b3976e3141dfe3c"
  },
  {
   "cell_type": "code",
   "execution_count": 21,
   "outputs": [
    {
     "data": {
      "text/plain": "        i      love  watching    movies     enjoy   reading     books  \\\nDoc1  0.0  0.101366  0.101366  0.101366  0.000000  0.000000  0.000000   \nDoc2  0.0  0.000000  0.000000  0.000000  0.274653  0.101366  0.274653   \nDoc3  0.0  0.067578  0.067578  0.067578  0.000000  0.067578  0.000000   \n\n           and  \nDoc1  0.000000  \nDoc2  0.000000  \nDoc3  0.183102  ",
      "text/html": "<div>\n<style scoped>\n    .dataframe tbody tr th:only-of-type {\n        vertical-align: middle;\n    }\n\n    .dataframe tbody tr th {\n        vertical-align: top;\n    }\n\n    .dataframe thead th {\n        text-align: right;\n    }\n</style>\n<table border=\"1\" class=\"dataframe\">\n  <thead>\n    <tr style=\"text-align: right;\">\n      <th></th>\n      <th>i</th>\n      <th>love</th>\n      <th>watching</th>\n      <th>movies</th>\n      <th>enjoy</th>\n      <th>reading</th>\n      <th>books</th>\n      <th>and</th>\n    </tr>\n  </thead>\n  <tbody>\n    <tr>\n      <th>Doc1</th>\n      <td>0.0</td>\n      <td>0.101366</td>\n      <td>0.101366</td>\n      <td>0.101366</td>\n      <td>0.000000</td>\n      <td>0.000000</td>\n      <td>0.000000</td>\n      <td>0.000000</td>\n    </tr>\n    <tr>\n      <th>Doc2</th>\n      <td>0.0</td>\n      <td>0.000000</td>\n      <td>0.000000</td>\n      <td>0.000000</td>\n      <td>0.274653</td>\n      <td>0.101366</td>\n      <td>0.274653</td>\n      <td>0.000000</td>\n    </tr>\n    <tr>\n      <th>Doc3</th>\n      <td>0.0</td>\n      <td>0.067578</td>\n      <td>0.067578</td>\n      <td>0.067578</td>\n      <td>0.000000</td>\n      <td>0.067578</td>\n      <td>0.000000</td>\n      <td>0.183102</td>\n    </tr>\n  </tbody>\n</table>\n</div>"
     },
     "execution_count": 21,
     "metadata": {},
     "output_type": "execute_result"
    }
   ],
   "source": [
    "tf_idf_df"
   ],
   "metadata": {
    "collapsed": false,
    "ExecuteTime": {
     "end_time": "2023-11-01T03:00:43.029771Z",
     "start_time": "2023-11-01T03:00:43.023833Z"
    }
   },
   "id": "707d3b6e479b82a"
  },
  {
   "cell_type": "code",
   "execution_count": null,
   "outputs": [],
   "source": [],
   "metadata": {
    "collapsed": false
   },
   "id": "40918a640329a499"
  }
 ],
 "metadata": {
  "kernelspec": {
   "display_name": "Python 3",
   "language": "python",
   "name": "python3"
  },
  "language_info": {
   "codemirror_mode": {
    "name": "ipython",
    "version": 2
   },
   "file_extension": ".py",
   "mimetype": "text/x-python",
   "name": "python",
   "nbconvert_exporter": "python",
   "pygments_lexer": "ipython2",
   "version": "2.7.6"
  }
 },
 "nbformat": 4,
 "nbformat_minor": 5
}

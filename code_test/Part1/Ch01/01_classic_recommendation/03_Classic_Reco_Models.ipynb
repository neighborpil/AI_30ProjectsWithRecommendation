{
 "cells": [
  {
   "cell_type": "code",
   "execution_count": 2,
   "id": "6280cb44",
   "metadata": {
    "id": "6280cb44",
    "executionInfo": {
     "status": "ok",
     "timestamp": 1683435243014,
     "user_tz": -540,
     "elapsed": 1834,
     "user": {
      "displayName": "Myeonghak Lee",
      "userId": "01376346143254624391"
     }
    },
    "ExecuteTime": {
     "end_time": "2023-09-06T22:05:51.376226Z",
     "start_time": "2023-09-06T22:05:50.542631Z"
    }
   },
   "outputs": [],
   "source": [
    "import pandas as pd\n",
    "import numpy as np\n",
    "from sklearn.metrics.pairwise import cosine_similarity\n",
    "from sklearn.model_selection import train_test_split\n",
    "from sklearn.metrics import precision_score, recall_score\n",
    "import requests\n",
    "import zipfile\n",
    "import os"
   ]
  },
  {
   "cell_type": "code",
   "source": [
    "# from google.colab import drive\n",
    "# drive.mount('/content/drive')"
   ],
   "metadata": {
    "colab": {
     "base_uri": "https://localhost:8080/"
    },
    "id": "T2erxQ7xjpcu",
    "executionInfo": {
     "status": "ok",
     "timestamp": 1683435266989,
     "user_tz": -540,
     "elapsed": 23978,
     "user": {
      "displayName": "Myeonghak Lee",
      "userId": "01376346143254624391"
     }
    },
    "outputId": "0e7297e8-0acf-4d76-99c9-21d93f433baa"
   },
   "id": "T2erxQ7xjpcu",
   "execution_count": 2,
   "outputs": [
    {
     "output_type": "stream",
     "name": "stdout",
     "text": [
      "Mounted at /content/drive\n"
     ]
    }
   ]
  },
  {
   "cell_type": "code",
   "source": [
    "# os.chdir('/content/drive/MyDrive/패캠강의/fastcampus_recsys_2301/Fastcampus_Codes/01_classic_recommendation/')"
   ],
   "metadata": {
    "id": "2SYlC7xCjsY0",
    "executionInfo": {
     "status": "ok",
     "timestamp": 1683435268015,
     "user_tz": -540,
     "elapsed": 1030,
     "user": {
      "displayName": "Myeonghak Lee",
      "userId": "01376346143254624391"
     }
    }
   },
   "id": "2SYlC7xCjsY0",
   "execution_count": 3,
   "outputs": []
  },
  {
   "cell_type": "code",
   "source": [
    "# Download and unzip the dataset\n",
    "data_path = \"../../../data/book_crossing/\"\n",
    "\n",
    "if not all(os.path.exists(data_path+file) for file in ['BX-Books.csv', 'BX-Users.csv', 'BX-Book-Ratings.csv']):\n",
    "    url = 'http://www2.informatik.uni-freiburg.de/~cziegler/BX/BX-CSV-Dump.zip'\n",
    "    response = requests.get(url)\n",
    "    zip_file = zipfile.ZipFile(io.BytesIO(response.content))\n",
    "    zip_file.extractall(data_path)\n",
    "    \n",
    "else:\n",
    "    print(\"Data Available. Just Load It!\")\n",
    "\n",
    "# Load the data\n",
    "books = pd.read_csv(data_path+'BX-Books.csv', sep=';', error_bad_lines=False, warn_bad_lines=False, encoding=\"latin-1\")\n",
    "users = pd.read_csv(data_path+'BX-Users.csv', sep=';', error_bad_lines=False, warn_bad_lines=False,encoding=\"latin-1\")\n",
    "ratings = pd.read_csv(data_path+'BX-Book-Ratings.csv', sep=';', error_bad_lines=False, warn_bad_lines=False, encoding=\"latin-1\")\n",
    "\n",
    "# Preprocess the data\n",
    "ratings = ratings.merge(books[['ISBN', 'Book-Title']], on='ISBN')\n",
    "ratings = ratings.drop(['ISBN'], axis=1)"
   ],
   "metadata": {
    "id": "Po0gGzUAjqbI",
    "colab": {
     "base_uri": "https://localhost:8080/"
    },
    "executionInfo": {
     "status": "ok",
     "timestamp": 1683435799408,
     "user_tz": -540,
     "elapsed": 5101,
     "user": {
      "displayName": "Myeonghak Lee",
      "userId": "01376346143254624391"
     }
    },
    "outputId": "43b0e091-47d0-456e-c093-551a62125fb4",
    "ExecuteTime": {
     "end_time": "2023-09-06T22:05:55.217361Z",
     "start_time": "2023-09-06T22:05:53.622059Z"
    }
   },
   "id": "Po0gGzUAjqbI",
   "execution_count": 3,
   "outputs": [
    {
     "name": "stdout",
     "output_type": "stream",
     "text": [
      "Data Available. Just Load It!\n"
     ]
    },
    {
     "name": "stderr",
     "output_type": "stream",
     "text": [
      "/var/folders/jv/v8v_byq94r70bn81gkfc9m6m0000gn/T/ipykernel_18939/1136979317.py:14: FutureWarning: The error_bad_lines argument has been deprecated and will be removed in a future version. Use on_bad_lines in the future.\n",
      "\n",
      "\n",
      "  books = pd.read_csv(data_path+'BX-Books.csv', sep=';', error_bad_lines=False, warn_bad_lines=False, encoding=\"latin-1\")\n",
      "/var/folders/jv/v8v_byq94r70bn81gkfc9m6m0000gn/T/ipykernel_18939/1136979317.py:14: FutureWarning: The warn_bad_lines argument has been deprecated and will be removed in a future version. Use on_bad_lines in the future.\n",
      "\n",
      "\n",
      "  books = pd.read_csv(data_path+'BX-Books.csv', sep=';', error_bad_lines=False, warn_bad_lines=False, encoding=\"latin-1\")\n",
      "/var/folders/jv/v8v_byq94r70bn81gkfc9m6m0000gn/T/ipykernel_18939/1136979317.py:14: DtypeWarning: Columns (3) have mixed types. Specify dtype option on import or set low_memory=False.\n",
      "  books = pd.read_csv(data_path+'BX-Books.csv', sep=';', error_bad_lines=False, warn_bad_lines=False, encoding=\"latin-1\")\n",
      "/var/folders/jv/v8v_byq94r70bn81gkfc9m6m0000gn/T/ipykernel_18939/1136979317.py:15: FutureWarning: The error_bad_lines argument has been deprecated and will be removed in a future version. Use on_bad_lines in the future.\n",
      "\n",
      "\n",
      "  users = pd.read_csv(data_path+'BX-Users.csv', sep=';', error_bad_lines=False, warn_bad_lines=False,encoding=\"latin-1\")\n",
      "/var/folders/jv/v8v_byq94r70bn81gkfc9m6m0000gn/T/ipykernel_18939/1136979317.py:15: FutureWarning: The warn_bad_lines argument has been deprecated and will be removed in a future version. Use on_bad_lines in the future.\n",
      "\n",
      "\n",
      "  users = pd.read_csv(data_path+'BX-Users.csv', sep=';', error_bad_lines=False, warn_bad_lines=False,encoding=\"latin-1\")\n",
      "/var/folders/jv/v8v_byq94r70bn81gkfc9m6m0000gn/T/ipykernel_18939/1136979317.py:16: FutureWarning: The error_bad_lines argument has been deprecated and will be removed in a future version. Use on_bad_lines in the future.\n",
      "\n",
      "\n",
      "  ratings = pd.read_csv(data_path+'BX-Book-Ratings.csv', sep=';', error_bad_lines=False, warn_bad_lines=False, encoding=\"latin-1\")\n",
      "/var/folders/jv/v8v_byq94r70bn81gkfc9m6m0000gn/T/ipykernel_18939/1136979317.py:16: FutureWarning: The warn_bad_lines argument has been deprecated and will be removed in a future version. Use on_bad_lines in the future.\n",
      "\n",
      "\n",
      "  ratings = pd.read_csv(data_path+'BX-Book-Ratings.csv', sep=';', error_bad_lines=False, warn_bad_lines=False, encoding=\"latin-1\")\n"
     ]
    }
   ]
  },
  {
   "cell_type": "code",
   "source": [
    "ratings.shape"
   ],
   "metadata": {
    "colab": {
     "base_uri": "https://localhost:8080/"
    },
    "id": "fzWxrjjhl7kN",
    "executionInfo": {
     "status": "ok",
     "timestamp": 1683435801793,
     "user_tz": -540,
     "elapsed": 5,
     "user": {
      "displayName": "Myeonghak Lee",
      "userId": "01376346143254624391"
     }
    },
    "outputId": "816577de-ef02-489e-cc0c-6093806b6d7e",
    "ExecuteTime": {
     "end_time": "2023-09-06T22:05:57.684909Z",
     "start_time": "2023-09-06T22:05:57.677908Z"
    }
   },
   "id": "fzWxrjjhl7kN",
   "execution_count": 4,
   "outputs": [
    {
     "data": {
      "text/plain": "(1031136, 3)"
     },
     "execution_count": 4,
     "metadata": {},
     "output_type": "execute_result"
    }
   ]
  },
  {
   "cell_type": "code",
   "source": [
    "users['User-ID'].nunique()"
   ],
   "metadata": {
    "colab": {
     "base_uri": "https://localhost:8080/"
    },
    "id": "WXtV-HEpim5B",
    "executionInfo": {
     "status": "ok",
     "timestamp": 1683435371391,
     "user_tz": -540,
     "elapsed": 3,
     "user": {
      "displayName": "Myeonghak Lee",
      "userId": "01376346143254624391"
     }
    },
    "outputId": "eaae8d57-3173-469c-b85e-0fc6455c08c3",
    "ExecuteTime": {
     "end_time": "2023-09-06T22:06:00.624443Z",
     "start_time": "2023-09-06T22:06:00.613441Z"
    }
   },
   "id": "WXtV-HEpim5B",
   "execution_count": 5,
   "outputs": [
    {
     "data": {
      "text/plain": "278858"
     },
     "execution_count": 5,
     "metadata": {},
     "output_type": "execute_result"
    }
   ]
  },
  {
   "cell_type": "code",
   "source": [
    "ratings.head()"
   ],
   "metadata": {
    "colab": {
     "base_uri": "https://localhost:8080/",
     "height": 206
    },
    "id": "TswlK0hqlS5t",
    "executionInfo": {
     "status": "ok",
     "timestamp": 1683435639076,
     "user_tz": -540,
     "elapsed": 38,
     "user": {
      "displayName": "Myeonghak Lee",
      "userId": "01376346143254624391"
     }
    },
    "outputId": "7ac6ab13-0c74-45d3-cc04-16ec1a731b78",
    "ExecuteTime": {
     "end_time": "2023-09-06T22:06:01.759785Z",
     "start_time": "2023-09-06T22:06:01.745906Z"
    }
   },
   "id": "TswlK0hqlS5t",
   "execution_count": 6,
   "outputs": [
    {
     "data": {
      "text/plain": "   User-ID  Book-Rating            Book-Title\n0   276725            0  Flesh Tones: A Novel\n1     2313            5  Flesh Tones: A Novel\n2     6543            0  Flesh Tones: A Novel\n3     8680            5  Flesh Tones: A Novel\n4    10314            9  Flesh Tones: A Novel",
      "text/html": "<div>\n<style scoped>\n    .dataframe tbody tr th:only-of-type {\n        vertical-align: middle;\n    }\n\n    .dataframe tbody tr th {\n        vertical-align: top;\n    }\n\n    .dataframe thead th {\n        text-align: right;\n    }\n</style>\n<table border=\"1\" class=\"dataframe\">\n  <thead>\n    <tr style=\"text-align: right;\">\n      <th></th>\n      <th>User-ID</th>\n      <th>Book-Rating</th>\n      <th>Book-Title</th>\n    </tr>\n  </thead>\n  <tbody>\n    <tr>\n      <th>0</th>\n      <td>276725</td>\n      <td>0</td>\n      <td>Flesh Tones: A Novel</td>\n    </tr>\n    <tr>\n      <th>1</th>\n      <td>2313</td>\n      <td>5</td>\n      <td>Flesh Tones: A Novel</td>\n    </tr>\n    <tr>\n      <th>2</th>\n      <td>6543</td>\n      <td>0</td>\n      <td>Flesh Tones: A Novel</td>\n    </tr>\n    <tr>\n      <th>3</th>\n      <td>8680</td>\n      <td>5</td>\n      <td>Flesh Tones: A Novel</td>\n    </tr>\n    <tr>\n      <th>4</th>\n      <td>10314</td>\n      <td>9</td>\n      <td>Flesh Tones: A Novel</td>\n    </tr>\n  </tbody>\n</table>\n</div>"
     },
     "execution_count": 6,
     "metadata": {},
     "output_type": "execute_result"
    }
   ]
  },
  {
   "cell_type": "code",
   "source": [
    "books.head()"
   ],
   "metadata": {
    "colab": {
     "base_uri": "https://localhost:8080/",
     "height": 478
    },
    "id": "ftbL8GealU7G",
    "executionInfo": {
     "status": "ok",
     "timestamp": 1683435642143,
     "user_tz": -540,
     "elapsed": 15,
     "user": {
      "displayName": "Myeonghak Lee",
      "userId": "01376346143254624391"
     }
    },
    "outputId": "5f88bcc1-978a-4d83-aa98-675084e6ad60",
    "ExecuteTime": {
     "end_time": "2023-09-06T22:06:02.661599Z",
     "start_time": "2023-09-06T22:06:02.650Z"
    }
   },
   "id": "ftbL8GealU7G",
   "execution_count": 7,
   "outputs": [
    {
     "data": {
      "text/plain": "         ISBN                                         Book-Title  \\\n0  0195153448                                Classical Mythology   \n1  0002005018                                       Clara Callan   \n2  0060973129                               Decision in Normandy   \n3  0374157065  Flu: The Story of the Great Influenza Pandemic...   \n4  0393045218                             The Mummies of Urumchi   \n\n            Book-Author Year-Of-Publication                   Publisher  \\\n0    Mark P. O. Morford                2002     Oxford University Press   \n1  Richard Bruce Wright                2001       HarperFlamingo Canada   \n2          Carlo D'Este                1991             HarperPerennial   \n3      Gina Bari Kolata                1999        Farrar Straus Giroux   \n4       E. J. W. Barber                1999  W. W. Norton &amp; Company   \n\n                                         Image-URL-S  \\\n0  http://images.amazon.com/images/P/0195153448.0...   \n1  http://images.amazon.com/images/P/0002005018.0...   \n2  http://images.amazon.com/images/P/0060973129.0...   \n3  http://images.amazon.com/images/P/0374157065.0...   \n4  http://images.amazon.com/images/P/0393045218.0...   \n\n                                         Image-URL-M  \\\n0  http://images.amazon.com/images/P/0195153448.0...   \n1  http://images.amazon.com/images/P/0002005018.0...   \n2  http://images.amazon.com/images/P/0060973129.0...   \n3  http://images.amazon.com/images/P/0374157065.0...   \n4  http://images.amazon.com/images/P/0393045218.0...   \n\n                                         Image-URL-L  \n0  http://images.amazon.com/images/P/0195153448.0...  \n1  http://images.amazon.com/images/P/0002005018.0...  \n2  http://images.amazon.com/images/P/0060973129.0...  \n3  http://images.amazon.com/images/P/0374157065.0...  \n4  http://images.amazon.com/images/P/0393045218.0...  ",
      "text/html": "<div>\n<style scoped>\n    .dataframe tbody tr th:only-of-type {\n        vertical-align: middle;\n    }\n\n    .dataframe tbody tr th {\n        vertical-align: top;\n    }\n\n    .dataframe thead th {\n        text-align: right;\n    }\n</style>\n<table border=\"1\" class=\"dataframe\">\n  <thead>\n    <tr style=\"text-align: right;\">\n      <th></th>\n      <th>ISBN</th>\n      <th>Book-Title</th>\n      <th>Book-Author</th>\n      <th>Year-Of-Publication</th>\n      <th>Publisher</th>\n      <th>Image-URL-S</th>\n      <th>Image-URL-M</th>\n      <th>Image-URL-L</th>\n    </tr>\n  </thead>\n  <tbody>\n    <tr>\n      <th>0</th>\n      <td>0195153448</td>\n      <td>Classical Mythology</td>\n      <td>Mark P. O. Morford</td>\n      <td>2002</td>\n      <td>Oxford University Press</td>\n      <td>http://images.amazon.com/images/P/0195153448.0...</td>\n      <td>http://images.amazon.com/images/P/0195153448.0...</td>\n      <td>http://images.amazon.com/images/P/0195153448.0...</td>\n    </tr>\n    <tr>\n      <th>1</th>\n      <td>0002005018</td>\n      <td>Clara Callan</td>\n      <td>Richard Bruce Wright</td>\n      <td>2001</td>\n      <td>HarperFlamingo Canada</td>\n      <td>http://images.amazon.com/images/P/0002005018.0...</td>\n      <td>http://images.amazon.com/images/P/0002005018.0...</td>\n      <td>http://images.amazon.com/images/P/0002005018.0...</td>\n    </tr>\n    <tr>\n      <th>2</th>\n      <td>0060973129</td>\n      <td>Decision in Normandy</td>\n      <td>Carlo D'Este</td>\n      <td>1991</td>\n      <td>HarperPerennial</td>\n      <td>http://images.amazon.com/images/P/0060973129.0...</td>\n      <td>http://images.amazon.com/images/P/0060973129.0...</td>\n      <td>http://images.amazon.com/images/P/0060973129.0...</td>\n    </tr>\n    <tr>\n      <th>3</th>\n      <td>0374157065</td>\n      <td>Flu: The Story of the Great Influenza Pandemic...</td>\n      <td>Gina Bari Kolata</td>\n      <td>1999</td>\n      <td>Farrar Straus Giroux</td>\n      <td>http://images.amazon.com/images/P/0374157065.0...</td>\n      <td>http://images.amazon.com/images/P/0374157065.0...</td>\n      <td>http://images.amazon.com/images/P/0374157065.0...</td>\n    </tr>\n    <tr>\n      <th>4</th>\n      <td>0393045218</td>\n      <td>The Mummies of Urumchi</td>\n      <td>E. J. W. Barber</td>\n      <td>1999</td>\n      <td>W. W. Norton &amp;amp; Company</td>\n      <td>http://images.amazon.com/images/P/0393045218.0...</td>\n      <td>http://images.amazon.com/images/P/0393045218.0...</td>\n      <td>http://images.amazon.com/images/P/0393045218.0...</td>\n    </tr>\n  </tbody>\n</table>\n</div>"
     },
     "execution_count": 7,
     "metadata": {},
     "output_type": "execute_result"
    }
   ]
  },
  {
   "cell_type": "code",
   "source": [
    "ratings['User-ID'].nunique()"
   ],
   "metadata": {
    "colab": {
     "base_uri": "https://localhost:8080/"
    },
    "id": "NXCo4QZdiqqH",
    "executionInfo": {
     "status": "ok",
     "timestamp": 1683435385098,
     "user_tz": -540,
     "elapsed": 4,
     "user": {
      "displayName": "Myeonghak Lee",
      "userId": "01376346143254624391"
     }
    },
    "outputId": "ea03b276-f3b9-495c-8e60-6612901ec1b1",
    "ExecuteTime": {
     "end_time": "2023-09-06T22:06:03.709380Z",
     "start_time": "2023-09-06T22:06:03.691183Z"
    }
   },
   "id": "NXCo4QZdiqqH",
   "execution_count": 8,
   "outputs": [
    {
     "data": {
      "text/plain": "92106"
     },
     "execution_count": 8,
     "metadata": {},
     "output_type": "execute_result"
    }
   ]
  },
  {
   "cell_type": "code",
   "source": [
    "ratings['Book-Title'].nunique()"
   ],
   "metadata": {
    "colab": {
     "base_uri": "https://localhost:8080/"
    },
    "id": "En3lCbF3kW_K",
    "executionInfo": {
     "status": "ok",
     "timestamp": 1683435418074,
     "user_tz": -540,
     "elapsed": 436,
     "user": {
      "displayName": "Myeonghak Lee",
      "userId": "01376346143254624391"
     }
    },
    "outputId": "1d5f4c68-de70-4512-aaab-2d6fa625e1c1",
    "ExecuteTime": {
     "end_time": "2023-09-06T22:06:04.277134Z",
     "start_time": "2023-09-06T22:06:04.208282Z"
    }
   },
   "id": "En3lCbF3kW_K",
   "execution_count": 9,
   "outputs": [
    {
     "data": {
      "text/plain": "241071"
     },
     "execution_count": 9,
     "metadata": {},
     "output_type": "execute_result"
    }
   ]
  },
  {
   "cell_type": "code",
   "source": [
    "books.ISBN.nunique()"
   ],
   "metadata": {
    "colab": {
     "base_uri": "https://localhost:8080/"
    },
    "id": "f2eBMjKzisOI",
    "executionInfo": {
     "status": "ok",
     "timestamp": 1683435347744,
     "user_tz": -540,
     "elapsed": 2,
     "user": {
      "displayName": "Myeonghak Lee",
      "userId": "01376346143254624391"
     }
    },
    "outputId": "fec63f29-911a-493c-e193-1d73be58deb9",
    "ExecuteTime": {
     "end_time": "2023-09-06T22:06:05.065665Z",
     "start_time": "2023-09-06T22:06:05.044702Z"
    }
   },
   "id": "f2eBMjKzisOI",
   "execution_count": 10,
   "outputs": [
    {
     "data": {
      "text/plain": "271360"
     },
     "execution_count": 10,
     "metadata": {},
     "output_type": "execute_result"
    }
   ]
  },
  {
   "cell_type": "code",
   "execution_count": 11,
   "id": "d4264a04",
   "metadata": {
    "id": "d4264a04",
    "executionInfo": {
     "status": "ok",
     "timestamp": 1683435809722,
     "user_tz": -540,
     "elapsed": 311,
     "user": {
      "displayName": "Myeonghak Lee",
      "userId": "01376346143254624391"
     }
    },
    "ExecuteTime": {
     "end_time": "2023-09-06T22:06:06.933460Z",
     "start_time": "2023-09-06T22:06:06.886641Z"
    }
   },
   "outputs": [],
   "source": [
    "# Filter books with at least min_book_ratings ratings\n",
    "min_book_ratings = 10\n",
    "book_rating_counts = ratings['Book-Title'].value_counts()\n",
    "filtered_books = book_rating_counts[book_rating_counts >= min_book_ratings].index\n",
    "ratings = ratings[ratings['Book-Title'].isin(filtered_books)]"
   ]
  },
  {
   "cell_type": "code",
   "source": [
    "# Filter users who rated at least min_user_ratings books\n",
    "min_user_ratings = 5\n",
    "user_rating_counts = ratings['User-ID'].value_counts()\n",
    "filtered_users = user_rating_counts[user_rating_counts >= min_user_ratings].index\n",
    "ratings = ratings[ratings['User-ID'].isin(filtered_users)]"
   ],
   "metadata": {
    "id": "Aexeh8nIlhQn",
    "executionInfo": {
     "status": "ok",
     "timestamp": 1683435809724,
     "user_tz": -540,
     "elapsed": 7,
     "user": {
      "displayName": "Myeonghak Lee",
      "userId": "01376346143254624391"
     }
    },
    "ExecuteTime": {
     "end_time": "2023-09-06T22:06:07.893452Z",
     "start_time": "2023-09-06T22:06:07.869632Z"
    }
   },
   "id": "Aexeh8nIlhQn",
   "execution_count": 12,
   "outputs": []
  },
  {
   "cell_type": "code",
   "source": [
    "ratings.shape"
   ],
   "metadata": {
    "colab": {
     "base_uri": "https://localhost:8080/"
    },
    "id": "0UEtGKcwl4f3",
    "executionInfo": {
     "status": "ok",
     "timestamp": 1683435811837,
     "user_tz": -540,
     "elapsed": 5,
     "user": {
      "displayName": "Myeonghak Lee",
      "userId": "01376346143254624391"
     }
    },
    "outputId": "289255fa-c440-45f9-ac07-5dc90e021014",
    "ExecuteTime": {
     "end_time": "2023-09-06T22:06:08.418586Z",
     "start_time": "2023-09-06T22:06:08.410635Z"
    }
   },
   "id": "0UEtGKcwl4f3",
   "execution_count": 13,
   "outputs": [
    {
     "data": {
      "text/plain": "(491897, 3)"
     },
     "execution_count": 13,
     "metadata": {},
     "output_type": "execute_result"
    }
   ]
  },
  {
   "cell_type": "code",
   "source": [
    "# Create the user-item matrix\n",
    "user_item_matrix = ratings.pivot_table(index='User-ID', columns='Book-Title', values='Book-Rating').fillna(0)"
   ],
   "metadata": {
    "id": "Iee0jt_ilibi",
    "executionInfo": {
     "status": "ok",
     "timestamp": 1683435848385,
     "user_tz": -540,
     "elapsed": 9954,
     "user": {
      "displayName": "Myeonghak Lee",
      "userId": "01376346143254624391"
     }
    },
    "ExecuteTime": {
     "end_time": "2023-09-06T22:06:16.527108Z",
     "start_time": "2023-09-06T22:06:10.900240Z"
    }
   },
   "id": "Iee0jt_ilibi",
   "execution_count": 14,
   "outputs": []
  },
  {
   "cell_type": "code",
   "source": [
    "user_item_matrix.shape"
   ],
   "metadata": {
    "colab": {
     "base_uri": "https://localhost:8080/"
    },
    "id": "085Q-Mk_ivhp",
    "executionInfo": {
     "status": "ok",
     "timestamp": 1683435848386,
     "user_tz": -540,
     "elapsed": 20,
     "user": {
      "displayName": "Myeonghak Lee",
      "userId": "01376346143254624391"
     }
    },
    "outputId": "f35c5384-41c9-4de7-cda3-d5030b36a8af",
    "ExecuteTime": {
     "end_time": "2023-09-06T22:06:18.173912Z",
     "start_time": "2023-09-06T22:06:18.162068Z"
    }
   },
   "id": "085Q-Mk_ivhp",
   "execution_count": 15,
   "outputs": [
    {
     "data": {
      "text/plain": "(14322, 17446)"
     },
     "execution_count": 15,
     "metadata": {},
     "output_type": "execute_result"
    }
   ]
  },
  {
   "cell_type": "code",
   "execution_count": 16,
   "id": "b83edebb",
   "metadata": {
    "id": "b83edebb",
    "executionInfo": {
     "status": "ok",
     "timestamp": 1683435869835,
     "user_tz": -540,
     "elapsed": 512,
     "user": {
      "displayName": "Myeonghak Lee",
      "userId": "01376346143254624391"
     }
    },
    "ExecuteTime": {
     "end_time": "2023-09-06T22:06:22.723415Z",
     "start_time": "2023-09-06T22:06:22.715575Z"
    }
   },
   "outputs": [],
   "source": [
    "# Split user indices into train and test sets\n",
    "user_indices = np.arange(user_item_matrix.shape[0])\n",
    "train_user_indices, test_user_indices = train_test_split(user_indices, test_size=0.2, random_state=42)"
   ]
  },
  {
   "cell_type": "code",
   "execution_count": 17,
   "id": "48605259",
   "metadata": {
    "id": "48605259",
    "outputId": "390b9bf1-4795-4278-bffc-3f9094f6b3cf",
    "colab": {
     "base_uri": "https://localhost:8080/"
    },
    "executionInfo": {
     "status": "ok",
     "timestamp": 1683435907044,
     "user_tz": -540,
     "elapsed": 288,
     "user": {
      "displayName": "Myeonghak Lee",
      "userId": "01376346143254624391"
     }
    },
    "ExecuteTime": {
     "end_time": "2023-09-06T22:06:23.257443Z",
     "start_time": "2023-09-06T22:06:23.230248Z"
    }
   },
   "outputs": [
    {
     "name": "stdout",
     "output_type": "stream",
     "text": [
      "Random Score-Based Recommendations:\n",
      "1. The Glass Harmonica\n",
      "2. The Debutantes\n",
      "3. Death in Holy Orders : An Adam Dalgliesh Mystery\n",
      "4. Celtic Magic (Llewellyn's World Magic Series)\n",
      "5. The Haunting\n",
      "6. The King of Torts\n",
      "7. Last Exit to Brooklyn\n",
      "8. The Stone Monkey : A Lincoln Rhyme Novel\n",
      "9. Story of My Life\n",
      "10. The Time Traveler's Wife\n"
     ]
    }
   ],
   "source": [
    "def random_recommendation(ratings, n=10):\n",
    "    unique_books = ratings['Book-Title'].unique()\n",
    "    random_books = np.random.choice(unique_books, size=n, replace=False)\n",
    "    return random_books\n",
    "\n",
    "random_books = random_recommendation(ratings, n=10)\n",
    "print(\"Random Score-Based Recommendations:\")\n",
    "for i, book in enumerate(random_books, 1):\n",
    "    print(f\"{i}. {book}\")"
   ]
  },
  {
   "cell_type": "code",
   "execution_count": 18,
   "id": "b93a95ba",
   "metadata": {
    "id": "b93a95ba",
    "outputId": "bd3ed506-101e-498b-d747-a398e4962347",
    "colab": {
     "base_uri": "https://localhost:8080/"
    },
    "executionInfo": {
     "status": "ok",
     "timestamp": 1683334316192,
     "user_tz": -540,
     "elapsed": 3,
     "user": {
      "displayName": "Myeonghak Lee",
      "userId": "01376346143254624391"
     }
    },
    "ExecuteTime": {
     "end_time": "2023-09-06T22:06:32.338105Z",
     "start_time": "2023-09-06T22:06:32.289346Z"
    }
   },
   "outputs": [
    {
     "name": "stdout",
     "output_type": "stream",
     "text": [
      "\n",
      "Popularity-Based Recommendations:\n",
      "1. Wild Animus\n",
      "2. The Lovely Bones: A Novel\n",
      "3. The Da Vinci Code\n",
      "4. The Nanny Diaries: A Novel\n",
      "5. Bridget Jones's Diary\n",
      "6. A Painted House\n",
      "7. The Secret Life of Bees\n",
      "8. Divine Secrets of the Ya-Ya Sisterhood: A Novel\n",
      "9. Angels &amp; Demons\n",
      "10. Life of Pi\n"
     ]
    }
   ],
   "source": [
    "def popularity_recommendation(ratings, n=10):\n",
    "    popular_books = ratings.groupby('Book-Title')['Book-Rating'].count().sort_values(ascending=False).head(n).index\n",
    "    return popular_books\n",
    "\n",
    "popular_books = popularity_recommendation(ratings, n=10)\n",
    "print(\"\\nPopularity-Based Recommendations:\")\n",
    "for i, book in enumerate(popular_books, 1):\n",
    "    print(f\"{i}. {book}\")"
   ]
  },
  {
   "cell_type": "code",
   "execution_count": 19,
   "id": "bd371c75",
   "metadata": {
    "id": "bd371c75",
    "executionInfo": {
     "status": "ok",
     "timestamp": 1683334318507,
     "user_tz": -540,
     "elapsed": 3,
     "user": {
      "displayName": "Myeonghak Lee",
      "userId": "01376346143254624391"
     }
    },
    "ExecuteTime": {
     "end_time": "2023-09-06T22:06:35.317143Z",
     "start_time": "2023-09-06T22:06:35.308571Z"
    }
   },
   "outputs": [],
   "source": [
    "def recommend_books(user_index, strategy, k=10):\n",
    "    if strategy == \"random\":\n",
    "        top_k_books = random_recommendation(ratings, n=k)\n",
    "    elif strategy == \"popularity\":\n",
    "        top_k_books = popularity_recommendation(ratings, n=k)\n",
    "    else:\n",
    "        raise ValueError(\"Invalid recommendation strategy\")\n",
    "    return top_k_books\n"
   ]
  },
  {
   "cell_type": "code",
   "source": [
    "def evaluate_model(strategy, k=10):\n",
    "    true_positive = 0\n",
    "    false_positive = 0\n",
    "    false_negative = 0\n",
    "\n",
    "    for user_index in test_user_indices:\n",
    "        true_books = set(user_item_matrix.iloc[user_index][user_item_matrix.iloc[user_index] > 0].index)\n",
    "        recommended_books = set(recommend_books(user_index, strategy, k))\n",
    "\n",
    "        tp = len(true_books.intersection(recommended_books))\n",
    "        fp = len(recommended_books - true_books)\n",
    "        fn = len(true_books - recommended_books)\n",
    "\n",
    "        true_positive += tp\n",
    "        false_positive += fp\n",
    "        false_negative += fn\n",
    "\n",
    "    precision = true_positive / (true_positive + false_positive)\n",
    "    recall = true_positive / (true_positive + false_negative)\n",
    "\n",
    "    return precision, recall"
   ],
   "metadata": {
    "id": "k0rIa6gls2Tg",
    "executionInfo": {
     "status": "ok",
     "timestamp": 1683334318507,
     "user_tz": -540,
     "elapsed": 2,
     "user": {
      "displayName": "Myeonghak Lee",
      "userId": "01376346143254624391"
     }
    },
    "ExecuteTime": {
     "end_time": "2023-09-06T22:06:37.218126Z",
     "start_time": "2023-09-06T22:06:37.205684Z"
    }
   },
   "id": "k0rIa6gls2Tg",
   "execution_count": 20,
   "outputs": []
  },
  {
   "cell_type": "code",
   "execution_count": 21,
   "id": "9a3dca33",
   "metadata": {
    "id": "9a3dca33",
    "outputId": "c79b7807-43fb-4750-b8e1-142e672f4b6e",
    "ExecuteTime": {
     "end_time": "2023-09-06T22:07:48.728131Z",
     "start_time": "2023-09-06T22:06:40.377251Z"
    }
   },
   "outputs": [
    {
     "name": "stdout",
     "output_type": "stream",
     "text": [
      "Random Score-Based: Precision = 0.0007, Recall = 0.0006\n"
     ]
    }
   ],
   "source": [
    "# Evaluate the random score-based recommendation model\n",
    "random_precision, random_recall = evaluate_model(strategy=\"random\")\n",
    "print(f\"Random Score-Based: Precision = {random_precision:.4f}, Recall = {random_recall:.4f}\")"
   ]
  },
  {
   "cell_type": "code",
   "execution_count": 22,
   "id": "fcc837d4-a961-4064-aca8-bafcb7b02159",
   "metadata": {
    "id": "fcc837d4-a961-4064-aca8-bafcb7b02159",
    "outputId": "7cb91bb2-0099-48bb-af00-de3a19c5e87e",
    "ExecuteTime": {
     "end_time": "2023-09-06T22:10:00.299916Z",
     "start_time": "2023-09-06T22:07:48.729868Z"
    }
   },
   "outputs": [
    {
     "name": "stdout",
     "output_type": "stream",
     "text": [
      "Popularity-Based: Precision = 0.0200, Recall = 0.0167\n"
     ]
    }
   ],
   "source": [
    "# Evaluate the popularity-based recommendation model\n",
    "popularity_precision, popularity_recall = evaluate_model(strategy=\"popularity\")\n",
    "print(f\"Popularity-Based: Precision = {popularity_precision:.4f}, Recall = {popularity_recall:.4f}\")"
   ]
  },
  {
   "cell_type": "code",
   "execution_count": null,
   "id": "b1b8ff5d",
   "metadata": {
    "id": "b1b8ff5d"
   },
   "outputs": [],
   "source": []
  }
 ],
 "metadata": {
  "kernelspec": {
   "display_name": "Python 3",
   "language": "python",
   "name": "python3"
  },
  "language_info": {
   "codemirror_mode": {
    "name": "ipython",
    "version": 3
   },
   "file_extension": ".py",
   "mimetype": "text/x-python",
   "name": "python",
   "nbconvert_exporter": "python",
   "pygments_lexer": "ipython3",
   "version": "3.8.10"
  },
  "toc": {
   "base_numbering": 1,
   "nav_menu": {},
   "number_sections": true,
   "sideBar": true,
   "skip_h1_title": false,
   "title_cell": "Table of Contents",
   "title_sidebar": "Contents",
   "toc_cell": false,
   "toc_position": {},
   "toc_section_display": true,
   "toc_window_display": false
  },
  "colab": {
   "provenance": []
  }
 },
 "nbformat": 4,
 "nbformat_minor": 5
}

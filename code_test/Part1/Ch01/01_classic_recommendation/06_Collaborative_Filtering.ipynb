{
 "cells": [
  {
   "cell_type": "code",
   "execution_count": 1,
   "id": "798edb07",
   "metadata": {
    "id": "798edb07",
    "ExecuteTime": {
     "end_time": "2023-09-07T14:32:31.609528Z",
     "start_time": "2023-09-07T14:32:30.809020Z"
    }
   },
   "outputs": [],
   "source": [
    "import pandas as pd\n",
    "import numpy as np\n",
    "from sklearn.metrics.pairwise import cosine_similarity\n",
    "from sklearn.model_selection import train_test_split\n",
    "from sklearn.metrics import precision_score, recall_score\n",
    "import requests\n",
    "import zipfile\n",
    "import os\n"
   ]
  },
  {
   "cell_type": "code",
   "source": [
    "# from google.colab import drive\n",
    "# drive.mount('/content/drive')"
   ],
   "metadata": {
    "id": "5kla6l9Xj_SW",
    "colab": {
     "base_uri": "https://localhost:8080/"
    },
    "executionInfo": {
     "status": "ok",
     "timestamp": 1683439191405,
     "user_tz": -540,
     "elapsed": 139085,
     "user": {
      "displayName": "Myeonghak Lee",
      "userId": "01376346143254624391"
     }
    },
    "outputId": "ebe7a7de-ba03-48d9-9ee3-ea1c9021bcac"
   },
   "id": "5kla6l9Xj_SW",
   "execution_count": null,
   "outputs": [
    {
     "output_type": "stream",
     "name": "stdout",
     "text": [
      "Mounted at /content/drive\n"
     ]
    }
   ]
  },
  {
   "cell_type": "code",
   "source": [
    "# os.chdir('/content/drive/MyDrive/패캠강의/fastcampus_recsys_2301/Fastcampus_Codes/01_classic_recommendation/')"
   ],
   "metadata": {
    "id": "GyYdgiemkAlj"
   },
   "id": "GyYdgiemkAlj",
   "execution_count": null,
   "outputs": []
  },
  {
   "cell_type": "code",
   "source": [
    "# Download and unzip the dataset\n",
    "data_path = \"../../../data/book_crossing/\"\n",
    "\n",
    "if not all(os.path.exists(data_path+file) for file in ['BX-Books.csv', 'BX-Users.csv', 'BX-Book-Ratings.csv']):\n",
    "    url = 'http://www2.informatik.uni-freiburg.de/~cziegler/BX/BX-CSV-Dump.zip'\n",
    "    response = requests.get(url)\n",
    "    zip_file = zipfile.ZipFile(io.BytesIO(response.content))\n",
    "    zip_file.extractall(data_path)\n",
    "    \n",
    "else:\n",
    "    print(\"Data Available. Just Load It!\")"
   ],
   "metadata": {
    "id": "rqV8UChaj_D5",
    "colab": {
     "base_uri": "https://localhost:8080/"
    },
    "executionInfo": {
     "status": "ok",
     "timestamp": 1683439193244,
     "user_tz": -540,
     "elapsed": 652,
     "user": {
      "displayName": "Myeonghak Lee",
      "userId": "01376346143254624391"
     }
    },
    "outputId": "a07b3867-405e-4401-92eb-a319177292e0",
    "ExecuteTime": {
     "end_time": "2023-09-07T14:32:49.034059Z",
     "start_time": "2023-09-07T14:32:49.021353Z"
    }
   },
   "id": "rqV8UChaj_D5",
   "execution_count": 2,
   "outputs": [
    {
     "name": "stdout",
     "output_type": "stream",
     "text": [
      "Data Available. Just Load It!\n"
     ]
    }
   ]
  },
  {
   "cell_type": "code",
   "execution_count": 3,
   "id": "4d49ff92",
   "metadata": {
    "id": "4d49ff92",
    "outputId": "420e2b30-090c-4439-ebe4-6db5d8372ffa",
    "colab": {
     "base_uri": "https://localhost:8080/"
    },
    "executionInfo": {
     "status": "ok",
     "timestamp": 1683439199073,
     "user_tz": -540,
     "elapsed": 5831,
     "user": {
      "displayName": "Myeonghak Lee",
      "userId": "01376346143254624391"
     }
    },
    "ExecuteTime": {
     "end_time": "2023-09-07T14:33:10.480965Z",
     "start_time": "2023-09-07T14:33:08.871320Z"
    }
   },
   "outputs": [
    {
     "name": "stderr",
     "output_type": "stream",
     "text": [
      "/var/folders/jv/v8v_byq94r70bn81gkfc9m6m0000gn/T/ipykernel_64483/546454725.py:2: FutureWarning: The error_bad_lines argument has been deprecated and will be removed in a future version. Use on_bad_lines in the future.\n",
      "\n",
      "\n",
      "  books = pd.read_csv(data_path+'BX-Books.csv', sep=';', error_bad_lines=False, warn_bad_lines=False, encoding=\"latin-1\")\n",
      "/var/folders/jv/v8v_byq94r70bn81gkfc9m6m0000gn/T/ipykernel_64483/546454725.py:2: FutureWarning: The warn_bad_lines argument has been deprecated and will be removed in a future version. Use on_bad_lines in the future.\n",
      "\n",
      "\n",
      "  books = pd.read_csv(data_path+'BX-Books.csv', sep=';', error_bad_lines=False, warn_bad_lines=False, encoding=\"latin-1\")\n",
      "/var/folders/jv/v8v_byq94r70bn81gkfc9m6m0000gn/T/ipykernel_64483/546454725.py:2: DtypeWarning: Columns (3) have mixed types. Specify dtype option on import or set low_memory=False.\n",
      "  books = pd.read_csv(data_path+'BX-Books.csv', sep=';', error_bad_lines=False, warn_bad_lines=False, encoding=\"latin-1\")\n",
      "/var/folders/jv/v8v_byq94r70bn81gkfc9m6m0000gn/T/ipykernel_64483/546454725.py:3: FutureWarning: The error_bad_lines argument has been deprecated and will be removed in a future version. Use on_bad_lines in the future.\n",
      "\n",
      "\n",
      "  users = pd.read_csv(data_path+'BX-Users.csv', sep=';', error_bad_lines=False, warn_bad_lines=False,encoding=\"latin-1\")\n",
      "/var/folders/jv/v8v_byq94r70bn81gkfc9m6m0000gn/T/ipykernel_64483/546454725.py:3: FutureWarning: The warn_bad_lines argument has been deprecated and will be removed in a future version. Use on_bad_lines in the future.\n",
      "\n",
      "\n",
      "  users = pd.read_csv(data_path+'BX-Users.csv', sep=';', error_bad_lines=False, warn_bad_lines=False,encoding=\"latin-1\")\n",
      "/var/folders/jv/v8v_byq94r70bn81gkfc9m6m0000gn/T/ipykernel_64483/546454725.py:4: FutureWarning: The error_bad_lines argument has been deprecated and will be removed in a future version. Use on_bad_lines in the future.\n",
      "\n",
      "\n",
      "  ratings = pd.read_csv(data_path+'BX-Book-Ratings.csv', sep=';', error_bad_lines=False, warn_bad_lines=False, encoding=\"latin-1\")\n",
      "/var/folders/jv/v8v_byq94r70bn81gkfc9m6m0000gn/T/ipykernel_64483/546454725.py:4: FutureWarning: The warn_bad_lines argument has been deprecated and will be removed in a future version. Use on_bad_lines in the future.\n",
      "\n",
      "\n",
      "  ratings = pd.read_csv(data_path+'BX-Book-Ratings.csv', sep=';', error_bad_lines=False, warn_bad_lines=False, encoding=\"latin-1\")\n"
     ]
    }
   ],
   "source": [
    "# Load the data\n",
    "books = pd.read_csv(data_path+'BX-Books.csv', sep=';', error_bad_lines=False, warn_bad_lines=False, encoding=\"latin-1\")\n",
    "users = pd.read_csv(data_path+'BX-Users.csv', sep=';', error_bad_lines=False, warn_bad_lines=False,encoding=\"latin-1\")\n",
    "ratings = pd.read_csv(data_path+'BX-Book-Ratings.csv', sep=';', error_bad_lines=False, warn_bad_lines=False, encoding=\"latin-1\")\n",
    "\n",
    "# Preprocess the data\n",
    "ratings = ratings.merge(books[['ISBN', 'Book-Title']], on='ISBN')\n",
    "ratings = ratings.drop(['ISBN'], axis=1)"
   ]
  },
  {
   "cell_type": "code",
   "execution_count": null,
   "id": "c665e779",
   "metadata": {
    "ExecuteTime": {
     "end_time": "2023-05-04T17:25:55.687166Z",
     "start_time": "2023-05-04T17:25:34.529187Z"
    },
    "id": "c665e779"
   },
   "outputs": [],
   "source": [
    "# Filter books with at least min_book_ratings ratings\n",
    "min_book_ratings = 10\n",
    "book_rating_counts = ratings['Book-Title'].value_counts()\n",
    "filtered_books = book_rating_counts[book_rating_counts >= min_book_ratings].index\n",
    "ratings = ratings[ratings['Book-Title'].isin(filtered_books)]\n",
    "\n",
    "# Filter users who rated at least min_user_ratings books\n",
    "min_user_ratings = 5\n",
    "user_rating_counts = ratings['User-ID'].value_counts()\n",
    "filtered_users = user_rating_counts[user_rating_counts >= min_user_ratings].index\n",
    "ratings = ratings[ratings['User-ID'].isin(filtered_users)]\n",
    "\n",
    "# Create the user-item matrix\n",
    "user_item_matrix = ratings.pivot_table(index='User-ID', columns='Book-Title', values='Book-Rating').fillna(0)"
   ]
  },
  {
   "cell_type": "code",
   "execution_count": null,
   "id": "29519456",
   "metadata": {
    "ExecuteTime": {
     "end_time": "2023-05-04T17:25:55.687166Z",
     "start_time": "2023-05-04T17:25:34.529187Z"
    },
    "id": "29519456"
   },
   "outputs": [],
   "source": [
    "# Compute the cosine similarity matrix\n",
    "cosine_sim_matrix = cosine_similarity(user_item_matrix)"
   ]
  },
  {
   "cell_type": "code",
   "source": [],
   "metadata": {
    "id": "oPB79J6z0RHj"
   },
   "id": "oPB79J6z0RHj",
   "execution_count": null,
   "outputs": []
  },
  {
   "cell_type": "code",
   "source": [
    "# Split user indices into train and test sets\n",
    "user_indices = np.arange(user_item_matrix.shape[0])\n",
    "train_user_indices, test_user_indices = train_test_split(user_indices, test_size=0.2, random_state=42)"
   ],
   "metadata": {
    "id": "9ZRjtHcPz7u6"
   },
   "id": "9ZRjtHcPz7u6",
   "execution_count": null,
   "outputs": []
  },
  {
   "cell_type": "code",
   "execution_count": null,
   "id": "09fc9369",
   "metadata": {
    "ExecuteTime": {
     "end_time": "2023-05-04T17:26:29.538477Z",
     "start_time": "2023-05-04T17:26:29.527474Z"
    },
    "id": "09fc9369"
   },
   "outputs": [],
   "source": [
    "def collaborative_filtering_recommendation(user_index, k=10):\n",
    "    user_similarities = cosine_sim_matrix[user_index]\n",
    "    top_k_similar_users = np.argsort(user_similarities)[-k-1:-1][::-1]\n",
    "    similar_users_ratings = user_item_matrix.iloc[top_k_similar_users]\n",
    "    mean_ratings = similar_users_ratings.mean(axis=0)\n",
    "    top_k_books = mean_ratings.sort_values(ascending=False).head(k).index\n",
    "    return top_k_books"
   ]
  },
  {
   "cell_type": "code",
   "execution_count": null,
   "id": "77b67715",
   "metadata": {
    "ExecuteTime": {
     "end_time": "2023-05-04T17:36:10.191469Z",
     "start_time": "2023-05-04T17:36:10.139458Z"
    },
    "id": "77b67715",
    "outputId": "7c483971-ef24-4514-c050-0199872502a4",
    "colab": {
     "base_uri": "https://localhost:8080/"
    },
    "executionInfo": {
     "status": "ok",
     "timestamp": 1683439343193,
     "user_tz": -540,
     "elapsed": 6,
     "user": {
      "displayName": "Myeonghak Lee",
      "userId": "01376346143254624391"
     }
    }
   },
   "outputs": [
    {
     "output_type": "stream",
     "name": "stdout",
     "text": [
      "Random Score-Based Recommendations:\n",
      "1. Firestorm (Johansen, Iris)\n",
      "2. Vipere Au Poing\n",
      "3. The Agony and the Ecstasy: A Biographical Novel of Michelangelo\n",
      "4. The Book of Night with Moon\n",
      "5. Hush Little Darlings\n",
      "6. Hygiene De Lassassin\n",
      "7. OUTCAST\n",
      "8. The Secret Agent\n",
      "9. A Little Princess (Book and Charm)\n",
      "10. Once In Paris\n"
     ]
    }
   ],
   "source": [
    "def random_recommendation(ratings, n=10):\n",
    "    unique_books = ratings['Book-Title'].unique()\n",
    "    random_books = np.random.choice(unique_books, size=n, replace=False)\n",
    "    return random_books\n",
    "\n",
    "random_books = random_recommendation(ratings, n=10)\n",
    "print(\"Random Score-Based Recommendations:\")\n",
    "for i, book in enumerate(random_books, 1):\n",
    "    print(f\"{i}. {book}\")"
   ]
  },
  {
   "cell_type": "code",
   "execution_count": null,
   "id": "9dfe5e61",
   "metadata": {
    "ExecuteTime": {
     "end_time": "2023-05-04T17:36:07.595694Z",
     "start_time": "2023-05-04T17:36:07.534680Z"
    },
    "scrolled": true,
    "id": "9dfe5e61",
    "outputId": "6c32a1ec-761f-4e5d-d937-59567546842d",
    "colab": {
     "base_uri": "https://localhost:8080/"
    },
    "executionInfo": {
     "status": "ok",
     "timestamp": 1683439343511,
     "user_tz": -540,
     "elapsed": 322,
     "user": {
      "displayName": "Myeonghak Lee",
      "userId": "01376346143254624391"
     }
    }
   },
   "outputs": [
    {
     "output_type": "stream",
     "name": "stdout",
     "text": [
      "\n",
      "Popularity-Based Recommendations:\n",
      "1. Wild Animus\n",
      "2. The Lovely Bones: A Novel\n",
      "3. The Da Vinci Code\n",
      "4. The Nanny Diaries: A Novel\n",
      "5. Bridget Jones's Diary\n",
      "6. A Painted House\n",
      "7. The Secret Life of Bees\n",
      "8. Divine Secrets of the Ya-Ya Sisterhood: A Novel\n",
      "9. Angels &amp; Demons\n",
      "10. Life of Pi\n"
     ]
    }
   ],
   "source": [
    "def popularity_recommendation(ratings, n=10):\n",
    "    popular_books = ratings.groupby('Book-Title')['Book-Rating'].count().sort_values(ascending=False).head(n).index\n",
    "    return popular_books\n",
    "\n",
    "popular_books = popularity_recommendation(ratings, n=10)\n",
    "print(\"\\nPopularity-Based Recommendations:\")\n",
    "for i, book in enumerate(popular_books, 1):\n",
    "    print(f\"{i}. {book}\")"
   ]
  },
  {
   "cell_type": "code",
   "execution_count": null,
   "id": "62bf2511",
   "metadata": {
    "ExecuteTime": {
     "end_time": "2023-05-04T17:26:55.028091Z",
     "start_time": "2023-05-04T17:26:55.013088Z"
    },
    "id": "62bf2511"
   },
   "outputs": [],
   "source": [
    "def recommend_books(user_index, strategy, k=10):\n",
    "    if strategy == \"collaborative\":\n",
    "        top_k_books = collaborative_filtering_recommendation(user_index, k=k)\n",
    "    elif strategy == \"random\":\n",
    "        top_k_books = random_recommendation(ratings, n=k)\n",
    "    elif strategy == \"popularity\":\n",
    "        top_k_books = popularity_recommendation(ratings, n=k)\n",
    "    else:\n",
    "        raise ValueError(\"Invalid recommendation strategy\")\n",
    "    return top_k_books"
   ]
  },
  {
   "cell_type": "code",
   "execution_count": null,
   "id": "d061aa22",
   "metadata": {
    "ExecuteTime": {
     "end_time": "2023-05-04T17:26:54.561948Z",
     "start_time": "2023-05-04T17:26:54.557956Z"
    },
    "id": "d061aa22"
   },
   "outputs": [],
   "source": [
    "def evaluate_model(strategy, k=10):\n",
    "    true_positive = 0\n",
    "    false_positive = 0\n",
    "    false_negative = 0\n",
    "\n",
    "    for user_index in test_user_indices:\n",
    "        true_books = set(user_item_matrix.iloc[user_index][user_item_matrix.iloc[user_index] > 0].index)\n",
    "        recommended_books = set(recommend_books(user_index, strategy, k))\n",
    "\n",
    "        tp = len(true_books.intersection(recommended_books))\n",
    "        fp = len(recommended_books - true_books)\n",
    "        fn = len(true_books - recommended_books)\n",
    "\n",
    "        true_positive += tp\n",
    "        false_positive += fp\n",
    "        false_negative += fn\n",
    "\n",
    "    precision = true_positive / (true_positive + false_positive)\n",
    "    recall = true_positive / (true_positive + false_negative)\n",
    "\n",
    "    return precision, recall\n"
   ]
  },
  {
   "cell_type": "code",
   "execution_count": null,
   "id": "57ce8f10",
   "metadata": {
    "ExecuteTime": {
     "end_time": "2023-05-04T17:28:03.565087Z",
     "start_time": "2023-05-04T17:26:56.008464Z"
    },
    "id": "57ce8f10",
    "outputId": "eeecfeb4-72d8-47ec-bcd5-9fb8cef87e47",
    "colab": {
     "base_uri": "https://localhost:8080/"
    },
    "executionInfo": {
     "status": "ok",
     "timestamp": 1683439366073,
     "user_tz": -540,
     "elapsed": 22564,
     "user": {
      "displayName": "Myeonghak Lee",
      "userId": "01376346143254624391"
     }
    }
   },
   "outputs": [
    {
     "output_type": "stream",
     "name": "stdout",
     "text": [
      "Collaborative Filtering: Precision = 0.3110, Recall = 0.2601\n"
     ]
    }
   ],
   "source": [
    "# Evaluate the collaborative filtering model\n",
    "cf_precision, cf_recall = evaluate_model(strategy=\"collaborative\")\n",
    "print(f\"Collaborative Filtering: Precision = {cf_precision:.4f}, Recall = {cf_recall:.4f}\")"
   ]
  },
  {
   "cell_type": "code",
   "execution_count": null,
   "id": "2408e8b0",
   "metadata": {
    "ExecuteTime": {
     "end_time": "2023-05-04T17:29:39.467214Z",
     "start_time": "2023-05-04T17:28:03.566088Z"
    },
    "id": "2408e8b0",
    "outputId": "6f8657a6-3a41-4467-8ba6-e47e87ba071f",
    "colab": {
     "base_uri": "https://localhost:8080/"
    },
    "executionInfo": {
     "status": "ok",
     "timestamp": 1683439965373,
     "user_tz": -540,
     "elapsed": 139099,
     "user": {
      "displayName": "Myeonghak Lee",
      "userId": "01376346143254624391"
     }
    }
   },
   "outputs": [
    {
     "output_type": "stream",
     "name": "stdout",
     "text": [
      "Random Score-Based: Precision = 0.0006, Recall = 0.0005\n"
     ]
    }
   ],
   "source": [
    "# Evaluate the random score-based recommendation model\n",
    "random_precision, random_recall = evaluate_model(strategy=\"random\")\n",
    "print(f\"Random Score-Based: Precision = {random_precision:.4f}, Recall = {random_recall:.4f}\")"
   ]
  },
  {
   "cell_type": "code",
   "execution_count": null,
   "id": "019d11b0",
   "metadata": {
    "ExecuteTime": {
     "end_time": "2023-05-04T17:31:55.821151Z",
     "start_time": "2023-05-04T17:29:39.468214Z"
    },
    "id": "019d11b0",
    "outputId": "e6f6a2cd-b96c-42da-841a-ef2d759d9493",
    "colab": {
     "base_uri": "https://localhost:8080/"
    },
    "executionInfo": {
     "status": "ok",
     "timestamp": 1683440176794,
     "user_tz": -540,
     "elapsed": 127502,
     "user": {
      "displayName": "Myeonghak Lee",
      "userId": "01376346143254624391"
     }
    }
   },
   "outputs": [
    {
     "output_type": "stream",
     "name": "stdout",
     "text": [
      "Popularity-Based: Precision = 0.0200, Recall = 0.0167\n"
     ]
    }
   ],
   "source": [
    "# Evaluate the popularity-based recommendation model\n",
    "popularity_precision, popularity_recall = evaluate_model(strategy=\"popularity\")\n",
    "print(f\"Popularity-Based: Precision = {popularity_precision:.4f}, Recall = {popularity_recall:.4f}\")"
   ]
  },
  {
   "cell_type": "code",
   "source": [],
   "metadata": {
    "id": "O5SyN4xsyU0s"
   },
   "id": "O5SyN4xsyU0s",
   "execution_count": null,
   "outputs": []
  }
 ],
 "metadata": {
  "kernelspec": {
   "display_name": "Python 3",
   "language": "python",
   "name": "python3"
  },
  "language_info": {
   "codemirror_mode": {
    "name": "ipython",
    "version": 3
   },
   "file_extension": ".py",
   "mimetype": "text/x-python",
   "name": "python",
   "nbconvert_exporter": "python",
   "pygments_lexer": "ipython3",
   "version": "3.8.10"
  },
  "toc": {
   "base_numbering": 1,
   "nav_menu": {},
   "number_sections": true,
   "sideBar": true,
   "skip_h1_title": false,
   "title_cell": "Table of Contents",
   "title_sidebar": "Contents",
   "toc_cell": false,
   "toc_position": {},
   "toc_section_display": true,
   "toc_window_display": false
  },
  "colab": {
   "provenance": []
  }
 },
 "nbformat": 4,
 "nbformat_minor": 5
}

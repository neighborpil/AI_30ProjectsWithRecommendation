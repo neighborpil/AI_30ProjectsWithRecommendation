{
 "cells": [
  {
   "cell_type": "markdown",
   "source": [
    "# 추천시스템을 위한 Numpy와 Pandas "
   ],
   "metadata": {
    "id": "s2npQce4KSym"
   },
   "id": "s2npQce4KSym"
  },
  {
   "cell_type": "markdown",
   "source": [
    "    - Numpy는 다차원 배열을 처리하는데 필요한 여러 기능을 제공하는 라이브러리입니다.  \n",
    "    - Pandas는 테이블 형태의 데이터를 분석하고, 조작하는 다양한 기능을 제공하는 라이브러리입니다.  "
   ],
   "metadata": {
    "id": "Zy5aPdiHJ9mq"
   },
   "id": "Zy5aPdiHJ9mq"
  },
  {
   "cell_type": "markdown",
   "id": "6db5c47e",
   "metadata": {
    "id": "6db5c47e"
   },
   "source": [
    "# 기초 Numpy 메서드"
   ]
  },
  {
   "cell_type": "markdown",
   "source": [
    "# Numpy, 어떤 배열이라도 원하는대로!\n",
    "\n",
    "- 다른 라이브러리와 마찬가지로, Numpy와 Pandas 라이브러리는 일일이 세기도 어려울 만큼 많은 함수와 기능, 그리고 그를 응용한 용법이 있습니다.\n",
    "- 당연히 이 모두를 알 수도, 알 필요도 없습니다. 가장 자주 쓰이는 기능만 알면, 필요한 것을 가져다 쓰면 됩니다.\n",
    "\n",
    "- Numpy는 파이썬의 기본 자료형인 list와 비슷한 형태의 numpy array를 자료형으로 사용합니다.  \n",
    "- 하지만 Numpy의 연산은 list의 연산보다 훨씬 빠른데, 이는 크게 두 가지 이유가 있습니다.  \n",
    "    1) numpy 배열은 동일한 자료형만을 포함합니다.  \n",
    "    2) numpy 배열의 연산은 C/C++에서 이루어집니다. \n"
   ],
   "metadata": {
    "id": "neEZvKTeKFOE"
   },
   "id": "neEZvKTeKFOE"
  },
  {
   "cell_type": "markdown",
   "id": "67f65b7f",
   "metadata": {
    "id": "67f65b7f"
   },
   "source": [
    "넘파이 라이브러리 호출"
   ]
  },
  {
   "cell_type": "code",
   "execution_count": 18,
   "id": "bdfed476",
   "metadata": {
    "ExecuteTime": {
     "end_time": "2023-05-05T03:15:09.126425Z",
     "start_time": "2023-05-05T03:15:09.063411Z"
    },
    "id": "bdfed476",
    "executionInfo": {
     "status": "ok",
     "timestamp": 1683429082529,
     "user_tz": -540,
     "elapsed": 6,
     "user": {
      "displayName": "Myeonghak Lee",
      "userId": "01376346143254624391"
     }
    }
   },
   "outputs": [],
   "source": [
    "import numpy as np"
   ]
  },
  {
   "cell_type": "markdown",
   "id": "79c3392c",
   "metadata": {
    "ExecuteTime": {
     "end_time": "2023-05-05T03:28:02.050202Z",
     "start_time": "2023-05-05T03:28:02.044200Z"
    },
    "id": "79c3392c"
   },
   "source": [
    "1. NumPy 배열(어레이) 생성   \n",
    "리스트로부터 NumPy 배열을 생성하거나, shape을 지정하여 배열을 생성할 수 있음  \n",
    "NumPy 배열은 대량의 데이터를 효율적으로 저장하고 조작할 수 있게 해줌  "
   ]
  },
  {
   "cell_type": "code",
   "execution_count": null,
   "id": "bb95c3d3",
   "metadata": {
    "ExecuteTime": {
     "end_time": "2023-05-05T03:28:28.737751Z",
     "start_time": "2023-05-05T03:28:28.728749Z"
    },
    "id": "bb95c3d3",
    "outputId": "ed6976ee-cc1f-47f1-c4ea-9921fcbac334"
   },
   "outputs": [
    {
     "name": "stdout",
     "output_type": "stream",
     "text": [
      "Array from list: [1 2 3 4 5]\n"
     ]
    }
   ],
   "source": [
    "# 리스트에서 배열 생성\n",
    "arr_from_list = np.array([1, 2, 3, 4, 5])\n",
    "print(\"Array from list:\", arr_from_list)"
   ]
  },
  {
   "cell_type": "code",
   "execution_count": null,
   "id": "76b18a44",
   "metadata": {
    "ExecuteTime": {
     "end_time": "2023-05-05T03:28:29.294255Z",
     "start_time": "2023-05-05T03:28:29.291255Z"
    },
    "id": "76b18a44",
    "outputId": "8f180ff6-b51c-461c-a1ea-f62378eb522c"
   },
   "outputs": [
    {
     "name": "stdout",
     "output_type": "stream",
     "text": [
      "Array of zeros:\n",
      " [[0. 0. 0.]\n",
      " [0. 0. 0.]\n",
      " [0. 0. 0.]]\n"
     ]
    }
   ],
   "source": [
    "# 0으로 채워진 지정된 shape의 (여기서는 3*3) 배열 생성\n",
    "arr_zeros = np.zeros((3, 3))\n",
    "print(\"Array of zeros:\\n\", arr_zeros)"
   ]
  },
  {
   "cell_type": "markdown",
   "id": "facb5311",
   "metadata": {
    "ExecuteTime": {
     "end_time": "2023-05-05T03:29:56.292656Z",
     "start_time": "2023-05-05T03:29:56.279653Z"
    },
    "id": "facb5311"
   },
   "source": [
    "2. NumPy 배열의 인덱싱 및 슬라이싱  \n",
    "인덱싱 및 슬라이싱은 배열 내에서 원하는 원소에 접근하는 데 사용됨    "
   ]
  },
  {
   "cell_type": "code",
   "execution_count": null,
   "id": "3aa34b70",
   "metadata": {
    "ExecuteTime": {
     "end_time": "2023-05-05T03:29:16.010086Z",
     "start_time": "2023-05-05T03:29:15.996083Z"
    },
    "id": "3aa34b70",
    "outputId": "bf19228f-bccb-461f-ba32-f0ce6e568321"
   },
   "outputs": [
    {
     "name": "stdout",
     "output_type": "stream",
     "text": [
      "Original array:\n",
      " [[1 2 3]\n",
      " [4 5 6]\n",
      " [7 8 9]]\n"
     ]
    }
   ],
   "source": [
    "arr = np.array([[1, 2, 3], [4, 5, 6], [7, 8, 9]])\n",
    "print(\"Original array:\\n\", arr)"
   ]
  },
  {
   "cell_type": "code",
   "execution_count": null,
   "id": "a9821c13",
   "metadata": {
    "ExecuteTime": {
     "end_time": "2023-05-05T03:29:33.603170Z",
     "start_time": "2023-05-05T03:29:33.600170Z"
    },
    "id": "a9821c13",
    "outputId": "1fa53758-5a9d-4801-b162-3f335f1dd4ef"
   },
   "outputs": [
    {
     "name": "stdout",
     "output_type": "stream",
     "text": [
      "Element at index (0, 1): 2\n"
     ]
    }
   ],
   "source": [
    "# 단일 원소에 접근\n",
    "print(\"Element at index (0, 1):\", arr[0, 1])"
   ]
  },
  {
   "cell_type": "code",
   "execution_count": null,
   "id": "313c9490",
   "metadata": {
    "ExecuteTime": {
     "end_time": "2023-05-05T03:29:33.754007Z",
     "start_time": "2023-05-05T03:29:33.743004Z"
    },
    "id": "313c9490",
    "outputId": "6f490554-37b6-4d7d-d25a-63a4a6c63087"
   },
   "outputs": [
    {
     "name": "stdout",
     "output_type": "stream",
     "text": [
      "Slice of elements:\n",
      " [[4 5]\n",
      " [7 8]]\n"
     ]
    }
   ],
   "source": [
    "# 원소들로 구성된 슬라이스에 접근\n",
    "print(\"Slice of elements:\\n\", arr[1:, :2])"
   ]
  },
  {
   "cell_type": "markdown",
   "id": "fb7ef0c1",
   "metadata": {
    "ExecuteTime": {
     "end_time": "2023-05-05T03:32:21.204161Z",
     "start_time": "2023-05-05T03:32:21.186156Z"
    },
    "id": "fb7ef0c1"
   },
   "source": [
    "3. np.where  \n",
    "np.where는 주어진 조건을 충족하는 배열 내의 원소들의 인덱스를 찾는 데 사용됨.  \n",
    "이 함수는 특정 기준에 따라 데이터를 필터링하는 데 유용  "
   ]
  },
  {
   "cell_type": "code",
   "execution_count": null,
   "id": "772a946b",
   "metadata": {
    "ExecuteTime": {
     "end_time": "2023-05-05T03:32:23.186182Z",
     "start_time": "2023-05-05T03:32:23.175180Z"
    },
    "id": "772a946b",
    "outputId": "95f9179f-63d8-4724-df30-cdfcdd2aae34"
   },
   "outputs": [
    {
     "data": {
      "text/plain": [
       "array([[1, 2, 3],\n",
       "       [4, 5, 6],\n",
       "       [7, 8, 9]])"
      ]
     },
     "execution_count": 46,
     "metadata": {},
     "output_type": "execute_result"
    }
   ],
   "source": [
    "arr"
   ]
  },
  {
   "cell_type": "code",
   "execution_count": null,
   "id": "bd331608",
   "metadata": {
    "ExecuteTime": {
     "end_time": "2023-05-05T03:32:10.560942Z",
     "start_time": "2023-05-05T03:32:10.546939Z"
    },
    "id": "bd331608",
    "outputId": "015d622a-54f1-4a35-9eb4-6d5ec5450d3f"
   },
   "outputs": [
    {
     "name": "stdout",
     "output_type": "stream",
     "text": [
      "Indices of elements greater than 4: (array([1, 1, 2, 2, 2], dtype=int64), array([1, 2, 0, 1, 2], dtype=int64))\n"
     ]
    }
   ],
   "source": [
    "# 원소가 4보다 큰 인덱스 찾기\n",
    "indices = np.where(arr > 4)\n",
    "print(\"Indices of elements greater than 4:\", indices)"
   ]
  },
  {
   "cell_type": "markdown",
   "id": "154c3015",
   "metadata": {
    "ExecuteTime": {
     "end_time": "2023-05-05T03:32:57.126537Z",
     "start_time": "2023-05-05T03:32:57.111533Z"
    },
    "id": "154c3015"
   },
   "source": [
    "4. np.argmax  \n",
    "np.argmax는 배열에서 최대값의 인덱스를 찾는 데 사용됨  \n",
    "이 함수는 목록에서 최대의 값을 갖는 아이템(예: 최고 평점 또는 가장 유사한)을 찾고자 할 때 유용함  "
   ]
  },
  {
   "cell_type": "code",
   "execution_count": null,
   "id": "3b9d92af",
   "metadata": {
    "ExecuteTime": {
     "end_time": "2023-05-05T03:32:59.668610Z",
     "start_time": "2023-05-05T03:32:59.657609Z"
    },
    "id": "3b9d92af",
    "outputId": "249db98a-7265-4df0-e54b-cc5d8269b4b9"
   },
   "outputs": [
    {
     "name": "stdout",
     "output_type": "stream",
     "text": [
      "Index of maximum rating: 3\n"
     ]
    }
   ],
   "source": [
    "ratings = np.array([3.2, 4.5, 2.8, 4.7, 3.9])\n",
    "max_index = np.argmax(ratings)\n",
    "print(\"Index of maximum rating:\", max_index)"
   ]
  },
  {
   "cell_type": "markdown",
   "id": "0c3e9868",
   "metadata": {
    "ExecuteTime": {
     "end_time": "2023-05-05T03:15:09.126425Z",
     "start_time": "2023-05-05T03:15:09.063411Z"
    },
    "id": "0c3e9868"
   },
   "source": [
    "5. np.nonzero  \n",
    "np.nonzero는 배열에서 0이 아닌 요소의 인덱스를 찾는 데 사용됨   \n",
    "이 함수는 sparse한 데이터를 처리할 때 유용하며, 0이 아닌 원소에만 집중할 수 있음  "
   ]
  },
  {
   "cell_type": "code",
   "execution_count": null,
   "id": "a604642b",
   "metadata": {
    "ExecuteTime": {
     "end_time": "2023-05-05T03:33:55.923152Z",
     "start_time": "2023-05-05T03:33:55.915150Z"
    },
    "id": "a604642b",
    "outputId": "f85063c9-cb7f-48f8-f6ba-f0da9731dfe0"
   },
   "outputs": [
    {
     "name": "stdout",
     "output_type": "stream",
     "text": [
      "Indices of non-zero elements: (array([2, 4, 6], dtype=int64),)\n"
     ]
    }
   ],
   "source": [
    "sparse_data = np.array([0, 0, 1, 0, 2, 0, 3])\n",
    "nonzero_indices = np.nonzero(sparse_data)\n",
    "print(\"Indices of non-zero elements:\", nonzero_indices)"
   ]
  },
  {
   "cell_type": "markdown",
   "id": "8f7db203",
   "metadata": {
    "ExecuteTime": {
     "end_time": "2023-05-05T03:15:09.126425Z",
     "start_time": "2023-05-05T03:15:09.063411Z"
    },
    "id": "8f7db203"
   },
   "source": [
    "6. np.isnan  \n",
    "np.isnan은 배열의 원소가 NaN(숫자가 아님)인지 확인하는 데 사용됨  \n",
    "즉, 결측값 확인에 사용됨"
   ]
  },
  {
   "cell_type": "code",
   "execution_count": null,
   "id": "d347e31d",
   "metadata": {
    "ExecuteTime": {
     "end_time": "2023-05-05T03:34:50.674471Z",
     "start_time": "2023-05-05T03:34:50.668470Z"
    },
    "id": "d347e31d",
    "outputId": "0fe44e6d-33e0-4447-80b8-b768b89c0ab7"
   },
   "outputs": [
    {
     "name": "stdout",
     "output_type": "stream",
     "text": [
      "Boolean mask of NaN elements: [False  True False  True False]\n"
     ]
    }
   ],
   "source": [
    "data_with_nan = np.array([1.0, np.nan, 3.0, np.nan, 5.0])\n",
    "isnan_mask = np.isnan(data_with_nan)\n",
    "print(\"Boolean mask of NaN elements:\", isnan_mask)"
   ]
  },
  {
   "cell_type": "markdown",
   "id": "926afd0c",
   "metadata": {
    "ExecuteTime": {
     "end_time": "2023-05-05T03:35:26.894112Z",
     "start_time": "2023-05-05T03:35:26.887111Z"
    },
    "id": "926afd0c"
   },
   "source": [
    "7. Reshaping arrays  \n",
    "배열 reshape 연산은 배열의 차원을 변경할 때 필요하며,  \n",
    "가령 1차원 배열을 2차원 배열로 변환하는 경우를 들 수 있음.  "
   ]
  },
  {
   "cell_type": "code",
   "execution_count": 19,
   "id": "8ba3ea31",
   "metadata": {
    "ExecuteTime": {
     "end_time": "2023-05-05T03:35:30.260868Z",
     "start_time": "2023-05-05T03:35:30.253867Z"
    },
    "id": "8ba3ea31",
    "outputId": "abc2fe8f-3a0e-4bb3-add7-98550368c4b4",
    "colab": {
     "base_uri": "https://localhost:8080/"
    },
    "executionInfo": {
     "status": "ok",
     "timestamp": 1683429086734,
     "user_tz": -540,
     "elapsed": 15,
     "user": {
      "displayName": "Myeonghak Lee",
      "userId": "01376346143254624391"
     }
    }
   },
   "outputs": [
    {
     "output_type": "stream",
     "name": "stdout",
     "text": [
      "Original array: [1 2 3 4 5 6]\n"
     ]
    }
   ],
   "source": [
    "arr = np.array([1, 2, 3, 4, 5, 6])\n",
    "print(\"Original array:\", arr)"
   ]
  },
  {
   "cell_type": "code",
   "source": [
    "arr.shape"
   ],
   "metadata": {
    "colab": {
     "base_uri": "https://localhost:8080/"
    },
    "id": "ys38TQWAMmIO",
    "executionInfo": {
     "status": "ok",
     "timestamp": 1683429159741,
     "user_tz": -540,
     "elapsed": 609,
     "user": {
      "displayName": "Myeonghak Lee",
      "userId": "01376346143254624391"
     }
    },
    "outputId": "cc538d05-fdcf-488e-b7e0-6fdbaab5941a"
   },
   "id": "ys38TQWAMmIO",
   "execution_count": 24,
   "outputs": [
    {
     "output_type": "execute_result",
     "data": {
      "text/plain": [
       "(6,)"
      ]
     },
     "metadata": {},
     "execution_count": 24
    }
   ]
  },
  {
   "cell_type": "code",
   "execution_count": 20,
   "id": "d56e199c",
   "metadata": {
    "ExecuteTime": {
     "end_time": "2023-05-05T03:35:32.288168Z",
     "start_time": "2023-05-05T03:35:32.282167Z"
    },
    "id": "d56e199c",
    "outputId": "b727571f-d3d3-4341-ae11-64a50e48abf2",
    "colab": {
     "base_uri": "https://localhost:8080/"
    },
    "executionInfo": {
     "status": "ok",
     "timestamp": 1683429099357,
     "user_tz": -540,
     "elapsed": 11,
     "user": {
      "displayName": "Myeonghak Lee",
      "userId": "01376346143254624391"
     }
    }
   },
   "outputs": [
    {
     "output_type": "stream",
     "name": "stdout",
     "text": [
      "Reshaped array:\n",
      " [[1 2 3]\n",
      " [4 5 6]]\n"
     ]
    }
   ],
   "source": [
    "# 배열을 2행 3열의 2차원 배열로 변경\n",
    "reshaped_arr = arr.reshape((2, 3))\n",
    "print(\"Reshaped array:\\n\", reshaped_arr)"
   ]
  },
  {
   "cell_type": "code",
   "source": [
    "# 배열을 2행 3열의 2차원 배열로 변경\n",
    "reshaped_arr = arr.reshape((3, 2))\n",
    "print(\"Reshaped array:\\n\", reshaped_arr)"
   ],
   "metadata": {
    "colab": {
     "base_uri": "https://localhost:8080/"
    },
    "id": "mA3LBlkZMYd6",
    "executionInfo": {
     "status": "ok",
     "timestamp": 1683429117190,
     "user_tz": -540,
     "elapsed": 651,
     "user": {
      "displayName": "Myeonghak Lee",
      "userId": "01376346143254624391"
     }
    },
    "outputId": "00a655ea-5199-46ab-c33b-d442f289a4e1"
   },
   "id": "mA3LBlkZMYd6",
   "execution_count": 21,
   "outputs": [
    {
     "output_type": "stream",
     "name": "stdout",
     "text": [
      "Reshaped array:\n",
      " [[1 2]\n",
      " [3 4]\n",
      " [5 6]]\n"
     ]
    }
   ]
  },
  {
   "cell_type": "code",
   "source": [
    "# 배열을 2행 3열의 2차원 배열로 변경\n",
    "reshaped_arr = arr.reshape((1, -1))\n",
    "print(\"Reshaped array:\\n\", reshaped_arr)\n",
    "reshaped_arr.shape"
   ],
   "metadata": {
    "colab": {
     "base_uri": "https://localhost:8080/"
    },
    "id": "VKDzoRCuMch7",
    "executionInfo": {
     "status": "ok",
     "timestamp": 1683429171126,
     "user_tz": -540,
     "elapsed": 12,
     "user": {
      "displayName": "Myeonghak Lee",
      "userId": "01376346143254624391"
     }
    },
    "outputId": "7b24a88b-ffcf-4f34-e666-b745b40c7544"
   },
   "id": "VKDzoRCuMch7",
   "execution_count": 25,
   "outputs": [
    {
     "output_type": "stream",
     "name": "stdout",
     "text": [
      "Reshaped array:\n",
      " [[1 2 3 4 5 6]]\n"
     ]
    },
    {
     "output_type": "execute_result",
     "data": {
      "text/plain": [
       "(1, 6)"
      ]
     },
     "metadata": {},
     "execution_count": 25
    }
   ]
  },
  {
   "cell_type": "markdown",
   "id": "8cb970f7",
   "metadata": {
    "ExecuteTime": {
     "end_time": "2023-05-05T03:38:02.350763Z",
     "start_time": "2023-05-05T03:38:02.340761Z"
    },
    "id": "8cb970f7"
   },
   "source": [
    "8. Array broadcasting  \n",
    "브로드캐스팅을 사용하여 다양한 shape의 배열을 대상으로 연산을 수행할 수 있음.  \n",
    "numpy broadcasting이란, 모양과 크기가 다른 배열에 대해 유연하고 효율적인 방식으로 연산을 수행할 수 있게 도와주는 기능임.  \n",
    "연산 과정에서 큰 배열의 모양에 작은 배열을 자동으로 확장시켜 요소별 연산을 수행함.  "
   ]
  },
  {
   "cell_type": "code",
   "source": [
    "arr1 = np.array([[1, 2, 3],[1, 2, 3],[1, 2, 3]])\n",
    "arr2 = np.array([[1, 1, 1], [2, 2, 2], [3, 3, 3]])\n",
    "\n",
    "# 브로드캐스팅을 사용하여 배열의 합 연산 수행\n",
    "\n",
    "broadcasted_sum = arr1 + arr2\n",
    "print(\"Broadcasted sum:\\n\", broadcasted_sum)"
   ],
   "metadata": {
    "colab": {
     "base_uri": "https://localhost:8080/"
    },
    "id": "bSwwiJZ7M_fi",
    "executionInfo": {
     "status": "ok",
     "timestamp": 1683429282984,
     "user_tz": -540,
     "elapsed": 17,
     "user": {
      "displayName": "Myeonghak Lee",
      "userId": "01376346143254624391"
     }
    },
    "outputId": "32de022f-1937-4df0-8cef-9571893da81c"
   },
   "id": "bSwwiJZ7M_fi",
   "execution_count": 28,
   "outputs": [
    {
     "output_type": "stream",
     "name": "stdout",
     "text": [
      "Broadcasted sum:\n",
      " [[2 3 4]\n",
      " [3 4 5]\n",
      " [4 5 6]]\n"
     ]
    }
   ]
  },
  {
   "cell_type": "code",
   "execution_count": 26,
   "id": "77eab0b6",
   "metadata": {
    "ExecuteTime": {
     "end_time": "2023-05-05T03:38:41.063170Z",
     "start_time": "2023-05-05T03:38:41.053167Z"
    },
    "id": "77eab0b6",
    "outputId": "1573e4ec-be1d-4d71-ae98-21678482dd7d",
    "colab": {
     "base_uri": "https://localhost:8080/"
    },
    "executionInfo": {
     "status": "ok",
     "timestamp": 1683429266643,
     "user_tz": -540,
     "elapsed": 10,
     "user": {
      "displayName": "Myeonghak Lee",
      "userId": "01376346143254624391"
     }
    }
   },
   "outputs": [
    {
     "output_type": "stream",
     "name": "stdout",
     "text": [
      "Broadcasted sum:\n",
      " [[2 3 4]\n",
      " [3 4 5]\n",
      " [4 5 6]]\n"
     ]
    }
   ],
   "source": [
    "arr1 = np.array([1, 2, 3])\n",
    "arr2 = np.array([[1, 1, 1], [2, 2, 2], [3, 3, 3]])\n",
    "\n",
    "# 브로드캐스팅을 사용하여 배열의 합 연산 수행\n",
    "\n",
    "broadcasted_sum = arr1 + arr2\n",
    "print(\"Broadcasted sum:\\n\", broadcasted_sum)"
   ]
  },
  {
   "cell_type": "markdown",
   "id": "2da0c7cb",
   "metadata": {
    "ExecuteTime": {
     "end_time": "2023-05-05T03:39:25.860641Z",
     "start_time": "2023-05-05T03:39:25.848639Z"
    },
    "id": "2da0c7cb"
   },
   "source": [
    "9. np.dot  \n",
    "np.dot은 행렬 곱셈 연산이나 내적을 수행하는 데 사용됨    \n",
    "이는 추천 시스템에서 아이템/유저 간 유사도를 계산하거나 행렬을 이용해 데이터를 변환하는 데 유용함  "
   ]
  },
  {
   "cell_type": "code",
   "execution_count": null,
   "id": "9f00bc90",
   "metadata": {
    "ExecuteTime": {
     "end_time": "2023-05-05T03:39:37.325192Z",
     "start_time": "2023-05-05T03:39:37.321192Z"
    },
    "id": "9f00bc90"
   },
   "outputs": [],
   "source": [
    "arr1 = np.array([[1, 2, 3], [4, 5, 6]])\n",
    "arr2 = np.array([[1, 2], [3, 4], [5, 6]])"
   ]
  },
  {
   "cell_type": "code",
   "execution_count": null,
   "id": "7978ce7b",
   "metadata": {
    "ExecuteTime": {
     "end_time": "2023-05-05T03:40:00.157673Z",
     "start_time": "2023-05-05T03:40:00.143671Z"
    },
    "id": "7978ce7b",
    "outputId": "e0633069-c15c-4e14-ab3e-aa4ff178a2a6"
   },
   "outputs": [
    {
     "data": {
      "text/plain": [
       "array([[1, 2, 3],\n",
       "       [4, 5, 6]])"
      ]
     },
     "metadata": {},
     "output_type": "display_data"
    },
    {
     "data": {
      "text/plain": [
       "array([[1, 2],\n",
       "       [3, 4],\n",
       "       [5, 6]])"
      ]
     },
     "metadata": {},
     "output_type": "display_data"
    }
   ],
   "source": [
    "display(arr1)\n",
    "display(arr2)"
   ]
  },
  {
   "cell_type": "code",
   "execution_count": null,
   "id": "6c905c22",
   "metadata": {
    "ExecuteTime": {
     "end_time": "2023-05-05T03:40:03.481991Z",
     "start_time": "2023-05-05T03:40:03.473989Z"
    },
    "id": "6c905c22",
    "outputId": "2b765285-a388-465d-db1e-ec19d506265e"
   },
   "outputs": [
    {
     "name": "stdout",
     "output_type": "stream",
     "text": [
      "Dot product:\n",
      " [[22 28]\n",
      " [49 64]]\n"
     ]
    }
   ],
   "source": [
    "# np.dot을 사용하여 배열 곱하기\n",
    "\n",
    "dot_product = np.dot(arr1, arr2)\n",
    "print(\"Dot product:\\n\", dot_product)"
   ]
  },
  {
   "cell_type": "markdown",
   "id": "54df783e",
   "metadata": {
    "ExecuteTime": {
     "end_time": "2023-05-05T03:40:39.499605Z",
     "start_time": "2023-05-05T03:40:39.492612Z"
    },
    "id": "54df783e"
   },
   "source": [
    "10. np.sort and np.argsort  \n",
    "np.sort 및 np.argsort는 배열을 정렬하거나 정렬된 원소의 인덱스를 얻는 데 사용됨  \n",
    "추천 시스템에서 아이템의 랭킹을 얻거나, 상위 N개의 아이템을 얻는 데 유용한 함수"
   ]
  },
  {
   "cell_type": "code",
   "execution_count": 30,
   "id": "0f3e02a9",
   "metadata": {
    "ExecuteTime": {
     "end_time": "2023-05-05T03:41:09.759968Z",
     "start_time": "2023-05-05T03:41:09.753967Z"
    },
    "id": "0f3e02a9",
    "executionInfo": {
     "status": "ok",
     "timestamp": 1683429474522,
     "user_tz": -540,
     "elapsed": 18,
     "user": {
      "displayName": "Myeonghak Lee",
      "userId": "01376346143254624391"
     }
    }
   },
   "outputs": [],
   "source": [
    "ratings = np.array([3.2, 4.5, 2.8, 4.7, 3.9])"
   ]
  },
  {
   "cell_type": "code",
   "execution_count": 31,
   "id": "294bbe69",
   "metadata": {
    "ExecuteTime": {
     "end_time": "2023-05-05T03:41:09.954414Z",
     "start_time": "2023-05-05T03:41:09.951413Z"
    },
    "id": "294bbe69",
    "outputId": "5bfe353d-3349-43eb-a595-58950bca610d",
    "colab": {
     "base_uri": "https://localhost:8080/"
    },
    "executionInfo": {
     "status": "ok",
     "timestamp": 1683429474524,
     "user_tz": -540,
     "elapsed": 19,
     "user": {
      "displayName": "Myeonghak Lee",
      "userId": "01376346143254624391"
     }
    }
   },
   "outputs": [
    {
     "output_type": "stream",
     "name": "stdout",
     "text": [
      "Sorted ratings: [2.8 3.2 3.9 4.5 4.7]\n"
     ]
    }
   ],
   "source": [
    "# 배열 정렬\n",
    "\n",
    "sorted_ratings = np.sort(ratings)\n",
    "print(\"Sorted ratings:\", sorted_ratings)"
   ]
  },
  {
   "cell_type": "code",
   "execution_count": 32,
   "id": "b8b0c3c5",
   "metadata": {
    "ExecuteTime": {
     "end_time": "2023-05-05T03:41:10.103726Z",
     "start_time": "2023-05-05T03:41:10.089723Z"
    },
    "id": "b8b0c3c5",
    "outputId": "6006b12e-b0e1-4254-c55c-e11f6e8b8b61",
    "colab": {
     "base_uri": "https://localhost:8080/"
    },
    "executionInfo": {
     "status": "ok",
     "timestamp": 1683429474525,
     "user_tz": -540,
     "elapsed": 18,
     "user": {
      "displayName": "Myeonghak Lee",
      "userId": "01376346143254624391"
     }
    }
   },
   "outputs": [
    {
     "output_type": "stream",
     "name": "stdout",
     "text": [
      "Indices of sorted ratings: [2 0 4 1 3]\n"
     ]
    }
   ],
   "source": [
    "# 정렬된 원소들의 인덱스 얻기\n",
    "\n",
    "sorted_indices = np.argsort(ratings)\n",
    "print(\"Indices of sorted ratings:\", sorted_indices)"
   ]
  },
  {
   "cell_type": "code",
   "source": [
    "sorted_indices[::-1]"
   ],
   "metadata": {
    "colab": {
     "base_uri": "https://localhost:8080/"
    },
    "id": "Ck6Rut_lNyu7",
    "executionInfo": {
     "status": "ok",
     "timestamp": 1683429482578,
     "user_tz": -540,
     "elapsed": 11,
     "user": {
      "displayName": "Myeonghak Lee",
      "userId": "01376346143254624391"
     }
    },
    "outputId": "076900c1-a4fa-48cf-8dbf-9fa1c551533f"
   },
   "id": "Ck6Rut_lNyu7",
   "execution_count": 33,
   "outputs": [
    {
     "output_type": "execute_result",
     "data": {
      "text/plain": [
       "array([3, 1, 4, 0, 2])"
      ]
     },
     "metadata": {},
     "execution_count": 33
    }
   ]
  },
  {
   "cell_type": "markdown",
   "id": "64813245",
   "metadata": {
    "ExecuteTime": {
     "end_time": "2023-05-05T03:41:30.876960Z",
     "start_time": "2023-05-05T03:41:30.860956Z"
    },
    "id": "64813245"
   },
   "source": [
    "11. np.sum and np.mean  \n",
    "np.sum 및 np.mean은 배열 원소들의 합계와 평균을 계산하는 데 사용됨    \n",
    "데이터를 집계하거나 평균 값을 계산하는 데 유용한 함수    "
   ]
  },
  {
   "cell_type": "code",
   "execution_count": null,
   "id": "7c10c936",
   "metadata": {
    "ExecuteTime": {
     "end_time": "2023-05-05T03:41:36.919764Z",
     "start_time": "2023-05-05T03:41:36.914763Z"
    },
    "id": "7c10c936"
   },
   "outputs": [],
   "source": [
    "ratings = np.array([3.2, 4.5, 2.8, 4.7, 3.9])"
   ]
  },
  {
   "cell_type": "code",
   "execution_count": null,
   "id": "903cccb7",
   "metadata": {
    "ExecuteTime": {
     "end_time": "2023-05-05T03:41:47.318136Z",
     "start_time": "2023-05-05T03:41:47.302133Z"
    },
    "id": "903cccb7",
    "outputId": "78bf96cf-bb8d-479b-c03d-c84a9325f234"
   },
   "outputs": [
    {
     "name": "stdout",
     "output_type": "stream",
     "text": [
      "Total ratings: 19.099999999999998\n"
     ]
    }
   ],
   "source": [
    "# sum 계산\n",
    "\n",
    "total_ratings = np.sum(ratings)\n",
    "print(\"Total ratings:\", total_ratings)"
   ]
  },
  {
   "cell_type": "code",
   "execution_count": null,
   "id": "17354ba6",
   "metadata": {
    "ExecuteTime": {
     "end_time": "2023-05-05T03:41:47.453471Z",
     "start_time": "2023-05-05T03:41:47.448470Z"
    },
    "id": "17354ba6",
    "outputId": "b0ce7270-da07-4776-feb2-1ddb28b7b1f6"
   },
   "outputs": [
    {
     "name": "stdout",
     "output_type": "stream",
     "text": [
      "Mean rating: 3.8199999999999994\n"
     ]
    }
   ],
   "source": [
    "# 평균 계산\n",
    "\n",
    "mean_rating = np.mean(ratings)\n",
    "print(\"Mean rating:\", mean_rating)"
   ]
  },
  {
   "cell_type": "markdown",
   "id": "67d5a4f7",
   "metadata": {
    "ExecuteTime": {
     "end_time": "2023-05-05T03:41:40.786107Z",
     "start_time": "2023-05-05T03:41:40.773105Z"
    },
    "id": "67d5a4f7"
   },
   "source": [
    "12. np.unique  \n",
    "np.unique는 배열에서 유니크한 원소들을 찾는 데 사용됨  \n",
    "데이터셋에서 고유한 아이템 또는 유저 수를 확인하는 데 유용한 함수임  "
   ]
  },
  {
   "cell_type": "code",
   "execution_count": null,
   "id": "ffc5cc4a",
   "metadata": {
    "ExecuteTime": {
     "end_time": "2023-05-05T03:42:34.150485Z",
     "start_time": "2023-05-05T03:42:34.146484Z"
    },
    "id": "ffc5cc4a",
    "outputId": "1446fd4e-08b6-4324-e398-325b10ed10a3"
   },
   "outputs": [
    {
     "name": "stdout",
     "output_type": "stream",
     "text": [
      "Num of unique users: [1 2 3 4 5]\n"
     ]
    }
   ],
   "source": [
    "user_ids = np.array([1, 2, 2, 3, 4, 4, 5, 5, 5])\n",
    "unique_users = np.unique(user_ids)\n",
    "print(\"Num of unique users:\", unique_users)"
   ]
  },
  {
   "cell_type": "code",
   "execution_count": null,
   "id": "607381ec",
   "metadata": {
    "id": "607381ec"
   },
   "outputs": [],
   "source": []
  },
  {
   "cell_type": "markdown",
   "id": "e9da90f6",
   "metadata": {
    "id": "e9da90f6"
   },
   "source": [
    "# Pandas"
   ]
  },
  {
   "cell_type": "markdown",
   "source": [
    "# Pandas와 함께 테이블 뒹굴기\n",
    "\n",
    "- 판다스는 넘파이와 함께 가장 많이 (어쩌면 넘파이보다 더) 사용되는 데이터 분석 라이브러리로, tabular data의 연산과 조작을 지원합니다.  \n",
    "- 엑셀로 할 수 있는 거의 모든 조작, 그 이상을 판다스로 할 수 있습니다.  \n",
    "- pandas는 numpy를 기반으로 작성되었으며, 따라서 조작에 있어 넘파이 메서드를 자유롭게 적용할 수 있습니다.  "
   ],
   "metadata": {
    "id": "CG1cF6JhKLdi"
   },
   "id": "CG1cF6JhKLdi"
  },
  {
   "cell_type": "markdown",
   "id": "d33ee354",
   "metadata": {
    "id": "d33ee354"
   },
   "source": [
    "판다스 라이브러리 호출"
   ]
  },
  {
   "cell_type": "code",
   "execution_count": null,
   "id": "7ef8d067",
   "metadata": {
    "ExecuteTime": {
     "end_time": "2023-05-05T03:47:50.860983Z",
     "start_time": "2023-05-05T03:47:50.848981Z"
    },
    "id": "7ef8d067"
   },
   "outputs": [],
   "source": [
    "import pandas as pd"
   ]
  },
  {
   "cell_type": "markdown",
   "id": "b3306148",
   "metadata": {
    "ExecuteTime": {
     "end_time": "2023-05-05T03:15:17.765545Z",
     "start_time": "2023-05-05T03:15:17.725536Z"
    },
    "id": "b3306148"
   },
   "source": [
    "1. Creating a DataFrame  \n",
    "\n",
    "데이터프레임은 딕셔너리, 리스트에서 생성하거나 파일 데이터를 읽어 생성할 수 있음    \n",
    "데이터프레임은 테이블 형식 데이터를 저장하고 조작하는 데 사용됨  "
   ]
  },
  {
   "cell_type": "code",
   "execution_count": 38,
   "id": "10f95a96",
   "metadata": {
    "ExecuteTime": {
     "end_time": "2023-05-05T03:47:50.875986Z",
     "start_time": "2023-05-05T03:47:50.861983Z"
    },
    "id": "10f95a96",
    "outputId": "7b7001ca-b9e1-4d32-dcc2-7847a6a9db7e",
    "colab": {
     "base_uri": "https://localhost:8080/",
     "height": 162
    },
    "executionInfo": {
     "status": "ok",
     "timestamp": 1683429653460,
     "user_tz": -540,
     "elapsed": 585,
     "user": {
      "displayName": "Myeonghak Lee",
      "userId": "01376346143254624391"
     }
    }
   },
   "outputs": [
    {
     "output_type": "display_data",
     "data": {
      "text/plain": [
       "'DataFrame from a dictionary:\\n'"
      ],
      "application/vnd.google.colaboratory.intrinsic+json": {
       "type": "string"
      }
     },
     "metadata": {}
    },
    {
     "output_type": "display_data",
     "data": {
      "text/plain": [
       "   A  B  C\n",
       "0  1  4  7\n",
       "1  2  5  8\n",
       "2  3  6  9"
      ],
      "text/html": [
       "\n",
       "  <div id=\"df-ee4f6266-b466-4706-a598-98a534adacf0\">\n",
       "    <div class=\"colab-df-container\">\n",
       "      <div>\n",
       "<style scoped>\n",
       "    .dataframe tbody tr th:only-of-type {\n",
       "        vertical-align: middle;\n",
       "    }\n",
       "\n",
       "    .dataframe tbody tr th {\n",
       "        vertical-align: top;\n",
       "    }\n",
       "\n",
       "    .dataframe thead th {\n",
       "        text-align: right;\n",
       "    }\n",
       "</style>\n",
       "<table border=\"1\" class=\"dataframe\">\n",
       "  <thead>\n",
       "    <tr style=\"text-align: right;\">\n",
       "      <th></th>\n",
       "      <th>A</th>\n",
       "      <th>B</th>\n",
       "      <th>C</th>\n",
       "    </tr>\n",
       "  </thead>\n",
       "  <tbody>\n",
       "    <tr>\n",
       "      <th>0</th>\n",
       "      <td>1</td>\n",
       "      <td>4</td>\n",
       "      <td>7</td>\n",
       "    </tr>\n",
       "    <tr>\n",
       "      <th>1</th>\n",
       "      <td>2</td>\n",
       "      <td>5</td>\n",
       "      <td>8</td>\n",
       "    </tr>\n",
       "    <tr>\n",
       "      <th>2</th>\n",
       "      <td>3</td>\n",
       "      <td>6</td>\n",
       "      <td>9</td>\n",
       "    </tr>\n",
       "  </tbody>\n",
       "</table>\n",
       "</div>\n",
       "      <button class=\"colab-df-convert\" onclick=\"convertToInteractive('df-ee4f6266-b466-4706-a598-98a534adacf0')\"\n",
       "              title=\"Convert this dataframe to an interactive table.\"\n",
       "              style=\"display:none;\">\n",
       "        \n",
       "  <svg xmlns=\"http://www.w3.org/2000/svg\" height=\"24px\"viewBox=\"0 0 24 24\"\n",
       "       width=\"24px\">\n",
       "    <path d=\"M0 0h24v24H0V0z\" fill=\"none\"/>\n",
       "    <path d=\"M18.56 5.44l.94 2.06.94-2.06 2.06-.94-2.06-.94-.94-2.06-.94 2.06-2.06.94zm-11 1L8.5 8.5l.94-2.06 2.06-.94-2.06-.94L8.5 2.5l-.94 2.06-2.06.94zm10 10l.94 2.06.94-2.06 2.06-.94-2.06-.94-.94-2.06-.94 2.06-2.06.94z\"/><path d=\"M17.41 7.96l-1.37-1.37c-.4-.4-.92-.59-1.43-.59-.52 0-1.04.2-1.43.59L10.3 9.45l-7.72 7.72c-.78.78-.78 2.05 0 2.83L4 21.41c.39.39.9.59 1.41.59.51 0 1.02-.2 1.41-.59l7.78-7.78 2.81-2.81c.8-.78.8-2.07 0-2.86zM5.41 20L4 18.59l7.72-7.72 1.47 1.35L5.41 20z\"/>\n",
       "  </svg>\n",
       "      </button>\n",
       "      \n",
       "  <style>\n",
       "    .colab-df-container {\n",
       "      display:flex;\n",
       "      flex-wrap:wrap;\n",
       "      gap: 12px;\n",
       "    }\n",
       "\n",
       "    .colab-df-convert {\n",
       "      background-color: #E8F0FE;\n",
       "      border: none;\n",
       "      border-radius: 50%;\n",
       "      cursor: pointer;\n",
       "      display: none;\n",
       "      fill: #1967D2;\n",
       "      height: 32px;\n",
       "      padding: 0 0 0 0;\n",
       "      width: 32px;\n",
       "    }\n",
       "\n",
       "    .colab-df-convert:hover {\n",
       "      background-color: #E2EBFA;\n",
       "      box-shadow: 0px 1px 2px rgba(60, 64, 67, 0.3), 0px 1px 3px 1px rgba(60, 64, 67, 0.15);\n",
       "      fill: #174EA6;\n",
       "    }\n",
       "\n",
       "    [theme=dark] .colab-df-convert {\n",
       "      background-color: #3B4455;\n",
       "      fill: #D2E3FC;\n",
       "    }\n",
       "\n",
       "    [theme=dark] .colab-df-convert:hover {\n",
       "      background-color: #434B5C;\n",
       "      box-shadow: 0px 1px 3px 1px rgba(0, 0, 0, 0.15);\n",
       "      filter: drop-shadow(0px 1px 2px rgba(0, 0, 0, 0.3));\n",
       "      fill: #FFFFFF;\n",
       "    }\n",
       "  </style>\n",
       "\n",
       "      <script>\n",
       "        const buttonEl =\n",
       "          document.querySelector('#df-ee4f6266-b466-4706-a598-98a534adacf0 button.colab-df-convert');\n",
       "        buttonEl.style.display =\n",
       "          google.colab.kernel.accessAllowed ? 'block' : 'none';\n",
       "\n",
       "        async function convertToInteractive(key) {\n",
       "          const element = document.querySelector('#df-ee4f6266-b466-4706-a598-98a534adacf0');\n",
       "          const dataTable =\n",
       "            await google.colab.kernel.invokeFunction('convertToInteractive',\n",
       "                                                     [key], {});\n",
       "          if (!dataTable) return;\n",
       "\n",
       "          const docLinkHtml = 'Like what you see? Visit the ' +\n",
       "            '<a target=\"_blank\" href=https://colab.research.google.com/notebooks/data_table.ipynb>data table notebook</a>'\n",
       "            + ' to learn more about interactive tables.';\n",
       "          element.innerHTML = '';\n",
       "          dataTable['output_type'] = 'display_data';\n",
       "          await google.colab.output.renderOutput(dataTable, element);\n",
       "          const docLink = document.createElement('div');\n",
       "          docLink.innerHTML = docLinkHtml;\n",
       "          element.appendChild(docLink);\n",
       "        }\n",
       "      </script>\n",
       "    </div>\n",
       "  </div>\n",
       "  "
      ]
     },
     "metadata": {}
    }
   ],
   "source": [
    "# 딕셔너리로 데이터프레임 생성\n",
    "data = {'A': [1, 2, 3], 'B': [4, 5, 6], 'C': [7, 8, 9]}\n",
    "df = pd.DataFrame(data)\n",
    "display(\"DataFrame from a dictionary:\\n\", df)"
   ]
  },
  {
   "cell_type": "markdown",
   "id": "57d92e1f",
   "metadata": {
    "ExecuteTime": {
     "end_time": "2023-05-05T03:15:17.765545Z",
     "start_time": "2023-05-05T03:15:17.725536Z"
    },
    "id": "57d92e1f"
   },
   "source": [
    "2. Renaming columns  \n",
    "더 나은 가독성이나 일관성을 위해 열 이름을 변경해야 할 때 유용함  "
   ]
  },
  {
   "cell_type": "code",
   "execution_count": 39,
   "id": "c76a6bd3",
   "metadata": {
    "ExecuteTime": {
     "end_time": "2023-05-05T03:47:50.890990Z",
     "start_time": "2023-05-05T03:47:50.876987Z"
    },
    "id": "c76a6bd3",
    "outputId": "6c4fb3a1-4f7a-4cf3-dc6f-5d7ead4de410",
    "colab": {
     "base_uri": "https://localhost:8080/",
     "height": 162
    },
    "executionInfo": {
     "status": "ok",
     "timestamp": 1683429654051,
     "user_tz": -540,
     "elapsed": 16,
     "user": {
      "displayName": "Myeonghak Lee",
      "userId": "01376346143254624391"
     }
    }
   },
   "outputs": [
    {
     "output_type": "display_data",
     "data": {
      "text/plain": [
       "'Renamed columns:\\n'"
      ],
      "application/vnd.google.colaboratory.intrinsic+json": {
       "type": "string"
      }
     },
     "metadata": {}
    },
    {
     "output_type": "display_data",
     "data": {
      "text/plain": [
       "   Column_A  Column_B  Column_C\n",
       "0         1         4         7\n",
       "1         2         5         8\n",
       "2         3         6         9"
      ],
      "text/html": [
       "\n",
       "  <div id=\"df-2855281e-390b-4890-afc8-47d9d45e6b1b\">\n",
       "    <div class=\"colab-df-container\">\n",
       "      <div>\n",
       "<style scoped>\n",
       "    .dataframe tbody tr th:only-of-type {\n",
       "        vertical-align: middle;\n",
       "    }\n",
       "\n",
       "    .dataframe tbody tr th {\n",
       "        vertical-align: top;\n",
       "    }\n",
       "\n",
       "    .dataframe thead th {\n",
       "        text-align: right;\n",
       "    }\n",
       "</style>\n",
       "<table border=\"1\" class=\"dataframe\">\n",
       "  <thead>\n",
       "    <tr style=\"text-align: right;\">\n",
       "      <th></th>\n",
       "      <th>Column_A</th>\n",
       "      <th>Column_B</th>\n",
       "      <th>Column_C</th>\n",
       "    </tr>\n",
       "  </thead>\n",
       "  <tbody>\n",
       "    <tr>\n",
       "      <th>0</th>\n",
       "      <td>1</td>\n",
       "      <td>4</td>\n",
       "      <td>7</td>\n",
       "    </tr>\n",
       "    <tr>\n",
       "      <th>1</th>\n",
       "      <td>2</td>\n",
       "      <td>5</td>\n",
       "      <td>8</td>\n",
       "    </tr>\n",
       "    <tr>\n",
       "      <th>2</th>\n",
       "      <td>3</td>\n",
       "      <td>6</td>\n",
       "      <td>9</td>\n",
       "    </tr>\n",
       "  </tbody>\n",
       "</table>\n",
       "</div>\n",
       "      <button class=\"colab-df-convert\" onclick=\"convertToInteractive('df-2855281e-390b-4890-afc8-47d9d45e6b1b')\"\n",
       "              title=\"Convert this dataframe to an interactive table.\"\n",
       "              style=\"display:none;\">\n",
       "        \n",
       "  <svg xmlns=\"http://www.w3.org/2000/svg\" height=\"24px\"viewBox=\"0 0 24 24\"\n",
       "       width=\"24px\">\n",
       "    <path d=\"M0 0h24v24H0V0z\" fill=\"none\"/>\n",
       "    <path d=\"M18.56 5.44l.94 2.06.94-2.06 2.06-.94-2.06-.94-.94-2.06-.94 2.06-2.06.94zm-11 1L8.5 8.5l.94-2.06 2.06-.94-2.06-.94L8.5 2.5l-.94 2.06-2.06.94zm10 10l.94 2.06.94-2.06 2.06-.94-2.06-.94-.94-2.06-.94 2.06-2.06.94z\"/><path d=\"M17.41 7.96l-1.37-1.37c-.4-.4-.92-.59-1.43-.59-.52 0-1.04.2-1.43.59L10.3 9.45l-7.72 7.72c-.78.78-.78 2.05 0 2.83L4 21.41c.39.39.9.59 1.41.59.51 0 1.02-.2 1.41-.59l7.78-7.78 2.81-2.81c.8-.78.8-2.07 0-2.86zM5.41 20L4 18.59l7.72-7.72 1.47 1.35L5.41 20z\"/>\n",
       "  </svg>\n",
       "      </button>\n",
       "      \n",
       "  <style>\n",
       "    .colab-df-container {\n",
       "      display:flex;\n",
       "      flex-wrap:wrap;\n",
       "      gap: 12px;\n",
       "    }\n",
       "\n",
       "    .colab-df-convert {\n",
       "      background-color: #E8F0FE;\n",
       "      border: none;\n",
       "      border-radius: 50%;\n",
       "      cursor: pointer;\n",
       "      display: none;\n",
       "      fill: #1967D2;\n",
       "      height: 32px;\n",
       "      padding: 0 0 0 0;\n",
       "      width: 32px;\n",
       "    }\n",
       "\n",
       "    .colab-df-convert:hover {\n",
       "      background-color: #E2EBFA;\n",
       "      box-shadow: 0px 1px 2px rgba(60, 64, 67, 0.3), 0px 1px 3px 1px rgba(60, 64, 67, 0.15);\n",
       "      fill: #174EA6;\n",
       "    }\n",
       "\n",
       "    [theme=dark] .colab-df-convert {\n",
       "      background-color: #3B4455;\n",
       "      fill: #D2E3FC;\n",
       "    }\n",
       "\n",
       "    [theme=dark] .colab-df-convert:hover {\n",
       "      background-color: #434B5C;\n",
       "      box-shadow: 0px 1px 3px 1px rgba(0, 0, 0, 0.15);\n",
       "      filter: drop-shadow(0px 1px 2px rgba(0, 0, 0, 0.3));\n",
       "      fill: #FFFFFF;\n",
       "    }\n",
       "  </style>\n",
       "\n",
       "      <script>\n",
       "        const buttonEl =\n",
       "          document.querySelector('#df-2855281e-390b-4890-afc8-47d9d45e6b1b button.colab-df-convert');\n",
       "        buttonEl.style.display =\n",
       "          google.colab.kernel.accessAllowed ? 'block' : 'none';\n",
       "\n",
       "        async function convertToInteractive(key) {\n",
       "          const element = document.querySelector('#df-2855281e-390b-4890-afc8-47d9d45e6b1b');\n",
       "          const dataTable =\n",
       "            await google.colab.kernel.invokeFunction('convertToInteractive',\n",
       "                                                     [key], {});\n",
       "          if (!dataTable) return;\n",
       "\n",
       "          const docLinkHtml = 'Like what you see? Visit the ' +\n",
       "            '<a target=\"_blank\" href=https://colab.research.google.com/notebooks/data_table.ipynb>data table notebook</a>'\n",
       "            + ' to learn more about interactive tables.';\n",
       "          element.innerHTML = '';\n",
       "          dataTable['output_type'] = 'display_data';\n",
       "          await google.colab.output.renderOutput(dataTable, element);\n",
       "          const docLink = document.createElement('div');\n",
       "          docLink.innerHTML = docLinkHtml;\n",
       "          element.appendChild(docLink);\n",
       "        }\n",
       "      </script>\n",
       "    </div>\n",
       "  </div>\n",
       "  "
      ]
     },
     "metadata": {}
    }
   ],
   "source": [
    "df = df.rename(columns={'A': 'Column_A', 'B': 'Column_B', 'C': 'Column_C'})\n",
    "display(\"Renamed columns:\\n\", df)"
   ]
  },
  {
   "cell_type": "markdown",
   "id": "4173b58a",
   "metadata": {
    "ExecuteTime": {
     "end_time": "2023-05-05T03:15:17.765545Z",
     "start_time": "2023-05-05T03:15:17.725536Z"
    },
    "id": "4173b58a"
   },
   "source": [
    "3. Selecting columns  \n",
    "데이터셋의 특정 열을 대상으로만 작업해야 할 때 유용한 기능  "
   ]
  },
  {
   "cell_type": "code",
   "execution_count": 41,
   "id": "aa6f4f37",
   "metadata": {
    "ExecuteTime": {
     "end_time": "2023-05-05T03:47:50.905992Z",
     "start_time": "2023-05-05T03:47:50.892990Z"
    },
    "id": "aa6f4f37",
    "outputId": "a09cb43a-6d30-498e-af89-342d31335237",
    "colab": {
     "base_uri": "https://localhost:8080/",
     "height": 162
    },
    "executionInfo": {
     "status": "ok",
     "timestamp": 1683429688246,
     "user_tz": -540,
     "elapsed": 16,
     "user": {
      "displayName": "Myeonghak Lee",
      "userId": "01376346143254624391"
     }
    }
   },
   "outputs": [
    {
     "output_type": "display_data",
     "data": {
      "text/plain": [
       "'Selected columns:\\n'"
      ],
      "application/vnd.google.colaboratory.intrinsic+json": {
       "type": "string"
      }
     },
     "metadata": {}
    },
    {
     "output_type": "display_data",
     "data": {
      "text/plain": [
       "   Column_A  Column_C\n",
       "0         1         7\n",
       "1         2         8\n",
       "2         3         9"
      ],
      "text/html": [
       "\n",
       "  <div id=\"df-1b2df2a9-70eb-4a6d-96c0-2182b1630c77\">\n",
       "    <div class=\"colab-df-container\">\n",
       "      <div>\n",
       "<style scoped>\n",
       "    .dataframe tbody tr th:only-of-type {\n",
       "        vertical-align: middle;\n",
       "    }\n",
       "\n",
       "    .dataframe tbody tr th {\n",
       "        vertical-align: top;\n",
       "    }\n",
       "\n",
       "    .dataframe thead th {\n",
       "        text-align: right;\n",
       "    }\n",
       "</style>\n",
       "<table border=\"1\" class=\"dataframe\">\n",
       "  <thead>\n",
       "    <tr style=\"text-align: right;\">\n",
       "      <th></th>\n",
       "      <th>Column_A</th>\n",
       "      <th>Column_C</th>\n",
       "    </tr>\n",
       "  </thead>\n",
       "  <tbody>\n",
       "    <tr>\n",
       "      <th>0</th>\n",
       "      <td>1</td>\n",
       "      <td>7</td>\n",
       "    </tr>\n",
       "    <tr>\n",
       "      <th>1</th>\n",
       "      <td>2</td>\n",
       "      <td>8</td>\n",
       "    </tr>\n",
       "    <tr>\n",
       "      <th>2</th>\n",
       "      <td>3</td>\n",
       "      <td>9</td>\n",
       "    </tr>\n",
       "  </tbody>\n",
       "</table>\n",
       "</div>\n",
       "      <button class=\"colab-df-convert\" onclick=\"convertToInteractive('df-1b2df2a9-70eb-4a6d-96c0-2182b1630c77')\"\n",
       "              title=\"Convert this dataframe to an interactive table.\"\n",
       "              style=\"display:none;\">\n",
       "        \n",
       "  <svg xmlns=\"http://www.w3.org/2000/svg\" height=\"24px\"viewBox=\"0 0 24 24\"\n",
       "       width=\"24px\">\n",
       "    <path d=\"M0 0h24v24H0V0z\" fill=\"none\"/>\n",
       "    <path d=\"M18.56 5.44l.94 2.06.94-2.06 2.06-.94-2.06-.94-.94-2.06-.94 2.06-2.06.94zm-11 1L8.5 8.5l.94-2.06 2.06-.94-2.06-.94L8.5 2.5l-.94 2.06-2.06.94zm10 10l.94 2.06.94-2.06 2.06-.94-2.06-.94-.94-2.06-.94 2.06-2.06.94z\"/><path d=\"M17.41 7.96l-1.37-1.37c-.4-.4-.92-.59-1.43-.59-.52 0-1.04.2-1.43.59L10.3 9.45l-7.72 7.72c-.78.78-.78 2.05 0 2.83L4 21.41c.39.39.9.59 1.41.59.51 0 1.02-.2 1.41-.59l7.78-7.78 2.81-2.81c.8-.78.8-2.07 0-2.86zM5.41 20L4 18.59l7.72-7.72 1.47 1.35L5.41 20z\"/>\n",
       "  </svg>\n",
       "      </button>\n",
       "      \n",
       "  <style>\n",
       "    .colab-df-container {\n",
       "      display:flex;\n",
       "      flex-wrap:wrap;\n",
       "      gap: 12px;\n",
       "    }\n",
       "\n",
       "    .colab-df-convert {\n",
       "      background-color: #E8F0FE;\n",
       "      border: none;\n",
       "      border-radius: 50%;\n",
       "      cursor: pointer;\n",
       "      display: none;\n",
       "      fill: #1967D2;\n",
       "      height: 32px;\n",
       "      padding: 0 0 0 0;\n",
       "      width: 32px;\n",
       "    }\n",
       "\n",
       "    .colab-df-convert:hover {\n",
       "      background-color: #E2EBFA;\n",
       "      box-shadow: 0px 1px 2px rgba(60, 64, 67, 0.3), 0px 1px 3px 1px rgba(60, 64, 67, 0.15);\n",
       "      fill: #174EA6;\n",
       "    }\n",
       "\n",
       "    [theme=dark] .colab-df-convert {\n",
       "      background-color: #3B4455;\n",
       "      fill: #D2E3FC;\n",
       "    }\n",
       "\n",
       "    [theme=dark] .colab-df-convert:hover {\n",
       "      background-color: #434B5C;\n",
       "      box-shadow: 0px 1px 3px 1px rgba(0, 0, 0, 0.15);\n",
       "      filter: drop-shadow(0px 1px 2px rgba(0, 0, 0, 0.3));\n",
       "      fill: #FFFFFF;\n",
       "    }\n",
       "  </style>\n",
       "\n",
       "      <script>\n",
       "        const buttonEl =\n",
       "          document.querySelector('#df-1b2df2a9-70eb-4a6d-96c0-2182b1630c77 button.colab-df-convert');\n",
       "        buttonEl.style.display =\n",
       "          google.colab.kernel.accessAllowed ? 'block' : 'none';\n",
       "\n",
       "        async function convertToInteractive(key) {\n",
       "          const element = document.querySelector('#df-1b2df2a9-70eb-4a6d-96c0-2182b1630c77');\n",
       "          const dataTable =\n",
       "            await google.colab.kernel.invokeFunction('convertToInteractive',\n",
       "                                                     [key], {});\n",
       "          if (!dataTable) return;\n",
       "\n",
       "          const docLinkHtml = 'Like what you see? Visit the ' +\n",
       "            '<a target=\"_blank\" href=https://colab.research.google.com/notebooks/data_table.ipynb>data table notebook</a>'\n",
       "            + ' to learn more about interactive tables.';\n",
       "          element.innerHTML = '';\n",
       "          dataTable['output_type'] = 'display_data';\n",
       "          await google.colab.output.renderOutput(dataTable, element);\n",
       "          const docLink = document.createElement('div');\n",
       "          docLink.innerHTML = docLinkHtml;\n",
       "          element.appendChild(docLink);\n",
       "        }\n",
       "      </script>\n",
       "    </div>\n",
       "  </div>\n",
       "  "
      ]
     },
     "metadata": {}
    }
   ],
   "source": [
    "selected_columns = df[['Column_A', 'Column_C']]\n",
    "display(\"Selected columns:\\n\", selected_columns)"
   ]
  },
  {
   "cell_type": "markdown",
   "id": "32d40c6e",
   "metadata": {
    "ExecuteTime": {
     "end_time": "2023-05-05T03:15:17.765545Z",
     "start_time": "2023-05-05T03:15:17.725536Z"
    },
    "id": "32d40c6e"
   },
   "source": [
    "4. Filtering rows  \n",
    "특정 기준에 따라 행을 선택해야 할 때 유용   "
   ]
  },
  {
   "cell_type": "code",
   "source": [
    "df['Column_A'] > 1"
   ],
   "metadata": {
    "colab": {
     "base_uri": "https://localhost:8080/"
    },
    "id": "5oKW810xOshb",
    "executionInfo": {
     "status": "ok",
     "timestamp": 1683429708528,
     "user_tz": -540,
     "elapsed": 9,
     "user": {
      "displayName": "Myeonghak Lee",
      "userId": "01376346143254624391"
     }
    },
    "outputId": "79e5960e-426f-4761-9a7b-8812eea9787d"
   },
   "id": "5oKW810xOshb",
   "execution_count": 42,
   "outputs": [
    {
     "output_type": "execute_result",
     "data": {
      "text/plain": [
       "0    False\n",
       "1     True\n",
       "2     True\n",
       "Name: Column_A, dtype: bool"
      ]
     },
     "metadata": {},
     "execution_count": 42
    }
   ]
  },
  {
   "cell_type": "code",
   "execution_count": null,
   "id": "4d2c3730",
   "metadata": {
    "ExecuteTime": {
     "end_time": "2023-05-05T03:47:50.920996Z",
     "start_time": "2023-05-05T03:47:50.906993Z"
    },
    "id": "4d2c3730",
    "outputId": "fe6af632-d11e-450e-ef88-d6409ebff7c4"
   },
   "outputs": [
    {
     "data": {
      "text/plain": [
       "'Filtered rows:\\n'"
      ]
     },
     "metadata": {},
     "output_type": "display_data"
    },
    {
     "data": {
      "text/html": [
       "<div>\n",
       "<style scoped>\n",
       "    .dataframe tbody tr th:only-of-type {\n",
       "        vertical-align: middle;\n",
       "    }\n",
       "\n",
       "    .dataframe tbody tr th {\n",
       "        vertical-align: top;\n",
       "    }\n",
       "\n",
       "    .dataframe thead th {\n",
       "        text-align: right;\n",
       "    }\n",
       "</style>\n",
       "<table border=\"1\" class=\"dataframe\">\n",
       "  <thead>\n",
       "    <tr style=\"text-align: right;\">\n",
       "      <th></th>\n",
       "      <th>Column_A</th>\n",
       "      <th>Column_B</th>\n",
       "      <th>Column_C</th>\n",
       "    </tr>\n",
       "  </thead>\n",
       "  <tbody>\n",
       "    <tr>\n",
       "      <th>1</th>\n",
       "      <td>2</td>\n",
       "      <td>5</td>\n",
       "      <td>8</td>\n",
       "    </tr>\n",
       "    <tr>\n",
       "      <th>2</th>\n",
       "      <td>3</td>\n",
       "      <td>6</td>\n",
       "      <td>9</td>\n",
       "    </tr>\n",
       "  </tbody>\n",
       "</table>\n",
       "</div>"
      ],
      "text/plain": [
       "   Column_A  Column_B  Column_C\n",
       "1         2         5         8\n",
       "2         3         6         9"
      ]
     },
     "metadata": {},
     "output_type": "display_data"
    }
   ],
   "source": [
    "filtered_rows = df[df['Column_A'] > 1]\n",
    "display(\"Filtered rows:\\n\", filtered_rows)"
   ]
  },
  {
   "cell_type": "code",
   "execution_count": null,
   "id": "a49f2904",
   "metadata": {
    "ExecuteTime": {
     "end_time": "2023-05-05T03:48:02.891110Z",
     "start_time": "2023-05-05T03:48:02.876106Z"
    },
    "id": "a49f2904",
    "outputId": "cd7fb7c4-d049-4368-88ed-489545b19ccd"
   },
   "outputs": [
    {
     "data": {
      "text/plain": [
       "'Filtered rows:\\n'"
      ]
     },
     "metadata": {},
     "output_type": "display_data"
    },
    {
     "data": {
      "text/html": [
       "<div>\n",
       "<style scoped>\n",
       "    .dataframe tbody tr th:only-of-type {\n",
       "        vertical-align: middle;\n",
       "    }\n",
       "\n",
       "    .dataframe tbody tr th {\n",
       "        vertical-align: top;\n",
       "    }\n",
       "\n",
       "    .dataframe thead th {\n",
       "        text-align: right;\n",
       "    }\n",
       "</style>\n",
       "<table border=\"1\" class=\"dataframe\">\n",
       "  <thead>\n",
       "    <tr style=\"text-align: right;\">\n",
       "      <th></th>\n",
       "      <th>Column_A</th>\n",
       "      <th>Column_B</th>\n",
       "      <th>Column_C</th>\n",
       "    </tr>\n",
       "  </thead>\n",
       "  <tbody>\n",
       "    <tr>\n",
       "      <th>1</th>\n",
       "      <td>2</td>\n",
       "      <td>5</td>\n",
       "      <td>8</td>\n",
       "    </tr>\n",
       "    <tr>\n",
       "      <th>2</th>\n",
       "      <td>3</td>\n",
       "      <td>6</td>\n",
       "      <td>9</td>\n",
       "    </tr>\n",
       "  </tbody>\n",
       "</table>\n",
       "</div>"
      ],
      "text/plain": [
       "   Column_A  Column_B  Column_C\n",
       "1         2         5         8\n",
       "2         3         6         9"
      ]
     },
     "metadata": {},
     "output_type": "display_data"
    }
   ],
   "source": [
    "# Using the loc[] function with a boolean condition\n",
    "filtered_rows = df.loc[df['Column_A'] > 1]\n",
    "display(\"Filtered rows:\\n\", filtered_rows)"
   ]
  },
  {
   "cell_type": "markdown",
   "id": "f9c7e8ea",
   "metadata": {
    "ExecuteTime": {
     "end_time": "2023-05-05T03:15:17.765545Z",
     "start_time": "2023-05-05T03:15:17.725536Z"
    },
    "id": "f9c7e8ea"
   },
   "source": [
    "5. Reindexing  \n",
    "데이터프레임의 행이나 열을 재배열해야 할 때 사용  "
   ]
  },
  {
   "cell_type": "code",
   "execution_count": null,
   "id": "4dd69e54",
   "metadata": {
    "ExecuteTime": {
     "end_time": "2023-05-05T03:46:21.241220Z",
     "start_time": "2023-05-05T03:46:21.231218Z"
    },
    "id": "4dd69e54",
    "outputId": "16b08972-f9d2-4ee3-e68c-4fc171b4dc60"
   },
   "outputs": [
    {
     "data": {
      "text/plain": [
       "'Reindexed DataFrame:\\n'"
      ]
     },
     "metadata": {},
     "output_type": "display_data"
    },
    {
     "data": {
      "text/html": [
       "<div>\n",
       "<style scoped>\n",
       "    .dataframe tbody tr th:only-of-type {\n",
       "        vertical-align: middle;\n",
       "    }\n",
       "\n",
       "    .dataframe tbody tr th {\n",
       "        vertical-align: top;\n",
       "    }\n",
       "\n",
       "    .dataframe thead th {\n",
       "        text-align: right;\n",
       "    }\n",
       "</style>\n",
       "<table border=\"1\" class=\"dataframe\">\n",
       "  <thead>\n",
       "    <tr style=\"text-align: right;\">\n",
       "      <th></th>\n",
       "      <th>Column_A</th>\n",
       "      <th>Column_B</th>\n",
       "      <th>Column_C</th>\n",
       "    </tr>\n",
       "  </thead>\n",
       "  <tbody>\n",
       "    <tr>\n",
       "      <th>2</th>\n",
       "      <td>3</td>\n",
       "      <td>6</td>\n",
       "      <td>9</td>\n",
       "    </tr>\n",
       "    <tr>\n",
       "      <th>0</th>\n",
       "      <td>1</td>\n",
       "      <td>4</td>\n",
       "      <td>7</td>\n",
       "    </tr>\n",
       "    <tr>\n",
       "      <th>1</th>\n",
       "      <td>2</td>\n",
       "      <td>5</td>\n",
       "      <td>8</td>\n",
       "    </tr>\n",
       "  </tbody>\n",
       "</table>\n",
       "</div>"
      ],
      "text/plain": [
       "   Column_A  Column_B  Column_C\n",
       "2         3         6         9\n",
       "0         1         4         7\n",
       "1         2         5         8"
      ]
     },
     "metadata": {},
     "output_type": "display_data"
    }
   ],
   "source": [
    "new_index = [2, 0, 1]\n",
    "reindexed_df = df.reindex(new_index)\n",
    "display(\"Reindexed DataFrame:\\n\", reindexed_df)"
   ]
  },
  {
   "cell_type": "markdown",
   "id": "24a0b585",
   "metadata": {
    "ExecuteTime": {
     "end_time": "2023-05-05T03:46:52.670244Z",
     "start_time": "2023-05-05T03:46:52.655240Z"
    },
    "id": "24a0b585"
   },
   "source": [
    "6. Handling missing values  \n",
    "데이터를 전처리할 때, 결측 값을 처리해 주어야 함  "
   ]
  },
  {
   "cell_type": "code",
   "execution_count": null,
   "id": "6e1be26d",
   "metadata": {
    "ExecuteTime": {
     "end_time": "2023-05-05T03:48:08.432431Z",
     "start_time": "2023-05-05T03:48:08.420428Z"
    },
    "id": "6e1be26d",
    "outputId": "631f2ba5-34cb-472c-b518-0c91d2b1f9dd"
   },
   "outputs": [
    {
     "data": {
      "text/plain": [
       "'DataFrame with missing values:\\n'"
      ]
     },
     "metadata": {},
     "output_type": "display_data"
    },
    {
     "data": {
      "text/html": [
       "<div>\n",
       "<style scoped>\n",
       "    .dataframe tbody tr th:only-of-type {\n",
       "        vertical-align: middle;\n",
       "    }\n",
       "\n",
       "    .dataframe tbody tr th {\n",
       "        vertical-align: top;\n",
       "    }\n",
       "\n",
       "    .dataframe thead th {\n",
       "        text-align: right;\n",
       "    }\n",
       "</style>\n",
       "<table border=\"1\" class=\"dataframe\">\n",
       "  <thead>\n",
       "    <tr style=\"text-align: right;\">\n",
       "      <th></th>\n",
       "      <th>Column_A</th>\n",
       "      <th>Column_B</th>\n",
       "      <th>Column_C</th>\n",
       "    </tr>\n",
       "  </thead>\n",
       "  <tbody>\n",
       "    <tr>\n",
       "      <th>0</th>\n",
       "      <td>1</td>\n",
       "      <td>4</td>\n",
       "      <td>7</td>\n",
       "    </tr>\n",
       "    <tr>\n",
       "      <th>1</th>\n",
       "      <td>2</td>\n",
       "      <td>5</td>\n",
       "      <td>8</td>\n",
       "    </tr>\n",
       "    <tr>\n",
       "      <th>2</th>\n",
       "      <td>3</td>\n",
       "      <td>6</td>\n",
       "      <td>9</td>\n",
       "    </tr>\n",
       "    <tr>\n",
       "      <th>3</th>\n",
       "      <td>None</td>\n",
       "      <td>10</td>\n",
       "      <td>None</td>\n",
       "    </tr>\n",
       "  </tbody>\n",
       "</table>\n",
       "</div>"
      ],
      "text/plain": [
       "  Column_A  Column_B Column_C\n",
       "0        1         4        7\n",
       "1        2         5        8\n",
       "2        3         6        9\n",
       "3     None        10     None"
      ]
     },
     "metadata": {},
     "output_type": "display_data"
    }
   ],
   "source": [
    "# 결측값이 있는 있는 행 추가\n",
    "\n",
    "df.loc[3] = {'Column_A': None, 'Column_B': 10, 'Column_C': None}\n",
    "display(\"DataFrame with missing values:\\n\", df)"
   ]
  },
  {
   "cell_type": "code",
   "execution_count": null,
   "id": "ca010b3f",
   "metadata": {
    "ExecuteTime": {
     "end_time": "2023-05-05T03:48:08.582682Z",
     "start_time": "2023-05-05T03:48:08.568680Z"
    },
    "id": "ca010b3f",
    "outputId": "f39b3efa-cbaa-4709-ec90-2811833b7286"
   },
   "outputs": [
    {
     "data": {
      "text/plain": [
       "'DataFrame without missing values:\\n'"
      ]
     },
     "metadata": {},
     "output_type": "display_data"
    },
    {
     "data": {
      "text/html": [
       "<div>\n",
       "<style scoped>\n",
       "    .dataframe tbody tr th:only-of-type {\n",
       "        vertical-align: middle;\n",
       "    }\n",
       "\n",
       "    .dataframe tbody tr th {\n",
       "        vertical-align: top;\n",
       "    }\n",
       "\n",
       "    .dataframe thead th {\n",
       "        text-align: right;\n",
       "    }\n",
       "</style>\n",
       "<table border=\"1\" class=\"dataframe\">\n",
       "  <thead>\n",
       "    <tr style=\"text-align: right;\">\n",
       "      <th></th>\n",
       "      <th>Column_A</th>\n",
       "      <th>Column_B</th>\n",
       "      <th>Column_C</th>\n",
       "    </tr>\n",
       "  </thead>\n",
       "  <tbody>\n",
       "    <tr>\n",
       "      <th>0</th>\n",
       "      <td>1</td>\n",
       "      <td>4</td>\n",
       "      <td>7</td>\n",
       "    </tr>\n",
       "    <tr>\n",
       "      <th>1</th>\n",
       "      <td>2</td>\n",
       "      <td>5</td>\n",
       "      <td>8</td>\n",
       "    </tr>\n",
       "    <tr>\n",
       "      <th>2</th>\n",
       "      <td>3</td>\n",
       "      <td>6</td>\n",
       "      <td>9</td>\n",
       "    </tr>\n",
       "  </tbody>\n",
       "</table>\n",
       "</div>"
      ],
      "text/plain": [
       "  Column_A  Column_B Column_C\n",
       "0        1         4        7\n",
       "1        2         5        8\n",
       "2        3         6        9"
      ]
     },
     "metadata": {},
     "output_type": "display_data"
    }
   ],
   "source": [
    "# 결측치가 있는 행 삭제\n",
    "\n",
    "df_no_missing = df.dropna()\n",
    "display(\"DataFrame without missing values:\\n\", df_no_missing)"
   ]
  },
  {
   "cell_type": "code",
   "execution_count": null,
   "id": "23e23951",
   "metadata": {
    "ExecuteTime": {
     "end_time": "2023-05-05T03:48:08.718174Z",
     "start_time": "2023-05-05T03:48:08.711171Z"
    },
    "id": "23e23951",
    "outputId": "472eb699-eea9-413a-b4d8-2b034a696f4c"
   },
   "outputs": [
    {
     "data": {
      "text/plain": [
       "'DataFrame with filled missing values:\\n'"
      ]
     },
     "metadata": {},
     "output_type": "display_data"
    },
    {
     "data": {
      "text/html": [
       "<div>\n",
       "<style scoped>\n",
       "    .dataframe tbody tr th:only-of-type {\n",
       "        vertical-align: middle;\n",
       "    }\n",
       "\n",
       "    .dataframe tbody tr th {\n",
       "        vertical-align: top;\n",
       "    }\n",
       "\n",
       "    .dataframe thead th {\n",
       "        text-align: right;\n",
       "    }\n",
       "</style>\n",
       "<table border=\"1\" class=\"dataframe\">\n",
       "  <thead>\n",
       "    <tr style=\"text-align: right;\">\n",
       "      <th></th>\n",
       "      <th>Column_A</th>\n",
       "      <th>Column_B</th>\n",
       "      <th>Column_C</th>\n",
       "    </tr>\n",
       "  </thead>\n",
       "  <tbody>\n",
       "    <tr>\n",
       "      <th>0</th>\n",
       "      <td>1</td>\n",
       "      <td>4</td>\n",
       "      <td>7</td>\n",
       "    </tr>\n",
       "    <tr>\n",
       "      <th>1</th>\n",
       "      <td>2</td>\n",
       "      <td>5</td>\n",
       "      <td>8</td>\n",
       "    </tr>\n",
       "    <tr>\n",
       "      <th>2</th>\n",
       "      <td>3</td>\n",
       "      <td>6</td>\n",
       "      <td>9</td>\n",
       "    </tr>\n",
       "    <tr>\n",
       "      <th>3</th>\n",
       "      <td>0</td>\n",
       "      <td>10</td>\n",
       "      <td>0</td>\n",
       "    </tr>\n",
       "  </tbody>\n",
       "</table>\n",
       "</div>"
      ],
      "text/plain": [
       "   Column_A  Column_B  Column_C\n",
       "0         1         4         7\n",
       "1         2         5         8\n",
       "2         3         6         9\n",
       "3         0        10         0"
      ]
     },
     "metadata": {},
     "output_type": "display_data"
    }
   ],
   "source": [
    "# 결측 값을 기본값으로 채우기\n",
    "\n",
    "df_filled = df.fillna(0)\n",
    "display(\"DataFrame with filled missing values:\\n\", df_filled)"
   ]
  },
  {
   "cell_type": "markdown",
   "id": "6e63e888",
   "metadata": {
    "ExecuteTime": {
     "end_time": "2023-05-05T03:48:50.387607Z",
     "start_time": "2023-05-05T03:48:50.384606Z"
    },
    "id": "6e63e888"
   },
   "source": [
    "7. Grouping data  \n",
    "데이터셋 내 특정 그룹 별로 작업을 수행해야 할 때 사용   \n",
    "한 유저가 다양한 로그를 남기거나, 한 아이템이 다양한 유저에 의해 클릭/소비되므로 자주 사용되는 기능  "
   ]
  },
  {
   "cell_type": "code",
   "execution_count": null,
   "id": "f2b12706",
   "metadata": {
    "ExecuteTime": {
     "end_time": "2023-05-05T03:49:12.603432Z",
     "start_time": "2023-05-05T03:49:12.592430Z"
    },
    "id": "f2b12706",
    "outputId": "d4dd6caf-8dc5-49bf-b605-4bfac172243c"
   },
   "outputs": [
    {
     "data": {
      "text/plain": [
       "'DataFrame with category column:\\n'"
      ]
     },
     "metadata": {},
     "output_type": "display_data"
    },
    {
     "data": {
      "text/html": [
       "<div>\n",
       "<style scoped>\n",
       "    .dataframe tbody tr th:only-of-type {\n",
       "        vertical-align: middle;\n",
       "    }\n",
       "\n",
       "    .dataframe tbody tr th {\n",
       "        vertical-align: top;\n",
       "    }\n",
       "\n",
       "    .dataframe thead th {\n",
       "        text-align: right;\n",
       "    }\n",
       "</style>\n",
       "<table border=\"1\" class=\"dataframe\">\n",
       "  <thead>\n",
       "    <tr style=\"text-align: right;\">\n",
       "      <th></th>\n",
       "      <th>Column_A</th>\n",
       "      <th>Column_B</th>\n",
       "      <th>Column_C</th>\n",
       "      <th>Category</th>\n",
       "    </tr>\n",
       "  </thead>\n",
       "  <tbody>\n",
       "    <tr>\n",
       "      <th>0</th>\n",
       "      <td>1</td>\n",
       "      <td>4</td>\n",
       "      <td>7</td>\n",
       "      <td>A</td>\n",
       "    </tr>\n",
       "    <tr>\n",
       "      <th>1</th>\n",
       "      <td>2</td>\n",
       "      <td>5</td>\n",
       "      <td>8</td>\n",
       "      <td>B</td>\n",
       "    </tr>\n",
       "    <tr>\n",
       "      <th>2</th>\n",
       "      <td>3</td>\n",
       "      <td>6</td>\n",
       "      <td>9</td>\n",
       "      <td>A</td>\n",
       "    </tr>\n",
       "    <tr>\n",
       "      <th>3</th>\n",
       "      <td>None</td>\n",
       "      <td>10</td>\n",
       "      <td>None</td>\n",
       "      <td>B</td>\n",
       "    </tr>\n",
       "  </tbody>\n",
       "</table>\n",
       "</div>"
      ],
      "text/plain": [
       "  Column_A  Column_B Column_C Category\n",
       "0        1         4        7        A\n",
       "1        2         5        8        B\n",
       "2        3         6        9        A\n",
       "3     None        10     None        B"
      ]
     },
     "metadata": {},
     "output_type": "display_data"
    },
    {
     "data": {
      "text/plain": [
       "'Grouped data:\\n'"
      ]
     },
     "metadata": {},
     "output_type": "display_data"
    },
    {
     "data": {
      "text/html": [
       "<div>\n",
       "<style scoped>\n",
       "    .dataframe tbody tr th:only-of-type {\n",
       "        vertical-align: middle;\n",
       "    }\n",
       "\n",
       "    .dataframe tbody tr th {\n",
       "        vertical-align: top;\n",
       "    }\n",
       "\n",
       "    .dataframe thead th {\n",
       "        text-align: right;\n",
       "    }\n",
       "</style>\n",
       "<table border=\"1\" class=\"dataframe\">\n",
       "  <thead>\n",
       "    <tr style=\"text-align: right;\">\n",
       "      <th></th>\n",
       "      <th>Column_B</th>\n",
       "    </tr>\n",
       "    <tr>\n",
       "      <th>Category</th>\n",
       "      <th></th>\n",
       "    </tr>\n",
       "  </thead>\n",
       "  <tbody>\n",
       "    <tr>\n",
       "      <th>A</th>\n",
       "      <td>5.0</td>\n",
       "    </tr>\n",
       "    <tr>\n",
       "      <th>B</th>\n",
       "      <td>7.5</td>\n",
       "    </tr>\n",
       "  </tbody>\n",
       "</table>\n",
       "</div>"
      ],
      "text/plain": [
       "          Column_B\n",
       "Category          \n",
       "A              5.0\n",
       "B              7.5"
      ]
     },
     "metadata": {},
     "output_type": "display_data"
    }
   ],
   "source": [
    "# 'Category' 열 추가\n",
    "\n",
    "df['Category'] = ['A', 'B', 'A', 'B']\n",
    "display(\"DataFrame with category column:\\n\", df)\n",
    "\n",
    "# 'Category'별로 그룹화하고(groupby친다고 표현하기도 함) 각 그룹의 평균을 계산 \n",
    "grouped = df.groupby('Category').mean()\n",
    "display(\"Grouped data:\\n\", grouped)"
   ]
  },
  {
   "cell_type": "markdown",
   "id": "e4109f79",
   "metadata": {
    "ExecuteTime": {
     "end_time": "2023-05-05T03:15:17.765545Z",
     "start_time": "2023-05-05T03:15:17.725536Z"
    },
    "id": "e4109f79"
   },
   "source": [
    "8. Merging DataFrames  \n",
    "데이터프레임을 병합하는 것은 여러 테이블에서 데이터를 결합해야 할 때 사용  \n",
    "DB 내 다수의 테이블에서 호출해 join 걸어 사용하므로, merge의 개념을 이해하는 것이 필요함"
   ]
  },
  {
   "cell_type": "code",
   "execution_count": null,
   "id": "544df14d",
   "metadata": {
    "ExecuteTime": {
     "end_time": "2023-05-05T03:49:55.788290Z",
     "start_time": "2023-05-05T03:49:55.781288Z"
    },
    "id": "544df14d",
    "outputId": "feb911bf-31af-4acf-e50b-ddb6cc3e46ce"
   },
   "outputs": [
    {
     "data": {
      "text/plain": [
       "'Merged DataFrame:\\n'"
      ]
     },
     "metadata": {},
     "output_type": "display_data"
    },
    {
     "data": {
      "text/html": [
       "<div>\n",
       "<style scoped>\n",
       "    .dataframe tbody tr th:only-of-type {\n",
       "        vertical-align: middle;\n",
       "    }\n",
       "\n",
       "    .dataframe tbody tr th {\n",
       "        vertical-align: top;\n",
       "    }\n",
       "\n",
       "    .dataframe thead th {\n",
       "        text-align: right;\n",
       "    }\n",
       "</style>\n",
       "<table border=\"1\" class=\"dataframe\">\n",
       "  <thead>\n",
       "    <tr style=\"text-align: right;\">\n",
       "      <th></th>\n",
       "      <th>ID</th>\n",
       "      <th>Value1</th>\n",
       "      <th>Value2</th>\n",
       "    </tr>\n",
       "  </thead>\n",
       "  <tbody>\n",
       "    <tr>\n",
       "      <th>0</th>\n",
       "      <td>1</td>\n",
       "      <td>4</td>\n",
       "      <td>7</td>\n",
       "    </tr>\n",
       "    <tr>\n",
       "      <th>1</th>\n",
       "      <td>2</td>\n",
       "      <td>5</td>\n",
       "      <td>8</td>\n",
       "    </tr>\n",
       "    <tr>\n",
       "      <th>2</th>\n",
       "      <td>3</td>\n",
       "      <td>6</td>\n",
       "      <td>9</td>\n",
       "    </tr>\n",
       "  </tbody>\n",
       "</table>\n",
       "</div>"
      ],
      "text/plain": [
       "   ID  Value1  Value2\n",
       "0   1       4       7\n",
       "1   2       5       8\n",
       "2   3       6       9"
      ]
     },
     "metadata": {},
     "output_type": "display_data"
    }
   ],
   "source": [
    "data1 = {'ID': [1, 2, 3], 'Value1': [4, 5, 6]}\n",
    "data2 = {'ID': [1, 2, 3], 'Value2': [7, 8, 9]}\n",
    "\n",
    "df1 = pd.DataFrame(data1)\n",
    "df2 = pd.DataFrame(data2)\n",
    "\n",
    "merged_df = df1.merge(df2, on='ID')\n",
    "display(\"Merged DataFrame:\\n\", merged_df)"
   ]
  },
  {
   "cell_type": "code",
   "execution_count": null,
   "id": "7395d0ec",
   "metadata": {
    "id": "7395d0ec"
   },
   "outputs": [],
   "source": []
  },
  {
   "cell_type": "markdown",
   "id": "51950937",
   "metadata": {
    "ExecuteTime": {
     "end_time": "2023-05-05T03:15:18.711516Z",
     "start_time": "2023-05-05T03:15:18.676508Z"
    },
    "id": "51950937"
   },
   "source": [
    "9. Sorting data  \n",
    "특정 열별로 데이터를 정렬해야 할 때 유용  "
   ]
  },
  {
   "cell_type": "code",
   "execution_count": null,
   "id": "8c1802eb",
   "metadata": {
    "ExecuteTime": {
     "end_time": "2023-05-05T03:50:17.735617Z",
     "start_time": "2023-05-05T03:50:17.725615Z"
    },
    "id": "8c1802eb",
    "outputId": "a11594dd-5ca5-4899-c590-9f54290fe033"
   },
   "outputs": [
    {
     "data": {
      "text/plain": [
       "'Original DataFrame:\\n'"
      ]
     },
     "metadata": {},
     "output_type": "display_data"
    },
    {
     "data": {
      "text/html": [
       "<div>\n",
       "<style scoped>\n",
       "    .dataframe tbody tr th:only-of-type {\n",
       "        vertical-align: middle;\n",
       "    }\n",
       "\n",
       "    .dataframe tbody tr th {\n",
       "        vertical-align: top;\n",
       "    }\n",
       "\n",
       "    .dataframe thead th {\n",
       "        text-align: right;\n",
       "    }\n",
       "</style>\n",
       "<table border=\"1\" class=\"dataframe\">\n",
       "  <thead>\n",
       "    <tr style=\"text-align: right;\">\n",
       "      <th></th>\n",
       "      <th>A</th>\n",
       "      <th>B</th>\n",
       "    </tr>\n",
       "  </thead>\n",
       "  <tbody>\n",
       "    <tr>\n",
       "      <th>0</th>\n",
       "      <td>4</td>\n",
       "      <td>8</td>\n",
       "    </tr>\n",
       "    <tr>\n",
       "      <th>1</th>\n",
       "      <td>2</td>\n",
       "      <td>5</td>\n",
       "    </tr>\n",
       "    <tr>\n",
       "      <th>2</th>\n",
       "      <td>1</td>\n",
       "      <td>6</td>\n",
       "    </tr>\n",
       "    <tr>\n",
       "      <th>3</th>\n",
       "      <td>3</td>\n",
       "      <td>7</td>\n",
       "    </tr>\n",
       "  </tbody>\n",
       "</table>\n",
       "</div>"
      ],
      "text/plain": [
       "   A  B\n",
       "0  4  8\n",
       "1  2  5\n",
       "2  1  6\n",
       "3  3  7"
      ]
     },
     "metadata": {},
     "output_type": "display_data"
    }
   ],
   "source": [
    "data = {'A': [4, 2, 1, 3], 'B': [8, 5, 6, 7]}\n",
    "df = pd.DataFrame(data)\n",
    "display(\"Original DataFrame:\\n\", df)"
   ]
  },
  {
   "cell_type": "code",
   "execution_count": null,
   "id": "a262705e",
   "metadata": {
    "ExecuteTime": {
     "end_time": "2023-05-05T03:50:19.537265Z",
     "start_time": "2023-05-05T03:50:19.524262Z"
    },
    "id": "a262705e",
    "outputId": "191df1f2-8b94-4d6e-bfc9-e6d8dcedcfd4"
   },
   "outputs": [
    {
     "data": {
      "text/plain": [
       "'Sorted DataFrame:\\n'"
      ]
     },
     "metadata": {},
     "output_type": "display_data"
    },
    {
     "data": {
      "text/html": [
       "<div>\n",
       "<style scoped>\n",
       "    .dataframe tbody tr th:only-of-type {\n",
       "        vertical-align: middle;\n",
       "    }\n",
       "\n",
       "    .dataframe tbody tr th {\n",
       "        vertical-align: top;\n",
       "    }\n",
       "\n",
       "    .dataframe thead th {\n",
       "        text-align: right;\n",
       "    }\n",
       "</style>\n",
       "<table border=\"1\" class=\"dataframe\">\n",
       "  <thead>\n",
       "    <tr style=\"text-align: right;\">\n",
       "      <th></th>\n",
       "      <th>A</th>\n",
       "      <th>B</th>\n",
       "    </tr>\n",
       "  </thead>\n",
       "  <tbody>\n",
       "    <tr>\n",
       "      <th>2</th>\n",
       "      <td>1</td>\n",
       "      <td>6</td>\n",
       "    </tr>\n",
       "    <tr>\n",
       "      <th>1</th>\n",
       "      <td>2</td>\n",
       "      <td>5</td>\n",
       "    </tr>\n",
       "    <tr>\n",
       "      <th>3</th>\n",
       "      <td>3</td>\n",
       "      <td>7</td>\n",
       "    </tr>\n",
       "    <tr>\n",
       "      <th>0</th>\n",
       "      <td>4</td>\n",
       "      <td>8</td>\n",
       "    </tr>\n",
       "  </tbody>\n",
       "</table>\n",
       "</div>"
      ],
      "text/plain": [
       "   A  B\n",
       "2  1  6\n",
       "1  2  5\n",
       "3  3  7\n",
       "0  4  8"
      ]
     },
     "metadata": {},
     "output_type": "display_data"
    }
   ],
   "source": [
    "# 'A' 열로 데이터프레임 정렬\n",
    "sorted_df = df.sort_values(by='A')\n",
    "display(\"Sorted DataFrame:\\n\", sorted_df)"
   ]
  },
  {
   "cell_type": "markdown",
   "id": "701ed17b",
   "metadata": {
    "ExecuteTime": {
     "end_time": "2023-05-05T03:51:10.483072Z",
     "start_time": "2023-05-05T03:51:10.470070Z"
    },
    "id": "701ed17b"
   },
   "source": [
    "10. Applying functions to columns  \n",
    "열에 apply 함수를 적용하면 반복 작업을 쉽고 빠르게 처리할 수 있음.  "
   ]
  },
  {
   "cell_type": "code",
   "execution_count": null,
   "id": "bb4bf11c",
   "metadata": {
    "ExecuteTime": {
     "end_time": "2023-05-05T03:52:04.002660Z",
     "start_time": "2023-05-05T03:52:03.990657Z"
    },
    "id": "bb4bf11c",
    "outputId": "f35c5f6c-719b-4524-d95e-226487d78d47"
   },
   "outputs": [
    {
     "data": {
      "text/plain": [
       "\"DataFrame with squared 'A' column:\\n\""
      ]
     },
     "metadata": {},
     "output_type": "display_data"
    },
    {
     "data": {
      "text/html": [
       "<div>\n",
       "<style scoped>\n",
       "    .dataframe tbody tr th:only-of-type {\n",
       "        vertical-align: middle;\n",
       "    }\n",
       "\n",
       "    .dataframe tbody tr th {\n",
       "        vertical-align: top;\n",
       "    }\n",
       "\n",
       "    .dataframe thead th {\n",
       "        text-align: right;\n",
       "    }\n",
       "</style>\n",
       "<table border=\"1\" class=\"dataframe\">\n",
       "  <thead>\n",
       "    <tr style=\"text-align: right;\">\n",
       "      <th></th>\n",
       "      <th>A</th>\n",
       "      <th>B</th>\n",
       "      <th>A_squared</th>\n",
       "    </tr>\n",
       "  </thead>\n",
       "  <tbody>\n",
       "    <tr>\n",
       "      <th>0</th>\n",
       "      <td>1</td>\n",
       "      <td>4</td>\n",
       "      <td>1</td>\n",
       "    </tr>\n",
       "    <tr>\n",
       "      <th>1</th>\n",
       "      <td>2</td>\n",
       "      <td>5</td>\n",
       "      <td>4</td>\n",
       "    </tr>\n",
       "    <tr>\n",
       "      <th>2</th>\n",
       "      <td>3</td>\n",
       "      <td>6</td>\n",
       "      <td>9</td>\n",
       "    </tr>\n",
       "  </tbody>\n",
       "</table>\n",
       "</div>"
      ],
      "text/plain": [
       "   A  B  A_squared\n",
       "0  1  4          1\n",
       "1  2  5          4\n",
       "2  3  6          9"
      ]
     },
     "metadata": {},
     "output_type": "display_data"
    }
   ],
   "source": [
    "data = {'A': [1, 2, 3], 'B': [4, 5, 6]}\n",
    "df = pd.DataFrame(data)\n",
    "\n",
    "# 'A' 열에 제곱 함수 적용\n",
    "df['A_squared'] = df['A'].apply(lambda x: x**2)\n",
    "display(\"DataFrame with squared 'A' column:\\n\", df)"
   ]
  },
  {
   "cell_type": "markdown",
   "id": "80116552",
   "metadata": {
    "ExecuteTime": {
     "end_time": "2023-05-05T03:15:18.711516Z",
     "start_time": "2023-05-05T03:15:18.676508Z"
    },
    "id": "80116552"
   },
   "source": [
    "11. Concatenating DataFrames  \n",
    "데이터프레임 concat은 여러 데이터프레임을 수직으로 병합할 때 사용  "
   ]
  },
  {
   "cell_type": "code",
   "execution_count": null,
   "id": "875b3f91",
   "metadata": {
    "ExecuteTime": {
     "end_time": "2023-05-05T03:52:02.696618Z",
     "start_time": "2023-05-05T03:52:02.691617Z"
    },
    "id": "875b3f91"
   },
   "outputs": [],
   "source": [
    "data1 = {'A': [1, 2, 3], 'B': [4, 5, 6]}\n",
    "data2 = {'A': [4, 5, 6], 'B': [7, 8, 9]}\n",
    "df1 = pd.DataFrame(data1)\n",
    "df2 = pd.DataFrame(data2)"
   ]
  },
  {
   "cell_type": "code",
   "execution_count": null,
   "id": "47ad3514",
   "metadata": {
    "ExecuteTime": {
     "end_time": "2023-05-05T03:52:07.036729Z",
     "start_time": "2023-05-05T03:52:07.017734Z"
    },
    "id": "47ad3514",
    "outputId": "fc6c8dd3-e581-47d0-a35a-a212aef197ba"
   },
   "outputs": [
    {
     "data": {
      "text/plain": [
       "'Concatenated DataFrame:\\n'"
      ]
     },
     "metadata": {},
     "output_type": "display_data"
    },
    {
     "data": {
      "text/html": [
       "<div>\n",
       "<style scoped>\n",
       "    .dataframe tbody tr th:only-of-type {\n",
       "        vertical-align: middle;\n",
       "    }\n",
       "\n",
       "    .dataframe tbody tr th {\n",
       "        vertical-align: top;\n",
       "    }\n",
       "\n",
       "    .dataframe thead th {\n",
       "        text-align: right;\n",
       "    }\n",
       "</style>\n",
       "<table border=\"1\" class=\"dataframe\">\n",
       "  <thead>\n",
       "    <tr style=\"text-align: right;\">\n",
       "      <th></th>\n",
       "      <th>A</th>\n",
       "      <th>B</th>\n",
       "    </tr>\n",
       "  </thead>\n",
       "  <tbody>\n",
       "    <tr>\n",
       "      <th>0</th>\n",
       "      <td>1</td>\n",
       "      <td>4</td>\n",
       "    </tr>\n",
       "    <tr>\n",
       "      <th>1</th>\n",
       "      <td>2</td>\n",
       "      <td>5</td>\n",
       "    </tr>\n",
       "    <tr>\n",
       "      <th>2</th>\n",
       "      <td>3</td>\n",
       "      <td>6</td>\n",
       "    </tr>\n",
       "    <tr>\n",
       "      <th>3</th>\n",
       "      <td>4</td>\n",
       "      <td>7</td>\n",
       "    </tr>\n",
       "    <tr>\n",
       "      <th>4</th>\n",
       "      <td>5</td>\n",
       "      <td>8</td>\n",
       "    </tr>\n",
       "    <tr>\n",
       "      <th>5</th>\n",
       "      <td>6</td>\n",
       "      <td>9</td>\n",
       "    </tr>\n",
       "  </tbody>\n",
       "</table>\n",
       "</div>"
      ],
      "text/plain": [
       "   A  B\n",
       "0  1  4\n",
       "1  2  5\n",
       "2  3  6\n",
       "3  4  7\n",
       "4  5  8\n",
       "5  6  9"
      ]
     },
     "metadata": {},
     "output_type": "display_data"
    }
   ],
   "source": [
    "concatenated_df = pd.concat([df1, df2], ignore_index=True)\n",
    "display(\"Concatenated DataFrame:\\n\", concatenated_df)"
   ]
  },
  {
   "cell_type": "markdown",
   "id": "13d706e4",
   "metadata": {
    "ExecuteTime": {
     "end_time": "2023-05-05T03:15:18.711516Z",
     "start_time": "2023-05-05T03:15:18.676508Z"
    },
    "id": "13d706e4"
   },
   "source": [
    "12. Pivot tables  \n",
    "피벗 테이블은 여러 차원에 따라 데이터를 요약하거나 집계해야 할 때 유용   \n",
    "추천 시스템에서는, 아이템/유저 수가 그렇게 많지 않은 경우 interaction matrix를 만드는 데 사용됨"
   ]
  },
  {
   "cell_type": "code",
   "execution_count": null,
   "id": "9ece407c",
   "metadata": {
    "ExecuteTime": {
     "end_time": "2023-05-05T03:54:47.635414Z",
     "start_time": "2023-05-05T03:54:47.607408Z"
    },
    "id": "9ece407c",
    "outputId": "6d9c1b77-c84f-4e20-efcb-6cd7f3e96bf0"
   },
   "outputs": [
    {
     "data": {
      "text/plain": [
       "'Rating log DataFrame:\\n'"
      ]
     },
     "metadata": {},
     "output_type": "display_data"
    },
    {
     "data": {
      "text/html": [
       "<div>\n",
       "<style scoped>\n",
       "    .dataframe tbody tr th:only-of-type {\n",
       "        vertical-align: middle;\n",
       "    }\n",
       "\n",
       "    .dataframe tbody tr th {\n",
       "        vertical-align: top;\n",
       "    }\n",
       "\n",
       "    .dataframe thead th {\n",
       "        text-align: right;\n",
       "    }\n",
       "</style>\n",
       "<table border=\"1\" class=\"dataframe\">\n",
       "  <thead>\n",
       "    <tr style=\"text-align: right;\">\n",
       "      <th></th>\n",
       "      <th>user_id</th>\n",
       "      <th>item_id</th>\n",
       "      <th>rating</th>\n",
       "    </tr>\n",
       "  </thead>\n",
       "  <tbody>\n",
       "    <tr>\n",
       "      <th>0</th>\n",
       "      <td>1</td>\n",
       "      <td>1</td>\n",
       "      <td>4</td>\n",
       "    </tr>\n",
       "    <tr>\n",
       "      <th>1</th>\n",
       "      <td>1</td>\n",
       "      <td>2</td>\n",
       "      <td>5</td>\n",
       "    </tr>\n",
       "    <tr>\n",
       "      <th>2</th>\n",
       "      <td>1</td>\n",
       "      <td>3</td>\n",
       "      <td>3</td>\n",
       "    </tr>\n",
       "    <tr>\n",
       "      <th>3</th>\n",
       "      <td>2</td>\n",
       "      <td>1</td>\n",
       "      <td>2</td>\n",
       "    </tr>\n",
       "    <tr>\n",
       "      <th>4</th>\n",
       "      <td>2</td>\n",
       "      <td>4</td>\n",
       "      <td>4</td>\n",
       "    </tr>\n",
       "    <tr>\n",
       "      <th>5</th>\n",
       "      <td>2</td>\n",
       "      <td>5</td>\n",
       "      <td>5</td>\n",
       "    </tr>\n",
       "    <tr>\n",
       "      <th>6</th>\n",
       "      <td>3</td>\n",
       "      <td>3</td>\n",
       "      <td>3</td>\n",
       "    </tr>\n",
       "    <tr>\n",
       "      <th>7</th>\n",
       "      <td>3</td>\n",
       "      <td>4</td>\n",
       "      <td>2</td>\n",
       "    </tr>\n",
       "    <tr>\n",
       "      <th>8</th>\n",
       "      <td>4</td>\n",
       "      <td>2</td>\n",
       "      <td>4</td>\n",
       "    </tr>\n",
       "    <tr>\n",
       "      <th>9</th>\n",
       "      <td>4</td>\n",
       "      <td>5</td>\n",
       "      <td>5</td>\n",
       "    </tr>\n",
       "  </tbody>\n",
       "</table>\n",
       "</div>"
      ],
      "text/plain": [
       "   user_id  item_id  rating\n",
       "0        1        1       4\n",
       "1        1        2       5\n",
       "2        1        3       3\n",
       "3        2        1       2\n",
       "4        2        4       4\n",
       "5        2        5       5\n",
       "6        3        3       3\n",
       "7        3        4       2\n",
       "8        4        2       4\n",
       "9        4        5       5"
      ]
     },
     "metadata": {},
     "output_type": "display_data"
    },
    {
     "data": {
      "text/plain": [
       "'\\nPivot table:\\n'"
      ]
     },
     "metadata": {},
     "output_type": "display_data"
    },
    {
     "data": {
      "text/html": [
       "<div>\n",
       "<style scoped>\n",
       "    .dataframe tbody tr th:only-of-type {\n",
       "        vertical-align: middle;\n",
       "    }\n",
       "\n",
       "    .dataframe tbody tr th {\n",
       "        vertical-align: top;\n",
       "    }\n",
       "\n",
       "    .dataframe thead th {\n",
       "        text-align: right;\n",
       "    }\n",
       "</style>\n",
       "<table border=\"1\" class=\"dataframe\">\n",
       "  <thead>\n",
       "    <tr style=\"text-align: right;\">\n",
       "      <th>item_id</th>\n",
       "      <th>1</th>\n",
       "      <th>2</th>\n",
       "      <th>3</th>\n",
       "      <th>4</th>\n",
       "      <th>5</th>\n",
       "    </tr>\n",
       "    <tr>\n",
       "      <th>user_id</th>\n",
       "      <th></th>\n",
       "      <th></th>\n",
       "      <th></th>\n",
       "      <th></th>\n",
       "      <th></th>\n",
       "    </tr>\n",
       "  </thead>\n",
       "  <tbody>\n",
       "    <tr>\n",
       "      <th>1</th>\n",
       "      <td>4</td>\n",
       "      <td>5</td>\n",
       "      <td>3</td>\n",
       "      <td>0</td>\n",
       "      <td>0</td>\n",
       "    </tr>\n",
       "    <tr>\n",
       "      <th>2</th>\n",
       "      <td>2</td>\n",
       "      <td>0</td>\n",
       "      <td>0</td>\n",
       "      <td>4</td>\n",
       "      <td>5</td>\n",
       "    </tr>\n",
       "    <tr>\n",
       "      <th>3</th>\n",
       "      <td>0</td>\n",
       "      <td>0</td>\n",
       "      <td>3</td>\n",
       "      <td>2</td>\n",
       "      <td>0</td>\n",
       "    </tr>\n",
       "    <tr>\n",
       "      <th>4</th>\n",
       "      <td>0</td>\n",
       "      <td>4</td>\n",
       "      <td>0</td>\n",
       "      <td>0</td>\n",
       "      <td>5</td>\n",
       "    </tr>\n",
       "  </tbody>\n",
       "</table>\n",
       "</div>"
      ],
      "text/plain": [
       "item_id  1  2  3  4  5\n",
       "user_id               \n",
       "1        4  5  3  0  0\n",
       "2        2  0  0  4  5\n",
       "3        0  0  3  2  0\n",
       "4        0  4  0  0  5"
      ]
     },
     "metadata": {},
     "output_type": "display_data"
    }
   ],
   "source": [
    "import pandas as pd\n",
    "\n",
    "# 유저-아이템의 샘플 로그 데이터\n",
    "data = {\n",
    "    'user_id': [1, 1, 1, 2, 2, 2, 3, 3, 4, 4],\n",
    "    'item_id': [1, 2, 3, 1, 4, 5, 3, 4, 2, 5],\n",
    "    'rating': [4, 5, 3, 2, 4, 5, 3, 2, 4, 5]\n",
    "}\n",
    "\n",
    "rating_log = pd.DataFrame(data)\n",
    "display(\"Rating log DataFrame:\\n\", rating_log)\n",
    "\n",
    "# 평점 데이터프레임을 pivot으로 만듦\n",
    "pivot_table = rating_log.pivot_table(index='user_id', columns='item_id', values='rating', fill_value=0)\n",
    "display(\"\\nPivot table:\\n\", pivot_table)"
   ]
  },
  {
   "cell_type": "markdown",
   "id": "7fd5ec69",
   "metadata": {
    "ExecuteTime": {
     "end_time": "2023-05-05T03:15:18.711516Z",
     "start_time": "2023-05-05T03:15:18.676508Z"
    },
    "id": "7fd5ec69"
   },
   "source": [
    "13. Adding and dropping columns    \n",
    "칼럼 추가/삭제는 데이터프레임의 구조를 수정해야 할 때 유용  "
   ]
  },
  {
   "cell_type": "code",
   "execution_count": null,
   "id": "e2df241e",
   "metadata": {
    "ExecuteTime": {
     "end_time": "2023-05-05T03:53:41.145484Z",
     "start_time": "2023-05-05T03:53:41.126480Z"
    },
    "id": "e2df241e",
    "outputId": "27e0e771-4fc2-4a64-a340-1f073df78ff2"
   },
   "outputs": [
    {
     "data": {
      "text/plain": [
       "\"DataFrame with added column 'C':\\n\""
      ]
     },
     "metadata": {},
     "output_type": "display_data"
    },
    {
     "data": {
      "text/html": [
       "<div>\n",
       "<style scoped>\n",
       "    .dataframe tbody tr th:only-of-type {\n",
       "        vertical-align: middle;\n",
       "    }\n",
       "\n",
       "    .dataframe tbody tr th {\n",
       "        vertical-align: top;\n",
       "    }\n",
       "\n",
       "    .dataframe thead th {\n",
       "        text-align: right;\n",
       "    }\n",
       "</style>\n",
       "<table border=\"1\" class=\"dataframe\">\n",
       "  <thead>\n",
       "    <tr style=\"text-align: right;\">\n",
       "      <th></th>\n",
       "      <th>A</th>\n",
       "      <th>B</th>\n",
       "      <th>C</th>\n",
       "    </tr>\n",
       "  </thead>\n",
       "  <tbody>\n",
       "    <tr>\n",
       "      <th>0</th>\n",
       "      <td>1</td>\n",
       "      <td>4</td>\n",
       "      <td>5</td>\n",
       "    </tr>\n",
       "    <tr>\n",
       "      <th>1</th>\n",
       "      <td>2</td>\n",
       "      <td>5</td>\n",
       "      <td>7</td>\n",
       "    </tr>\n",
       "    <tr>\n",
       "      <th>2</th>\n",
       "      <td>3</td>\n",
       "      <td>6</td>\n",
       "      <td>9</td>\n",
       "    </tr>\n",
       "  </tbody>\n",
       "</table>\n",
       "</div>"
      ],
      "text/plain": [
       "   A  B  C\n",
       "0  1  4  5\n",
       "1  2  5  7\n",
       "2  3  6  9"
      ]
     },
     "metadata": {},
     "output_type": "display_data"
    },
    {
     "data": {
      "text/plain": [
       "\"DataFrame with dropped column 'C':\\n\""
      ]
     },
     "metadata": {},
     "output_type": "display_data"
    },
    {
     "data": {
      "text/html": [
       "<div>\n",
       "<style scoped>\n",
       "    .dataframe tbody tr th:only-of-type {\n",
       "        vertical-align: middle;\n",
       "    }\n",
       "\n",
       "    .dataframe tbody tr th {\n",
       "        vertical-align: top;\n",
       "    }\n",
       "\n",
       "    .dataframe thead th {\n",
       "        text-align: right;\n",
       "    }\n",
       "</style>\n",
       "<table border=\"1\" class=\"dataframe\">\n",
       "  <thead>\n",
       "    <tr style=\"text-align: right;\">\n",
       "      <th></th>\n",
       "      <th>A</th>\n",
       "      <th>B</th>\n",
       "    </tr>\n",
       "  </thead>\n",
       "  <tbody>\n",
       "    <tr>\n",
       "      <th>0</th>\n",
       "      <td>1</td>\n",
       "      <td>4</td>\n",
       "    </tr>\n",
       "    <tr>\n",
       "      <th>1</th>\n",
       "      <td>2</td>\n",
       "      <td>5</td>\n",
       "    </tr>\n",
       "    <tr>\n",
       "      <th>2</th>\n",
       "      <td>3</td>\n",
       "      <td>6</td>\n",
       "    </tr>\n",
       "  </tbody>\n",
       "</table>\n",
       "</div>"
      ],
      "text/plain": [
       "   A  B\n",
       "0  1  4\n",
       "1  2  5\n",
       "2  3  6"
      ]
     },
     "metadata": {},
     "output_type": "display_data"
    }
   ],
   "source": [
    "data = {'A': [1, 2, 3], 'B': [4, 5, 6]}\n",
    "df = pd.DataFrame(data)\n",
    "\n",
    "# 'A'와 'B' 열의 합인 새로운 열 'C' 추가\n",
    "df['C'] = df['A'] + df['B']\n",
    "display(\"DataFrame with added column 'C':\\n\", df)\n",
    "\n",
    "# 'C' 열 삭제\n",
    "df = df.drop(columns=['C'])\n",
    "display(\"DataFrame with dropped column 'C':\\n\", df)"
   ]
  },
  {
   "cell_type": "code",
   "execution_count": null,
   "id": "ac177829",
   "metadata": {
    "id": "ac177829"
   },
   "outputs": [],
   "source": []
  },
  {
   "cell_type": "code",
   "execution_count": null,
   "id": "b18cad7e",
   "metadata": {
    "id": "b18cad7e"
   },
   "outputs": [],
   "source": []
  },
  {
   "cell_type": "code",
   "execution_count": null,
   "id": "5d001dac",
   "metadata": {
    "id": "5d001dac"
   },
   "outputs": [],
   "source": []
  },
  {
   "cell_type": "code",
   "execution_count": null,
   "id": "db470e49",
   "metadata": {
    "id": "db470e49"
   },
   "outputs": [],
   "source": []
  },
  {
   "cell_type": "markdown",
   "id": "16f16f0b",
   "metadata": {
    "id": "16f16f0b"
   },
   "source": [
    "# Pandas 예제"
   ]
  },
  {
   "cell_type": "markdown",
   "id": "ad5aa990",
   "metadata": {
    "ExecuteTime": {
     "end_time": "2023-05-04T16:31:54.124821Z",
     "start_time": "2023-05-04T16:31:54.114819Z"
    },
    "id": "ad5aa990"
   },
   "source": [
    "아래의 예제는 다음 내용을 포함함.  \n",
    "\n",
    "1) 데이터 세트 다운로드 및 압축 풀기  \n",
    "2) 판다스로 사용하여 데이터 로드하기  \n",
    "3) 데이터를 단일 데이터 프레임으로 병합하기  \n",
    "4) 평점이 50개 이상인 책과 10개 이상의 책에 평점을 매긴 사용자 필터링하기  \n",
    "5) user-item interaction matrix 생성하기  \n",
    "6) 각 책의 평균 평점 계산하기   \n",
    "7) 가장 높은 평점을 받은 상위 10개 책 표시  "
   ]
  },
  {
   "cell_type": "code",
   "execution_count": 1,
   "id": "1b011332-dec3-43c1-813a-27dfa142e277",
   "metadata": {
    "id": "1b011332-dec3-43c1-813a-27dfa142e277",
    "executionInfo": {
     "status": "ok",
     "timestamp": 1683428235125,
     "user_tz": -540,
     "elapsed": 888,
     "user": {
      "displayName": "Myeonghak Lee",
      "userId": "01376346143254624391"
     }
    },
    "ExecuteTime": {
     "end_time": "2023-09-06T22:01:48.921218Z",
     "start_time": "2023-09-06T22:01:48.624423Z"
    }
   },
   "outputs": [],
   "source": [
    "import os\n",
    "import pandas as pd\n",
    "import zipfile\n",
    "import io\n",
    "import requests"
   ]
  },
  {
   "cell_type": "code",
   "source": [
    "# from google.colab import drive\n",
    "# drive.mount('/content/drive')"
   ],
   "metadata": {
    "colab": {
     "base_uri": "https://localhost:8080/"
    },
    "id": "kWz3PuDJiS2E",
    "executionInfo": {
     "status": "ok",
     "timestamp": 1683428266220,
     "user_tz": -540,
     "elapsed": 31098,
     "user": {
      "displayName": "Myeonghak Lee",
      "userId": "01376346143254624391"
     }
    },
    "outputId": "ae75867b-9366-493a-8ca1-54c8118b40d0"
   },
   "id": "kWz3PuDJiS2E",
   "execution_count": 2,
   "outputs": [
    {
     "output_type": "stream",
     "name": "stdout",
     "text": [
      "Mounted at /content/drive\n"
     ]
    }
   ]
  },
  {
   "cell_type": "code",
   "source": [
    "# os.chdir('/content/drive/MyDrive/패캠강의/fastcampus_recsys_2301/Fastcampus_Codes/01_classic_recommendation/')"
   ],
   "metadata": {
    "id": "ADuXwC1filff",
    "executionInfo": {
     "status": "ok",
     "timestamp": 1683428268110,
     "user_tz": -540,
     "elapsed": 1895,
     "user": {
      "displayName": "Myeonghak Lee",
      "userId": "01376346143254624391"
     }
    }
   },
   "id": "ADuXwC1filff",
   "execution_count": 3,
   "outputs": []
  },
  {
   "cell_type": "code",
   "source": [
    "# Download and unzip the dataset\n",
    "data_path = \"../../../data/book_crossing/\""
   ],
   "metadata": {
    "id": "RpONGBZ7ikFV",
    "executionInfo": {
     "status": "ok",
     "timestamp": 1683428268113,
     "user_tz": -540,
     "elapsed": 10,
     "user": {
      "displayName": "Myeonghak Lee",
      "userId": "01376346143254624391"
     }
    },
    "ExecuteTime": {
     "end_time": "2023-09-06T22:04:29.903360Z",
     "start_time": "2023-09-06T22:04:29.894518Z"
    }
   },
   "id": "RpONGBZ7ikFV",
   "execution_count": 9,
   "outputs": []
  },
  {
   "cell_type": "code",
   "execution_count": 10,
   "id": "8fcfa6eb-0a78-43e3-af5a-0377172bc8fd",
   "metadata": {
    "id": "8fcfa6eb-0a78-43e3-af5a-0377172bc8fd",
    "executionInfo": {
     "status": "ok",
     "timestamp": 1683428269972,
     "user_tz": -540,
     "elapsed": 1867,
     "user": {
      "displayName": "Myeonghak Lee",
      "userId": "01376346143254624391"
     }
    },
    "ExecuteTime": {
     "end_time": "2023-09-06T22:04:30.240841Z",
     "start_time": "2023-09-06T22:04:30.215071Z"
    }
   },
   "outputs": [],
   "source": [
    "if not all(os.path.exists(data_path+file) for file in ['BX-Books.csv', 'BX-Users.csv', 'BX-Book-Ratings.csv']):\n",
    "    url = 'http://www2.informatik.uni-freiburg.de/~cziegler/BX/BX-CSV-Dump.zip'\n",
    "    response = requests.get(url)\n",
    "    zip_file = zipfile.ZipFile(io.BytesIO(response.content))\n",
    "    zip_file.extractall(data_path)"
   ]
  },
  {
   "cell_type": "code",
   "execution_count": 11,
   "id": "f2d1d11b-061f-40b2-b240-db0dac9b09b3",
   "metadata": {
    "colab": {
     "base_uri": "https://localhost:8080/"
    },
    "id": "f2d1d11b-061f-40b2-b240-db0dac9b09b3",
    "executionInfo": {
     "status": "ok",
     "timestamp": 1683428275546,
     "user_tz": -540,
     "elapsed": 5580,
     "user": {
      "displayName": "Myeonghak Lee",
      "userId": "01376346143254624391"
     }
    },
    "outputId": "ff8e0fc1-23fb-41f3-aa65-aa5dd0d15a60",
    "ExecuteTime": {
     "end_time": "2023-09-06T22:04:31.803843Z",
     "start_time": "2023-09-06T22:04:30.580102Z"
    }
   },
   "outputs": [
    {
     "name": "stderr",
     "output_type": "stream",
     "text": [
      "/var/folders/jv/v8v_byq94r70bn81gkfc9m6m0000gn/T/ipykernel_16789/1599097139.py:2: FutureWarning: The error_bad_lines argument has been deprecated and will be removed in a future version. Use on_bad_lines in the future.\n",
      "\n",
      "\n",
      "  books = pd.read_csv(data_path+'BX-Books.csv', sep=';', error_bad_lines=False, encoding=\"latin-1\")\n",
      "Skipping line 6452: expected 8 fields, saw 9\n",
      "Skipping line 43667: expected 8 fields, saw 10\n",
      "Skipping line 51751: expected 8 fields, saw 9\n",
      "\n",
      "Skipping line 92038: expected 8 fields, saw 9\n",
      "Skipping line 104319: expected 8 fields, saw 9\n",
      "Skipping line 121768: expected 8 fields, saw 9\n",
      "\n",
      "Skipping line 144058: expected 8 fields, saw 9\n",
      "Skipping line 150789: expected 8 fields, saw 9\n",
      "Skipping line 157128: expected 8 fields, saw 9\n",
      "Skipping line 180189: expected 8 fields, saw 9\n",
      "Skipping line 185738: expected 8 fields, saw 9\n",
      "\n",
      "Skipping line 209388: expected 8 fields, saw 9\n",
      "Skipping line 220626: expected 8 fields, saw 9\n",
      "Skipping line 227933: expected 8 fields, saw 11\n",
      "Skipping line 228957: expected 8 fields, saw 10\n",
      "Skipping line 245933: expected 8 fields, saw 9\n",
      "Skipping line 251296: expected 8 fields, saw 9\n",
      "Skipping line 259941: expected 8 fields, saw 9\n",
      "Skipping line 261529: expected 8 fields, saw 9\n",
      "\n",
      "/var/folders/jv/v8v_byq94r70bn81gkfc9m6m0000gn/T/ipykernel_16789/1599097139.py:2: DtypeWarning: Columns (3) have mixed types. Specify dtype option on import or set low_memory=False.\n",
      "  books = pd.read_csv(data_path+'BX-Books.csv', sep=';', error_bad_lines=False, encoding=\"latin-1\")\n",
      "/var/folders/jv/v8v_byq94r70bn81gkfc9m6m0000gn/T/ipykernel_16789/1599097139.py:3: FutureWarning: The error_bad_lines argument has been deprecated and will be removed in a future version. Use on_bad_lines in the future.\n",
      "\n",
      "\n",
      "  users = pd.read_csv(data_path+'BX-Users.csv', sep=';', error_bad_lines=False, encoding=\"latin-1\")\n",
      "/var/folders/jv/v8v_byq94r70bn81gkfc9m6m0000gn/T/ipykernel_16789/1599097139.py:4: FutureWarning: The error_bad_lines argument has been deprecated and will be removed in a future version. Use on_bad_lines in the future.\n",
      "\n",
      "\n",
      "  ratings = pd.read_csv(data_path+'BX-Book-Ratings.csv', sep=';', error_bad_lines=False, encoding=\"latin-1\")\n"
     ]
    }
   ],
   "source": [
    "# Load the data\n",
    "books = pd.read_csv(data_path+'BX-Books.csv', sep=';', error_bad_lines=False, encoding=\"latin-1\")\n",
    "users = pd.read_csv(data_path+'BX-Users.csv', sep=';', error_bad_lines=False, encoding=\"latin-1\")\n",
    "ratings = pd.read_csv(data_path+'BX-Book-Ratings.csv', sep=';', error_bad_lines=False, encoding=\"latin-1\")"
   ]
  },
  {
   "cell_type": "code",
   "source": [
    "# Merge the data\n",
    "data = pd.merge(pd.merge(ratings, books, on='ISBN'), users, on='User-ID')\n",
    "\n",
    "# Filter books with more than 50 ratings\n",
    "book_rating_counts = data['ISBN'].value_counts()\n",
    "popular_books = book_rating_counts[book_rating_counts > 50].index\n",
    "filtered_data = data[data['ISBN'].isin(popular_books)]\n"
   ],
   "metadata": {
    "id": "BFRuUO2Jsow0",
    "executionInfo": {
     "status": "ok",
     "timestamp": 1683428279464,
     "user_tz": -540,
     "elapsed": 3920,
     "user": {
      "displayName": "Myeonghak Lee",
      "userId": "01376346143254624391"
     }
    },
    "ExecuteTime": {
     "end_time": "2023-09-06T22:04:39.981392Z",
     "start_time": "2023-09-06T22:04:38.788817Z"
    }
   },
   "id": "BFRuUO2Jsow0",
   "execution_count": 12,
   "outputs": []
  },
  {
   "cell_type": "code",
   "source": [
    "# Filter users who have rated more than 10 books\n",
    "user_rating_counts = filtered_data['User-ID'].value_counts()\n",
    "active_users = user_rating_counts[user_rating_counts > 10].index\n",
    "filtered_data = filtered_data[filtered_data['User-ID'].isin(active_users)]"
   ],
   "metadata": {
    "id": "aKCs_u3tsqAb",
    "executionInfo": {
     "status": "ok",
     "timestamp": 1683428279464,
     "user_tz": -540,
     "elapsed": 3,
     "user": {
      "displayName": "Myeonghak Lee",
      "userId": "01376346143254624391"
     }
    },
    "ExecuteTime": {
     "end_time": "2023-09-06T22:04:43.056099Z",
     "start_time": "2023-09-06T22:04:43.027537Z"
    }
   },
   "id": "aKCs_u3tsqAb",
   "execution_count": 13,
   "outputs": []
  },
  {
   "cell_type": "code",
   "source": [
    "# Create a user-item matrix\n",
    "user_item_matrix = filtered_data.pivot_table(index='User-ID', columns='ISBN', values='Book-Rating').fillna(0)\n",
    "\n",
    "# Compute the average rating for each book\n",
    "average_ratings = filtered_data.groupby('ISBN')['Book-Rating'].mean().sort_values(ascending=False)\n",
    "\n",
    "# Get the top 10 highest-rated books\n",
    "top_10_books = average_ratings.head(10).index\n",
    "book_titles = books.set_index('ISBN').loc[top_10_books]['Book-Title']\n",
    "\n",
    "print(\"Top 10 highest-rated books:\")\n",
    "display(book_titles)"
   ],
   "metadata": {
    "id": "HHOHjmCCsrs-",
    "colab": {
     "base_uri": "https://localhost:8080/",
     "height": 243
    },
    "executionInfo": {
     "status": "ok",
     "timestamp": 1683428280084,
     "user_tz": -540,
     "elapsed": 622,
     "user": {
      "displayName": "Myeonghak Lee",
      "userId": "01376346143254624391"
     }
    },
    "outputId": "d8daa4e6-053c-4c72-d2a3-1abf35d94165",
    "ExecuteTime": {
     "end_time": "2023-09-06T22:04:47.585685Z",
     "start_time": "2023-09-06T22:04:47.354123Z"
    }
   },
   "id": "HHOHjmCCsrs-",
   "execution_count": 14,
   "outputs": [
    {
     "name": "stdout",
     "output_type": "stream",
     "text": [
      "Top 10 highest-rated books:\n"
     ]
    },
    {
     "data": {
      "text/plain": "ISBN\n0439064864     Harry Potter and the Chamber of Secrets (Book 2)\n0439136350    Harry Potter and the Prisoner of Azkaban (Book 3)\n0590353403       Harry Potter and the Sorcerer's Stone (Book 1)\n0439139597         Harry Potter and the Goblet of Fire (Book 4)\n0877017883    Griffin &amp; Sabine: An Extraordinary Corresp...\n0618002227    The Fellowship of the Ring (The Lord of the Ri...\n0140143505                                84 Charing Cross Road\n0156528207                                    The Little Prince\n037541309X             Balzac and the Little Chinese Seamstress\n0385199570           The Stand (The Complete and Uncut Edition)\nName: Book-Title, dtype: object"
     },
     "metadata": {},
     "output_type": "display_data"
    }
   ]
  },
  {
   "cell_type": "code",
   "source": [],
   "metadata": {
    "id": "KUHC-2KfswH2",
    "executionInfo": {
     "status": "ok",
     "timestamp": 1683428280885,
     "user_tz": -540,
     "elapsed": 810,
     "user": {
      "displayName": "Myeonghak Lee",
      "userId": "01376346143254624391"
     }
    }
   },
   "id": "KUHC-2KfswH2",
   "execution_count": 9,
   "outputs": []
  },
  {
   "cell_type": "code",
   "source": [
    "books.head()"
   ],
   "metadata": {
    "colab": {
     "base_uri": "https://localhost:8080/",
     "height": 478
    },
    "id": "HxhXYBGHQI_t",
    "executionInfo": {
     "status": "ok",
     "timestamp": 1683430097824,
     "user_tz": -540,
     "elapsed": 435,
     "user": {
      "displayName": "Myeonghak Lee",
      "userId": "01376346143254624391"
     }
    },
    "outputId": "d972f088-7e9b-4b98-95f5-5ebf1233ea81"
   },
   "id": "HxhXYBGHQI_t",
   "execution_count": 44,
   "outputs": [
    {
     "output_type": "execute_result",
     "data": {
      "text/plain": [
       "         ISBN                                         Book-Title  \\\n",
       "0  0195153448                                Classical Mythology   \n",
       "1  0002005018                                       Clara Callan   \n",
       "2  0060973129                               Decision in Normandy   \n",
       "3  0374157065  Flu: The Story of the Great Influenza Pandemic...   \n",
       "4  0393045218                             The Mummies of Urumchi   \n",
       "\n",
       "            Book-Author  Year-Of-Publication                   Publisher  \\\n",
       "0    Mark P. O. Morford               2002.0     Oxford University Press   \n",
       "1  Richard Bruce Wright               2001.0       HarperFlamingo Canada   \n",
       "2          Carlo D'Este               1991.0             HarperPerennial   \n",
       "3      Gina Bari Kolata               1999.0        Farrar Straus Giroux   \n",
       "4       E. J. W. Barber               1999.0  W. W. Norton &amp; Company   \n",
       "\n",
       "                                         Image-URL-S  \\\n",
       "0  http://images.amazon.com/images/P/0195153448.0...   \n",
       "1  http://images.amazon.com/images/P/0002005018.0...   \n",
       "2  http://images.amazon.com/images/P/0060973129.0...   \n",
       "3  http://images.amazon.com/images/P/0374157065.0...   \n",
       "4  http://images.amazon.com/images/P/0393045218.0...   \n",
       "\n",
       "                                         Image-URL-M  \\\n",
       "0  http://images.amazon.com/images/P/0195153448.0...   \n",
       "1  http://images.amazon.com/images/P/0002005018.0...   \n",
       "2  http://images.amazon.com/images/P/0060973129.0...   \n",
       "3  http://images.amazon.com/images/P/0374157065.0...   \n",
       "4  http://images.amazon.com/images/P/0393045218.0...   \n",
       "\n",
       "                                         Image-URL-L  \n",
       "0  http://images.amazon.com/images/P/0195153448.0...  \n",
       "1  http://images.amazon.com/images/P/0002005018.0...  \n",
       "2  http://images.amazon.com/images/P/0060973129.0...  \n",
       "3  http://images.amazon.com/images/P/0374157065.0...  \n",
       "4  http://images.amazon.com/images/P/0393045218.0...  "
      ],
      "text/html": [
       "\n",
       "  <div id=\"df-283e6656-4900-4429-8f3f-383b89233a83\">\n",
       "    <div class=\"colab-df-container\">\n",
       "      <div>\n",
       "<style scoped>\n",
       "    .dataframe tbody tr th:only-of-type {\n",
       "        vertical-align: middle;\n",
       "    }\n",
       "\n",
       "    .dataframe tbody tr th {\n",
       "        vertical-align: top;\n",
       "    }\n",
       "\n",
       "    .dataframe thead th {\n",
       "        text-align: right;\n",
       "    }\n",
       "</style>\n",
       "<table border=\"1\" class=\"dataframe\">\n",
       "  <thead>\n",
       "    <tr style=\"text-align: right;\">\n",
       "      <th></th>\n",
       "      <th>ISBN</th>\n",
       "      <th>Book-Title</th>\n",
       "      <th>Book-Author</th>\n",
       "      <th>Year-Of-Publication</th>\n",
       "      <th>Publisher</th>\n",
       "      <th>Image-URL-S</th>\n",
       "      <th>Image-URL-M</th>\n",
       "      <th>Image-URL-L</th>\n",
       "    </tr>\n",
       "  </thead>\n",
       "  <tbody>\n",
       "    <tr>\n",
       "      <th>0</th>\n",
       "      <td>0195153448</td>\n",
       "      <td>Classical Mythology</td>\n",
       "      <td>Mark P. O. Morford</td>\n",
       "      <td>2002.0</td>\n",
       "      <td>Oxford University Press</td>\n",
       "      <td>http://images.amazon.com/images/P/0195153448.0...</td>\n",
       "      <td>http://images.amazon.com/images/P/0195153448.0...</td>\n",
       "      <td>http://images.amazon.com/images/P/0195153448.0...</td>\n",
       "    </tr>\n",
       "    <tr>\n",
       "      <th>1</th>\n",
       "      <td>0002005018</td>\n",
       "      <td>Clara Callan</td>\n",
       "      <td>Richard Bruce Wright</td>\n",
       "      <td>2001.0</td>\n",
       "      <td>HarperFlamingo Canada</td>\n",
       "      <td>http://images.amazon.com/images/P/0002005018.0...</td>\n",
       "      <td>http://images.amazon.com/images/P/0002005018.0...</td>\n",
       "      <td>http://images.amazon.com/images/P/0002005018.0...</td>\n",
       "    </tr>\n",
       "    <tr>\n",
       "      <th>2</th>\n",
       "      <td>0060973129</td>\n",
       "      <td>Decision in Normandy</td>\n",
       "      <td>Carlo D'Este</td>\n",
       "      <td>1991.0</td>\n",
       "      <td>HarperPerennial</td>\n",
       "      <td>http://images.amazon.com/images/P/0060973129.0...</td>\n",
       "      <td>http://images.amazon.com/images/P/0060973129.0...</td>\n",
       "      <td>http://images.amazon.com/images/P/0060973129.0...</td>\n",
       "    </tr>\n",
       "    <tr>\n",
       "      <th>3</th>\n",
       "      <td>0374157065</td>\n",
       "      <td>Flu: The Story of the Great Influenza Pandemic...</td>\n",
       "      <td>Gina Bari Kolata</td>\n",
       "      <td>1999.0</td>\n",
       "      <td>Farrar Straus Giroux</td>\n",
       "      <td>http://images.amazon.com/images/P/0374157065.0...</td>\n",
       "      <td>http://images.amazon.com/images/P/0374157065.0...</td>\n",
       "      <td>http://images.amazon.com/images/P/0374157065.0...</td>\n",
       "    </tr>\n",
       "    <tr>\n",
       "      <th>4</th>\n",
       "      <td>0393045218</td>\n",
       "      <td>The Mummies of Urumchi</td>\n",
       "      <td>E. J. W. Barber</td>\n",
       "      <td>1999.0</td>\n",
       "      <td>W. W. Norton &amp;amp; Company</td>\n",
       "      <td>http://images.amazon.com/images/P/0393045218.0...</td>\n",
       "      <td>http://images.amazon.com/images/P/0393045218.0...</td>\n",
       "      <td>http://images.amazon.com/images/P/0393045218.0...</td>\n",
       "    </tr>\n",
       "  </tbody>\n",
       "</table>\n",
       "</div>\n",
       "      <button class=\"colab-df-convert\" onclick=\"convertToInteractive('df-283e6656-4900-4429-8f3f-383b89233a83')\"\n",
       "              title=\"Convert this dataframe to an interactive table.\"\n",
       "              style=\"display:none;\">\n",
       "        \n",
       "  <svg xmlns=\"http://www.w3.org/2000/svg\" height=\"24px\"viewBox=\"0 0 24 24\"\n",
       "       width=\"24px\">\n",
       "    <path d=\"M0 0h24v24H0V0z\" fill=\"none\"/>\n",
       "    <path d=\"M18.56 5.44l.94 2.06.94-2.06 2.06-.94-2.06-.94-.94-2.06-.94 2.06-2.06.94zm-11 1L8.5 8.5l.94-2.06 2.06-.94-2.06-.94L8.5 2.5l-.94 2.06-2.06.94zm10 10l.94 2.06.94-2.06 2.06-.94-2.06-.94-.94-2.06-.94 2.06-2.06.94z\"/><path d=\"M17.41 7.96l-1.37-1.37c-.4-.4-.92-.59-1.43-.59-.52 0-1.04.2-1.43.59L10.3 9.45l-7.72 7.72c-.78.78-.78 2.05 0 2.83L4 21.41c.39.39.9.59 1.41.59.51 0 1.02-.2 1.41-.59l7.78-7.78 2.81-2.81c.8-.78.8-2.07 0-2.86zM5.41 20L4 18.59l7.72-7.72 1.47 1.35L5.41 20z\"/>\n",
       "  </svg>\n",
       "      </button>\n",
       "      \n",
       "  <style>\n",
       "    .colab-df-container {\n",
       "      display:flex;\n",
       "      flex-wrap:wrap;\n",
       "      gap: 12px;\n",
       "    }\n",
       "\n",
       "    .colab-df-convert {\n",
       "      background-color: #E8F0FE;\n",
       "      border: none;\n",
       "      border-radius: 50%;\n",
       "      cursor: pointer;\n",
       "      display: none;\n",
       "      fill: #1967D2;\n",
       "      height: 32px;\n",
       "      padding: 0 0 0 0;\n",
       "      width: 32px;\n",
       "    }\n",
       "\n",
       "    .colab-df-convert:hover {\n",
       "      background-color: #E2EBFA;\n",
       "      box-shadow: 0px 1px 2px rgba(60, 64, 67, 0.3), 0px 1px 3px 1px rgba(60, 64, 67, 0.15);\n",
       "      fill: #174EA6;\n",
       "    }\n",
       "\n",
       "    [theme=dark] .colab-df-convert {\n",
       "      background-color: #3B4455;\n",
       "      fill: #D2E3FC;\n",
       "    }\n",
       "\n",
       "    [theme=dark] .colab-df-convert:hover {\n",
       "      background-color: #434B5C;\n",
       "      box-shadow: 0px 1px 3px 1px rgba(0, 0, 0, 0.15);\n",
       "      filter: drop-shadow(0px 1px 2px rgba(0, 0, 0, 0.3));\n",
       "      fill: #FFFFFF;\n",
       "    }\n",
       "  </style>\n",
       "\n",
       "      <script>\n",
       "        const buttonEl =\n",
       "          document.querySelector('#df-283e6656-4900-4429-8f3f-383b89233a83 button.colab-df-convert');\n",
       "        buttonEl.style.display =\n",
       "          google.colab.kernel.accessAllowed ? 'block' : 'none';\n",
       "\n",
       "        async function convertToInteractive(key) {\n",
       "          const element = document.querySelector('#df-283e6656-4900-4429-8f3f-383b89233a83');\n",
       "          const dataTable =\n",
       "            await google.colab.kernel.invokeFunction('convertToInteractive',\n",
       "                                                     [key], {});\n",
       "          if (!dataTable) return;\n",
       "\n",
       "          const docLinkHtml = 'Like what you see? Visit the ' +\n",
       "            '<a target=\"_blank\" href=https://colab.research.google.com/notebooks/data_table.ipynb>data table notebook</a>'\n",
       "            + ' to learn more about interactive tables.';\n",
       "          element.innerHTML = '';\n",
       "          dataTable['output_type'] = 'display_data';\n",
       "          await google.colab.output.renderOutput(dataTable, element);\n",
       "          const docLink = document.createElement('div');\n",
       "          docLink.innerHTML = docLinkHtml;\n",
       "          element.appendChild(docLink);\n",
       "        }\n",
       "      </script>\n",
       "    </div>\n",
       "  </div>\n",
       "  "
      ]
     },
     "metadata": {},
     "execution_count": 44
    }
   ]
  },
  {
   "cell_type": "code",
   "execution_count": 15,
   "id": "d79be25c",
   "metadata": {
    "colab": {
     "base_uri": "https://localhost:8080/",
     "height": 442
    },
    "id": "d79be25c",
    "executionInfo": {
     "status": "ok",
     "timestamp": 1683428280885,
     "user_tz": -540,
     "elapsed": 22,
     "user": {
      "displayName": "Myeonghak Lee",
      "userId": "01376346143254624391"
     }
    },
    "outputId": "7376265e-73df-4fe3-b18a-1a58cf24fe1d",
    "ExecuteTime": {
     "end_time": "2023-09-06T22:04:58.450763Z",
     "start_time": "2023-09-06T22:04:58.357354Z"
    }
   },
   "outputs": [
    {
     "data": {
      "text/plain": "'Harry Potter books:\\n'"
     },
     "metadata": {},
     "output_type": "display_data"
    },
    {
     "data": {
      "text/plain": "                                               Book-Title         Book-Author\n821     The Sorcerer's Companion: A Guide to the Magic...  ALLAN ZOLA KRONZEK\n2143    Harry Potter and the Sorcerer's Stone (Harry P...       J. K. Rowling\n2809       Harry Potter and the Sorcerer's Stone (Book 1)       J. K. Rowling\n3459     Harry Potter and the Chamber of Secrets (Book 2)       J. K. Rowling\n3839    Harry Potter and the Prisoner of Azkaban (Book 3)       J. K. Rowling\n...                                                   ...                 ...\n247872                              Harry Potter Fun Book        Warner Bros.\n251233                   Harry Potter y El Caliz de Fuego       J. K. Rowling\n256403   Harry Potter and the Bible: The Menace Behind...      Richard Abanes\n257263  Harry Potter and the Goblet of Fire (Harry Pot...       J. K. Rowling\n259611              Harry Potter and the Sorcerer's Stone        J.K. Rowling\n\n[120 rows x 2 columns]",
      "text/html": "<div>\n<style scoped>\n    .dataframe tbody tr th:only-of-type {\n        vertical-align: middle;\n    }\n\n    .dataframe tbody tr th {\n        vertical-align: top;\n    }\n\n    .dataframe thead th {\n        text-align: right;\n    }\n</style>\n<table border=\"1\" class=\"dataframe\">\n  <thead>\n    <tr style=\"text-align: right;\">\n      <th></th>\n      <th>Book-Title</th>\n      <th>Book-Author</th>\n    </tr>\n  </thead>\n  <tbody>\n    <tr>\n      <th>821</th>\n      <td>The Sorcerer's Companion: A Guide to the Magic...</td>\n      <td>ALLAN ZOLA KRONZEK</td>\n    </tr>\n    <tr>\n      <th>2143</th>\n      <td>Harry Potter and the Sorcerer's Stone (Harry P...</td>\n      <td>J. K. Rowling</td>\n    </tr>\n    <tr>\n      <th>2809</th>\n      <td>Harry Potter and the Sorcerer's Stone (Book 1)</td>\n      <td>J. K. Rowling</td>\n    </tr>\n    <tr>\n      <th>3459</th>\n      <td>Harry Potter and the Chamber of Secrets (Book 2)</td>\n      <td>J. K. Rowling</td>\n    </tr>\n    <tr>\n      <th>3839</th>\n      <td>Harry Potter and the Prisoner of Azkaban (Book 3)</td>\n      <td>J. K. Rowling</td>\n    </tr>\n    <tr>\n      <th>...</th>\n      <td>...</td>\n      <td>...</td>\n    </tr>\n    <tr>\n      <th>247872</th>\n      <td>Harry Potter Fun Book</td>\n      <td>Warner Bros.</td>\n    </tr>\n    <tr>\n      <th>251233</th>\n      <td>Harry Potter y El Caliz de Fuego</td>\n      <td>J. K. Rowling</td>\n    </tr>\n    <tr>\n      <th>256403</th>\n      <td>Harry Potter and the Bible: The Menace Behind...</td>\n      <td>Richard Abanes</td>\n    </tr>\n    <tr>\n      <th>257263</th>\n      <td>Harry Potter and the Goblet of Fire (Harry Pot...</td>\n      <td>J. K. Rowling</td>\n    </tr>\n    <tr>\n      <th>259611</th>\n      <td>Harry Potter and the Sorcerer's Stone</td>\n      <td>J.K. Rowling</td>\n    </tr>\n  </tbody>\n</table>\n<p>120 rows × 2 columns</p>\n</div>"
     },
     "metadata": {},
     "output_type": "display_data"
    }
   ],
   "source": [
    "# Example 1: Filter books that have the word 'Harry Potter' in the title\n",
    "harry_potter_books = books[books['Book-Title'].str.contains('Harry Potter')]\n",
    "display(\"Harry Potter books:\\n\", harry_potter_books[['Book-Title', 'Book-Author']])"
   ]
  },
  {
   "cell_type": "code",
   "source": [
    "users"
   ],
   "metadata": {
    "colab": {
     "base_uri": "https://localhost:8080/",
     "height": 424
    },
    "id": "Kehnf9RDjX4r",
    "executionInfo": {
     "status": "ok",
     "timestamp": 1683428280886,
     "user_tz": -540,
     "elapsed": 21,
     "user": {
      "displayName": "Myeonghak Lee",
      "userId": "01376346143254624391"
     }
    },
    "outputId": "88abb9a0-ff51-48b2-9ca4-7d7d074c8c00"
   },
   "id": "Kehnf9RDjX4r",
   "execution_count": 11,
   "outputs": [
    {
     "output_type": "execute_result",
     "data": {
      "text/plain": [
       "        User-ID                            Location   Age\n",
       "0             1                  nyc, new york, usa   NaN\n",
       "1             2           stockton, california, usa  18.0\n",
       "2             3     moscow, yukon territory, russia   NaN\n",
       "3             4           porto, v.n.gaia, portugal  17.0\n",
       "4             5  farnborough, hants, united kingdom   NaN\n",
       "...         ...                                 ...   ...\n",
       "278853   278854               portland, oregon, usa   NaN\n",
       "278854   278855  tacoma, washington, united kingdom  50.0\n",
       "278855   278856           brampton, ontario, canada   NaN\n",
       "278856   278857           knoxville, tennessee, usa   NaN\n",
       "278857   278858                dublin, n/a, ireland   NaN\n",
       "\n",
       "[278858 rows x 3 columns]"
      ],
      "text/html": [
       "\n",
       "  <div id=\"df-9f24f78e-e574-4bb0-8bfd-fefc664ad4de\">\n",
       "    <div class=\"colab-df-container\">\n",
       "      <div>\n",
       "<style scoped>\n",
       "    .dataframe tbody tr th:only-of-type {\n",
       "        vertical-align: middle;\n",
       "    }\n",
       "\n",
       "    .dataframe tbody tr th {\n",
       "        vertical-align: top;\n",
       "    }\n",
       "\n",
       "    .dataframe thead th {\n",
       "        text-align: right;\n",
       "    }\n",
       "</style>\n",
       "<table border=\"1\" class=\"dataframe\">\n",
       "  <thead>\n",
       "    <tr style=\"text-align: right;\">\n",
       "      <th></th>\n",
       "      <th>User-ID</th>\n",
       "      <th>Location</th>\n",
       "      <th>Age</th>\n",
       "    </tr>\n",
       "  </thead>\n",
       "  <tbody>\n",
       "    <tr>\n",
       "      <th>0</th>\n",
       "      <td>1</td>\n",
       "      <td>nyc, new york, usa</td>\n",
       "      <td>NaN</td>\n",
       "    </tr>\n",
       "    <tr>\n",
       "      <th>1</th>\n",
       "      <td>2</td>\n",
       "      <td>stockton, california, usa</td>\n",
       "      <td>18.0</td>\n",
       "    </tr>\n",
       "    <tr>\n",
       "      <th>2</th>\n",
       "      <td>3</td>\n",
       "      <td>moscow, yukon territory, russia</td>\n",
       "      <td>NaN</td>\n",
       "    </tr>\n",
       "    <tr>\n",
       "      <th>3</th>\n",
       "      <td>4</td>\n",
       "      <td>porto, v.n.gaia, portugal</td>\n",
       "      <td>17.0</td>\n",
       "    </tr>\n",
       "    <tr>\n",
       "      <th>4</th>\n",
       "      <td>5</td>\n",
       "      <td>farnborough, hants, united kingdom</td>\n",
       "      <td>NaN</td>\n",
       "    </tr>\n",
       "    <tr>\n",
       "      <th>...</th>\n",
       "      <td>...</td>\n",
       "      <td>...</td>\n",
       "      <td>...</td>\n",
       "    </tr>\n",
       "    <tr>\n",
       "      <th>278853</th>\n",
       "      <td>278854</td>\n",
       "      <td>portland, oregon, usa</td>\n",
       "      <td>NaN</td>\n",
       "    </tr>\n",
       "    <tr>\n",
       "      <th>278854</th>\n",
       "      <td>278855</td>\n",
       "      <td>tacoma, washington, united kingdom</td>\n",
       "      <td>50.0</td>\n",
       "    </tr>\n",
       "    <tr>\n",
       "      <th>278855</th>\n",
       "      <td>278856</td>\n",
       "      <td>brampton, ontario, canada</td>\n",
       "      <td>NaN</td>\n",
       "    </tr>\n",
       "    <tr>\n",
       "      <th>278856</th>\n",
       "      <td>278857</td>\n",
       "      <td>knoxville, tennessee, usa</td>\n",
       "      <td>NaN</td>\n",
       "    </tr>\n",
       "    <tr>\n",
       "      <th>278857</th>\n",
       "      <td>278858</td>\n",
       "      <td>dublin, n/a, ireland</td>\n",
       "      <td>NaN</td>\n",
       "    </tr>\n",
       "  </tbody>\n",
       "</table>\n",
       "<p>278858 rows × 3 columns</p>\n",
       "</div>\n",
       "      <button class=\"colab-df-convert\" onclick=\"convertToInteractive('df-9f24f78e-e574-4bb0-8bfd-fefc664ad4de')\"\n",
       "              title=\"Convert this dataframe to an interactive table.\"\n",
       "              style=\"display:none;\">\n",
       "        \n",
       "  <svg xmlns=\"http://www.w3.org/2000/svg\" height=\"24px\"viewBox=\"0 0 24 24\"\n",
       "       width=\"24px\">\n",
       "    <path d=\"M0 0h24v24H0V0z\" fill=\"none\"/>\n",
       "    <path d=\"M18.56 5.44l.94 2.06.94-2.06 2.06-.94-2.06-.94-.94-2.06-.94 2.06-2.06.94zm-11 1L8.5 8.5l.94-2.06 2.06-.94-2.06-.94L8.5 2.5l-.94 2.06-2.06.94zm10 10l.94 2.06.94-2.06 2.06-.94-2.06-.94-.94-2.06-.94 2.06-2.06.94z\"/><path d=\"M17.41 7.96l-1.37-1.37c-.4-.4-.92-.59-1.43-.59-.52 0-1.04.2-1.43.59L10.3 9.45l-7.72 7.72c-.78.78-.78 2.05 0 2.83L4 21.41c.39.39.9.59 1.41.59.51 0 1.02-.2 1.41-.59l7.78-7.78 2.81-2.81c.8-.78.8-2.07 0-2.86zM5.41 20L4 18.59l7.72-7.72 1.47 1.35L5.41 20z\"/>\n",
       "  </svg>\n",
       "      </button>\n",
       "      \n",
       "  <style>\n",
       "    .colab-df-container {\n",
       "      display:flex;\n",
       "      flex-wrap:wrap;\n",
       "      gap: 12px;\n",
       "    }\n",
       "\n",
       "    .colab-df-convert {\n",
       "      background-color: #E8F0FE;\n",
       "      border: none;\n",
       "      border-radius: 50%;\n",
       "      cursor: pointer;\n",
       "      display: none;\n",
       "      fill: #1967D2;\n",
       "      height: 32px;\n",
       "      padding: 0 0 0 0;\n",
       "      width: 32px;\n",
       "    }\n",
       "\n",
       "    .colab-df-convert:hover {\n",
       "      background-color: #E2EBFA;\n",
       "      box-shadow: 0px 1px 2px rgba(60, 64, 67, 0.3), 0px 1px 3px 1px rgba(60, 64, 67, 0.15);\n",
       "      fill: #174EA6;\n",
       "    }\n",
       "\n",
       "    [theme=dark] .colab-df-convert {\n",
       "      background-color: #3B4455;\n",
       "      fill: #D2E3FC;\n",
       "    }\n",
       "\n",
       "    [theme=dark] .colab-df-convert:hover {\n",
       "      background-color: #434B5C;\n",
       "      box-shadow: 0px 1px 3px 1px rgba(0, 0, 0, 0.15);\n",
       "      filter: drop-shadow(0px 1px 2px rgba(0, 0, 0, 0.3));\n",
       "      fill: #FFFFFF;\n",
       "    }\n",
       "  </style>\n",
       "\n",
       "      <script>\n",
       "        const buttonEl =\n",
       "          document.querySelector('#df-9f24f78e-e574-4bb0-8bfd-fefc664ad4de button.colab-df-convert');\n",
       "        buttonEl.style.display =\n",
       "          google.colab.kernel.accessAllowed ? 'block' : 'none';\n",
       "\n",
       "        async function convertToInteractive(key) {\n",
       "          const element = document.querySelector('#df-9f24f78e-e574-4bb0-8bfd-fefc664ad4de');\n",
       "          const dataTable =\n",
       "            await google.colab.kernel.invokeFunction('convertToInteractive',\n",
       "                                                     [key], {});\n",
       "          if (!dataTable) return;\n",
       "\n",
       "          const docLinkHtml = 'Like what you see? Visit the ' +\n",
       "            '<a target=\"_blank\" href=https://colab.research.google.com/notebooks/data_table.ipynb>data table notebook</a>'\n",
       "            + ' to learn more about interactive tables.';\n",
       "          element.innerHTML = '';\n",
       "          dataTable['output_type'] = 'display_data';\n",
       "          await google.colab.output.renderOutput(dataTable, element);\n",
       "          const docLink = document.createElement('div');\n",
       "          docLink.innerHTML = docLinkHtml;\n",
       "          element.appendChild(docLink);\n",
       "        }\n",
       "      </script>\n",
       "    </div>\n",
       "  </div>\n",
       "  "
      ]
     },
     "metadata": {},
     "execution_count": 11
    }
   ]
  },
  {
   "cell_type": "code",
   "execution_count": 12,
   "id": "76154c82",
   "metadata": {
    "ExecuteTime": {
     "end_time": "2023-05-05T03:56:25.545048Z",
     "start_time": "2023-05-05T03:56:25.442026Z"
    },
    "colab": {
     "base_uri": "https://localhost:8080/",
     "height": 225
    },
    "id": "76154c82",
    "executionInfo": {
     "status": "ok",
     "timestamp": 1683428281500,
     "user_tz": -540,
     "elapsed": 633,
     "user": {
      "displayName": "Myeonghak Lee",
      "userId": "01376346143254624391"
     }
    },
    "outputId": "8fc73cd8-89fc-4bf7-ff3d-3c1a5b3c71a0"
   },
   "outputs": [
    {
     "output_type": "display_data",
     "data": {
      "text/plain": [
       "'Users from the USA:\\n'"
      ],
      "application/vnd.google.colaboratory.intrinsic+json": {
       "type": "string"
      }
     },
     "metadata": {}
    },
    {
     "output_type": "display_data",
     "data": {
      "text/plain": [
       "   User-ID                       Location   Age\n",
       "0        1             nyc, new york, usa   NaN\n",
       "1        2      stockton, california, usa  18.0\n",
       "5        6  santa monica, california, usa  61.0\n",
       "6        7            washington, dc, usa   NaN\n",
       "8        9     germantown, tennessee, usa   NaN"
      ],
      "text/html": [
       "\n",
       "  <div id=\"df-5ab77370-ce61-4638-8fe5-19ef8245165d\">\n",
       "    <div class=\"colab-df-container\">\n",
       "      <div>\n",
       "<style scoped>\n",
       "    .dataframe tbody tr th:only-of-type {\n",
       "        vertical-align: middle;\n",
       "    }\n",
       "\n",
       "    .dataframe tbody tr th {\n",
       "        vertical-align: top;\n",
       "    }\n",
       "\n",
       "    .dataframe thead th {\n",
       "        text-align: right;\n",
       "    }\n",
       "</style>\n",
       "<table border=\"1\" class=\"dataframe\">\n",
       "  <thead>\n",
       "    <tr style=\"text-align: right;\">\n",
       "      <th></th>\n",
       "      <th>User-ID</th>\n",
       "      <th>Location</th>\n",
       "      <th>Age</th>\n",
       "    </tr>\n",
       "  </thead>\n",
       "  <tbody>\n",
       "    <tr>\n",
       "      <th>0</th>\n",
       "      <td>1</td>\n",
       "      <td>nyc, new york, usa</td>\n",
       "      <td>NaN</td>\n",
       "    </tr>\n",
       "    <tr>\n",
       "      <th>1</th>\n",
       "      <td>2</td>\n",
       "      <td>stockton, california, usa</td>\n",
       "      <td>18.0</td>\n",
       "    </tr>\n",
       "    <tr>\n",
       "      <th>5</th>\n",
       "      <td>6</td>\n",
       "      <td>santa monica, california, usa</td>\n",
       "      <td>61.0</td>\n",
       "    </tr>\n",
       "    <tr>\n",
       "      <th>6</th>\n",
       "      <td>7</td>\n",
       "      <td>washington, dc, usa</td>\n",
       "      <td>NaN</td>\n",
       "    </tr>\n",
       "    <tr>\n",
       "      <th>8</th>\n",
       "      <td>9</td>\n",
       "      <td>germantown, tennessee, usa</td>\n",
       "      <td>NaN</td>\n",
       "    </tr>\n",
       "  </tbody>\n",
       "</table>\n",
       "</div>\n",
       "      <button class=\"colab-df-convert\" onclick=\"convertToInteractive('df-5ab77370-ce61-4638-8fe5-19ef8245165d')\"\n",
       "              title=\"Convert this dataframe to an interactive table.\"\n",
       "              style=\"display:none;\">\n",
       "        \n",
       "  <svg xmlns=\"http://www.w3.org/2000/svg\" height=\"24px\"viewBox=\"0 0 24 24\"\n",
       "       width=\"24px\">\n",
       "    <path d=\"M0 0h24v24H0V0z\" fill=\"none\"/>\n",
       "    <path d=\"M18.56 5.44l.94 2.06.94-2.06 2.06-.94-2.06-.94-.94-2.06-.94 2.06-2.06.94zm-11 1L8.5 8.5l.94-2.06 2.06-.94-2.06-.94L8.5 2.5l-.94 2.06-2.06.94zm10 10l.94 2.06.94-2.06 2.06-.94-2.06-.94-.94-2.06-.94 2.06-2.06.94z\"/><path d=\"M17.41 7.96l-1.37-1.37c-.4-.4-.92-.59-1.43-.59-.52 0-1.04.2-1.43.59L10.3 9.45l-7.72 7.72c-.78.78-.78 2.05 0 2.83L4 21.41c.39.39.9.59 1.41.59.51 0 1.02-.2 1.41-.59l7.78-7.78 2.81-2.81c.8-.78.8-2.07 0-2.86zM5.41 20L4 18.59l7.72-7.72 1.47 1.35L5.41 20z\"/>\n",
       "  </svg>\n",
       "      </button>\n",
       "      \n",
       "  <style>\n",
       "    .colab-df-container {\n",
       "      display:flex;\n",
       "      flex-wrap:wrap;\n",
       "      gap: 12px;\n",
       "    }\n",
       "\n",
       "    .colab-df-convert {\n",
       "      background-color: #E8F0FE;\n",
       "      border: none;\n",
       "      border-radius: 50%;\n",
       "      cursor: pointer;\n",
       "      display: none;\n",
       "      fill: #1967D2;\n",
       "      height: 32px;\n",
       "      padding: 0 0 0 0;\n",
       "      width: 32px;\n",
       "    }\n",
       "\n",
       "    .colab-df-convert:hover {\n",
       "      background-color: #E2EBFA;\n",
       "      box-shadow: 0px 1px 2px rgba(60, 64, 67, 0.3), 0px 1px 3px 1px rgba(60, 64, 67, 0.15);\n",
       "      fill: #174EA6;\n",
       "    }\n",
       "\n",
       "    [theme=dark] .colab-df-convert {\n",
       "      background-color: #3B4455;\n",
       "      fill: #D2E3FC;\n",
       "    }\n",
       "\n",
       "    [theme=dark] .colab-df-convert:hover {\n",
       "      background-color: #434B5C;\n",
       "      box-shadow: 0px 1px 3px 1px rgba(0, 0, 0, 0.15);\n",
       "      filter: drop-shadow(0px 1px 2px rgba(0, 0, 0, 0.3));\n",
       "      fill: #FFFFFF;\n",
       "    }\n",
       "  </style>\n",
       "\n",
       "      <script>\n",
       "        const buttonEl =\n",
       "          document.querySelector('#df-5ab77370-ce61-4638-8fe5-19ef8245165d button.colab-df-convert');\n",
       "        buttonEl.style.display =\n",
       "          google.colab.kernel.accessAllowed ? 'block' : 'none';\n",
       "\n",
       "        async function convertToInteractive(key) {\n",
       "          const element = document.querySelector('#df-5ab77370-ce61-4638-8fe5-19ef8245165d');\n",
       "          const dataTable =\n",
       "            await google.colab.kernel.invokeFunction('convertToInteractive',\n",
       "                                                     [key], {});\n",
       "          if (!dataTable) return;\n",
       "\n",
       "          const docLinkHtml = 'Like what you see? Visit the ' +\n",
       "            '<a target=\"_blank\" href=https://colab.research.google.com/notebooks/data_table.ipynb>data table notebook</a>'\n",
       "            + ' to learn more about interactive tables.';\n",
       "          element.innerHTML = '';\n",
       "          dataTable['output_type'] = 'display_data';\n",
       "          await google.colab.output.renderOutput(dataTable, element);\n",
       "          const docLink = document.createElement('div');\n",
       "          docLink.innerHTML = docLinkHtml;\n",
       "          element.appendChild(docLink);\n",
       "        }\n",
       "      </script>\n",
       "    </div>\n",
       "  </div>\n",
       "  "
      ]
     },
     "metadata": {}
    }
   ],
   "source": [
    "# Example 2: Filter users from a specific country, e.g., 'USA'\n",
    "usa_users = users[users['Location'].str.contains('USA', case=False)]\n",
    "display(\"Users from the USA:\\n\", usa_users.head())"
   ]
  },
  {
   "cell_type": "code",
   "execution_count": 13,
   "id": "8187a901",
   "metadata": {
    "ExecuteTime": {
     "end_time": "2023-05-05T03:56:25.575026Z",
     "start_time": "2023-05-05T03:56:25.546049Z"
    },
    "colab": {
     "base_uri": "https://localhost:8080/",
     "height": 226
    },
    "id": "8187a901",
    "executionInfo": {
     "status": "ok",
     "timestamp": 1683428281501,
     "user_tz": -540,
     "elapsed": 42,
     "user": {
      "displayName": "Myeonghak Lee",
      "userId": "01376346143254624391"
     }
    },
    "outputId": "6bb26910-a228-449a-d6e9-771ff027a36a"
   },
   "outputs": [
    {
     "output_type": "display_data",
     "data": {
      "text/plain": [
       "'J.K. Rowling books:\\n'"
      ],
      "application/vnd.google.colaboratory.intrinsic+json": {
       "type": "string"
      }
     },
     "metadata": {}
    },
    {
     "output_type": "display_data",
     "data": {
      "text/plain": [
       "35086     Harry Potter and the Prisoner of Azkaban (Harr...\n",
       "50434     Harry Potter and the Philosopher's Stone (Cove...\n",
       "107936    Harry Potter and the Philosopher's Stone (Cove...\n",
       "110431                  Harry Potter y la Ã?rden del FÃ©nix\n",
       "145529    Harry Potter et l'Ordre du PhÃ©nix (Harry Pott...\n",
       "200073             Harry Potter and the Philosopher's Stone\n",
       "205143             Harry Potter and the Philosopher's Stone\n",
       "214147                                  I El Pres D'askaban\n",
       "224187                                 I La Pedra Filosofal\n",
       "259611                Harry Potter and the Sorcerer's Stone\n",
       "Name: Book-Title, dtype: object"
      ]
     },
     "metadata": {}
    }
   ],
   "source": [
    "# Example 3: Filter books by a specific author, e.g., 'J.K. Rowling'\n",
    "jk_rowling_books = books[books['Book-Author'] == 'J.K. Rowling']\n",
    "display(\"J.K. Rowling books:\\n\", jk_rowling_books['Book-Title'])"
   ]
  },
  {
   "cell_type": "code",
   "execution_count": 14,
   "id": "35573d01",
   "metadata": {
    "ExecuteTime": {
     "end_time": "2023-05-05T03:56:25.695053Z",
     "start_time": "2023-05-05T03:56:25.577027Z"
    },
    "colab": {
     "base_uri": "https://localhost:8080/",
     "height": 225
    },
    "id": "35573d01",
    "executionInfo": {
     "status": "ok",
     "timestamp": 1683428281502,
     "user_tz": -540,
     "elapsed": 40,
     "user": {
      "displayName": "Myeonghak Lee",
      "userId": "01376346143254624391"
     }
    },
    "outputId": "1479843f-96ef-422a-ce4e-9278e9116aec"
   },
   "outputs": [
    {
     "output_type": "display_data",
     "data": {
      "text/plain": [
       "'Books published after 2000:\\n'"
      ],
      "application/vnd.google.colaboratory.intrinsic+json": {
       "type": "string"
      }
     },
     "metadata": {}
    },
    {
     "output_type": "display_data",
     "data": {
      "text/plain": [
       "                                           Book-Title  Year-Of-Publication\n",
       "0                                 Classical Mythology               2002.0\n",
       "1                                        Clara Callan               2001.0\n",
       "9             Where You'll Find Me: And Other Stories               2002.0\n",
       "12                                 The Middle Stories               2004.0\n",
       "21  New Vegetarian: Bold and Beautiful Recipes for...               2001.0"
      ],
      "text/html": [
       "\n",
       "  <div id=\"df-4cc8da1a-f162-4730-97eb-05949471218d\">\n",
       "    <div class=\"colab-df-container\">\n",
       "      <div>\n",
       "<style scoped>\n",
       "    .dataframe tbody tr th:only-of-type {\n",
       "        vertical-align: middle;\n",
       "    }\n",
       "\n",
       "    .dataframe tbody tr th {\n",
       "        vertical-align: top;\n",
       "    }\n",
       "\n",
       "    .dataframe thead th {\n",
       "        text-align: right;\n",
       "    }\n",
       "</style>\n",
       "<table border=\"1\" class=\"dataframe\">\n",
       "  <thead>\n",
       "    <tr style=\"text-align: right;\">\n",
       "      <th></th>\n",
       "      <th>Book-Title</th>\n",
       "      <th>Year-Of-Publication</th>\n",
       "    </tr>\n",
       "  </thead>\n",
       "  <tbody>\n",
       "    <tr>\n",
       "      <th>0</th>\n",
       "      <td>Classical Mythology</td>\n",
       "      <td>2002.0</td>\n",
       "    </tr>\n",
       "    <tr>\n",
       "      <th>1</th>\n",
       "      <td>Clara Callan</td>\n",
       "      <td>2001.0</td>\n",
       "    </tr>\n",
       "    <tr>\n",
       "      <th>9</th>\n",
       "      <td>Where You'll Find Me: And Other Stories</td>\n",
       "      <td>2002.0</td>\n",
       "    </tr>\n",
       "    <tr>\n",
       "      <th>12</th>\n",
       "      <td>The Middle Stories</td>\n",
       "      <td>2004.0</td>\n",
       "    </tr>\n",
       "    <tr>\n",
       "      <th>21</th>\n",
       "      <td>New Vegetarian: Bold and Beautiful Recipes for...</td>\n",
       "      <td>2001.0</td>\n",
       "    </tr>\n",
       "  </tbody>\n",
       "</table>\n",
       "</div>\n",
       "      <button class=\"colab-df-convert\" onclick=\"convertToInteractive('df-4cc8da1a-f162-4730-97eb-05949471218d')\"\n",
       "              title=\"Convert this dataframe to an interactive table.\"\n",
       "              style=\"display:none;\">\n",
       "        \n",
       "  <svg xmlns=\"http://www.w3.org/2000/svg\" height=\"24px\"viewBox=\"0 0 24 24\"\n",
       "       width=\"24px\">\n",
       "    <path d=\"M0 0h24v24H0V0z\" fill=\"none\"/>\n",
       "    <path d=\"M18.56 5.44l.94 2.06.94-2.06 2.06-.94-2.06-.94-.94-2.06-.94 2.06-2.06.94zm-11 1L8.5 8.5l.94-2.06 2.06-.94-2.06-.94L8.5 2.5l-.94 2.06-2.06.94zm10 10l.94 2.06.94-2.06 2.06-.94-2.06-.94-.94-2.06-.94 2.06-2.06.94z\"/><path d=\"M17.41 7.96l-1.37-1.37c-.4-.4-.92-.59-1.43-.59-.52 0-1.04.2-1.43.59L10.3 9.45l-7.72 7.72c-.78.78-.78 2.05 0 2.83L4 21.41c.39.39.9.59 1.41.59.51 0 1.02-.2 1.41-.59l7.78-7.78 2.81-2.81c.8-.78.8-2.07 0-2.86zM5.41 20L4 18.59l7.72-7.72 1.47 1.35L5.41 20z\"/>\n",
       "  </svg>\n",
       "      </button>\n",
       "      \n",
       "  <style>\n",
       "    .colab-df-container {\n",
       "      display:flex;\n",
       "      flex-wrap:wrap;\n",
       "      gap: 12px;\n",
       "    }\n",
       "\n",
       "    .colab-df-convert {\n",
       "      background-color: #E8F0FE;\n",
       "      border: none;\n",
       "      border-radius: 50%;\n",
       "      cursor: pointer;\n",
       "      display: none;\n",
       "      fill: #1967D2;\n",
       "      height: 32px;\n",
       "      padding: 0 0 0 0;\n",
       "      width: 32px;\n",
       "    }\n",
       "\n",
       "    .colab-df-convert:hover {\n",
       "      background-color: #E2EBFA;\n",
       "      box-shadow: 0px 1px 2px rgba(60, 64, 67, 0.3), 0px 1px 3px 1px rgba(60, 64, 67, 0.15);\n",
       "      fill: #174EA6;\n",
       "    }\n",
       "\n",
       "    [theme=dark] .colab-df-convert {\n",
       "      background-color: #3B4455;\n",
       "      fill: #D2E3FC;\n",
       "    }\n",
       "\n",
       "    [theme=dark] .colab-df-convert:hover {\n",
       "      background-color: #434B5C;\n",
       "      box-shadow: 0px 1px 3px 1px rgba(0, 0, 0, 0.15);\n",
       "      filter: drop-shadow(0px 1px 2px rgba(0, 0, 0, 0.3));\n",
       "      fill: #FFFFFF;\n",
       "    }\n",
       "  </style>\n",
       "\n",
       "      <script>\n",
       "        const buttonEl =\n",
       "          document.querySelector('#df-4cc8da1a-f162-4730-97eb-05949471218d button.colab-df-convert');\n",
       "        buttonEl.style.display =\n",
       "          google.colab.kernel.accessAllowed ? 'block' : 'none';\n",
       "\n",
       "        async function convertToInteractive(key) {\n",
       "          const element = document.querySelector('#df-4cc8da1a-f162-4730-97eb-05949471218d');\n",
       "          const dataTable =\n",
       "            await google.colab.kernel.invokeFunction('convertToInteractive',\n",
       "                                                     [key], {});\n",
       "          if (!dataTable) return;\n",
       "\n",
       "          const docLinkHtml = 'Like what you see? Visit the ' +\n",
       "            '<a target=\"_blank\" href=https://colab.research.google.com/notebooks/data_table.ipynb>data table notebook</a>'\n",
       "            + ' to learn more about interactive tables.';\n",
       "          element.innerHTML = '';\n",
       "          dataTable['output_type'] = 'display_data';\n",
       "          await google.colab.output.renderOutput(dataTable, element);\n",
       "          const docLink = document.createElement('div');\n",
       "          docLink.innerHTML = docLinkHtml;\n",
       "          element.appendChild(docLink);\n",
       "        }\n",
       "      </script>\n",
       "    </div>\n",
       "  </div>\n",
       "  "
      ]
     },
     "metadata": {}
    }
   ],
   "source": [
    "# Example 4: Filter books published after a certain year, e.g., 2000\n",
    "books['Year-Of-Publication'] = pd.to_numeric(books['Year-Of-Publication'], errors='coerce')\n",
    "books_after_2000 = books[books['Year-Of-Publication'] > 2000]\n",
    "display(\"Books published after 2000:\\n\", books_after_2000[['Book-Title', 'Year-Of-Publication']].head())"
   ]
  },
  {
   "cell_type": "code",
   "execution_count": 15,
   "id": "240f7bfd-42a6-4731-b437-6a89183905a6",
   "metadata": {
    "ExecuteTime": {
     "end_time": "2023-05-05T03:56:28.260628Z",
     "start_time": "2023-05-05T03:56:25.696053Z"
    },
    "colab": {
     "base_uri": "https://localhost:8080/",
     "height": 244
    },
    "id": "240f7bfd-42a6-4731-b437-6a89183905a6",
    "executionInfo": {
     "status": "ok",
     "timestamp": 1683428290416,
     "user_tz": -540,
     "elapsed": 8949,
     "user": {
      "displayName": "Myeonghak Lee",
      "userId": "01376346143254624391"
     }
    },
    "outputId": "6864a545-ff0e-4b63-ad0a-967e823c8019"
   },
   "outputs": [
    {
     "output_type": "display_data",
     "data": {
      "text/plain": [
       "'Average ratings by country:\\n'"
      ],
      "application/vnd.google.colaboratory.intrinsic+json": {
       "type": "string"
      }
     },
     "metadata": {}
    },
    {
     "output_type": "display_data",
     "data": {
      "text/plain": [
       "Location\n",
       "polk                   2.666667\n",
       "the world tomorrow     9.000000\n",
       "sudan                  0.000000\n",
       "uzbekistan             2.000000\n",
       "andorra                3.980392\n",
       "dominican republic     3.598548\n",
       "catalonia              6.428571\n",
       "hungary                5.215686\n",
       "cayman islands         3.294118\n",
       "unknown               10.000000\n",
       "Name: Book-Rating, dtype: float64"
      ]
     },
     "metadata": {}
    }
   ],
   "source": [
    "# Example 5: Group the ratings data by the user's country and compute the average rating\n",
    "data_with_country = pd.merge(ratings, users, on='User-ID')\n",
    "average_ratings_by_country = data_with_country.groupby(data_with_country['Location'].str.split(',').str[-1].str.strip())['Book-Rating'].mean()\n",
    "display(\"Average ratings by country:\\n\", average_ratings_by_country.sample(10))"
   ]
  },
  {
   "cell_type": "code",
   "execution_count": 45,
   "id": "655955e2",
   "metadata": {
    "id": "655955e2",
    "colab": {
     "base_uri": "https://localhost:8080/",
     "height": 206
    },
    "executionInfo": {
     "status": "ok",
     "timestamp": 1683430214169,
     "user_tz": -540,
     "elapsed": 24,
     "user": {
      "displayName": "Myeonghak Lee",
      "userId": "01376346143254624391"
     }
    },
    "outputId": "d48df468-0529-4160-d58d-3f936ac3da9a"
   },
   "outputs": [
    {
     "output_type": "execute_result",
     "data": {
      "text/plain": [
       "   User-ID        ISBN  Book-Rating                       Location   Age\n",
       "0   276725  034545104X            0              tyler, texas, usa   NaN\n",
       "1   276726  0155061224            5       seattle, washington, usa   NaN\n",
       "2   276727  0446520802            0  h, new south wales, australia  16.0\n",
       "3   276729  052165615X            3           rijeka, n/a, croatia  16.0\n",
       "4   276729  0521795028            6           rijeka, n/a, croatia  16.0"
      ],
      "text/html": [
       "\n",
       "  <div id=\"df-7031fa19-0eb0-4d2a-9491-4c98026549ea\">\n",
       "    <div class=\"colab-df-container\">\n",
       "      <div>\n",
       "<style scoped>\n",
       "    .dataframe tbody tr th:only-of-type {\n",
       "        vertical-align: middle;\n",
       "    }\n",
       "\n",
       "    .dataframe tbody tr th {\n",
       "        vertical-align: top;\n",
       "    }\n",
       "\n",
       "    .dataframe thead th {\n",
       "        text-align: right;\n",
       "    }\n",
       "</style>\n",
       "<table border=\"1\" class=\"dataframe\">\n",
       "  <thead>\n",
       "    <tr style=\"text-align: right;\">\n",
       "      <th></th>\n",
       "      <th>User-ID</th>\n",
       "      <th>ISBN</th>\n",
       "      <th>Book-Rating</th>\n",
       "      <th>Location</th>\n",
       "      <th>Age</th>\n",
       "    </tr>\n",
       "  </thead>\n",
       "  <tbody>\n",
       "    <tr>\n",
       "      <th>0</th>\n",
       "      <td>276725</td>\n",
       "      <td>034545104X</td>\n",
       "      <td>0</td>\n",
       "      <td>tyler, texas, usa</td>\n",
       "      <td>NaN</td>\n",
       "    </tr>\n",
       "    <tr>\n",
       "      <th>1</th>\n",
       "      <td>276726</td>\n",
       "      <td>0155061224</td>\n",
       "      <td>5</td>\n",
       "      <td>seattle, washington, usa</td>\n",
       "      <td>NaN</td>\n",
       "    </tr>\n",
       "    <tr>\n",
       "      <th>2</th>\n",
       "      <td>276727</td>\n",
       "      <td>0446520802</td>\n",
       "      <td>0</td>\n",
       "      <td>h, new south wales, australia</td>\n",
       "      <td>16.0</td>\n",
       "    </tr>\n",
       "    <tr>\n",
       "      <th>3</th>\n",
       "      <td>276729</td>\n",
       "      <td>052165615X</td>\n",
       "      <td>3</td>\n",
       "      <td>rijeka, n/a, croatia</td>\n",
       "      <td>16.0</td>\n",
       "    </tr>\n",
       "    <tr>\n",
       "      <th>4</th>\n",
       "      <td>276729</td>\n",
       "      <td>0521795028</td>\n",
       "      <td>6</td>\n",
       "      <td>rijeka, n/a, croatia</td>\n",
       "      <td>16.0</td>\n",
       "    </tr>\n",
       "  </tbody>\n",
       "</table>\n",
       "</div>\n",
       "      <button class=\"colab-df-convert\" onclick=\"convertToInteractive('df-7031fa19-0eb0-4d2a-9491-4c98026549ea')\"\n",
       "              title=\"Convert this dataframe to an interactive table.\"\n",
       "              style=\"display:none;\">\n",
       "        \n",
       "  <svg xmlns=\"http://www.w3.org/2000/svg\" height=\"24px\"viewBox=\"0 0 24 24\"\n",
       "       width=\"24px\">\n",
       "    <path d=\"M0 0h24v24H0V0z\" fill=\"none\"/>\n",
       "    <path d=\"M18.56 5.44l.94 2.06.94-2.06 2.06-.94-2.06-.94-.94-2.06-.94 2.06-2.06.94zm-11 1L8.5 8.5l.94-2.06 2.06-.94-2.06-.94L8.5 2.5l-.94 2.06-2.06.94zm10 10l.94 2.06.94-2.06 2.06-.94-2.06-.94-.94-2.06-.94 2.06-2.06.94z\"/><path d=\"M17.41 7.96l-1.37-1.37c-.4-.4-.92-.59-1.43-.59-.52 0-1.04.2-1.43.59L10.3 9.45l-7.72 7.72c-.78.78-.78 2.05 0 2.83L4 21.41c.39.39.9.59 1.41.59.51 0 1.02-.2 1.41-.59l7.78-7.78 2.81-2.81c.8-.78.8-2.07 0-2.86zM5.41 20L4 18.59l7.72-7.72 1.47 1.35L5.41 20z\"/>\n",
       "  </svg>\n",
       "      </button>\n",
       "      \n",
       "  <style>\n",
       "    .colab-df-container {\n",
       "      display:flex;\n",
       "      flex-wrap:wrap;\n",
       "      gap: 12px;\n",
       "    }\n",
       "\n",
       "    .colab-df-convert {\n",
       "      background-color: #E8F0FE;\n",
       "      border: none;\n",
       "      border-radius: 50%;\n",
       "      cursor: pointer;\n",
       "      display: none;\n",
       "      fill: #1967D2;\n",
       "      height: 32px;\n",
       "      padding: 0 0 0 0;\n",
       "      width: 32px;\n",
       "    }\n",
       "\n",
       "    .colab-df-convert:hover {\n",
       "      background-color: #E2EBFA;\n",
       "      box-shadow: 0px 1px 2px rgba(60, 64, 67, 0.3), 0px 1px 3px 1px rgba(60, 64, 67, 0.15);\n",
       "      fill: #174EA6;\n",
       "    }\n",
       "\n",
       "    [theme=dark] .colab-df-convert {\n",
       "      background-color: #3B4455;\n",
       "      fill: #D2E3FC;\n",
       "    }\n",
       "\n",
       "    [theme=dark] .colab-df-convert:hover {\n",
       "      background-color: #434B5C;\n",
       "      box-shadow: 0px 1px 3px 1px rgba(0, 0, 0, 0.15);\n",
       "      filter: drop-shadow(0px 1px 2px rgba(0, 0, 0, 0.3));\n",
       "      fill: #FFFFFF;\n",
       "    }\n",
       "  </style>\n",
       "\n",
       "      <script>\n",
       "        const buttonEl =\n",
       "          document.querySelector('#df-7031fa19-0eb0-4d2a-9491-4c98026549ea button.colab-df-convert');\n",
       "        buttonEl.style.display =\n",
       "          google.colab.kernel.accessAllowed ? 'block' : 'none';\n",
       "\n",
       "        async function convertToInteractive(key) {\n",
       "          const element = document.querySelector('#df-7031fa19-0eb0-4d2a-9491-4c98026549ea');\n",
       "          const dataTable =\n",
       "            await google.colab.kernel.invokeFunction('convertToInteractive',\n",
       "                                                     [key], {});\n",
       "          if (!dataTable) return;\n",
       "\n",
       "          const docLinkHtml = 'Like what you see? Visit the ' +\n",
       "            '<a target=\"_blank\" href=https://colab.research.google.com/notebooks/data_table.ipynb>data table notebook</a>'\n",
       "            + ' to learn more about interactive tables.';\n",
       "          element.innerHTML = '';\n",
       "          dataTable['output_type'] = 'display_data';\n",
       "          await google.colab.output.renderOutput(dataTable, element);\n",
       "          const docLink = document.createElement('div');\n",
       "          docLink.innerHTML = docLinkHtml;\n",
       "          element.appendChild(docLink);\n",
       "        }\n",
       "      </script>\n",
       "    </div>\n",
       "  </div>\n",
       "  "
      ]
     },
     "metadata": {},
     "execution_count": 45
    }
   ],
   "source": [
    "data_with_country.head()"
   ]
  },
  {
   "cell_type": "code",
   "source": [],
   "metadata": {
    "id": "a_pzMWaDQoRK"
   },
   "id": "a_pzMWaDQoRK",
   "execution_count": null,
   "outputs": []
  }
 ],
 "metadata": {
  "kernelspec": {
   "display_name": "Python 3",
   "language": "python",
   "name": "python3"
  },
  "language_info": {
   "codemirror_mode": {
    "name": "ipython",
    "version": 3
   },
   "file_extension": ".py",
   "mimetype": "text/x-python",
   "name": "python",
   "nbconvert_exporter": "python",
   "pygments_lexer": "ipython3",
   "version": "3.8.10"
  },
  "toc": {
   "base_numbering": 1,
   "nav_menu": {},
   "number_sections": true,
   "sideBar": true,
   "skip_h1_title": false,
   "title_cell": "Table of Contents",
   "title_sidebar": "Contents",
   "toc_cell": false,
   "toc_position": {},
   "toc_section_display": true,
   "toc_window_display": true
  },
  "colab": {
   "provenance": []
  }
 },
 "nbformat": 4,
 "nbformat_minor": 5
}

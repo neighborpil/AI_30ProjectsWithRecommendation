{
 "cells": [
  {
   "cell_type": "code",
   "execution_count": 1,
   "id": "initial_id",
   "metadata": {
    "collapsed": true,
    "ExecuteTime": {
     "end_time": "2023-11-01T03:10:37.825775Z",
     "start_time": "2023-11-01T03:10:36.999649Z"
    }
   },
   "outputs": [],
   "source": [
    "import pandas as pd\n",
    "import numpy as np\n",
    "from sklearn.metrics.pairwise import cosine_similarity\n",
    "from sklearn.model_selection import train_test_split\n",
    "from sklearn.metrics import precision_score, recall_score\n",
    "import requests\n",
    "import zipfile\n"
   ]
  },
  {
   "cell_type": "code",
   "execution_count": 4,
   "outputs": [],
   "source": [
    "data_path = \"../../../data/book_crossing/\""
   ],
   "metadata": {
    "collapsed": false,
    "ExecuteTime": {
     "end_time": "2023-11-01T03:12:20.609134Z",
     "start_time": "2023-11-01T03:12:20.599992Z"
    }
   },
   "id": "7a39fd437a68dba9"
  },
  {
   "cell_type": "code",
   "execution_count": 5,
   "outputs": [
    {
     "name": "stderr",
     "output_type": "stream",
     "text": [
      "/var/folders/jv/v8v_byq94r70bn81gkfc9m6m0000gn/T/ipykernel_21478/170911166.py:2: FutureWarning: The error_bad_lines argument has been deprecated and will be removed in a future version. Use on_bad_lines in the future.\n",
      "\n",
      "\n",
      "  books = pd.read_csv(data_path+'BX-Books.csv', sep=';', error_bad_lines=False, warn_bad_lines=False, encoding=\"latin-1\")\n",
      "/var/folders/jv/v8v_byq94r70bn81gkfc9m6m0000gn/T/ipykernel_21478/170911166.py:2: FutureWarning: The warn_bad_lines argument has been deprecated and will be removed in a future version. Use on_bad_lines in the future.\n",
      "\n",
      "\n",
      "  books = pd.read_csv(data_path+'BX-Books.csv', sep=';', error_bad_lines=False, warn_bad_lines=False, encoding=\"latin-1\")\n",
      "/var/folders/jv/v8v_byq94r70bn81gkfc9m6m0000gn/T/ipykernel_21478/170911166.py:2: DtypeWarning: Columns (3) have mixed types. Specify dtype option on import or set low_memory=False.\n",
      "  books = pd.read_csv(data_path+'BX-Books.csv', sep=';', error_bad_lines=False, warn_bad_lines=False, encoding=\"latin-1\")\n",
      "/var/folders/jv/v8v_byq94r70bn81gkfc9m6m0000gn/T/ipykernel_21478/170911166.py:3: FutureWarning: The error_bad_lines argument has been deprecated and will be removed in a future version. Use on_bad_lines in the future.\n",
      "\n",
      "\n",
      "  users = pd.read_csv(data_path+'BX-Users.csv', sep=';', error_bad_lines=False, warn_bad_lines=False,encoding=\"latin-1\")\n",
      "/var/folders/jv/v8v_byq94r70bn81gkfc9m6m0000gn/T/ipykernel_21478/170911166.py:3: FutureWarning: The warn_bad_lines argument has been deprecated and will be removed in a future version. Use on_bad_lines in the future.\n",
      "\n",
      "\n",
      "  users = pd.read_csv(data_path+'BX-Users.csv', sep=';', error_bad_lines=False, warn_bad_lines=False,encoding=\"latin-1\")\n",
      "/var/folders/jv/v8v_byq94r70bn81gkfc9m6m0000gn/T/ipykernel_21478/170911166.py:4: FutureWarning: The error_bad_lines argument has been deprecated and will be removed in a future version. Use on_bad_lines in the future.\n",
      "\n",
      "\n",
      "  ratings = pd.read_csv(data_path+'BX-Book-Ratings.csv', sep=';', error_bad_lines=False, warn_bad_lines=False, encoding=\"latin-1\")\n",
      "/var/folders/jv/v8v_byq94r70bn81gkfc9m6m0000gn/T/ipykernel_21478/170911166.py:4: FutureWarning: The warn_bad_lines argument has been deprecated and will be removed in a future version. Use on_bad_lines in the future.\n",
      "\n",
      "\n",
      "  ratings = pd.read_csv(data_path+'BX-Book-Ratings.csv', sep=';', error_bad_lines=False, warn_bad_lines=False, encoding=\"latin-1\")\n"
     ]
    }
   ],
   "source": [
    "# Load the data\n",
    "books = pd.read_csv(data_path+'BX-Books.csv', sep=';', error_bad_lines=False, warn_bad_lines=False, encoding=\"latin-1\")\n",
    "users = pd.read_csv(data_path+'BX-Users.csv', sep=';', error_bad_lines=False, warn_bad_lines=False,encoding=\"latin-1\")\n",
    "ratings = pd.read_csv(data_path+'BX-Book-Ratings.csv', sep=';', error_bad_lines=False, warn_bad_lines=False, encoding=\"latin-1\")"
   ],
   "metadata": {
    "collapsed": false,
    "ExecuteTime": {
     "end_time": "2023-11-01T03:12:22.025077Z",
     "start_time": "2023-11-01T03:12:20.747893Z"
    }
   },
   "id": "f582c054c53eb727"
  },
  {
   "cell_type": "code",
   "execution_count": 6,
   "outputs": [
    {
     "data": {
      "text/plain": "              ISBN                                         Book-Title  \\\n0       0195153448                                Classical Mythology   \n1       0002005018                                       Clara Callan   \n2       0060973129                               Decision in Normandy   \n3       0374157065  Flu: The Story of the Great Influenza Pandemic...   \n4       0393045218                             The Mummies of Urumchi   \n...            ...                                                ...   \n271355  0440400988                         There's a Bat in Bunk Five   \n271356  0525447644                            From One to One Hundred   \n271357  006008667X  Lily Dale : The True Story of the Town that Ta...   \n271358  0192126040                        Republic (World's Classics)   \n271359  0767409752  A Guided Tour of Rene Descartes' Meditations o...   \n\n                 Book-Author Year-Of-Publication  \\\n0         Mark P. O. Morford                2002   \n1       Richard Bruce Wright                2001   \n2               Carlo D'Este                1991   \n3           Gina Bari Kolata                1999   \n4            E. J. W. Barber                1999   \n...                      ...                 ...   \n271355        Paula Danziger                1988   \n271356            Teri Sloat                1991   \n271357      Christine Wicker                2004   \n271358                 Plato                1996   \n271359   Christopher  Biffle                2000   \n\n                                               Publisher  \\\n0                                Oxford University Press   \n1                                  HarperFlamingo Canada   \n2                                        HarperPerennial   \n3                                   Farrar Straus Giroux   \n4                             W. W. Norton &amp; Company   \n...                                                  ...   \n271355                   Random House Childrens Pub (Mm)   \n271356                                      Dutton Books   \n271357                                HarperSanFrancisco   \n271358                           Oxford University Press   \n271359  McGraw-Hill Humanities/Social Sciences/Languages   \n\n                                              Image-URL-S  \\\n0       http://images.amazon.com/images/P/0195153448.0...   \n1       http://images.amazon.com/images/P/0002005018.0...   \n2       http://images.amazon.com/images/P/0060973129.0...   \n3       http://images.amazon.com/images/P/0374157065.0...   \n4       http://images.amazon.com/images/P/0393045218.0...   \n...                                                   ...   \n271355  http://images.amazon.com/images/P/0440400988.0...   \n271356  http://images.amazon.com/images/P/0525447644.0...   \n271357  http://images.amazon.com/images/P/006008667X.0...   \n271358  http://images.amazon.com/images/P/0192126040.0...   \n271359  http://images.amazon.com/images/P/0767409752.0...   \n\n                                              Image-URL-M  \\\n0       http://images.amazon.com/images/P/0195153448.0...   \n1       http://images.amazon.com/images/P/0002005018.0...   \n2       http://images.amazon.com/images/P/0060973129.0...   \n3       http://images.amazon.com/images/P/0374157065.0...   \n4       http://images.amazon.com/images/P/0393045218.0...   \n...                                                   ...   \n271355  http://images.amazon.com/images/P/0440400988.0...   \n271356  http://images.amazon.com/images/P/0525447644.0...   \n271357  http://images.amazon.com/images/P/006008667X.0...   \n271358  http://images.amazon.com/images/P/0192126040.0...   \n271359  http://images.amazon.com/images/P/0767409752.0...   \n\n                                              Image-URL-L  \n0       http://images.amazon.com/images/P/0195153448.0...  \n1       http://images.amazon.com/images/P/0002005018.0...  \n2       http://images.amazon.com/images/P/0060973129.0...  \n3       http://images.amazon.com/images/P/0374157065.0...  \n4       http://images.amazon.com/images/P/0393045218.0...  \n...                                                   ...  \n271355  http://images.amazon.com/images/P/0440400988.0...  \n271356  http://images.amazon.com/images/P/0525447644.0...  \n271357  http://images.amazon.com/images/P/006008667X.0...  \n271358  http://images.amazon.com/images/P/0192126040.0...  \n271359  http://images.amazon.com/images/P/0767409752.0...  \n\n[271360 rows x 8 columns]",
      "text/html": "<div>\n<style scoped>\n    .dataframe tbody tr th:only-of-type {\n        vertical-align: middle;\n    }\n\n    .dataframe tbody tr th {\n        vertical-align: top;\n    }\n\n    .dataframe thead th {\n        text-align: right;\n    }\n</style>\n<table border=\"1\" class=\"dataframe\">\n  <thead>\n    <tr style=\"text-align: right;\">\n      <th></th>\n      <th>ISBN</th>\n      <th>Book-Title</th>\n      <th>Book-Author</th>\n      <th>Year-Of-Publication</th>\n      <th>Publisher</th>\n      <th>Image-URL-S</th>\n      <th>Image-URL-M</th>\n      <th>Image-URL-L</th>\n    </tr>\n  </thead>\n  <tbody>\n    <tr>\n      <th>0</th>\n      <td>0195153448</td>\n      <td>Classical Mythology</td>\n      <td>Mark P. O. Morford</td>\n      <td>2002</td>\n      <td>Oxford University Press</td>\n      <td>http://images.amazon.com/images/P/0195153448.0...</td>\n      <td>http://images.amazon.com/images/P/0195153448.0...</td>\n      <td>http://images.amazon.com/images/P/0195153448.0...</td>\n    </tr>\n    <tr>\n      <th>1</th>\n      <td>0002005018</td>\n      <td>Clara Callan</td>\n      <td>Richard Bruce Wright</td>\n      <td>2001</td>\n      <td>HarperFlamingo Canada</td>\n      <td>http://images.amazon.com/images/P/0002005018.0...</td>\n      <td>http://images.amazon.com/images/P/0002005018.0...</td>\n      <td>http://images.amazon.com/images/P/0002005018.0...</td>\n    </tr>\n    <tr>\n      <th>2</th>\n      <td>0060973129</td>\n      <td>Decision in Normandy</td>\n      <td>Carlo D'Este</td>\n      <td>1991</td>\n      <td>HarperPerennial</td>\n      <td>http://images.amazon.com/images/P/0060973129.0...</td>\n      <td>http://images.amazon.com/images/P/0060973129.0...</td>\n      <td>http://images.amazon.com/images/P/0060973129.0...</td>\n    </tr>\n    <tr>\n      <th>3</th>\n      <td>0374157065</td>\n      <td>Flu: The Story of the Great Influenza Pandemic...</td>\n      <td>Gina Bari Kolata</td>\n      <td>1999</td>\n      <td>Farrar Straus Giroux</td>\n      <td>http://images.amazon.com/images/P/0374157065.0...</td>\n      <td>http://images.amazon.com/images/P/0374157065.0...</td>\n      <td>http://images.amazon.com/images/P/0374157065.0...</td>\n    </tr>\n    <tr>\n      <th>4</th>\n      <td>0393045218</td>\n      <td>The Mummies of Urumchi</td>\n      <td>E. J. W. Barber</td>\n      <td>1999</td>\n      <td>W. W. Norton &amp;amp; Company</td>\n      <td>http://images.amazon.com/images/P/0393045218.0...</td>\n      <td>http://images.amazon.com/images/P/0393045218.0...</td>\n      <td>http://images.amazon.com/images/P/0393045218.0...</td>\n    </tr>\n    <tr>\n      <th>...</th>\n      <td>...</td>\n      <td>...</td>\n      <td>...</td>\n      <td>...</td>\n      <td>...</td>\n      <td>...</td>\n      <td>...</td>\n      <td>...</td>\n    </tr>\n    <tr>\n      <th>271355</th>\n      <td>0440400988</td>\n      <td>There's a Bat in Bunk Five</td>\n      <td>Paula Danziger</td>\n      <td>1988</td>\n      <td>Random House Childrens Pub (Mm)</td>\n      <td>http://images.amazon.com/images/P/0440400988.0...</td>\n      <td>http://images.amazon.com/images/P/0440400988.0...</td>\n      <td>http://images.amazon.com/images/P/0440400988.0...</td>\n    </tr>\n    <tr>\n      <th>271356</th>\n      <td>0525447644</td>\n      <td>From One to One Hundred</td>\n      <td>Teri Sloat</td>\n      <td>1991</td>\n      <td>Dutton Books</td>\n      <td>http://images.amazon.com/images/P/0525447644.0...</td>\n      <td>http://images.amazon.com/images/P/0525447644.0...</td>\n      <td>http://images.amazon.com/images/P/0525447644.0...</td>\n    </tr>\n    <tr>\n      <th>271357</th>\n      <td>006008667X</td>\n      <td>Lily Dale : The True Story of the Town that Ta...</td>\n      <td>Christine Wicker</td>\n      <td>2004</td>\n      <td>HarperSanFrancisco</td>\n      <td>http://images.amazon.com/images/P/006008667X.0...</td>\n      <td>http://images.amazon.com/images/P/006008667X.0...</td>\n      <td>http://images.amazon.com/images/P/006008667X.0...</td>\n    </tr>\n    <tr>\n      <th>271358</th>\n      <td>0192126040</td>\n      <td>Republic (World's Classics)</td>\n      <td>Plato</td>\n      <td>1996</td>\n      <td>Oxford University Press</td>\n      <td>http://images.amazon.com/images/P/0192126040.0...</td>\n      <td>http://images.amazon.com/images/P/0192126040.0...</td>\n      <td>http://images.amazon.com/images/P/0192126040.0...</td>\n    </tr>\n    <tr>\n      <th>271359</th>\n      <td>0767409752</td>\n      <td>A Guided Tour of Rene Descartes' Meditations o...</td>\n      <td>Christopher  Biffle</td>\n      <td>2000</td>\n      <td>McGraw-Hill Humanities/Social Sciences/Languages</td>\n      <td>http://images.amazon.com/images/P/0767409752.0...</td>\n      <td>http://images.amazon.com/images/P/0767409752.0...</td>\n      <td>http://images.amazon.com/images/P/0767409752.0...</td>\n    </tr>\n  </tbody>\n</table>\n<p>271360 rows × 8 columns</p>\n</div>"
     },
     "execution_count": 6,
     "metadata": {},
     "output_type": "execute_result"
    }
   ],
   "source": [
    "books"
   ],
   "metadata": {
    "collapsed": false,
    "ExecuteTime": {
     "end_time": "2023-11-01T03:12:25.019808Z",
     "start_time": "2023-11-01T03:12:25.008679Z"
    }
   },
   "id": "7e1ad6c0029624a9"
  },
  {
   "cell_type": "code",
   "execution_count": 8,
   "outputs": [
    {
     "data": {
      "text/plain": "        User-ID                            Location   Age\n0             1                  nyc, new york, usa   NaN\n1             2           stockton, california, usa  18.0\n2             3     moscow, yukon territory, russia   NaN\n3             4           porto, v.n.gaia, portugal  17.0\n4             5  farnborough, hants, united kingdom   NaN\n...         ...                                 ...   ...\n278853   278854               portland, oregon, usa   NaN\n278854   278855  tacoma, washington, united kingdom  50.0\n278855   278856           brampton, ontario, canada   NaN\n278856   278857           knoxville, tennessee, usa   NaN\n278857   278858                dublin, n/a, ireland   NaN\n\n[278858 rows x 3 columns]",
      "text/html": "<div>\n<style scoped>\n    .dataframe tbody tr th:only-of-type {\n        vertical-align: middle;\n    }\n\n    .dataframe tbody tr th {\n        vertical-align: top;\n    }\n\n    .dataframe thead th {\n        text-align: right;\n    }\n</style>\n<table border=\"1\" class=\"dataframe\">\n  <thead>\n    <tr style=\"text-align: right;\">\n      <th></th>\n      <th>User-ID</th>\n      <th>Location</th>\n      <th>Age</th>\n    </tr>\n  </thead>\n  <tbody>\n    <tr>\n      <th>0</th>\n      <td>1</td>\n      <td>nyc, new york, usa</td>\n      <td>NaN</td>\n    </tr>\n    <tr>\n      <th>1</th>\n      <td>2</td>\n      <td>stockton, california, usa</td>\n      <td>18.0</td>\n    </tr>\n    <tr>\n      <th>2</th>\n      <td>3</td>\n      <td>moscow, yukon territory, russia</td>\n      <td>NaN</td>\n    </tr>\n    <tr>\n      <th>3</th>\n      <td>4</td>\n      <td>porto, v.n.gaia, portugal</td>\n      <td>17.0</td>\n    </tr>\n    <tr>\n      <th>4</th>\n      <td>5</td>\n      <td>farnborough, hants, united kingdom</td>\n      <td>NaN</td>\n    </tr>\n    <tr>\n      <th>...</th>\n      <td>...</td>\n      <td>...</td>\n      <td>...</td>\n    </tr>\n    <tr>\n      <th>278853</th>\n      <td>278854</td>\n      <td>portland, oregon, usa</td>\n      <td>NaN</td>\n    </tr>\n    <tr>\n      <th>278854</th>\n      <td>278855</td>\n      <td>tacoma, washington, united kingdom</td>\n      <td>50.0</td>\n    </tr>\n    <tr>\n      <th>278855</th>\n      <td>278856</td>\n      <td>brampton, ontario, canada</td>\n      <td>NaN</td>\n    </tr>\n    <tr>\n      <th>278856</th>\n      <td>278857</td>\n      <td>knoxville, tennessee, usa</td>\n      <td>NaN</td>\n    </tr>\n    <tr>\n      <th>278857</th>\n      <td>278858</td>\n      <td>dublin, n/a, ireland</td>\n      <td>NaN</td>\n    </tr>\n  </tbody>\n</table>\n<p>278858 rows × 3 columns</p>\n</div>"
     },
     "execution_count": 8,
     "metadata": {},
     "output_type": "execute_result"
    }
   ],
   "source": [
    "users"
   ],
   "metadata": {
    "collapsed": false,
    "ExecuteTime": {
     "end_time": "2023-11-01T03:12:42.377209Z",
     "start_time": "2023-11-01T03:12:42.369904Z"
    }
   },
   "id": "29a32dfe3c590486"
  },
  {
   "cell_type": "code",
   "execution_count": 9,
   "outputs": [
    {
     "data": {
      "text/plain": "         User-ID         ISBN  Book-Rating\n0         276725   034545104X            0\n1         276726   0155061224            5\n2         276727   0446520802            0\n3         276729   052165615X            3\n4         276729   0521795028            6\n...          ...          ...          ...\n1149775   276704   1563526298            9\n1149776   276706   0679447156            0\n1149777   276709   0515107662           10\n1149778   276721   0590442449           10\n1149779   276723  05162443314            8\n\n[1149780 rows x 3 columns]",
      "text/html": "<div>\n<style scoped>\n    .dataframe tbody tr th:only-of-type {\n        vertical-align: middle;\n    }\n\n    .dataframe tbody tr th {\n        vertical-align: top;\n    }\n\n    .dataframe thead th {\n        text-align: right;\n    }\n</style>\n<table border=\"1\" class=\"dataframe\">\n  <thead>\n    <tr style=\"text-align: right;\">\n      <th></th>\n      <th>User-ID</th>\n      <th>ISBN</th>\n      <th>Book-Rating</th>\n    </tr>\n  </thead>\n  <tbody>\n    <tr>\n      <th>0</th>\n      <td>276725</td>\n      <td>034545104X</td>\n      <td>0</td>\n    </tr>\n    <tr>\n      <th>1</th>\n      <td>276726</td>\n      <td>0155061224</td>\n      <td>5</td>\n    </tr>\n    <tr>\n      <th>2</th>\n      <td>276727</td>\n      <td>0446520802</td>\n      <td>0</td>\n    </tr>\n    <tr>\n      <th>3</th>\n      <td>276729</td>\n      <td>052165615X</td>\n      <td>3</td>\n    </tr>\n    <tr>\n      <th>4</th>\n      <td>276729</td>\n      <td>0521795028</td>\n      <td>6</td>\n    </tr>\n    <tr>\n      <th>...</th>\n      <td>...</td>\n      <td>...</td>\n      <td>...</td>\n    </tr>\n    <tr>\n      <th>1149775</th>\n      <td>276704</td>\n      <td>1563526298</td>\n      <td>9</td>\n    </tr>\n    <tr>\n      <th>1149776</th>\n      <td>276706</td>\n      <td>0679447156</td>\n      <td>0</td>\n    </tr>\n    <tr>\n      <th>1149777</th>\n      <td>276709</td>\n      <td>0515107662</td>\n      <td>10</td>\n    </tr>\n    <tr>\n      <th>1149778</th>\n      <td>276721</td>\n      <td>0590442449</td>\n      <td>10</td>\n    </tr>\n    <tr>\n      <th>1149779</th>\n      <td>276723</td>\n      <td>05162443314</td>\n      <td>8</td>\n    </tr>\n  </tbody>\n</table>\n<p>1149780 rows × 3 columns</p>\n</div>"
     },
     "execution_count": 9,
     "metadata": {},
     "output_type": "execute_result"
    }
   ],
   "source": [
    "ratings"
   ],
   "metadata": {
    "collapsed": false,
    "ExecuteTime": {
     "end_time": "2023-11-01T03:12:50.683955Z",
     "start_time": "2023-11-01T03:12:50.665868Z"
    }
   },
   "id": "d8d1d2ef4f507995"
  },
  {
   "cell_type": "code",
   "execution_count": 11,
   "outputs": [
    {
     "data": {
      "text/plain": "array([ 0,  5,  3,  6,  8,  7, 10,  9,  4,  1,  2])"
     },
     "execution_count": 11,
     "metadata": {},
     "output_type": "execute_result"
    }
   ],
   "source": [
    "ratings['Book-Rating'].unique()"
   ],
   "metadata": {
    "collapsed": false,
    "ExecuteTime": {
     "end_time": "2023-11-01T03:14:24.792965Z",
     "start_time": "2023-11-01T03:14:24.785240Z"
    }
   },
   "id": "5e6f5eacea7b52ac"
  },
  {
   "cell_type": "code",
   "execution_count": 13,
   "outputs": [],
   "source": [
    "# Preprocess the data\n",
    "ratings = ratings.merge(books[['ISBN', 'Book-Title']], on='ISBN')"
   ],
   "metadata": {
    "collapsed": false,
    "ExecuteTime": {
     "end_time": "2023-11-01T03:26:17.809238Z",
     "start_time": "2023-11-01T03:26:17.433779Z"
    }
   },
   "id": "e9ea3eb38e53f7e1"
  },
  {
   "cell_type": "code",
   "execution_count": 14,
   "outputs": [
    {
     "data": {
      "text/plain": "         User-ID        ISBN  Book-Rating  \\\n0         276725  034545104X            0   \n1           2313  034545104X            5   \n2           6543  034545104X            0   \n3           8680  034545104X            5   \n4          10314  034545104X            9   \n...          ...         ...          ...   \n1031131   276688  0517145553            0   \n1031132   276688  1575660792            7   \n1031133   276690  0590907301            0   \n1031134   276704  0679752714            0   \n1031135   276704  0806917695            5   \n\n                                                Book-Title  \n0                                     Flesh Tones: A Novel  \n1                                     Flesh Tones: A Novel  \n2                                     Flesh Tones: A Novel  \n3                                     Flesh Tones: A Novel  \n4                                     Flesh Tones: A Novel  \n...                                                    ...  \n1031131                                    Mostly Harmless  \n1031132                                        Gray Matter  \n1031133  Triplet Trouble and the Class Trip (Triplet Tr...  \n1031134  A Desert of Pure Feeling (Vintage Contemporaries)  \n1031135  Perplexing Lateral Thinking Puzzles: Scholasti...  \n\n[1031136 rows x 4 columns]",
      "text/html": "<div>\n<style scoped>\n    .dataframe tbody tr th:only-of-type {\n        vertical-align: middle;\n    }\n\n    .dataframe tbody tr th {\n        vertical-align: top;\n    }\n\n    .dataframe thead th {\n        text-align: right;\n    }\n</style>\n<table border=\"1\" class=\"dataframe\">\n  <thead>\n    <tr style=\"text-align: right;\">\n      <th></th>\n      <th>User-ID</th>\n      <th>ISBN</th>\n      <th>Book-Rating</th>\n      <th>Book-Title</th>\n    </tr>\n  </thead>\n  <tbody>\n    <tr>\n      <th>0</th>\n      <td>276725</td>\n      <td>034545104X</td>\n      <td>0</td>\n      <td>Flesh Tones: A Novel</td>\n    </tr>\n    <tr>\n      <th>1</th>\n      <td>2313</td>\n      <td>034545104X</td>\n      <td>5</td>\n      <td>Flesh Tones: A Novel</td>\n    </tr>\n    <tr>\n      <th>2</th>\n      <td>6543</td>\n      <td>034545104X</td>\n      <td>0</td>\n      <td>Flesh Tones: A Novel</td>\n    </tr>\n    <tr>\n      <th>3</th>\n      <td>8680</td>\n      <td>034545104X</td>\n      <td>5</td>\n      <td>Flesh Tones: A Novel</td>\n    </tr>\n    <tr>\n      <th>4</th>\n      <td>10314</td>\n      <td>034545104X</td>\n      <td>9</td>\n      <td>Flesh Tones: A Novel</td>\n    </tr>\n    <tr>\n      <th>...</th>\n      <td>...</td>\n      <td>...</td>\n      <td>...</td>\n      <td>...</td>\n    </tr>\n    <tr>\n      <th>1031131</th>\n      <td>276688</td>\n      <td>0517145553</td>\n      <td>0</td>\n      <td>Mostly Harmless</td>\n    </tr>\n    <tr>\n      <th>1031132</th>\n      <td>276688</td>\n      <td>1575660792</td>\n      <td>7</td>\n      <td>Gray Matter</td>\n    </tr>\n    <tr>\n      <th>1031133</th>\n      <td>276690</td>\n      <td>0590907301</td>\n      <td>0</td>\n      <td>Triplet Trouble and the Class Trip (Triplet Tr...</td>\n    </tr>\n    <tr>\n      <th>1031134</th>\n      <td>276704</td>\n      <td>0679752714</td>\n      <td>0</td>\n      <td>A Desert of Pure Feeling (Vintage Contemporaries)</td>\n    </tr>\n    <tr>\n      <th>1031135</th>\n      <td>276704</td>\n      <td>0806917695</td>\n      <td>5</td>\n      <td>Perplexing Lateral Thinking Puzzles: Scholasti...</td>\n    </tr>\n  </tbody>\n</table>\n<p>1031136 rows × 4 columns</p>\n</div>"
     },
     "execution_count": 14,
     "metadata": {},
     "output_type": "execute_result"
    }
   ],
   "source": [
    "ratings"
   ],
   "metadata": {
    "collapsed": false,
    "ExecuteTime": {
     "end_time": "2023-11-01T03:26:20.575234Z",
     "start_time": "2023-11-01T03:26:20.568046Z"
    }
   },
   "id": "848b8e4d87eeb941"
  },
  {
   "cell_type": "code",
   "execution_count": 15,
   "outputs": [],
   "source": [
    "ratings = ratings.drop(['ISBN'], axis=1)"
   ],
   "metadata": {
    "collapsed": false,
    "ExecuteTime": {
     "end_time": "2023-11-01T03:30:51.493016Z",
     "start_time": "2023-11-01T03:30:51.473410Z"
    }
   },
   "id": "6d3320d716f29732"
  },
  {
   "cell_type": "code",
   "execution_count": 16,
   "outputs": [
    {
     "data": {
      "text/plain": "         User-ID  Book-Rating  \\\n0         276725            0   \n1           2313            5   \n2           6543            0   \n3           8680            5   \n4          10314            9   \n...          ...          ...   \n1031131   276688            0   \n1031132   276688            7   \n1031133   276690            0   \n1031134   276704            0   \n1031135   276704            5   \n\n                                                Book-Title  \n0                                     Flesh Tones: A Novel  \n1                                     Flesh Tones: A Novel  \n2                                     Flesh Tones: A Novel  \n3                                     Flesh Tones: A Novel  \n4                                     Flesh Tones: A Novel  \n...                                                    ...  \n1031131                                    Mostly Harmless  \n1031132                                        Gray Matter  \n1031133  Triplet Trouble and the Class Trip (Triplet Tr...  \n1031134  A Desert of Pure Feeling (Vintage Contemporaries)  \n1031135  Perplexing Lateral Thinking Puzzles: Scholasti...  \n\n[1031136 rows x 3 columns]",
      "text/html": "<div>\n<style scoped>\n    .dataframe tbody tr th:only-of-type {\n        vertical-align: middle;\n    }\n\n    .dataframe tbody tr th {\n        vertical-align: top;\n    }\n\n    .dataframe thead th {\n        text-align: right;\n    }\n</style>\n<table border=\"1\" class=\"dataframe\">\n  <thead>\n    <tr style=\"text-align: right;\">\n      <th></th>\n      <th>User-ID</th>\n      <th>Book-Rating</th>\n      <th>Book-Title</th>\n    </tr>\n  </thead>\n  <tbody>\n    <tr>\n      <th>0</th>\n      <td>276725</td>\n      <td>0</td>\n      <td>Flesh Tones: A Novel</td>\n    </tr>\n    <tr>\n      <th>1</th>\n      <td>2313</td>\n      <td>5</td>\n      <td>Flesh Tones: A Novel</td>\n    </tr>\n    <tr>\n      <th>2</th>\n      <td>6543</td>\n      <td>0</td>\n      <td>Flesh Tones: A Novel</td>\n    </tr>\n    <tr>\n      <th>3</th>\n      <td>8680</td>\n      <td>5</td>\n      <td>Flesh Tones: A Novel</td>\n    </tr>\n    <tr>\n      <th>4</th>\n      <td>10314</td>\n      <td>9</td>\n      <td>Flesh Tones: A Novel</td>\n    </tr>\n    <tr>\n      <th>...</th>\n      <td>...</td>\n      <td>...</td>\n      <td>...</td>\n    </tr>\n    <tr>\n      <th>1031131</th>\n      <td>276688</td>\n      <td>0</td>\n      <td>Mostly Harmless</td>\n    </tr>\n    <tr>\n      <th>1031132</th>\n      <td>276688</td>\n      <td>7</td>\n      <td>Gray Matter</td>\n    </tr>\n    <tr>\n      <th>1031133</th>\n      <td>276690</td>\n      <td>0</td>\n      <td>Triplet Trouble and the Class Trip (Triplet Tr...</td>\n    </tr>\n    <tr>\n      <th>1031134</th>\n      <td>276704</td>\n      <td>0</td>\n      <td>A Desert of Pure Feeling (Vintage Contemporaries)</td>\n    </tr>\n    <tr>\n      <th>1031135</th>\n      <td>276704</td>\n      <td>5</td>\n      <td>Perplexing Lateral Thinking Puzzles: Scholasti...</td>\n    </tr>\n  </tbody>\n</table>\n<p>1031136 rows × 3 columns</p>\n</div>"
     },
     "execution_count": 16,
     "metadata": {},
     "output_type": "execute_result"
    }
   ],
   "source": [
    "ratings"
   ],
   "metadata": {
    "collapsed": false,
    "ExecuteTime": {
     "end_time": "2023-11-01T03:30:54.447306Z",
     "start_time": "2023-11-01T03:30:54.430905Z"
    }
   },
   "id": "b4100fb5280b03e"
  },
  {
   "cell_type": "code",
   "execution_count": 17,
   "outputs": [],
   "source": [
    "# Filter books with at least min_book_ratings ratings\n",
    "min_book_ratings = 10\n",
    "book_rating_counts = ratings['Book-Title'].value_counts()"
   ],
   "metadata": {
    "collapsed": false,
    "ExecuteTime": {
     "end_time": "2023-11-01T03:31:54.106593Z",
     "start_time": "2023-11-01T03:31:54.094372Z"
    }
   },
   "id": "90b45088e33cf48a"
  },
  {
   "cell_type": "code",
   "execution_count": 18,
   "outputs": [
    {
     "data": {
      "text/plain": "Wild Animus                                                                   2502\nThe Lovely Bones: A Novel                                                     1295\nThe Da Vinci Code                                                              898\nA Painted House                                                                838\nThe Nanny Diaries: A Novel                                                     828\n                                                                              ... \nAsphyxie                                                                         1\nMarathon : The Ultimate Training Guide                                           1\nPearl Jam and Eddie Vedder: None Too Fragile                                     1\nMilk It!: Collected Musings on the Alternative Music Explosion of the '90s       1\nPerplexing Lateral Thinking Puzzles: Scholastic Edition                          1\nName: Book-Title, Length: 241071, dtype: int64"
     },
     "execution_count": 18,
     "metadata": {},
     "output_type": "execute_result"
    }
   ],
   "source": [
    "book_rating_counts"
   ],
   "metadata": {
    "collapsed": false,
    "ExecuteTime": {
     "end_time": "2023-11-01T03:31:55.762650Z",
     "start_time": "2023-11-01T03:31:55.758205Z"
    }
   },
   "id": "f1b3314effb8c840"
  },
  {
   "cell_type": "code",
   "execution_count": 19,
   "outputs": [],
   "source": [
    "filtered_books = book_rating_counts[book_rating_counts >= min_book_ratings].index"
   ],
   "metadata": {
    "collapsed": false,
    "ExecuteTime": {
     "end_time": "2023-11-01T03:32:47.793357Z",
     "start_time": "2023-11-01T03:32:47.777773Z"
    }
   },
   "id": "fba1a91c7badd33"
  },
  {
   "cell_type": "code",
   "execution_count": 20,
   "outputs": [
    {
     "data": {
      "text/plain": "Index(['Wild Animus', 'The Lovely Bones: A Novel', 'The Da Vinci Code',\n       'A Painted House', 'The Nanny Diaries: A Novel',\n       'Bridget Jones's Diary', 'The Secret Life of Bees',\n       'Divine Secrets of the Ya-Ya Sisterhood: A Novel',\n       'The Red Tent (Bestselling Backlist)', 'Angels &amp; Demons',\n       ...\n       'Compulsion', 'The Spectator Bird (Contemporary American Fiction)',\n       'The Deadliest Game (Tom Clancy's Net Force; Young Adult)',\n       'More Tales to Give You Goosebumps: Ten Spooky Stories (Goosebumps Special Edition, No 2)',\n       'A Man Rides Through (Mordant's Need, Vol 2)',\n       'When the Elephants Dance',\n       'Of Mice and Men/Cannery Row (2 Books in 1)',\n       'What to Say When You Talk to Your Self', 'The Invisible Ring',\n       'Chicken Soup for the Christian Soul (Chicken Soup for the Soul)'],\n      dtype='object', length=17447)"
     },
     "execution_count": 20,
     "metadata": {},
     "output_type": "execute_result"
    }
   ],
   "source": [
    "filtered_books"
   ],
   "metadata": {
    "collapsed": false,
    "ExecuteTime": {
     "end_time": "2023-11-01T03:32:49.457673Z",
     "start_time": "2023-11-01T03:32:49.450513Z"
    }
   },
   "id": "4e6e101aa2a85c27"
  },
  {
   "cell_type": "code",
   "execution_count": 21,
   "outputs": [],
   "source": [
    "ratings = ratings[ratings['Book-Title'].isin(filtered_books)]"
   ],
   "metadata": {
    "collapsed": false,
    "ExecuteTime": {
     "end_time": "2023-11-01T03:33:04.653937Z",
     "start_time": "2023-11-01T03:33:04.635210Z"
    }
   },
   "id": "9ca56fd9ca97143c"
  },
  {
   "cell_type": "code",
   "execution_count": 22,
   "outputs": [
    {
     "data": {
      "text/plain": "         User-ID  Book-Rating                          Book-Title\n0         276725            0                Flesh Tones: A Novel\n1           2313            5                Flesh Tones: A Novel\n2           6543            0                Flesh Tones: A Novel\n3           8680            5                Flesh Tones: A Novel\n4          10314            9                Flesh Tones: A Novel\n...          ...          ...                                 ...\n1031125   276688            0                        Coyote Waits\n1031126   276688            0                       Sacred Clowns\n1031128   276688            0  Mrs. Pollifax and the Second Thief\n1031131   276688            0                     Mostly Harmless\n1031132   276688            7                         Gray Matter\n\n[572609 rows x 3 columns]",
      "text/html": "<div>\n<style scoped>\n    .dataframe tbody tr th:only-of-type {\n        vertical-align: middle;\n    }\n\n    .dataframe tbody tr th {\n        vertical-align: top;\n    }\n\n    .dataframe thead th {\n        text-align: right;\n    }\n</style>\n<table border=\"1\" class=\"dataframe\">\n  <thead>\n    <tr style=\"text-align: right;\">\n      <th></th>\n      <th>User-ID</th>\n      <th>Book-Rating</th>\n      <th>Book-Title</th>\n    </tr>\n  </thead>\n  <tbody>\n    <tr>\n      <th>0</th>\n      <td>276725</td>\n      <td>0</td>\n      <td>Flesh Tones: A Novel</td>\n    </tr>\n    <tr>\n      <th>1</th>\n      <td>2313</td>\n      <td>5</td>\n      <td>Flesh Tones: A Novel</td>\n    </tr>\n    <tr>\n      <th>2</th>\n      <td>6543</td>\n      <td>0</td>\n      <td>Flesh Tones: A Novel</td>\n    </tr>\n    <tr>\n      <th>3</th>\n      <td>8680</td>\n      <td>5</td>\n      <td>Flesh Tones: A Novel</td>\n    </tr>\n    <tr>\n      <th>4</th>\n      <td>10314</td>\n      <td>9</td>\n      <td>Flesh Tones: A Novel</td>\n    </tr>\n    <tr>\n      <th>...</th>\n      <td>...</td>\n      <td>...</td>\n      <td>...</td>\n    </tr>\n    <tr>\n      <th>1031125</th>\n      <td>276688</td>\n      <td>0</td>\n      <td>Coyote Waits</td>\n    </tr>\n    <tr>\n      <th>1031126</th>\n      <td>276688</td>\n      <td>0</td>\n      <td>Sacred Clowns</td>\n    </tr>\n    <tr>\n      <th>1031128</th>\n      <td>276688</td>\n      <td>0</td>\n      <td>Mrs. Pollifax and the Second Thief</td>\n    </tr>\n    <tr>\n      <th>1031131</th>\n      <td>276688</td>\n      <td>0</td>\n      <td>Mostly Harmless</td>\n    </tr>\n    <tr>\n      <th>1031132</th>\n      <td>276688</td>\n      <td>7</td>\n      <td>Gray Matter</td>\n    </tr>\n  </tbody>\n</table>\n<p>572609 rows × 3 columns</p>\n</div>"
     },
     "execution_count": 22,
     "metadata": {},
     "output_type": "execute_result"
    }
   ],
   "source": [
    "ratings"
   ],
   "metadata": {
    "collapsed": false,
    "ExecuteTime": {
     "end_time": "2023-11-01T03:33:07.639853Z",
     "start_time": "2023-11-01T03:33:07.621558Z"
    }
   },
   "id": "e294c938a01a14ee"
  },
  {
   "cell_type": "code",
   "execution_count": 23,
   "outputs": [
    {
     "data": {
      "text/plain": "User-ID        572609\nBook-Rating    572609\nBook-Title     572609\ndtype: int64"
     },
     "execution_count": 23,
     "metadata": {},
     "output_type": "execute_result"
    }
   ],
   "source": [
    "ratings.count()"
   ],
   "metadata": {
    "collapsed": false,
    "ExecuteTime": {
     "end_time": "2023-11-01T03:33:15.889087Z",
     "start_time": "2023-11-01T03:33:15.845969Z"
    }
   },
   "id": "75528357c9143ad4"
  },
  {
   "cell_type": "code",
   "execution_count": 25,
   "outputs": [],
   "source": [
    "# Filter users with at least min_user_ratings ratings\n",
    "min_user_ratings = 5\n",
    "user_rating_counts = ratings['User-ID'].value_counts()"
   ],
   "metadata": {
    "collapsed": false,
    "ExecuteTime": {
     "end_time": "2023-11-01T03:33:58.047843Z",
     "start_time": "2023-11-01T03:33:58.031273Z"
    }
   },
   "id": "900e3e64f7b1dd8c"
  },
  {
   "cell_type": "code",
   "execution_count": 26,
   "outputs": [
    {
     "data": {
      "text/plain": "11676     5827\n35859     2741\n153662    2409\n76352     2132\n198711    1837\n          ... \n113200       1\n125376       1\n234534       1\n362          1\n276556       1\nName: User-ID, Length: 68518, dtype: int64"
     },
     "execution_count": 26,
     "metadata": {},
     "output_type": "execute_result"
    }
   ],
   "source": [
    "user_rating_counts"
   ],
   "metadata": {
    "collapsed": false,
    "ExecuteTime": {
     "end_time": "2023-11-01T03:33:59.753764Z",
     "start_time": "2023-11-01T03:33:59.745435Z"
    }
   },
   "id": "74be6c8d96e1a294"
  },
  {
   "cell_type": "code",
   "execution_count": 27,
   "outputs": [],
   "source": [
    "filtered_users = user_rating_counts[user_rating_counts >= min_user_ratings].index"
   ],
   "metadata": {
    "collapsed": false,
    "ExecuteTime": {
     "end_time": "2023-11-01T03:34:41.438247Z",
     "start_time": "2023-11-01T03:34:41.428894Z"
    }
   },
   "id": "3368a922e68c8e9f"
  },
  {
   "cell_type": "code",
   "execution_count": 28,
   "outputs": [
    {
     "data": {
      "text/plain": "Int64Index([ 11676,  35859, 153662,  76352, 198711,  16795, 204864,  98391,\n            102967,  55492,\n            ...\n              5416, 128821, 227837,  60419,   3079, 276681, 104141, 130939,\n            131057, 274418],\n           dtype='int64', length=14322)"
     },
     "execution_count": 28,
     "metadata": {},
     "output_type": "execute_result"
    }
   ],
   "source": [
    "filtered_users"
   ],
   "metadata": {
    "collapsed": false,
    "ExecuteTime": {
     "end_time": "2023-11-01T03:34:42.937555Z",
     "start_time": "2023-11-01T03:34:42.914389Z"
    }
   },
   "id": "8f7df699573fe50d"
  },
  {
   "cell_type": "code",
   "execution_count": 29,
   "outputs": [],
   "source": [
    "ratings = ratings[ratings['User-ID'].isin(filtered_users)]"
   ],
   "metadata": {
    "collapsed": false,
    "ExecuteTime": {
     "end_time": "2023-11-01T03:35:00.723036Z",
     "start_time": "2023-11-01T03:35:00.703383Z"
    }
   },
   "id": "7c986831c7a898d7"
  },
  {
   "cell_type": "code",
   "execution_count": 30,
   "outputs": [
    {
     "data": {
      "text/plain": "         User-ID  Book-Rating                          Book-Title\n1           2313            5                Flesh Tones: A Novel\n2           6543            0                Flesh Tones: A Novel\n3           8680            5                Flesh Tones: A Novel\n4          10314            9                Flesh Tones: A Novel\n5          23768            0                Flesh Tones: A Novel\n...          ...          ...                                 ...\n1031125   276688            0                        Coyote Waits\n1031126   276688            0                       Sacred Clowns\n1031128   276688            0  Mrs. Pollifax and the Second Thief\n1031131   276688            0                     Mostly Harmless\n1031132   276688            7                         Gray Matter\n\n[491897 rows x 3 columns]",
      "text/html": "<div>\n<style scoped>\n    .dataframe tbody tr th:only-of-type {\n        vertical-align: middle;\n    }\n\n    .dataframe tbody tr th {\n        vertical-align: top;\n    }\n\n    .dataframe thead th {\n        text-align: right;\n    }\n</style>\n<table border=\"1\" class=\"dataframe\">\n  <thead>\n    <tr style=\"text-align: right;\">\n      <th></th>\n      <th>User-ID</th>\n      <th>Book-Rating</th>\n      <th>Book-Title</th>\n    </tr>\n  </thead>\n  <tbody>\n    <tr>\n      <th>1</th>\n      <td>2313</td>\n      <td>5</td>\n      <td>Flesh Tones: A Novel</td>\n    </tr>\n    <tr>\n      <th>2</th>\n      <td>6543</td>\n      <td>0</td>\n      <td>Flesh Tones: A Novel</td>\n    </tr>\n    <tr>\n      <th>3</th>\n      <td>8680</td>\n      <td>5</td>\n      <td>Flesh Tones: A Novel</td>\n    </tr>\n    <tr>\n      <th>4</th>\n      <td>10314</td>\n      <td>9</td>\n      <td>Flesh Tones: A Novel</td>\n    </tr>\n    <tr>\n      <th>5</th>\n      <td>23768</td>\n      <td>0</td>\n      <td>Flesh Tones: A Novel</td>\n    </tr>\n    <tr>\n      <th>...</th>\n      <td>...</td>\n      <td>...</td>\n      <td>...</td>\n    </tr>\n    <tr>\n      <th>1031125</th>\n      <td>276688</td>\n      <td>0</td>\n      <td>Coyote Waits</td>\n    </tr>\n    <tr>\n      <th>1031126</th>\n      <td>276688</td>\n      <td>0</td>\n      <td>Sacred Clowns</td>\n    </tr>\n    <tr>\n      <th>1031128</th>\n      <td>276688</td>\n      <td>0</td>\n      <td>Mrs. Pollifax and the Second Thief</td>\n    </tr>\n    <tr>\n      <th>1031131</th>\n      <td>276688</td>\n      <td>0</td>\n      <td>Mostly Harmless</td>\n    </tr>\n    <tr>\n      <th>1031132</th>\n      <td>276688</td>\n      <td>7</td>\n      <td>Gray Matter</td>\n    </tr>\n  </tbody>\n</table>\n<p>491897 rows × 3 columns</p>\n</div>"
     },
     "execution_count": 30,
     "metadata": {},
     "output_type": "execute_result"
    }
   ],
   "source": [
    "ratings"
   ],
   "metadata": {
    "collapsed": false,
    "ExecuteTime": {
     "end_time": "2023-11-01T03:35:02.308024Z",
     "start_time": "2023-11-01T03:35:02.299930Z"
    }
   },
   "id": "c71fb200c7b1dae"
  },
  {
   "cell_type": "code",
   "execution_count": 31,
   "outputs": [
    {
     "data": {
      "text/plain": "User-ID        491897\nBook-Rating    491897\nBook-Title     491897\ndtype: int64"
     },
     "execution_count": 31,
     "metadata": {},
     "output_type": "execute_result"
    }
   ],
   "source": [
    "ratings.count()"
   ],
   "metadata": {
    "collapsed": false,
    "ExecuteTime": {
     "end_time": "2023-11-01T03:35:05.647800Z",
     "start_time": "2023-11-01T03:35:05.602539Z"
    }
   },
   "id": "d291e132add91a96"
  },
  {
   "cell_type": "code",
   "execution_count": 35,
   "outputs": [],
   "source": [
    "# Create an user-item matrix\n",
    "user_item_matrix = ratings.pivot_table(index='User-ID', columns='Book-Title', values='Book-Rating').fillna(0)"
   ],
   "metadata": {
    "collapsed": false,
    "ExecuteTime": {
     "end_time": "2023-11-01T03:37:09.562515Z",
     "start_time": "2023-11-01T03:37:04.186090Z"
    }
   },
   "id": "5e9f59561be90b15"
  },
  {
   "cell_type": "code",
   "execution_count": 36,
   "outputs": [
    {
     "data": {
      "text/plain": "Book-Title   Earth Prayers From around the World: 365 Prayers, Poems, and Invocations for Honoring the Earth  \\\nUser-ID                                                                                                        \n8                                                         0.0                                                  \n17                                                        0.0                                                  \n99                                                        0.0                                                  \n114                                                       0.0                                                  \n165                                                       0.0                                                  \n...                                                       ...                                                  \n278723                                                    0.0                                                  \n278771                                                    0.0                                                  \n278843                                                    0.0                                                  \n278851                                                    0.0                                                  \n278854                                                    0.0                                                  \n\nBook-Title   Good Wives: Image and Reality in the Lives of Women in Northern New England, 1650-1750  \\\nUser-ID                                                                                               \n8                                                         0.0                                         \n17                                                        0.0                                         \n99                                                        0.0                                         \n114                                                       0.0                                         \n165                                                       0.0                                         \n...                                                       ...                                         \n278723                                                    0.0                                         \n278771                                                    0.0                                         \n278843                                                    0.0                                         \n278851                                                    0.0                                         \n278854                                                    0.0                                         \n\nBook-Title   Murder of a Sleeping Beauty (Scumble River Mysteries (Paperback))  \\\nUser-ID                                                                          \n8                                                         0.0                    \n17                                                        0.0                    \n99                                                        0.0                    \n114                                                       0.0                    \n165                                                       0.0                    \n...                                                       ...                    \n278723                                                    0.0                    \n278771                                                    0.0                    \n278843                                                    0.0                    \n278851                                                    0.0                    \n278854                                                    0.0                    \n\nBook-Title   Q-Space (Star Trek The Next Generation, Book 47)  \\\nUser-ID                                                         \n8                                                         0.0   \n17                                                        0.0   \n99                                                        0.0   \n114                                                       0.0   \n165                                                       0.0   \n...                                                       ...   \n278723                                                    0.0   \n278771                                                    0.0   \n278843                                                    0.0   \n278851                                                    0.0   \n278854                                                    0.0   \n\nBook-Title   Q-Zone (Star Trek The Next Generation, Book 48)  !Yo!  \\\nUser-ID                                                              \n8                                                        0.0   0.0   \n17                                                       0.0   0.0   \n99                                                       0.0   0.0   \n114                                                      0.0   0.0   \n165                                                      0.0   0.0   \n...                                                      ...   ...   \n278723                                                   0.0   0.0   \n278771                                                   0.0   0.0   \n278843                                                   0.0   0.0   \n278851                                                   0.0   0.0   \n278854                                                   0.0   0.0   \n\nBook-Title  'Salem's Lot  \\\nUser-ID                    \n8                    0.0   \n17                   0.0   \n99                   0.0   \n114                  0.0   \n165                  0.0   \n...                  ...   \n278723               0.0   \n278771               0.0   \n278843               0.0   \n278851               0.0   \n278854               0.0   \n\nBook-Title  ...AND THE HORSE HE RODE IN ON : THE PEOPLE V. KENNETH STARR  \\\nUser-ID                                                                    \n8                                                         0.0              \n17                                                        0.0              \n99                                                        0.0              \n114                                                       0.0              \n165                                                       0.0              \n...                                                       ...              \n278723                                                    0.0              \n278771                                                    0.0              \n278843                                                    0.0              \n278851                                                    0.0              \n278854                                                    0.0              \n\nBook-Title  01-01-00: A Novel of the Millennium  \\\nUser-ID                                           \n8                                           0.0   \n17                                          0.0   \n99                                          0.0   \n114                                         0.0   \n165                                         0.0   \n...                                         ...   \n278723                                      0.0   \n278771                                      0.0   \n278843                                      0.0   \n278851                                      0.0   \n278854                                      0.0   \n\nBook-Title  01-01-00: The Novel of the Millennium  ...  \\O\\\" Is for Outlaw\"  \\\nUser-ID                                            ...                        \n8                                             0.0  ...                  0.0   \n17                                            0.0  ...                  0.0   \n99                                            0.0  ...                  0.0   \n114                                           0.0  ...                  0.0   \n165                                           0.0  ...                  0.0   \n...                                           ...  ...                  ...   \n278723                                        0.0  ...                  0.0   \n278771                                        0.0  ...                  0.0   \n278843                                        0.0  ...                  0.0   \n278851                                        0.0  ...                  0.0   \n278854                                        0.0  ...                  0.0   \n\nBook-Title  \\Surely You're Joking, Mr. Feynman!\\\": Adventures of a Curious Character\"  \\\nUser-ID                                                                                 \n8                                                         0.0                           \n17                                                        0.0                           \n99                                                        0.0                           \n114                                                       0.0                           \n165                                                       0.0                           \n...                                                       ...                           \n278723                                                    0.0                           \n278771                                                    0.0                           \n278843                                                    0.0                           \n278851                                                    0.0                           \n278854                                                    0.0                           \n\nBook-Title  \\The Happy Prince\\\" and Other Stories (Penguin Popular Classics)\"  \\\nUser-ID                                                                         \n8                                                         0.0                   \n17                                                        0.0                   \n99                                                        0.0                   \n114                                                       0.0                   \n165                                                       0.0                   \n...                                                       ...                   \n278723                                                    0.0                   \n278771                                                    0.0                   \n278843                                                    0.0                   \n278851                                                    0.0                   \n278854                                                    0.0                   \n\nBook-Title  \\What Do You Care What Other People Think?\\\": Further Adventures of a Curious Character\"  \\\nUser-ID                                                                                                \n8                                                         0.0                                          \n17                                                        0.0                                          \n99                                                        0.0                                          \n114                                                       0.0                                          \n165                                                       0.0                                          \n...                                                       ...                                          \n278723                                                    0.0                                          \n278771                                                    0.0                                          \n278843                                                    0.0                                          \n278851                                                    0.0                                          \n278854                                                    0.0                                          \n\nBook-Title    e  iI Paradiso Degli Orchi  \\\nUser-ID                                    \n8           0.0                      0.0   \n17          0.0                      0.0   \n99          0.0                      0.0   \n114         0.0                      0.0   \n165         0.0                      0.0   \n...         ...                      ...   \n278723      0.0                      0.0   \n278771      0.0                      0.0   \n278843      0.0                      0.0   \n278851      0.0                      0.0   \n278854      0.0                      0.0   \n\nBook-Title  murder@maggody.com : An Arly Hanks Mystery (Arly Hanks Mysteries (Paperback))  \\\nUser-ID                                                                                     \n8                                                         0.0                               \n17                                                        0.0                               \n99                                                        0.0                               \n114                                                       0.0                               \n165                                                       0.0                               \n...                                                       ...                               \n278723                                                    0.0                               \n278771                                                    0.0                               \n278843                                                    0.0                               \n278851                                                    0.0                               \n278854                                                    0.0                               \n\nBook-Title  one hundred years of solitude  stardust  \\\nUser-ID                                               \n8                                     0.0       0.0   \n17                                    0.0       0.0   \n99                                    0.0       0.0   \n114                                   0.0       0.0   \n165                                   0.0       0.0   \n...                                   ...       ...   \n278723                                0.0       0.0   \n278771                                0.0       0.0   \n278843                                0.0       0.0   \n278851                                0.0       0.0   \n278854                                0.0       0.0   \n\nBook-Title  why I'm like this : True Stories  \nUser-ID                                       \n8                                        0.0  \n17                                       0.0  \n99                                       0.0  \n114                                      0.0  \n165                                      0.0  \n...                                      ...  \n278723                                   0.0  \n278771                                   0.0  \n278843                                   0.0  \n278851                                   0.0  \n278854                                   0.0  \n\n[14322 rows x 17446 columns]",
      "text/html": "<div>\n<style scoped>\n    .dataframe tbody tr th:only-of-type {\n        vertical-align: middle;\n    }\n\n    .dataframe tbody tr th {\n        vertical-align: top;\n    }\n\n    .dataframe thead th {\n        text-align: right;\n    }\n</style>\n<table border=\"1\" class=\"dataframe\">\n  <thead>\n    <tr style=\"text-align: right;\">\n      <th>Book-Title</th>\n      <th>Earth Prayers From around the World: 365 Prayers, Poems, and Invocations for Honoring the Earth</th>\n      <th>Good Wives: Image and Reality in the Lives of Women in Northern New England, 1650-1750</th>\n      <th>Murder of a Sleeping Beauty (Scumble River Mysteries (Paperback))</th>\n      <th>Q-Space (Star Trek The Next Generation, Book 47)</th>\n      <th>Q-Zone (Star Trek The Next Generation, Book 48)</th>\n      <th>!Yo!</th>\n      <th>'Salem's Lot</th>\n      <th>...AND THE HORSE HE RODE IN ON : THE PEOPLE V. KENNETH STARR</th>\n      <th>01-01-00: A Novel of the Millennium</th>\n      <th>01-01-00: The Novel of the Millennium</th>\n      <th>...</th>\n      <th>\\O\\\" Is for Outlaw\"</th>\n      <th>\\Surely You're Joking, Mr. Feynman!\\\": Adventures of a Curious Character\"</th>\n      <th>\\The Happy Prince\\\" and Other Stories (Penguin Popular Classics)\"</th>\n      <th>\\What Do You Care What Other People Think?\\\": Further Adventures of a Curious Character\"</th>\n      <th>e</th>\n      <th>iI Paradiso Degli Orchi</th>\n      <th>murder@maggody.com : An Arly Hanks Mystery (Arly Hanks Mysteries (Paperback))</th>\n      <th>one hundred years of solitude</th>\n      <th>stardust</th>\n      <th>why I'm like this : True Stories</th>\n    </tr>\n    <tr>\n      <th>User-ID</th>\n      <th></th>\n      <th></th>\n      <th></th>\n      <th></th>\n      <th></th>\n      <th></th>\n      <th></th>\n      <th></th>\n      <th></th>\n      <th></th>\n      <th></th>\n      <th></th>\n      <th></th>\n      <th></th>\n      <th></th>\n      <th></th>\n      <th></th>\n      <th></th>\n      <th></th>\n      <th></th>\n      <th></th>\n    </tr>\n  </thead>\n  <tbody>\n    <tr>\n      <th>8</th>\n      <td>0.0</td>\n      <td>0.0</td>\n      <td>0.0</td>\n      <td>0.0</td>\n      <td>0.0</td>\n      <td>0.0</td>\n      <td>0.0</td>\n      <td>0.0</td>\n      <td>0.0</td>\n      <td>0.0</td>\n      <td>...</td>\n      <td>0.0</td>\n      <td>0.0</td>\n      <td>0.0</td>\n      <td>0.0</td>\n      <td>0.0</td>\n      <td>0.0</td>\n      <td>0.0</td>\n      <td>0.0</td>\n      <td>0.0</td>\n      <td>0.0</td>\n    </tr>\n    <tr>\n      <th>17</th>\n      <td>0.0</td>\n      <td>0.0</td>\n      <td>0.0</td>\n      <td>0.0</td>\n      <td>0.0</td>\n      <td>0.0</td>\n      <td>0.0</td>\n      <td>0.0</td>\n      <td>0.0</td>\n      <td>0.0</td>\n      <td>...</td>\n      <td>0.0</td>\n      <td>0.0</td>\n      <td>0.0</td>\n      <td>0.0</td>\n      <td>0.0</td>\n      <td>0.0</td>\n      <td>0.0</td>\n      <td>0.0</td>\n      <td>0.0</td>\n      <td>0.0</td>\n    </tr>\n    <tr>\n      <th>99</th>\n      <td>0.0</td>\n      <td>0.0</td>\n      <td>0.0</td>\n      <td>0.0</td>\n      <td>0.0</td>\n      <td>0.0</td>\n      <td>0.0</td>\n      <td>0.0</td>\n      <td>0.0</td>\n      <td>0.0</td>\n      <td>...</td>\n      <td>0.0</td>\n      <td>0.0</td>\n      <td>0.0</td>\n      <td>0.0</td>\n      <td>0.0</td>\n      <td>0.0</td>\n      <td>0.0</td>\n      <td>0.0</td>\n      <td>0.0</td>\n      <td>0.0</td>\n    </tr>\n    <tr>\n      <th>114</th>\n      <td>0.0</td>\n      <td>0.0</td>\n      <td>0.0</td>\n      <td>0.0</td>\n      <td>0.0</td>\n      <td>0.0</td>\n      <td>0.0</td>\n      <td>0.0</td>\n      <td>0.0</td>\n      <td>0.0</td>\n      <td>...</td>\n      <td>0.0</td>\n      <td>0.0</td>\n      <td>0.0</td>\n      <td>0.0</td>\n      <td>0.0</td>\n      <td>0.0</td>\n      <td>0.0</td>\n      <td>0.0</td>\n      <td>0.0</td>\n      <td>0.0</td>\n    </tr>\n    <tr>\n      <th>165</th>\n      <td>0.0</td>\n      <td>0.0</td>\n      <td>0.0</td>\n      <td>0.0</td>\n      <td>0.0</td>\n      <td>0.0</td>\n      <td>0.0</td>\n      <td>0.0</td>\n      <td>0.0</td>\n      <td>0.0</td>\n      <td>...</td>\n      <td>0.0</td>\n      <td>0.0</td>\n      <td>0.0</td>\n      <td>0.0</td>\n      <td>0.0</td>\n      <td>0.0</td>\n      <td>0.0</td>\n      <td>0.0</td>\n      <td>0.0</td>\n      <td>0.0</td>\n    </tr>\n    <tr>\n      <th>...</th>\n      <td>...</td>\n      <td>...</td>\n      <td>...</td>\n      <td>...</td>\n      <td>...</td>\n      <td>...</td>\n      <td>...</td>\n      <td>...</td>\n      <td>...</td>\n      <td>...</td>\n      <td>...</td>\n      <td>...</td>\n      <td>...</td>\n      <td>...</td>\n      <td>...</td>\n      <td>...</td>\n      <td>...</td>\n      <td>...</td>\n      <td>...</td>\n      <td>...</td>\n      <td>...</td>\n    </tr>\n    <tr>\n      <th>278723</th>\n      <td>0.0</td>\n      <td>0.0</td>\n      <td>0.0</td>\n      <td>0.0</td>\n      <td>0.0</td>\n      <td>0.0</td>\n      <td>0.0</td>\n      <td>0.0</td>\n      <td>0.0</td>\n      <td>0.0</td>\n      <td>...</td>\n      <td>0.0</td>\n      <td>0.0</td>\n      <td>0.0</td>\n      <td>0.0</td>\n      <td>0.0</td>\n      <td>0.0</td>\n      <td>0.0</td>\n      <td>0.0</td>\n      <td>0.0</td>\n      <td>0.0</td>\n    </tr>\n    <tr>\n      <th>278771</th>\n      <td>0.0</td>\n      <td>0.0</td>\n      <td>0.0</td>\n      <td>0.0</td>\n      <td>0.0</td>\n      <td>0.0</td>\n      <td>0.0</td>\n      <td>0.0</td>\n      <td>0.0</td>\n      <td>0.0</td>\n      <td>...</td>\n      <td>0.0</td>\n      <td>0.0</td>\n      <td>0.0</td>\n      <td>0.0</td>\n      <td>0.0</td>\n      <td>0.0</td>\n      <td>0.0</td>\n      <td>0.0</td>\n      <td>0.0</td>\n      <td>0.0</td>\n    </tr>\n    <tr>\n      <th>278843</th>\n      <td>0.0</td>\n      <td>0.0</td>\n      <td>0.0</td>\n      <td>0.0</td>\n      <td>0.0</td>\n      <td>0.0</td>\n      <td>0.0</td>\n      <td>0.0</td>\n      <td>0.0</td>\n      <td>0.0</td>\n      <td>...</td>\n      <td>0.0</td>\n      <td>0.0</td>\n      <td>0.0</td>\n      <td>0.0</td>\n      <td>0.0</td>\n      <td>0.0</td>\n      <td>0.0</td>\n      <td>0.0</td>\n      <td>0.0</td>\n      <td>0.0</td>\n    </tr>\n    <tr>\n      <th>278851</th>\n      <td>0.0</td>\n      <td>0.0</td>\n      <td>0.0</td>\n      <td>0.0</td>\n      <td>0.0</td>\n      <td>0.0</td>\n      <td>0.0</td>\n      <td>0.0</td>\n      <td>0.0</td>\n      <td>0.0</td>\n      <td>...</td>\n      <td>0.0</td>\n      <td>0.0</td>\n      <td>0.0</td>\n      <td>0.0</td>\n      <td>0.0</td>\n      <td>0.0</td>\n      <td>0.0</td>\n      <td>0.0</td>\n      <td>0.0</td>\n      <td>0.0</td>\n    </tr>\n    <tr>\n      <th>278854</th>\n      <td>0.0</td>\n      <td>0.0</td>\n      <td>0.0</td>\n      <td>0.0</td>\n      <td>0.0</td>\n      <td>0.0</td>\n      <td>0.0</td>\n      <td>0.0</td>\n      <td>0.0</td>\n      <td>0.0</td>\n      <td>...</td>\n      <td>0.0</td>\n      <td>0.0</td>\n      <td>0.0</td>\n      <td>0.0</td>\n      <td>0.0</td>\n      <td>0.0</td>\n      <td>0.0</td>\n      <td>0.0</td>\n      <td>0.0</td>\n      <td>0.0</td>\n    </tr>\n  </tbody>\n</table>\n<p>14322 rows × 17446 columns</p>\n</div>"
     },
     "execution_count": 36,
     "metadata": {},
     "output_type": "execute_result"
    }
   ],
   "source": [
    "user_item_matrix"
   ],
   "metadata": {
    "collapsed": false,
    "ExecuteTime": {
     "end_time": "2023-11-01T03:37:10.814683Z",
     "start_time": "2023-11-01T03:37:10.798626Z"
    }
   },
   "id": "10d058a344cc8b65"
  },
  {
   "cell_type": "code",
   "execution_count": 37,
   "outputs": [],
   "source": [
    "# Compute the cosine similarity matrix\n",
    "# cosine_similarities(user_item_matrix) = cosine_similarity(user_item_matrix, user_item_matrix)\n",
    "cosine_sim_matrix = cosine_similarity(user_item_matrix)"
   ],
   "metadata": {
    "collapsed": false,
    "ExecuteTime": {
     "end_time": "2023-11-01T03:37:29.044897Z",
     "start_time": "2023-11-01T03:37:15.982975Z"
    }
   },
   "id": "cfb990cd4e182278"
  },
  {
   "cell_type": "code",
   "execution_count": 41,
   "outputs": [
    {
     "name": "stdout",
     "output_type": "stream",
     "text": [
      "[[1. 0. 0. ... 0. 0. 0.]\n",
      " [0. 1. 0. ... 0. 0. 0.]\n",
      " [0. 0. 1. ... 0. 0. 0.]\n",
      " ...\n",
      " [0. 0. 0. ... 1. 0. 0.]\n",
      " [0. 0. 0. ... 0. 1. 0.]\n",
      " [0. 0. 0. ... 0. 0. 1.]]\n"
     ]
    }
   ],
   "source": [
    "print(cosine_sim_matrix)"
   ],
   "metadata": {
    "collapsed": false,
    "ExecuteTime": {
     "end_time": "2023-11-01T03:41:15.704400Z",
     "start_time": "2023-11-01T03:41:15.704155Z"
    }
   },
   "id": "b8cce7c09f1b204f"
  },
  {
   "cell_type": "code",
   "execution_count": 51,
   "outputs": [
    {
     "data": {
      "text/plain": "(14322, 14322)"
     },
     "execution_count": 51,
     "metadata": {},
     "output_type": "execute_result"
    }
   ],
   "source": [
    "cosine_sim_matrix.shape"
   ],
   "metadata": {
    "collapsed": false,
    "ExecuteTime": {
     "end_time": "2023-11-01T03:59:18.199369Z",
     "start_time": "2023-11-01T03:59:18.183832Z"
    }
   },
   "id": "a5cd721a8b02be79"
  },
  {
   "cell_type": "code",
   "execution_count": 52,
   "outputs": [
    {
     "data": {
      "text/plain": "array([0.00019009, 0.00032347, 0.00117289, ..., 0.00555277, 0.000628  ,\n       0.00123018])"
     },
     "execution_count": 52,
     "metadata": {},
     "output_type": "execute_result"
    }
   ],
   "source": [
    "# col\n",
    "cosine_sim_matrix.mean(axis=0)"
   ],
   "metadata": {
    "collapsed": false,
    "ExecuteTime": {
     "end_time": "2023-11-01T04:00:05.390294Z",
     "start_time": "2023-11-01T04:00:04.769828Z"
    }
   },
   "id": "3d1722e2d9b1dd64"
  },
  {
   "cell_type": "code",
   "execution_count": 53,
   "outputs": [
    {
     "data": {
      "text/plain": "array([0.00019009, 0.00032347, 0.00117289, ..., 0.00555277, 0.000628  ,\n       0.00123018])"
     },
     "execution_count": 53,
     "metadata": {},
     "output_type": "execute_result"
    }
   ],
   "source": [
    "# row\n",
    "cosine_sim_matrix.mean(axis=1)"
   ],
   "metadata": {
    "collapsed": false,
    "ExecuteTime": {
     "end_time": "2023-11-01T04:00:48.766530Z",
     "start_time": "2023-11-01T04:00:48.629336Z"
    }
   },
   "id": "89fdf2505bbc081"
  },
  {
   "cell_type": "code",
   "execution_count": 45,
   "outputs": [],
   "source": [
    "# Split user indices into train and test set\n",
    "user_indices = np.arange(user_item_matrix.shape[0])"
   ],
   "metadata": {
    "collapsed": false,
    "ExecuteTime": {
     "end_time": "2023-11-01T03:55:56.747562Z",
     "start_time": "2023-11-01T03:55:56.735381Z"
    }
   },
   "id": "d622738da53e2f83"
  },
  {
   "cell_type": "code",
   "execution_count": 46,
   "outputs": [
    {
     "data": {
      "text/plain": "array([    0,     1,     2, ..., 14319, 14320, 14321])"
     },
     "execution_count": 46,
     "metadata": {},
     "output_type": "execute_result"
    }
   ],
   "source": [
    "user_indices"
   ],
   "metadata": {
    "collapsed": false,
    "ExecuteTime": {
     "end_time": "2023-11-01T03:55:56.852205Z",
     "start_time": "2023-11-01T03:55:56.847966Z"
    }
   },
   "id": "3ebb0d05749861b6"
  },
  {
   "cell_type": "code",
   "execution_count": 48,
   "outputs": [],
   "source": [
    "train_user_indices, test_user_indices = train_test_split(user_indices, test_size=0.2, random_state=42)"
   ],
   "metadata": {
    "collapsed": false,
    "ExecuteTime": {
     "end_time": "2023-11-01T03:57:01.117057Z",
     "start_time": "2023-11-01T03:57:01.100800Z"
    }
   },
   "id": "5823203e130627c3"
  },
  {
   "cell_type": "code",
   "execution_count": 49,
   "outputs": [
    {
     "data": {
      "text/plain": "array([2996,  304, 7588, ...,  408, 6908, 1608])"
     },
     "execution_count": 49,
     "metadata": {},
     "output_type": "execute_result"
    }
   ],
   "source": [
    "test_user_indices"
   ],
   "metadata": {
    "collapsed": false,
    "ExecuteTime": {
     "end_time": "2023-11-01T03:57:06.000747Z",
     "start_time": "2023-11-01T03:57:05.974848Z"
    }
   },
   "id": "560e9461a3100163"
  },
  {
   "cell_type": "code",
   "execution_count": 50,
   "outputs": [
    {
     "data": {
      "text/plain": "array([2996,  304, 7588, ...,  408, 6908, 1608])"
     },
     "execution_count": 50,
     "metadata": {},
     "output_type": "execute_result"
    }
   ],
   "source": [
    "test_user_indices"
   ],
   "metadata": {
    "collapsed": false,
    "ExecuteTime": {
     "end_time": "2023-11-01T03:57:10.440773Z",
     "start_time": "2023-11-01T03:57:10.411876Z"
    }
   },
   "id": "46d13981b937122c"
  },
  {
   "cell_type": "code",
   "execution_count": 55,
   "outputs": [],
   "source": [
    "# user_index를 input으로 받고 총 k개를 추천을 한다\n",
    "def collaborative_filtering_recommendation(user_index, k=10):\n",
    "    # user_index에 해당하는 유저의 코사인 유사도를 가져온다\n",
    "    user_similarities = cosine_sim_matrix[user_index]\n",
    "    # 유사도가 높은 순으로 정렬하고, 유사도가 높은 k개의 유저를 가져온다\n",
    "    # np.argsort: 오름차순으로 정렬된 인덱스를 반환한다\n",
    "    # [-k-1:-1]: 뒤에서 k+1번째부터 뒤에서 1번째까지\n",
    "    # [::-1]: 역순으로 정렬한다\n",
    "    top_k_similar_users = np.argsort(user_similarities)[-k-1:-1][::-1]\n",
    "    # top_k_similar_users는 인덱스로 이에 해당하는 user_item_matrix를 가져온다\n",
    "    similar_users_ratings = user_item_matrix.iloc[top_k_similar_users]\n",
    "    # 평균을 구한다\n",
    "    mean_ratings = similar_users_ratings.mean(axis=0)\n",
    "    # 평균이 높은 순으로 정렬하고, 상위 k개의 책을 가져온다\n",
    "    top_k_books = mean_ratings.sort_values(ascending=False).head(k).index\n",
    "    return top_k_books"
   ],
   "metadata": {
    "collapsed": false,
    "ExecuteTime": {
     "end_time": "2023-11-01T04:08:50.331598Z",
     "start_time": "2023-11-01T04:08:50.322429Z"
    }
   },
   "id": "2323a2e5e473a4fb"
  },
  {
   "cell_type": "code",
   "execution_count": 56,
   "outputs": [],
   "source": [
    "# random recommendation(ratings, n=10)\n",
    "def random_recommendation(ratings, n=10):\n",
    "    unique_books = ratings['Book-Title'].unique()\n",
    "    random_books = np.random.choice(unique_books, size=n, replace=False)\n",
    "    return random_books"
   ],
   "metadata": {
    "collapsed": false,
    "ExecuteTime": {
     "end_time": "2023-11-01T04:10:23.536076Z",
     "start_time": "2023-11-01T04:10:23.509885Z"
    }
   },
   "id": "18af6877cbdefaaf"
  },
  {
   "cell_type": "code",
   "execution_count": 57,
   "outputs": [],
   "source": [
    "random_books = random_recommendation(ratings, n=10)"
   ],
   "metadata": {
    "collapsed": false,
    "ExecuteTime": {
     "end_time": "2023-11-01T04:11:08.808396Z",
     "start_time": "2023-11-01T04:11:08.779782Z"
    }
   },
   "id": "eb555a6ce5b3523f"
  },
  {
   "cell_type": "code",
   "execution_count": 58,
   "outputs": [
    {
     "data": {
      "text/plain": "array(['Catering to Nobody', \"A Reporter's Life\", 'The Elusive Flame',\n       'Leaving Cold Sassy: The Unfinished Sequel to Cold Sassy Tree',\n       'The Immaculate Deception', 'Indiscreet', 'A Blessing on the Moon',\n       'Byzantium (Harper Fiction)', 'SEAT OF THE SOUL',\n       \"Damia's Children\"], dtype=object)"
     },
     "execution_count": 58,
     "metadata": {},
     "output_type": "execute_result"
    }
   ],
   "source": [
    "random_books"
   ],
   "metadata": {
    "collapsed": false,
    "ExecuteTime": {
     "end_time": "2023-11-01T04:11:10.278337Z",
     "start_time": "2023-11-01T04:11:10.256099Z"
    }
   },
   "id": "c6727b5a43e7083f"
  },
  {
   "cell_type": "code",
   "execution_count": 59,
   "outputs": [
    {
     "name": "stdout",
     "output_type": "stream",
     "text": [
      "1: Catering to Nobody\n",
      "2: A Reporter's Life\n",
      "3: The Elusive Flame\n",
      "4: Leaving Cold Sassy: The Unfinished Sequel to Cold Sassy Tree\n",
      "5: The Immaculate Deception\n",
      "6: Indiscreet\n",
      "7: A Blessing on the Moon\n",
      "8: Byzantium (Harper Fiction)\n",
      "9: SEAT OF THE SOUL\n",
      "10: Damia's Children\n"
     ]
    }
   ],
   "source": [
    "for i, book in enumerate(random_books, 1):\n",
    "    print(f\"{i}: {book}\")"
   ],
   "metadata": {
    "collapsed": false,
    "ExecuteTime": {
     "end_time": "2023-11-01T04:11:37.358385Z",
     "start_time": "2023-11-01T04:11:37.321949Z"
    }
   },
   "id": "e9f9a2b4f3b9b1d8"
  },
  {
   "cell_type": "code",
   "execution_count": 60,
   "outputs": [],
   "source": [
    "# popularity_recommendation\n",
    "def popularity_recommendation(ratings, n=10):\n",
    "    popular_books = ratings.groupby('Book-Title')['Book-Rating'].count().sort_values(ascending=False).index[:n]\n",
    "    return popular_books"
   ],
   "metadata": {
    "collapsed": false,
    "ExecuteTime": {
     "end_time": "2023-11-01T04:13:06.522500Z",
     "start_time": "2023-11-01T04:13:06.484624Z"
    }
   },
   "id": "9a412d7bccc8f5e8"
  },
  {
   "cell_type": "code",
   "execution_count": 61,
   "outputs": [],
   "source": [
    "popular_books = popularity_recommendation(ratings, n=10)"
   ],
   "metadata": {
    "collapsed": false,
    "ExecuteTime": {
     "end_time": "2023-11-01T04:13:14.412138Z",
     "start_time": "2023-11-01T04:13:14.368547Z"
    }
   },
   "id": "be375a2fb42f948c"
  },
  {
   "cell_type": "code",
   "execution_count": 62,
   "outputs": [
    {
     "data": {
      "text/plain": "Index(['Wild Animus', 'The Lovely Bones: A Novel', 'The Da Vinci Code',\n       'The Nanny Diaries: A Novel', 'Bridget Jones's Diary',\n       'A Painted House', 'The Secret Life of Bees',\n       'Divine Secrets of the Ya-Ya Sisterhood: A Novel',\n       'Angels &amp; Demons', 'Life of Pi'],\n      dtype='object', name='Book-Title')"
     },
     "execution_count": 62,
     "metadata": {},
     "output_type": "execute_result"
    }
   ],
   "source": [
    "popular_books"
   ],
   "metadata": {
    "collapsed": false,
    "ExecuteTime": {
     "end_time": "2023-11-01T04:13:17.966200Z",
     "start_time": "2023-11-01T04:13:17.931266Z"
    }
   },
   "id": "9adb1b845670b6a3"
  },
  {
   "cell_type": "code",
   "execution_count": 63,
   "outputs": [
    {
     "name": "stdout",
     "output_type": "stream",
     "text": [
      "1: Wild Animus\n",
      "2: The Lovely Bones: A Novel\n",
      "3: The Da Vinci Code\n",
      "4: The Nanny Diaries: A Novel\n",
      "5: Bridget Jones's Diary\n",
      "6: A Painted House\n",
      "7: The Secret Life of Bees\n",
      "8: Divine Secrets of the Ya-Ya Sisterhood: A Novel\n",
      "9: Angels &amp; Demons\n",
      "10: Life of Pi\n"
     ]
    }
   ],
   "source": [
    "for i, book in enumerate(popular_books, 1):\n",
    "    print(f\"{i}: {book}\")"
   ],
   "metadata": {
    "collapsed": false,
    "ExecuteTime": {
     "end_time": "2023-11-01T04:13:36.114170Z",
     "start_time": "2023-11-01T04:13:36.086589Z"
    }
   },
   "id": "16a7ae66526d183b"
  },
  {
   "cell_type": "code",
   "execution_count": 64,
   "outputs": [],
   "source": [
    "def recommend_books(user_index, strategy, k=10):\n",
    "    if strategy == 'collaborative':\n",
    "        tok_k_books = collaborative_filtering_recommendation(user_index, k)\n",
    "    elif strategy == 'random':\n",
    "        tok_k_books = random_recommendation(ratings, k)\n",
    "    elif strategy == 'popularity':\n",
    "        tok_k_books = popularity_recommendation(ratings, k)\n",
    "    else:\n",
    "        raise Exception('Please choose one of collaborative, random, popularity')\n",
    "    return tok_k_books"
   ],
   "metadata": {
    "collapsed": false,
    "ExecuteTime": {
     "end_time": "2023-11-01T04:14:47.366465Z",
     "start_time": "2023-11-01T04:14:47.332947Z"
    }
   },
   "id": "f1376b0bee18d0fc"
  },
  {
   "cell_type": "code",
   "execution_count": 65,
   "outputs": [],
   "source": [
    "def evaluate_model(strategy, k=10):\n",
    "    true_positive = 0\n",
    "    false_positive = 0\n",
    "    false_negative = 0\n",
    "    \n",
    "    for user_index in test_user_indices:\n",
    "        # 실제로 user가 평가한 책들\n",
    "        true_books = set(user_item_matrix.iloc[user_index][user_item_matrix.iloc[user_index] > 0].index)\n",
    "        # 추천한 책들\n",
    "        recommended_books = set(recommend_books(user_index, strategy, k))\n",
    "        \n",
    "        tp = len(true_books.intersection(recommended_books))\n",
    "        fp = len(recommended_books - true_books)\n",
    "        fn = len(true_books - recommended_books)\n",
    "        \n",
    "        true_positive += tp\n",
    "        false_positive += fp\n",
    "        false_negative += fn\n",
    "    \n",
    "    precision = true_positive / (true_positive + false_positive)\n",
    "    recall = true_positive / (true_positive + false_negative)\n",
    "    \n",
    "    return precision, recall"
   ],
   "metadata": {
    "collapsed": false,
    "ExecuteTime": {
     "end_time": "2023-11-01T04:22:04.910279Z",
     "start_time": "2023-11-01T04:22:04.881471Z"
    }
   },
   "id": "2a316c214d1a61bf"
  },
  {
   "cell_type": "code",
   "execution_count": 66,
   "outputs": [],
   "source": [
    "# Evaluate the collaborative filtering model\n",
    "cf_precision, cf_recall = evaluate_model(strategy='collaborative')"
   ],
   "metadata": {
    "collapsed": false,
    "ExecuteTime": {
     "end_time": "2023-11-01T04:22:51.654393Z",
     "start_time": "2023-11-01T04:22:40.262565Z"
    }
   },
   "id": "ac967a576e383b1c"
  },
  {
   "cell_type": "code",
   "execution_count": 67,
   "outputs": [
    {
     "name": "stdout",
     "output_type": "stream",
     "text": [
      "Collaborative filtering precision= 0.3110, Recall=0.2601\n"
     ]
    }
   ],
   "source": [
    "print(f'Collaborative filtering precision= {cf_precision:.4f}, Recall={cf_recall:.4f}')"
   ],
   "metadata": {
    "collapsed": false,
    "ExecuteTime": {
     "end_time": "2023-11-01T04:23:24.796146Z",
     "start_time": "2023-11-01T04:23:24.753998Z"
    }
   },
   "id": "de62a531c0b9e1ab"
  },
  {
   "cell_type": "code",
   "execution_count": 69,
   "outputs": [],
   "source": [
    "# Evaluate the random recommendation model\n",
    "random_precision, random_recall = evaluate_model(strategy='random')"
   ],
   "metadata": {
    "collapsed": false,
    "ExecuteTime": {
     "end_time": "2023-11-01T04:25:56.795940Z",
     "start_time": "2023-11-01T04:24:46.805736Z"
    }
   },
   "id": "803147e1e25ec7d7"
  },
  {
   "cell_type": "code",
   "execution_count": 70,
   "outputs": [
    {
     "name": "stdout",
     "output_type": "stream",
     "text": [
      "Random recommendation precision= 0.0006, Recall=0.0005\n"
     ]
    }
   ],
   "source": [
    "print(f'Random recommendation precision= {random_precision:.4f}, Recall={random_recall:.4f}')"
   ],
   "metadata": {
    "collapsed": false,
    "ExecuteTime": {
     "end_time": "2023-11-01T04:25:56.801435Z",
     "start_time": "2023-11-01T04:25:56.795527Z"
    }
   },
   "id": "403a6e30fbd0422c"
  },
  {
   "cell_type": "code",
   "execution_count": 71,
   "outputs": [],
   "source": [
    "# Evaluate the popularity recommendation model\n",
    "popularity_precision, popularity_recall = evaluate_model(strategy='popularity')"
   ],
   "metadata": {
    "collapsed": false,
    "ExecuteTime": {
     "end_time": "2023-11-01T04:28:08.949382Z",
     "start_time": "2023-11-01T04:25:56.800696Z"
    }
   },
   "id": "3566360b91b8c893"
  },
  {
   "cell_type": "code",
   "execution_count": 72,
   "outputs": [
    {
     "name": "stdout",
     "output_type": "stream",
     "text": [
      "Popularity recommendation precision= 0.0200, Recall=0.0167\n"
     ]
    }
   ],
   "source": [
    "print(f'Popularity recommendation precision= {popularity_precision:.4f}, Recall={popularity_recall:.4f}')"
   ],
   "metadata": {
    "collapsed": false,
    "ExecuteTime": {
     "end_time": "2023-11-01T04:28:08.953270Z",
     "start_time": "2023-11-01T04:28:08.950288Z"
    }
   },
   "id": "de67df0ab2b326ef"
  },
  {
   "cell_type": "code",
   "execution_count": null,
   "outputs": [],
   "source": [],
   "metadata": {
    "collapsed": false
   },
   "id": "68fa96a348e37120"
  }
 ],
 "metadata": {
  "kernelspec": {
   "display_name": "Python 3",
   "language": "python",
   "name": "python3"
  },
  "language_info": {
   "codemirror_mode": {
    "name": "ipython",
    "version": 2
   },
   "file_extension": ".py",
   "mimetype": "text/x-python",
   "name": "python",
   "nbconvert_exporter": "python",
   "pygments_lexer": "ipython2",
   "version": "2.7.6"
  }
 },
 "nbformat": 4,
 "nbformat_minor": 5
}

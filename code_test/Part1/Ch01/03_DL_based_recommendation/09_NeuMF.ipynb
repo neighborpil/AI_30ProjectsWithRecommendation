{
 "cells": [
  {
   "cell_type": "code",
   "execution_count": 1,
   "id": "initial_id",
   "metadata": {
    "ExecuteTime": {
     "end_time": "2023-11-14T02:56:07.565110Z",
     "start_time": "2023-11-14T02:55:59.682413Z"
    }
   },
   "outputs": [],
   "source": [
    "import pandas as pd\n",
    "import numpy as np\n",
    "import tensorflow as tf\n",
    "\n",
    "from tensorflow.keras.layers import Embedding, Input, Flatten, Multiply, Concatenate, Dense\n",
    "from tensorflow.keras.models import Model\n",
    "from tensorflow.keras.optimizers import Adam\n",
    "from sklearn.model_selection import train_test_split\n",
    "from sklearn.preprocessing import LabelEncoder\n",
    "from sklearn.metrics import roc_auc_score"
   ]
  },
  {
   "cell_type": "code",
   "execution_count": 2,
   "id": "67bfb998904e43ba",
   "metadata": {
    "ExecuteTime": {
     "end_time": "2023-11-14T02:56:07.591829Z",
     "start_time": "2023-11-14T02:56:07.565872Z"
    }
   },
   "outputs": [],
   "source": [
    "import os\n",
    "data_path = '../../../data/ml-latest-small/'\n",
    "\n",
    "# 무비렌즈 데이터셋 로드\n",
    "ratings_df = pd.read_csv(data_path+'ratings.csv')"
   ]
  },
  {
   "cell_type": "code",
   "execution_count": 3,
   "id": "49cd5df4ad4a1e36",
   "metadata": {
    "ExecuteTime": {
     "end_time": "2023-11-14T02:56:07.605628Z",
     "start_time": "2023-11-14T02:56:07.595437Z"
    }
   },
   "outputs": [
    {
     "data": {
      "text/plain": "   userId  movieId  rating  timestamp\n0       1        1     4.0  964982703\n1       1        3     4.0  964981247\n2       1        6     4.0  964982224\n3       1       47     5.0  964983815\n4       1       50     5.0  964982931",
      "text/html": "<div>\n<style scoped>\n    .dataframe tbody tr th:only-of-type {\n        vertical-align: middle;\n    }\n\n    .dataframe tbody tr th {\n        vertical-align: top;\n    }\n\n    .dataframe thead th {\n        text-align: right;\n    }\n</style>\n<table border=\"1\" class=\"dataframe\">\n  <thead>\n    <tr style=\"text-align: right;\">\n      <th></th>\n      <th>userId</th>\n      <th>movieId</th>\n      <th>rating</th>\n      <th>timestamp</th>\n    </tr>\n  </thead>\n  <tbody>\n    <tr>\n      <th>0</th>\n      <td>1</td>\n      <td>1</td>\n      <td>4.0</td>\n      <td>964982703</td>\n    </tr>\n    <tr>\n      <th>1</th>\n      <td>1</td>\n      <td>3</td>\n      <td>4.0</td>\n      <td>964981247</td>\n    </tr>\n    <tr>\n      <th>2</th>\n      <td>1</td>\n      <td>6</td>\n      <td>4.0</td>\n      <td>964982224</td>\n    </tr>\n    <tr>\n      <th>3</th>\n      <td>1</td>\n      <td>47</td>\n      <td>5.0</td>\n      <td>964983815</td>\n    </tr>\n    <tr>\n      <th>4</th>\n      <td>1</td>\n      <td>50</td>\n      <td>5.0</td>\n      <td>964982931</td>\n    </tr>\n  </tbody>\n</table>\n</div>"
     },
     "execution_count": 3,
     "metadata": {},
     "output_type": "execute_result"
    }
   ],
   "source": [
    "ratings_df.head()"
   ]
  },
  {
   "cell_type": "code",
   "execution_count": 4,
   "id": "86c95596ef022253",
   "metadata": {
    "ExecuteTime": {
     "end_time": "2023-10-28T15:48:44.823806Z",
     "start_time": "2023-10-28T15:48:44.814816Z"
    }
   },
   "outputs": [],
   "source": [
    "movie_enc = LabelEncoder()\n",
    "ratings_df['movieId'] = movie_enc.fit_transform(ratings_df['movieId'])"
   ]
  },
  {
   "cell_type": "code",
   "execution_count": 5,
   "id": "7124d025f63052f5",
   "metadata": {
    "ExecuteTime": {
     "end_time": "2023-10-28T15:48:44.833216Z",
     "start_time": "2023-10-28T15:48:44.825182Z"
    }
   },
   "outputs": [
    {
     "data": {
      "text/plain": "   userId  movieId  rating  timestamp\n0       1        0     4.0  964982703\n1       1        2     4.0  964981247\n2       1        5     4.0  964982224\n3       1       43     5.0  964983815\n4       1       46     5.0  964982931",
      "text/html": "<div>\n<style scoped>\n    .dataframe tbody tr th:only-of-type {\n        vertical-align: middle;\n    }\n\n    .dataframe tbody tr th {\n        vertical-align: top;\n    }\n\n    .dataframe thead th {\n        text-align: right;\n    }\n</style>\n<table border=\"1\" class=\"dataframe\">\n  <thead>\n    <tr style=\"text-align: right;\">\n      <th></th>\n      <th>userId</th>\n      <th>movieId</th>\n      <th>rating</th>\n      <th>timestamp</th>\n    </tr>\n  </thead>\n  <tbody>\n    <tr>\n      <th>0</th>\n      <td>1</td>\n      <td>0</td>\n      <td>4.0</td>\n      <td>964982703</td>\n    </tr>\n    <tr>\n      <th>1</th>\n      <td>1</td>\n      <td>2</td>\n      <td>4.0</td>\n      <td>964981247</td>\n    </tr>\n    <tr>\n      <th>2</th>\n      <td>1</td>\n      <td>5</td>\n      <td>4.0</td>\n      <td>964982224</td>\n    </tr>\n    <tr>\n      <th>3</th>\n      <td>1</td>\n      <td>43</td>\n      <td>5.0</td>\n      <td>964983815</td>\n    </tr>\n    <tr>\n      <th>4</th>\n      <td>1</td>\n      <td>46</td>\n      <td>5.0</td>\n      <td>964982931</td>\n    </tr>\n  </tbody>\n</table>\n</div>"
     },
     "execution_count": 5,
     "metadata": {},
     "output_type": "execute_result"
    }
   ],
   "source": [
    "# LabelEncoder를 통해 변환된 movieId 컬럼을 categorical and ordianl컬럼으로 변경 \n",
    "ratings_df.head()"
   ]
  },
  {
   "cell_type": "code",
   "execution_count": 6,
   "id": "ea4bb9019a231687",
   "metadata": {
    "ExecuteTime": {
     "end_time": "2023-10-28T15:48:44.871572Z",
     "start_time": "2023-10-28T15:48:44.828413Z"
    }
   },
   "outputs": [],
   "source": [
    "# ratings_df 데이터프레임의 userId 컬럼에서 유니크한 값의 개수를 추출\n",
    "n_users = ratings_df.userId.nunique()"
   ]
  },
  {
   "cell_type": "code",
   "execution_count": 7,
   "id": "5b8ae2f976f9b474",
   "metadata": {
    "ExecuteTime": {
     "end_time": "2023-10-28T15:48:44.880782Z",
     "start_time": "2023-10-28T15:48:44.831497Z"
    }
   },
   "outputs": [
    {
     "data": {
      "text/plain": "610"
     },
     "execution_count": 7,
     "metadata": {},
     "output_type": "execute_result"
    }
   ],
   "source": [
    "n_users"
   ]
  },
  {
   "cell_type": "code",
   "execution_count": 8,
   "id": "a77e0dc1cd74b789",
   "metadata": {
    "ExecuteTime": {
     "end_time": "2023-10-28T15:48:44.881721Z",
     "start_time": "2023-10-28T15:48:44.834511Z"
    }
   },
   "outputs": [],
   "source": [
    "n_movies = ratings_df.movieId.nunique()"
   ]
  },
  {
   "cell_type": "code",
   "execution_count": 9,
   "id": "f55a9bcf7c0fc639",
   "metadata": {
    "ExecuteTime": {
     "end_time": "2023-10-28T15:48:44.899355Z",
     "start_time": "2023-10-28T15:48:44.837775Z"
    }
   },
   "outputs": [
    {
     "data": {
      "text/plain": "9724"
     },
     "execution_count": 9,
     "metadata": {},
     "output_type": "execute_result"
    }
   ],
   "source": [
    "n_movies"
   ]
  },
  {
   "cell_type": "code",
   "execution_count": 10,
   "id": "edddfc84f01b9018",
   "metadata": {
    "ExecuteTime": {
     "end_time": "2023-10-28T15:48:44.906608Z",
     "start_time": "2023-10-28T15:48:44.842217Z"
    }
   },
   "outputs": [
    {
     "data": {
      "text/plain": "array([4. , 5. , 3. , 2. , 1. , 4.5, 3.5, 2.5, 0.5, 1.5])"
     },
     "execution_count": 10,
     "metadata": {},
     "output_type": "execute_result"
    }
   ],
   "source": [
    "ratings_df.rating.unique()"
   ]
  },
  {
   "cell_type": "code",
   "execution_count": 11,
   "id": "62aec3e807eaa5",
   "metadata": {
    "ExecuteTime": {
     "end_time": "2023-10-28T15:48:44.907578Z",
     "start_time": "2023-10-28T15:48:44.849611Z"
    }
   },
   "outputs": [
    {
     "data": {
      "text/plain": "        userId  movieId  rating   timestamp\n0            1        0     4.0   964982703\n1            1        2     4.0   964981247\n2            1        5     4.0   964982224\n3            1       43     5.0   964983815\n4            1       46     5.0   964982931\n...        ...      ...     ...         ...\n100831     610     9416     4.0  1493848402\n100832     610     9443     5.0  1493850091\n100833     610     9444     5.0  1494273047\n100834     610     9445     5.0  1493846352\n100835     610     9485     3.0  1493846415\n\n[100836 rows x 4 columns]",
      "text/html": "<div>\n<style scoped>\n    .dataframe tbody tr th:only-of-type {\n        vertical-align: middle;\n    }\n\n    .dataframe tbody tr th {\n        vertical-align: top;\n    }\n\n    .dataframe thead th {\n        text-align: right;\n    }\n</style>\n<table border=\"1\" class=\"dataframe\">\n  <thead>\n    <tr style=\"text-align: right;\">\n      <th></th>\n      <th>userId</th>\n      <th>movieId</th>\n      <th>rating</th>\n      <th>timestamp</th>\n    </tr>\n  </thead>\n  <tbody>\n    <tr>\n      <th>0</th>\n      <td>1</td>\n      <td>0</td>\n      <td>4.0</td>\n      <td>964982703</td>\n    </tr>\n    <tr>\n      <th>1</th>\n      <td>1</td>\n      <td>2</td>\n      <td>4.0</td>\n      <td>964981247</td>\n    </tr>\n    <tr>\n      <th>2</th>\n      <td>1</td>\n      <td>5</td>\n      <td>4.0</td>\n      <td>964982224</td>\n    </tr>\n    <tr>\n      <th>3</th>\n      <td>1</td>\n      <td>43</td>\n      <td>5.0</td>\n      <td>964983815</td>\n    </tr>\n    <tr>\n      <th>4</th>\n      <td>1</td>\n      <td>46</td>\n      <td>5.0</td>\n      <td>964982931</td>\n    </tr>\n    <tr>\n      <th>...</th>\n      <td>...</td>\n      <td>...</td>\n      <td>...</td>\n      <td>...</td>\n    </tr>\n    <tr>\n      <th>100831</th>\n      <td>610</td>\n      <td>9416</td>\n      <td>4.0</td>\n      <td>1493848402</td>\n    </tr>\n    <tr>\n      <th>100832</th>\n      <td>610</td>\n      <td>9443</td>\n      <td>5.0</td>\n      <td>1493850091</td>\n    </tr>\n    <tr>\n      <th>100833</th>\n      <td>610</td>\n      <td>9444</td>\n      <td>5.0</td>\n      <td>1494273047</td>\n    </tr>\n    <tr>\n      <th>100834</th>\n      <td>610</td>\n      <td>9445</td>\n      <td>5.0</td>\n      <td>1493846352</td>\n    </tr>\n    <tr>\n      <th>100835</th>\n      <td>610</td>\n      <td>9485</td>\n      <td>3.0</td>\n      <td>1493846415</td>\n    </tr>\n  </tbody>\n</table>\n<p>100836 rows × 4 columns</p>\n</div>"
     },
     "execution_count": 11,
     "metadata": {},
     "output_type": "execute_result"
    }
   ],
   "source": [
    "ratings_df"
   ]
  },
  {
   "cell_type": "code",
   "execution_count": 12,
   "id": "4c95c87d2497abcd",
   "metadata": {
    "ExecuteTime": {
     "end_time": "2023-10-28T15:48:44.946316Z",
     "start_time": "2023-10-28T15:48:44.872111Z"
    }
   },
   "outputs": [],
   "source": [
    "ratings_df['rating'] = [1 if x>=4 else 0 for x in ratings_df['rating']]"
   ]
  },
  {
   "cell_type": "code",
   "execution_count": 13,
   "id": "cf6b4f3b07c61c73",
   "metadata": {
    "ExecuteTime": {
     "end_time": "2023-10-28T15:48:44.947894Z",
     "start_time": "2023-10-28T15:48:44.877246Z"
    }
   },
   "outputs": [
    {
     "data": {
      "text/plain": "        userId  movieId  rating   timestamp\n0            1        0       1   964982703\n1            1        2       1   964981247\n2            1        5       1   964982224\n3            1       43       1   964983815\n4            1       46       1   964982931\n...        ...      ...     ...         ...\n100831     610     9416       1  1493848402\n100832     610     9443       1  1493850091\n100833     610     9444       1  1494273047\n100834     610     9445       1  1493846352\n100835     610     9485       0  1493846415\n\n[100836 rows x 4 columns]",
      "text/html": "<div>\n<style scoped>\n    .dataframe tbody tr th:only-of-type {\n        vertical-align: middle;\n    }\n\n    .dataframe tbody tr th {\n        vertical-align: top;\n    }\n\n    .dataframe thead th {\n        text-align: right;\n    }\n</style>\n<table border=\"1\" class=\"dataframe\">\n  <thead>\n    <tr style=\"text-align: right;\">\n      <th></th>\n      <th>userId</th>\n      <th>movieId</th>\n      <th>rating</th>\n      <th>timestamp</th>\n    </tr>\n  </thead>\n  <tbody>\n    <tr>\n      <th>0</th>\n      <td>1</td>\n      <td>0</td>\n      <td>1</td>\n      <td>964982703</td>\n    </tr>\n    <tr>\n      <th>1</th>\n      <td>1</td>\n      <td>2</td>\n      <td>1</td>\n      <td>964981247</td>\n    </tr>\n    <tr>\n      <th>2</th>\n      <td>1</td>\n      <td>5</td>\n      <td>1</td>\n      <td>964982224</td>\n    </tr>\n    <tr>\n      <th>3</th>\n      <td>1</td>\n      <td>43</td>\n      <td>1</td>\n      <td>964983815</td>\n    </tr>\n    <tr>\n      <th>4</th>\n      <td>1</td>\n      <td>46</td>\n      <td>1</td>\n      <td>964982931</td>\n    </tr>\n    <tr>\n      <th>...</th>\n      <td>...</td>\n      <td>...</td>\n      <td>...</td>\n      <td>...</td>\n    </tr>\n    <tr>\n      <th>100831</th>\n      <td>610</td>\n      <td>9416</td>\n      <td>1</td>\n      <td>1493848402</td>\n    </tr>\n    <tr>\n      <th>100832</th>\n      <td>610</td>\n      <td>9443</td>\n      <td>1</td>\n      <td>1493850091</td>\n    </tr>\n    <tr>\n      <th>100833</th>\n      <td>610</td>\n      <td>9444</td>\n      <td>1</td>\n      <td>1494273047</td>\n    </tr>\n    <tr>\n      <th>100834</th>\n      <td>610</td>\n      <td>9445</td>\n      <td>1</td>\n      <td>1493846352</td>\n    </tr>\n    <tr>\n      <th>100835</th>\n      <td>610</td>\n      <td>9485</td>\n      <td>0</td>\n      <td>1493846415</td>\n    </tr>\n  </tbody>\n</table>\n<p>100836 rows × 4 columns</p>\n</div>"
     },
     "execution_count": 13,
     "metadata": {},
     "output_type": "execute_result"
    }
   ],
   "source": [
    "ratings_df"
   ]
  },
  {
   "cell_type": "code",
   "execution_count": 14,
   "id": "13d5543dce133f77",
   "metadata": {
    "ExecuteTime": {
     "end_time": "2023-10-28T15:48:44.949473Z",
     "start_time": "2023-10-28T15:48:44.879878Z"
    }
   },
   "outputs": [],
   "source": [
    "# hyper parameters\n",
    "latent_dim_gmf = 64  # General Matrix Factorization\n",
    "latent_dim_mlp = 64  # Multi Layer Percetron\n",
    "num_hidden_layers = 5"
   ]
  },
  {
   "cell_type": "code",
   "execution_count": 15,
   "id": "adadc47b",
   "metadata": {
    "ExecuteTime": {
     "end_time": "2023-10-28T15:48:44.949609Z",
     "start_time": "2023-10-28T15:48:44.884429Z"
    }
   },
   "outputs": [],
   "source": [
    "# Input layers\n",
    "# user, movie 모두 각각 하나의 토큰씩만을 받기 때문에 shape=(1,)\n",
    "user_input = Input(shape=(1,), dtype='int32', name='user_input')\n",
    "movie_input = Input(shape=(1,), dtype='int32', name='movie_input')"
   ]
  },
  {
   "cell_type": "code",
   "execution_count": 16,
   "id": "d77702ec",
   "metadata": {
    "ExecuteTime": {
     "end_time": "2023-10-28T16:04:00.854556Z",
     "start_time": "2023-10-28T16:04:00.810128Z"
    }
   },
   "outputs": [],
   "source": [
    "# Embedding Layers\n",
    "embedding_user_gmf = Embedding(input_dim=n_users, output_dim=latent_dim_gmf,\n",
    "                              name='user_embedding_gmf', input_length=1)(user_input)\n",
    "\n",
    "embedding_movie_gmf = Embedding(input_dim=n_movies, output_dim=latent_dim_gmf,\n",
    "                               name='movie_embedding_gmf', input_length=1)(movie_input)"
   ]
  },
  {
   "cell_type": "code",
   "execution_count": 17,
   "outputs": [
    {
     "data": {
      "text/plain": "<KerasTensor: shape=(None, 1, 64) dtype=float32 (created by layer 'user_embedding_gmf')>"
     },
     "execution_count": 17,
     "metadata": {},
     "output_type": "execute_result"
    }
   ],
   "source": [
    "embedding_user_gmf"
   ],
   "metadata": {
    "collapsed": false,
    "ExecuteTime": {
     "end_time": "2023-10-28T16:04:20.027903Z",
     "start_time": "2023-10-28T16:04:20.002424Z"
    }
   },
   "id": "1cdad869bd1dad81"
  },
  {
   "cell_type": "code",
   "execution_count": 18,
   "outputs": [],
   "source": [
    "embedding_user_mlp = Embedding(input_dim=n_users, output_dim=latent_dim_mlp,\n",
    "                              name='user_embedding_mlp', input_length=1)(user_input)\n",
    "embedding_movie_mlp = Embedding(input_dim=n_movies, output_dim=latent_dim_mlp,\n",
    "                               name='movie_embedding_mlp', input_length=1)(movie_input)"
   ],
   "metadata": {
    "collapsed": false,
    "ExecuteTime": {
     "end_time": "2023-10-28T16:14:05.517007Z",
     "start_time": "2023-10-28T16:14:05.490580Z"
    }
   },
   "id": "d51a60ca650ae454"
  },
  {
   "cell_type": "code",
   "execution_count": 19,
   "outputs": [],
   "source": [
    "#Flatten embeddings\n",
    "user_latent_gmf = Flatten()(embedding_user_gmf)\n",
    "movie_latent_gmf = Flatten()(embedding_movie_gmf)\n",
    "user_latent_mlp = Flatten()(embedding_user_mlp)\n",
    "movie_latent_mlp = Flatten()(embedding_movie_mlp)"
   ],
   "metadata": {
    "collapsed": false,
    "ExecuteTime": {
     "end_time": "2023-10-28T16:28:41.848173Z",
     "start_time": "2023-10-28T16:28:41.832972Z"
    }
   },
   "id": "91f513b47a8990ac"
  },
  {
   "cell_type": "code",
   "execution_count": 20,
   "outputs": [
    {
     "data": {
      "text/plain": "<KerasTensor: shape=(None, 64) dtype=float32 (created by layer 'flatten')>"
     },
     "execution_count": 20,
     "metadata": {},
     "output_type": "execute_result"
    }
   ],
   "source": [
    "user_latent_gmf"
   ],
   "metadata": {
    "collapsed": false,
    "ExecuteTime": {
     "end_time": "2023-10-28T16:28:45.689740Z",
     "start_time": "2023-10-28T16:28:45.667356Z"
    }
   },
   "id": "49be3f3405c801bf"
  },
  {
   "cell_type": "code",
   "execution_count": 23,
   "outputs": [
    {
     "data": {
      "text/plain": "<KerasTensor: shape=(None, 64) dtype=float32 (created by layer 'flatten_1')>"
     },
     "execution_count": 23,
     "metadata": {},
     "output_type": "execute_result"
    }
   ],
   "source": [
    "movie_latent_gmf"
   ],
   "metadata": {
    "collapsed": false,
    "ExecuteTime": {
     "end_time": "2023-10-28T16:31:49.789464Z",
     "start_time": "2023-10-28T16:31:49.779528Z"
    }
   },
   "id": "aadba546879ecf3c"
  },
  {
   "cell_type": "code",
   "execution_count": 21,
   "outputs": [],
   "source": [
    "# GMF part, element-wise product\n",
    "gmf_vector = Multiply()([user_latent_gmf, movie_latent_gmf])"
   ],
   "metadata": {
    "collapsed": false,
    "ExecuteTime": {
     "end_time": "2023-10-28T16:30:38.193299Z",
     "start_time": "2023-10-28T16:30:38.171303Z"
    }
   },
   "id": "196847592c8eb78d"
  },
  {
   "cell_type": "code",
   "execution_count": 22,
   "outputs": [
    {
     "data": {
      "text/plain": "<KerasTensor: shape=(None, 64) dtype=float32 (created by layer 'multiply')>"
     },
     "execution_count": 22,
     "metadata": {},
     "output_type": "execute_result"
    }
   ],
   "source": [
    "gmf_vector"
   ],
   "metadata": {
    "collapsed": false,
    "ExecuteTime": {
     "end_time": "2023-10-28T16:30:40.286758Z",
     "start_time": "2023-10-28T16:30:40.277894Z"
    }
   },
   "id": "190ad3b2e577d8fb"
  },
  {
   "cell_type": "code",
   "execution_count": 26,
   "outputs": [],
   "source": [
    "# MLP part\n",
    "concat_vector_mlp = Concatenate()([user_latent_mlp, movie_latent_mlp])  # 128 dim\n",
    "mlp_vector = Dense(64, activation='relu')(concat_vector_mlp)  # 64 dim"
   ],
   "metadata": {
    "collapsed": false,
    "ExecuteTime": {
     "end_time": "2023-10-29T16:11:04.992999Z",
     "start_time": "2023-10-29T16:11:04.947577Z"
    }
   },
   "id": "5177ec3dcff7cc01"
  },
  {
   "cell_type": "code",
   "execution_count": 28,
   "outputs": [
    {
     "data": {
      "text/plain": "<KerasTensor: shape=(None, 128) dtype=float32 (created by layer 'concatenate')>"
     },
     "execution_count": 28,
     "metadata": {},
     "output_type": "execute_result"
    }
   ],
   "source": [
    "concat_vector_mlp"
   ],
   "metadata": {
    "collapsed": false,
    "ExecuteTime": {
     "end_time": "2023-10-29T16:12:04.097583Z",
     "start_time": "2023-10-29T16:12:04.094495Z"
    }
   },
   "id": "de6a0ca222ad6b76"
  },
  {
   "cell_type": "code",
   "execution_count": 27,
   "outputs": [
    {
     "data": {
      "text/plain": "<KerasTensor: shape=(None, 64) dtype=float32 (created by layer 'dense')>"
     },
     "execution_count": 27,
     "metadata": {},
     "output_type": "execute_result"
    }
   ],
   "source": [
    "mlp_vector"
   ],
   "metadata": {
    "collapsed": false,
    "ExecuteTime": {
     "end_time": "2023-10-29T16:11:05.268181Z",
     "start_time": "2023-10-29T16:11:05.261256Z"
    }
   },
   "id": "9ad6bdc910b68ae"
  },
  {
   "cell_type": "code",
   "execution_count": 29,
   "outputs": [],
   "source": [
    "for _ in range(num_hidden_layers - 1):\n",
    "    mlp_vector = Dense(64, activation='relu')(mlp_vector)  # 반복하여 히든 레이어를 쌓아준다."
   ],
   "metadata": {
    "collapsed": false,
    "ExecuteTime": {
     "end_time": "2023-10-29T16:14:07.385831Z",
     "start_time": "2023-10-29T16:14:07.358961Z"
    }
   },
   "id": "e721239782f490a3"
  },
  {
   "cell_type": "code",
   "execution_count": 30,
   "outputs": [
    {
     "data": {
      "text/plain": "<KerasTensor: shape=(None, 64) dtype=float32 (created by layer 'dense_4')>"
     },
     "execution_count": 30,
     "metadata": {},
     "output_type": "execute_result"
    }
   ],
   "source": [
    "mlp_vector"
   ],
   "metadata": {
    "collapsed": false,
    "ExecuteTime": {
     "end_time": "2023-10-29T16:14:15.329140Z",
     "start_time": "2023-10-29T16:14:15.319868Z"
    }
   },
   "id": "45ad2c7bf8387473"
  },
  {
   "cell_type": "code",
   "execution_count": 31,
   "outputs": [],
   "source": [
    "# NeuMF part\n",
    "neumf_vector = Concatenate()([gmf_vector, mlp_vector])\n",
    "output = Dense(1, activation='sigmoid')(neumf_vector)"
   ],
   "metadata": {
    "collapsed": false,
    "ExecuteTime": {
     "end_time": "2023-10-29T16:22:04.978802Z",
     "start_time": "2023-10-29T16:22:04.946847Z"
    }
   },
   "id": "91ee18d33e9e90e0"
  },
  {
   "cell_type": "code",
   "execution_count": 32,
   "outputs": [],
   "source": [
    "model = Model([user_input, movie_input], output)"
   ],
   "metadata": {
    "collapsed": false,
    "ExecuteTime": {
     "end_time": "2023-10-29T16:22:14.244438Z",
     "start_time": "2023-10-29T16:22:14.221738Z"
    }
   },
   "id": "5c90c8500e0a5c33"
  },
  {
   "cell_type": "code",
   "execution_count": 33,
   "outputs": [
    {
     "name": "stdout",
     "output_type": "stream",
     "text": [
      "Model: \"model\"\n",
      "__________________________________________________________________________________________________\n",
      " Layer (type)                   Output Shape         Param #     Connected to                     \n",
      "==================================================================================================\n",
      " user_input (InputLayer)        [(None, 1)]          0           []                               \n",
      "                                                                                                  \n",
      " movie_input (InputLayer)       [(None, 1)]          0           []                               \n",
      "                                                                                                  \n",
      " user_embedding_mlp (Embedding)  (None, 1, 64)       39040       ['user_input[0][0]']             \n",
      "                                                                                                  \n",
      " movie_embedding_mlp (Embedding  (None, 1, 64)       622336      ['movie_input[0][0]']            \n",
      " )                                                                                                \n",
      "                                                                                                  \n",
      " flatten_2 (Flatten)            (None, 64)           0           ['user_embedding_mlp[0][0]']     \n",
      "                                                                                                  \n",
      " flatten_3 (Flatten)            (None, 64)           0           ['movie_embedding_mlp[0][0]']    \n",
      "                                                                                                  \n",
      " concatenate (Concatenate)      (None, 128)          0           ['flatten_2[0][0]',              \n",
      "                                                                  'flatten_3[0][0]']              \n",
      "                                                                                                  \n",
      " dense (Dense)                  (None, 64)           8256        ['concatenate[0][0]']            \n",
      "                                                                                                  \n",
      " dense_1 (Dense)                (None, 64)           4160        ['dense[0][0]']                  \n",
      "                                                                                                  \n",
      " user_embedding_gmf (Embedding)  (None, 1, 64)       39040       ['user_input[0][0]']             \n",
      "                                                                                                  \n",
      " movie_embedding_gmf (Embedding  (None, 1, 64)       622336      ['movie_input[0][0]']            \n",
      " )                                                                                                \n",
      "                                                                                                  \n",
      " dense_2 (Dense)                (None, 64)           4160        ['dense_1[0][0]']                \n",
      "                                                                                                  \n",
      " flatten (Flatten)              (None, 64)           0           ['user_embedding_gmf[0][0]']     \n",
      "                                                                                                  \n",
      " flatten_1 (Flatten)            (None, 64)           0           ['movie_embedding_gmf[0][0]']    \n",
      "                                                                                                  \n",
      " dense_3 (Dense)                (None, 64)           4160        ['dense_2[0][0]']                \n",
      "                                                                                                  \n",
      " multiply (Multiply)            (None, 64)           0           ['flatten[0][0]',                \n",
      "                                                                  'flatten_1[0][0]']              \n",
      "                                                                                                  \n",
      " dense_4 (Dense)                (None, 64)           4160        ['dense_3[0][0]']                \n",
      "                                                                                                  \n",
      " concatenate_1 (Concatenate)    (None, 128)          0           ['multiply[0][0]',               \n",
      "                                                                  'dense_4[0][0]']                \n",
      "                                                                                                  \n",
      " dense_5 (Dense)                (None, 1)            129         ['concatenate_1[0][0]']          \n",
      "                                                                                                  \n",
      "==================================================================================================\n",
      "Total params: 1,347,777\n",
      "Trainable params: 1,347,777\n",
      "Non-trainable params: 0\n",
      "__________________________________________________________________________________________________\n"
     ]
    }
   ],
   "source": [
    "model.summary()"
   ],
   "metadata": {
    "collapsed": false,
    "ExecuteTime": {
     "end_time": "2023-10-29T16:22:17.543195Z",
     "start_time": "2023-10-29T16:22:17.517849Z"
    }
   },
   "id": "5ccd8420152552c7"
  },
  {
   "cell_type": "code",
   "execution_count": 34,
   "outputs": [],
   "source": [
    "model.compile(optimizer=Adam(), loss='binary_crossentropy', metrics=[tf.keras.metrics.AUC(name='auc')])"
   ],
   "metadata": {
    "collapsed": false,
    "ExecuteTime": {
     "end_time": "2023-10-29T16:23:49.083943Z",
     "start_time": "2023-10-29T16:23:49.060848Z"
    }
   },
   "id": "c0d19935166d5acc"
  },
  {
   "cell_type": "code",
   "execution_count": 36,
   "outputs": [
    {
     "name": "stdout",
     "output_type": "stream",
     "text": [
      "You must install pydot (`pip install pydot`) and install graphviz (see instructions at https://graphviz.gitlab.io/download/) for plot_model to work.\n"
     ]
    }
   ],
   "source": [
    "tf.keras.utils.plot_model(model)"
   ],
   "metadata": {
    "collapsed": false,
    "ExecuteTime": {
     "end_time": "2023-10-29T16:25:15.042098Z",
     "start_time": "2023-10-29T16:25:15.039038Z"
    }
   },
   "id": "92d204209f03d55"
  },
  {
   "cell_type": "code",
   "execution_count": 37,
   "outputs": [],
   "source": [
    "# 0부터 시작하도록 reindexing\n",
    "user_input = ratings_df['userId'].values - 1\n",
    "movie_input = ratings_df['movieId'].values\n",
    "labels = ratings_df['rating'].values"
   ],
   "metadata": {
    "collapsed": false,
    "ExecuteTime": {
     "end_time": "2023-10-29T16:27:33.369699Z",
     "start_time": "2023-10-29T16:27:33.344420Z"
    }
   },
   "id": "cc20b56aecf1ea39"
  },
  {
   "cell_type": "code",
   "execution_count": 38,
   "outputs": [],
   "source": [
    "user_input_train, user_input_test, movie_input_train, movie_input_test, y_train, y_test = train_test_split(user_input, movie_input, labels, test_size=0.2, random_state=42)"
   ],
   "metadata": {
    "collapsed": false,
    "ExecuteTime": {
     "end_time": "2023-10-29T16:28:28.810126Z",
     "start_time": "2023-10-29T16:28:28.783759Z"
    }
   },
   "id": "da4e37c7e49c792"
  },
  {
   "cell_type": "code",
   "execution_count": 39,
   "outputs": [
    {
     "name": "stdout",
     "output_type": "stream",
     "text": [
      "Epoch 1/5\n"
     ]
    },
    {
     "name": "stderr",
     "output_type": "stream",
     "text": [
      "2023-10-30 01:30:00.083738: W tensorflow/core/platform/profile_utils/cpu_utils.cc:128] Failed to get CPU frequency: 0 Hz\n"
     ]
    },
    {
     "name": "stdout",
     "output_type": "stream",
     "text": [
      "2521/2521 [==============================] - 10s 4ms/step - loss: 0.5845 - auc: 0.7559 - val_loss: 0.5551 - val_auc: 0.7866\n",
      "Epoch 2/5\n",
      "2521/2521 [==============================] - 13s 5ms/step - loss: 0.4691 - auc: 0.8603 - val_loss: 0.5663 - val_auc: 0.7864\n",
      "Epoch 3/5\n",
      "2521/2521 [==============================] - 13s 5ms/step - loss: 0.2376 - auc: 0.9754 - val_loss: 0.6484 - val_auc: 0.7610\n",
      "Epoch 4/5\n",
      "2521/2521 [==============================] - 12s 5ms/step - loss: 0.1042 - auc: 0.9965 - val_loss: 0.7634 - val_auc: 0.7419\n",
      "Epoch 5/5\n",
      "2521/2521 [==============================] - 12s 5ms/step - loss: 0.0453 - auc: 0.9996 - val_loss: 0.9133 - val_auc: 0.7407\n"
     ]
    }
   ],
   "source": [
    "# 모델 학습\n",
    "history = model.fit([user_input_train, movie_input_train], y_train, validation_data=([user_input_test, movie_input_test], y_test), epochs=5, verbose=1)"
   ],
   "metadata": {
    "collapsed": false,
    "ExecuteTime": {
     "end_time": "2023-10-29T16:31:00.305006Z",
     "start_time": "2023-10-29T16:30:00.046942Z"
    }
   },
   "id": "f5873dd3bac21c0"
  },
  {
   "cell_type": "code",
   "execution_count": 40,
   "outputs": [
    {
     "data": {
      "text/plain": "<keras.callbacks.History at 0x16b952cb0>"
     },
     "execution_count": 40,
     "metadata": {},
     "output_type": "execute_result"
    }
   ],
   "source": [
    "history"
   ],
   "metadata": {
    "collapsed": false,
    "ExecuteTime": {
     "end_time": "2023-10-29T16:31:00.312179Z",
     "start_time": "2023-10-29T16:31:00.306694Z"
    }
   },
   "id": "67b1bd778d372815"
  },
  {
   "cell_type": "code",
   "execution_count": 42,
   "outputs": [
    {
     "name": "stdout",
     "output_type": "stream",
     "text": [
      "631/631 [==============================] - 0s 510us/step\n"
     ]
    }
   ],
   "source": [
    "# prediction 만들기\n",
    "y_pred = model.predict([user_input_test, movie_input_test])"
   ],
   "metadata": {
    "collapsed": false,
    "ExecuteTime": {
     "end_time": "2023-10-29T16:31:04.634095Z",
     "start_time": "2023-10-29T16:31:04.158070Z"
    }
   },
   "id": "fb456556b436bb0a"
  },
  {
   "cell_type": "code",
   "execution_count": 43,
   "outputs": [
    {
     "name": "stdout",
     "output_type": "stream",
     "text": [
      "AUC score :  0.7419294178076211\n"
     ]
    }
   ],
   "source": [
    "# AUC score 계산\n",
    "auc_score = roc_auc_score(y_test, y_pred)\n",
    "print('AUC score : ', auc_score)"
   ],
   "metadata": {
    "collapsed": false,
    "ExecuteTime": {
     "end_time": "2023-10-29T16:31:45.192442Z",
     "start_time": "2023-10-29T16:31:45.164925Z"
    }
   },
   "id": "bd08576db85c7e72"
  },
  {
   "cell_type": "code",
   "execution_count": null,
   "outputs": [],
   "source": [],
   "metadata": {
    "collapsed": false
   },
   "id": "be1aaab638993221"
  }
 ],
 "metadata": {
  "kernelspec": {
   "display_name": "Python 3 (ipykernel)",
   "language": "python",
   "name": "python3"
  },
  "language_info": {
   "codemirror_mode": {
    "name": "ipython",
    "version": 3
   },
   "file_extension": ".py",
   "mimetype": "text/x-python",
   "name": "python",
   "nbconvert_exporter": "python",
   "pygments_lexer": "ipython3",
   "version": "3.10.6"
  }
 },
 "nbformat": 4,
 "nbformat_minor": 5
}
